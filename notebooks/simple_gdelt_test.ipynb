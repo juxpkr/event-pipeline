{
 "cells": [
  {
   "cell_type": "markdown",
   "metadata": {},
   "source": [
    "# 간단한 GDELT 테스트 노트북\n",
    "\n",
    "Silver 테이블 불러와서 컬럼들 확인하는 용도"
   ]
  },
  {
   "cell_type": "code",
   "execution_count": 1,
   "metadata": {},
   "outputs": [
    {
     "name": "stdout",
     "output_type": "stream",
     "text": [
      ":: loading settings :: url = jar:file:/usr/local/lib/python3.10/site-packages/pyspark/jars/ivy-2.5.1.jar!/org/apache/ivy/core/settings/ivysettings.xml\n"
     ]
    },
    {
     "name": "stderr",
     "output_type": "stream",
     "text": [
      "Ivy Default Cache set to: /root/.ivy2/cache\n",
      "The jars for the packages stored in: /root/.ivy2/jars\n",
      "io.delta#delta-core_2.12 added as a dependency\n",
      "org.apache.hadoop#hadoop-aws added as a dependency\n",
      "com.amazonaws#aws-java-sdk-bundle added as a dependency\n",
      ":: resolving dependencies :: org.apache.spark#spark-submit-parent-8b16c699-8d46-4f1d-a3b5-09342ce05223;1.0\n",
      "\tconfs: [default]\n",
      "\tfound io.delta#delta-core_2.12;2.4.0 in central\n",
      "\tfound io.delta#delta-storage;2.4.0 in central\n",
      "\tfound org.antlr#antlr4-runtime;4.9.3 in central\n",
      "\tfound org.apache.hadoop#hadoop-aws;3.3.4 in central\n",
      "\tfound com.amazonaws#aws-java-sdk-bundle;1.12.262 in central\n",
      "\tfound org.wildfly.openssl#wildfly-openssl;1.0.7.Final in central\n",
      "downloading https://repo1.maven.org/maven2/io/delta/delta-core_2.12/2.4.0/delta-core_2.12-2.4.0.jar ...\n",
      "\t[SUCCESSFUL ] io.delta#delta-core_2.12;2.4.0!delta-core_2.12.jar (1180ms)\n",
      "downloading https://repo1.maven.org/maven2/org/apache/hadoop/hadoop-aws/3.3.4/hadoop-aws-3.3.4.jar ...\n",
      "\t[SUCCESSFUL ] org.apache.hadoop#hadoop-aws;3.3.4!hadoop-aws.jar (330ms)\n",
      "downloading https://repo1.maven.org/maven2/com/amazonaws/aws-java-sdk-bundle/1.12.262/aws-java-sdk-bundle-1.12.262.jar ...\n",
      "\t[SUCCESSFUL ] com.amazonaws#aws-java-sdk-bundle;1.12.262!aws-java-sdk-bundle.jar (11236ms)\n",
      "downloading https://repo1.maven.org/maven2/io/delta/delta-storage/2.4.0/delta-storage-2.4.0.jar ...\n",
      "\t[SUCCESSFUL ] io.delta#delta-storage;2.4.0!delta-storage.jar (287ms)\n",
      "downloading https://repo1.maven.org/maven2/org/antlr/antlr4-runtime/4.9.3/antlr4-runtime-4.9.3.jar ...\n",
      "\t[SUCCESSFUL ] org.antlr#antlr4-runtime;4.9.3!antlr4-runtime.jar (294ms)\n",
      "downloading https://repo1.maven.org/maven2/org/wildfly/openssl/wildfly-openssl/1.0.7.Final/wildfly-openssl-1.0.7.Final.jar ...\n",
      "\t[SUCCESSFUL ] org.wildfly.openssl#wildfly-openssl;1.0.7.Final!wildfly-openssl.jar (298ms)\n",
      ":: resolution report :: resolve 8480ms :: artifacts dl 13631ms\n",
      "\t:: modules in use:\n",
      "\tcom.amazonaws#aws-java-sdk-bundle;1.12.262 from central in [default]\n",
      "\tio.delta#delta-core_2.12;2.4.0 from central in [default]\n",
      "\tio.delta#delta-storage;2.4.0 from central in [default]\n",
      "\torg.antlr#antlr4-runtime;4.9.3 from central in [default]\n",
      "\torg.apache.hadoop#hadoop-aws;3.3.4 from central in [default]\n",
      "\torg.wildfly.openssl#wildfly-openssl;1.0.7.Final from central in [default]\n",
      "\t---------------------------------------------------------------------\n",
      "\t|                  |            modules            ||   artifacts   |\n",
      "\t|       conf       | number| search|dwnlded|evicted|| number|dwnlded|\n",
      "\t---------------------------------------------------------------------\n",
      "\t|      default     |   6   |   6   |   6   |   0   ||   6   |   6   |\n",
      "\t---------------------------------------------------------------------\n",
      ":: retrieving :: org.apache.spark#spark-submit-parent-8b16c699-8d46-4f1d-a3b5-09342ce05223\n",
      "\tconfs: [default]\n",
      "\t6 artifacts copied, 0 already retrieved (279959kB/265ms)\n",
      "25/09/07 08:43:20 WARN NativeCodeLoader: Unable to load native-hadoop library for your platform... using builtin-java classes where applicable\n",
      "Setting default log level to \"WARN\".\n",
      "To adjust logging level use sc.setLogLevel(newLevel). For SparkR, use setLogLevel(newLevel).\n"
     ]
    },
    {
     "name": "stdout",
     "output_type": "stream",
     "text": [
      "✅ Spark 세션 생성 완료\n"
     ]
    }
   ],
   "source": [
    "import sys\n",
    "sys.path.append('/app')\n",
    "\n",
    "from src.utils.spark_builder import get_spark_session\n",
    "from pyspark.sql import functions as F\n",
    "\n",
    "# Spark 세션 생성\n",
    "spark = get_spark_session(\"GDELT_Test\", \"spark://spark-master:7077\")\n",
    "print(\"✅ Spark 세션 생성 완료\")"
   ]
  },
  {
   "cell_type": "code",
   "execution_count": 2,
   "metadata": {},
   "outputs": [
    {
     "name": "stderr",
     "output_type": "stream",
     "text": [
      "25/09/07 08:43:26 WARN MetricsConfig: Cannot locate configuration: tried hadoop-metrics2-s3a-file-system.properties,hadoop-metrics2.properties\n",
      "25/09/07 08:43:29 WARN package: Truncated the string representation of a plan since it was too large. This behavior can be adjusted by setting 'spark.sql.debug.maxToStringFields'.\n",
      "[Stage 3:==================================>                      (30 + 2) / 50]\r"
     ]
    },
    {
     "name": "stdout",
     "output_type": "stream",
     "text": [
      "📊 레코드 수: 498\n",
      "📋 컬럼 수: 63\n"
     ]
    },
    {
     "name": "stderr",
     "output_type": "stream",
     "text": [
      "                                                                                \r"
     ]
    }
   ],
   "source": [
    "# Silver Table 읽기\n",
    "df = spark.read.format(\"delta\").load(\"s3a://warehouse/silver/gdelt_events\")\n",
    "\n",
    "print(f\"📊 레코드 수: {df.count()}\")\n",
    "print(f\"📋 컬럼 수: {len(df.columns)}\")"
   ]
  },
  {
   "cell_type": "code",
   "execution_count": 3,
   "metadata": {},
   "outputs": [
    {
     "name": "stdout",
     "output_type": "stream",
     "text": [
      "📝 전체 컬럼 목록:\n",
      " 1. global_event_id\n",
      " 2. day\n",
      " 3. month_year\n",
      " 4. year\n",
      " 5. fraction_date\n",
      " 6. actor1_code\n",
      " 7. actor1_name\n",
      " 8. actor1_country_code\n",
      " 9. actor1_known_group_code\n",
      "10. actor1_ethnic_code\n",
      "11. actor1_religion1_code\n",
      "12. actor1_religion2_code\n",
      "13. actor1_type1_code\n",
      "14. actor1_type2_code\n",
      "15. actor1_type3_code\n",
      "16. actor2_code\n",
      "17. actor2_name\n",
      "18. actor2_country_code\n",
      "19. actor2_known_group_code\n",
      "20. actor2_ethnic_code\n",
      "21. actor2_religion1_code\n",
      "22. actor2_religion2_code\n",
      "23. actor2_type1_code\n",
      "24. actor2_type2_code\n",
      "25. actor2_type3_code\n",
      "26. is_root_event\n",
      "27. event_code\n",
      "28. event_base_code\n",
      "29. event_root_code\n",
      "30. quad_class\n",
      "31. goldstein_scale\n",
      "32. num_mentions\n",
      "33. num_sources\n",
      "34. num_articles\n",
      "35. avg_tone\n",
      "36. actor1_geo_type\n",
      "37. actor1_geo_fullname\n",
      "38. actor1_geo_country_code\n",
      "39. actor1_geo_adm1_code\n",
      "40. actor1_geo_lat\n",
      "41. actor1_geo_long\n",
      "42. actor1_geo_feature_id\n",
      "43. actor2_geo_type\n",
      "44. actor2_geo_fullname\n",
      "45. actor2_geo_country_code\n",
      "46. actor2_geo_adm1_code\n",
      "47. actor2_geo_lat\n",
      "48. actor2_geo_long\n",
      "49. actor2_geo_feature_id\n",
      "50. action_geo_type\n",
      "51. action_geo_fullname\n",
      "52. action_geo_country_code\n",
      "53. action_geo_adm1_code\n",
      "54. action_geo_lat\n",
      "55. action_geo_long\n",
      "56. action_geo_feature_id\n",
      "57. date_added\n",
      "58. source_url\n",
      "59. actor1_geo_centroid\n",
      "60. actor2_geo_centroid\n",
      "61. action_geo_centroid\n",
      "62. processed_time\n",
      "63. source_file\n"
     ]
    }
   ],
   "source": [
    "# 전체 컬럼명 확인\n",
    "print(\"📝 전체 컬럼 목록:\")\n",
    "for i, col in enumerate(df.columns, 1):\n",
    "    print(f\"{i:2d}. {col}\")"
   ]
  },
  {
   "cell_type": "code",
   "execution_count": 3,
   "metadata": {},
   "outputs": [
    {
     "name": "stdout",
     "output_type": "stream",
     "text": [
      "🔍 샘플 데이터:\n"
     ]
    },
    {
     "name": "stderr",
     "output_type": "stream",
     "text": [
      "                                                                                \r"
     ]
    },
    {
     "name": "stdout",
     "output_type": "stream",
     "text": [
      "+---------------+--------+----------+----+-------------+-----------+-------------+-------------------+-----------------------+------------------+---------------------+---------------------+-----------------+-----------------+-----------------+-----------+-------------+-------------------+-----------------------+------------------+---------------------+---------------------+-----------------+-----------------+-----------------+-------------+----------+---------------+---------------+----------+---------------+------------+-----------+------------+-----------------+---------------+-------------------------------+-----------------------+--------------------+--------------+---------------+---------------------+---------------+-------------------+---------------------------------------+--------------------+--------------+---------------+---------------------+---------------+-------------------+-----------------------+---------------------------------------+--------------+---------------+---------------------+----------+----------+-------------------+-------------------+-------------------+--------------------------+-------------------------+\n",
      "|global_event_id|day     |month_year|year|fraction_date|actor1_code|actor1_name  |actor1_country_code|actor1_known_group_code|actor1_ethnic_code|actor1_religion1_code|actor1_religion2_code|actor1_type1_code|actor1_type2_code|actor1_type3_code|actor2_code|actor2_name  |actor2_country_code|actor2_known_group_code|actor2_ethnic_code|actor2_religion1_code|actor2_religion2_code|actor2_type1_code|actor2_type2_code|actor2_type3_code|is_root_event|event_code|event_base_code|event_root_code|quad_class|goldstein_scale|num_mentions|num_sources|num_articles|avg_tone         |actor1_geo_type|actor1_geo_fullname            |actor1_geo_country_code|actor1_geo_adm1_code|actor1_geo_lat|actor1_geo_long|actor1_geo_feature_id|actor2_geo_type|actor2_geo_fullname|actor2_geo_country_code                |actor2_geo_adm1_code|actor2_geo_lat|actor2_geo_long|actor2_geo_feature_id|action_geo_type|action_geo_fullname|action_geo_country_code|action_geo_adm1_code                   |action_geo_lat|action_geo_long|action_geo_feature_id|date_added|source_url|actor1_geo_centroid|actor2_geo_centroid|action_geo_centroid|processed_time            |source_file              |\n",
      "+---------------+--------+----------+----+-------------+-----------+-------------+-------------------+-----------------------+------------------+---------------------+---------------------+-----------------+-----------------+-----------------+-----------+-------------+-------------------+-----------------------+------------------+---------------------+---------------------+-----------------+-----------------+-----------------+-------------+----------+---------------+---------------+----------+---------------+------------+-----------+------------+-----------------+---------------+-------------------------------+-----------------------+--------------------+--------------+---------------+---------------------+---------------+-------------------+---------------------------------------+--------------------+--------------+---------------+---------------------+---------------+-------------------+-----------------------+---------------------------------------+--------------+---------------+---------------------+----------+----------+-------------------+-------------------+-------------------+--------------------------+-------------------------+\n",
      "|1261749093     |20250831|202508    |2025|2025.6603    |GOV        |PRESIDENT    |null               |null                   |null              |null                 |null                 |GOV              |null             |null             |null       |null         |null               |null                   |null              |null                 |null                 |null             |null             |null             |1            |020       |020            |02             |1         |3.0            |5           |1          |5           |-4.40528634361234|4              |Pretoria, Gauteng, South Africa|SF                     |SF06                |77346.0       |-25.7069       |28.2294              |-1273769       |0                  |null                                   |null                |null          |null           |null                 |null           |null               |4                      |Pretoria, Gauteng, South Africa        |null          |null           |77346                |-25.7069  |28.2294   |null               |null               |null               |2025-09-07 08:24:13.545964|20250907083000.export.CSV|\n",
      "|1261749094     |20250831|202508    |2025|2025.6603    |MED        |JOURNALIST   |null               |null                   |null              |null                 |null                 |MED              |null             |null             |VAT        |VATICAN      |VAT                |null                   |null              |null                 |null                 |null             |null             |null             |1            |042       |042            |04             |1         |1.9            |6           |1          |6           |0.0              |1              |United States                  |US                     |US                  |null          |39.828175      |-98.5795             |US             |1                  |United States                          |US                  |null          |null           |39.828175            |-98.5795       |US                 |1                      |United States                          |null          |null           |null                 |39.828175 |-98.5795  |null               |null               |null               |2025-09-07 08:24:13.545964|20250907083000.export.CSV|\n",
      "|1261749095     |20250831|202508    |2025|2025.6603    |USA        |UNITED STATES|USA                |null                   |null              |null                 |null                 |null             |null             |null             |MED        |JOURNALIST   |null               |null                   |null              |null                 |null                 |MED              |null             |null             |1            |190       |190            |19             |4         |-10.0          |4           |1          |4           |0.0              |1              |United States                  |US                     |US                  |null          |39.828175      |-98.5795             |US             |1                  |United States                          |US                  |null          |null           |39.828175            |-98.5795       |US                 |1                      |United States                          |null          |null           |null                 |39.828175 |-98.5795  |null               |null               |null               |2025-09-07 08:24:13.545964|20250907083000.export.CSV|\n",
      "|1261749096     |20250831|202508    |2025|2025.6603    |USA        |NEW YORK     |USA                |null                   |null              |null                 |null                 |null             |null             |null             |USACOP     |UNITED STATES|USA                |null                   |null              |null                 |null                 |COP              |null             |null             |0            |193       |193            |19             |4         |-10.0          |2           |1          |2           |-2.34741784037558|2              |New York, United States        |US                     |USNY                |null          |42.1497        |-74.9384             |NY             |2                  |New York, United States                |US                  |null          |null           |42.1497              |-74.9384       |NY                 |2                      |New York, United States                |null          |null           |null                 |42.1497   |-74.9384  |null               |null               |null               |2025-09-07 08:24:13.545964|20250907083000.export.CSV|\n",
      "|1261749097     |20250831|202508    |2025|2025.6603    |USA        |UNITED STATES|USA                |null                   |null              |null                 |null                 |null             |null             |null             |VAT        |VATICAN      |VAT                |null                   |null              |null                 |null                 |null             |null             |null             |1            |042       |042            |04             |1         |1.9            |2           |1          |2           |0.0              |1              |United States                  |US                     |US                  |null          |39.828175      |-98.5795             |US             |1                  |United States                          |US                  |null          |null           |39.828175            |-98.5795       |US                 |1                      |United States                          |null          |null           |null                 |39.828175 |-98.5795  |null               |null               |null               |2025-09-07 08:24:13.545964|20250907083000.export.CSV|\n",
      "|1261749098     |20250831|202508    |2025|2025.6603    |USACOP     |NEW YORK     |USA                |null                   |null              |null                 |null                 |COP              |null             |null             |null       |null         |null               |null                   |null              |null                 |null                 |null             |null             |null             |0            |193       |193            |19             |4         |-10.0          |6           |1          |6           |-2.34741784037558|2              |New York, United States        |US                     |USNY                |null          |42.1497        |-74.9384             |NY             |0                  |null                                   |null                |null          |null           |null                 |null           |null               |2                      |New York, United States                |null          |null           |null                 |42.1497   |-74.9384  |null               |null               |null               |2025-09-07 08:24:13.545964|20250907083000.export.CSV|\n",
      "|1261749099     |20250831|202508    |2025|2025.6603    |VAT        |VATICAN      |VAT                |null                   |null              |null                 |null                 |null             |null             |null             |MED        |JOURNALIST   |null               |null                   |null              |null                 |null                 |MED              |null             |null             |1            |043       |043            |04             |1         |2.8            |6           |1          |6           |0.0              |1              |United States                  |US                     |US                  |null          |39.828175      |-98.5795             |US             |1                  |United States                          |US                  |null          |null           |39.828175            |-98.5795       |US                 |1                      |United States                          |null          |null           |null                 |39.828175 |-98.5795  |null               |null               |null               |2025-09-07 08:24:13.545964|20250907083000.export.CSV|\n",
      "|1261749100     |20250831|202508    |2025|2025.6603    |VAT        |VATICAN      |VAT                |null                   |null              |null                 |null                 |null             |null             |null             |MED        |JOURNALIST   |null               |null                   |null              |null                 |null                 |MED              |null             |null             |1            |190       |190            |19             |4         |-10.0          |6           |1          |6           |0.0              |1              |United States                  |US                     |US                  |null          |39.828175      |-98.5795             |US             |1                  |United States                          |US                  |null          |null           |39.828175            |-98.5795       |US                 |1                      |United States                          |null          |null           |null                 |39.828175 |-98.5795  |null               |null               |null               |2025-09-07 08:24:13.545964|20250907083000.export.CSV|\n",
      "|1261749101     |20250831|202508    |2025|2025.6603    |VAT        |VATICAN      |VAT                |null                   |null              |null                 |null                 |null             |null             |null             |USA        |UNITED STATES|USA                |null                   |null              |null                 |null                 |null             |null             |null             |1            |043       |043            |04             |1         |2.8            |2           |1          |2           |0.0              |1              |United States                  |US                     |US                  |null          |39.828175      |-98.5795             |US             |1                  |United States                          |US                  |null          |null           |39.828175            |-98.5795       |US                 |1                      |United States                          |null          |null           |null                 |39.828175 |-98.5795  |null               |null               |null               |2025-09-07 08:24:13.545964|20250907083000.export.CSV|\n",
      "|1261749102     |20250906|202509    |2025|2025.674     |IRL        |DUBLIN       |IRL                |null                   |null              |null                 |null                 |null             |null             |null             |null       |null         |null               |null                   |null              |null                 |null                 |null             |null             |null             |1            |191       |191            |19             |4         |-9.5           |10          |1          |10          |-3.74414976599064|4              |Dublin, Dublin, Ireland        |EI                     |EI07                |18288.0       |53.3331        |-6.24889             |-1502554       |0                  |null                                   |null                |null          |null           |null                 |null           |null               |4                      |Dublin, Dublin, Ireland                |null          |null           |18288                |53.3331   |-6.24889  |null               |null               |null               |2025-09-07 08:24:13.545964|20250907083000.export.CSV|\n",
      "|1261749103     |20250907|202509    |2025|2025.6767    |null       |null         |null               |null                   |null              |null                 |null                 |null             |null             |null             |AUS        |AUSTRALIA    |AUS                |null                   |null              |null                 |null                 |null             |null             |null             |0            |036       |036            |03             |1         |4.0            |3           |1          |3           |-1.91972076788831|0              |null                           |null                   |null                |null          |null           |null                 |null           |4                  |King George Island, Tasmania, Australia|AS                  |null          |5350.0         |-42.95               |147.82         |-1581736           |4                      |King George Island, Tasmania, Australia|null          |null           |5350                 |-42.95    |147.82    |null               |null               |null               |2025-09-07 08:24:13.545964|20250907083000.export.CSV|\n",
      "|1261749104     |20250907|202509    |2025|2025.6767    |null       |null         |null               |null                   |null              |null                 |null                 |null             |null             |null             |AUS        |AUSTRALIA    |AUS                |null                   |null              |null                 |null                 |null             |null             |null             |0            |036       |036            |03             |1         |4.0            |1           |1          |1           |-1.91972076788831|0              |null                           |null                   |null                |null          |null           |null                 |null           |4                  |King George Island, Tasmania, Australia|AS                  |null          |5350.0         |-42.95               |147.82         |-1581736           |1                      |Antarctica                             |null          |null           |null                 |-85.6221  |32.3438   |null               |null               |null               |2025-09-07 08:24:13.545964|20250907083000.export.CSV|\n",
      "|1261749105     |20250907|202509    |2025|2025.6767    |null       |null         |null               |null                   |null              |null                 |null                 |null             |null             |null             |AUS        |AUSTRALIA    |AUS                |null                   |null              |null                 |null                 |null             |null             |null             |0            |036       |036            |03             |1         |4.0            |1           |1          |1           |-1.91972076788831|0              |null                           |null                   |null                |null          |null           |null                 |null           |1                  |Antarctica                             |AY                  |null          |null           |-85.6221             |32.3438        |AY                 |1                      |Antarctica                             |null          |null           |null                 |-85.6221  |32.3438   |null               |null               |null               |2025-09-07 08:24:13.545964|20250907083000.export.CSV|\n",
      "|1261749106     |20250907|202509    |2025|2025.6767    |null       |null         |null               |null                   |null              |null                 |null                 |null             |null             |null             |BEL        |BELGIUM      |BEL                |null                   |null              |null                 |null                 |null             |null             |null             |1            |042       |042            |04             |1         |1.9            |2           |1          |2           |0.684931506849315|0              |null                           |null                   |null                |null          |null           |null                 |null           |4                  |Brussels, Bruxelles-Capitale, Belgium  |BE                  |null          |5850.0         |50.8333              |4.33333        |-1955538           |1                      |Ireland                                |null          |null           |null                 |53        |-8        |null               |null               |null               |2025-09-07 08:24:13.545964|20250907083000.export.CSV|\n",
      "|1261749107     |20250907|202509    |2025|2025.6767    |null       |null         |null               |null                   |null              |null                 |null                 |null             |null             |null             |BUS        |COMPANY      |null               |null                   |null              |null                 |null                 |BUS              |null             |null             |0            |042       |042            |04             |1         |1.9            |10          |1          |10          |0.85308056872038 |0              |null                           |null                   |null                |null          |null           |null                 |null           |5                  |Hampshire, Hampshire, United Kingdom   |UK                  |null          |40112.0        |51.0833              |-1.16667       |-2598067           |5                      |Hampshire, Hampshire, United Kingdom   |null          |null           |40112                |51.0833   |-1.16667  |null               |null               |null               |2025-09-07 08:24:13.545964|20250907083000.export.CSV|\n",
      "|1261749108     |20250907|202509    |2025|2025.6767    |null       |null         |null               |null                   |null              |null                 |null                 |null             |null             |null             |BUS        |INDUSTRY     |null               |null                   |null              |null                 |null                 |BUS              |null             |null             |1            |045       |045            |04             |1         |5.0            |5           |1          |5           |5.80645161290323 |0              |null                           |null                   |null                |null          |null           |null                 |null           |4                  |Doha, Ad Daw?ah, Qatar                 |QA                  |null          |25307.0        |25.2867              |51.5333        |-785169            |4                      |Doha, Ad Daw?ah, Qatar                 |null          |null           |25307                |25.2867   |51.5333   |null               |null               |null               |2025-09-07 08:24:13.545964|20250907083000.export.CSV|\n",
      "|1261749109     |20250907|202509    |2025|2025.6767    |null       |null         |null               |null                   |null              |null                 |null                 |null             |null             |null             |BUS        |BUSINESS     |null               |null                   |null              |null                 |null                 |BUS              |null             |null             |0            |051       |051            |05             |1         |3.4            |2           |1          |2           |-2.34741784037558|0              |null                           |null                   |null                |null          |null           |null                 |null           |2                  |Washington, United States              |US                  |null          |null           |47.3917              |-121.571       |WA                 |2                      |Washington, United States              |null          |null           |null                 |47.3917   |-121.571  |null               |null               |null               |2025-09-07 08:24:13.545964|20250907083000.export.CSV|\n",
      "|1261749110     |20250907|202509    |2025|2025.6767    |null       |null         |null               |null                   |null              |null                 |null                 |null             |null             |null             |CAN        |CANADA       |CAN                |null                   |null              |null                 |null                 |null             |null             |null             |1            |043       |043            |04             |1         |2.8            |2           |1          |2           |-1.28205128205129|0              |null                           |null                   |null                |null          |null           |null                 |null           |4                  |Hillsborough, New Brunswick, Canada    |CA                  |null          |12624.0        |45.9167              |-64.65         |-566239            |4                      |Hillsborough, New Brunswick, Canada    |null          |null           |12624                |45.9167   |-64.65    |null               |null               |null               |2025-09-07 08:24:13.545964|20250907083000.export.CSV|\n",
      "|1261749111     |20250907|202509    |2025|2025.6767    |null       |null         |null               |null                   |null              |null                 |null                 |null             |null             |null             |CHNGOV     |CHINESE      |CHN                |null                   |null              |null                 |null                 |GOV              |null             |null             |1            |0841      |084            |08             |2         |7.0            |6           |1          |6           |-7.10526315789473|0              |null                           |null                   |null                |null          |null           |null                 |null           |1                  |China                                  |CH                  |null          |null           |35                   |105            |CH                 |1                      |China                                  |null          |null           |null                 |35        |105       |null               |null               |null               |2025-09-07 08:24:13.545964|20250907083000.export.CSV|\n",
      "|1261749112     |20250907|202509    |2025|2025.6767    |null       |null         |null               |null                   |null              |null                 |null                 |null             |null             |null             |CRM        |CARTEL       |null               |null                   |null              |null                 |null                 |CRM              |null             |null             |0            |173       |173            |17             |4         |-5.0           |3           |1          |3           |-7.10526315789473|0              |null                           |null                   |null                |null          |null           |null                 |null           |4                  |Dubai, Dubayy, United Arab Emirates    |AE                  |null          |28575.0        |25.2522              |55.28          |-782831            |4                      |Dubai, Dubayy, United Arab Emirates    |null          |null           |28575                |25.2522   |55.28     |null               |null               |null               |2025-09-07 08:24:13.545964|20250907083000.export.CSV|\n",
      "+---------------+--------+----------+----+-------------+-----------+-------------+-------------------+-----------------------+------------------+---------------------+---------------------+-----------------+-----------------+-----------------+-----------+-------------+-------------------+-----------------------+------------------+---------------------+---------------------+-----------------+-----------------+-----------------+-------------+----------+---------------+---------------+----------+---------------+------------+-----------+------------+-----------------+---------------+-------------------------------+-----------------------+--------------------+--------------+---------------+---------------------+---------------+-------------------+---------------------------------------+--------------------+--------------+---------------+---------------------+---------------+-------------------+-----------------------+---------------------------------------+--------------+---------------+---------------------+----------+----------+-------------------+-------------------+-------------------+--------------------------+-------------------------+\n",
      "only showing top 20 rows\n",
      "\n"
     ]
    }
   ],
   "source": [
    "# 샘플 데이터 확인\n",
    "print(\"🔍 샘플 데이터:\")\n",
    "df.show(20, truncate=False)"
   ]
  },
  {
   "cell_type": "code",
   "execution_count": 7,
   "metadata": {},
   "outputs": [
    {
     "name": "stdout",
     "output_type": "stream",
     "text": [
      "\n",
      "======= Top 10 Pure International Event Pairs (NULLs removed) =======\n",
      "+-------------------+-------------------+-----+\n",
      "|actor1_country_code|actor2_country_code|count|\n",
      "+-------------------+-------------------+-----+\n",
      "|                DEU|                VNM|    8|\n",
      "|                ISR|                PSE|    5|\n",
      "|                VNM|                DEU|    5|\n",
      "|                ARE|                IRL|    4|\n",
      "|                CHN|                RUS|    4|\n",
      "|                RUS|                CHN|    4|\n",
      "|                GBR|                IRL|    4|\n",
      "|                FRA|                IRL|    4|\n",
      "|                IRL|                GBR|    4|\n",
      "|                CHN|                AFG|    4|\n",
      "+-------------------+-------------------+-----+\n",
      "only showing top 10 rows\n",
      "\n"
     ]
    }
   ],
   "source": [
    "filtered_df = df.filter(\"actor1_code IS NOT NULL AND actor2_code IS NOT NULL\")\n",
    "result_df = filtered_df.withColumn(\n",
    "    \"event_type\",\n",
    "    F.when(F.col(\"actor1_country_code\") == F.col(\"actor2_country_code\"), \"Internal\")\n",
    "    .otherwise(\"International\")\n",
    ")\n",
    "# --- 필터링 강화! ---\n",
    "# 1. Actor1과 Actor2의 국가 코드가 모두 NULL이 아니어야 하고,\n",
    "# 2. 두 국가 코드가 서로 달라야 함 (International)\n",
    "international_df = df.filter(\n",
    "    (F.col(\"actor1_country_code\").isNotNull()) &\n",
    "    (F.col(\"actor2_country_code\").isNotNull()) &\n",
    "    (F.col(\"actor1_country_code\") != F.col(\"actor2_country_code\"))\n",
    ")\n",
    "\n",
    "print(\"\\n======= Top 10 Pure International Event Pairs (NULLs removed) =======\")\n",
    "international_df.groupBy(\"actor1_country_code\", \"actor2_country_code\") \\\n",
    "    .count() \\\n",
    "    .orderBy(F.desc(\"count\")) \\\n",
    "    .show(10)"
   ]
  },
  {
   "cell_type": "code",
   "execution_count": 5,
   "metadata": {},
   "outputs": [
    {
     "name": "stdout",
     "output_type": "stream",
     "text": [
      "root\n",
      " |-- global_event_id: long (nullable = true)\n",
      " |-- day: integer (nullable = true)\n",
      " |-- month_year: integer (nullable = true)\n",
      " |-- year: integer (nullable = true)\n",
      " |-- fraction_date: double (nullable = true)\n",
      " |-- actor1_code: string (nullable = true)\n",
      " |-- actor1_name: string (nullable = true)\n",
      " |-- actor1_country_code: string (nullable = true)\n",
      " |-- actor1_known_group_code: string (nullable = true)\n",
      " |-- actor1_ethnic_code: string (nullable = true)\n",
      " |-- actor1_religion1_code: string (nullable = true)\n",
      " |-- actor1_religion2_code: string (nullable = true)\n",
      " |-- actor1_type1_code: string (nullable = true)\n",
      " |-- actor1_type2_code: string (nullable = true)\n",
      " |-- actor1_type3_code: string (nullable = true)\n",
      " |-- actor2_code: string (nullable = true)\n",
      " |-- actor2_name: string (nullable = true)\n",
      " |-- actor2_country_code: string (nullable = true)\n",
      " |-- actor2_known_group_code: string (nullable = true)\n",
      " |-- actor2_ethnic_code: string (nullable = true)\n",
      " |-- actor2_religion1_code: string (nullable = true)\n",
      " |-- actor2_religion2_code: string (nullable = true)\n",
      " |-- actor2_type1_code: string (nullable = true)\n",
      " |-- actor2_type2_code: string (nullable = true)\n",
      " |-- actor2_type3_code: string (nullable = true)\n",
      " |-- is_root_event: integer (nullable = true)\n",
      " |-- event_code: string (nullable = true)\n",
      " |-- event_base_code: string (nullable = true)\n",
      " |-- event_root_code: string (nullable = true)\n",
      " |-- quad_class: integer (nullable = true)\n",
      " |-- goldstein_scale: double (nullable = true)\n",
      " |-- num_mentions: integer (nullable = true)\n",
      " |-- num_sources: integer (nullable = true)\n",
      " |-- num_articles: integer (nullable = true)\n",
      " |-- avg_tone: double (nullable = true)\n",
      " |-- actor1_geo_type: string (nullable = true)\n",
      " |-- actor1_geo_fullname: string (nullable = true)\n",
      " |-- actor1_geo_country_code: string (nullable = true)\n",
      " |-- actor1_geo_adm1_code: string (nullable = true)\n",
      " |-- actor1_geo_lat: double (nullable = true)\n",
      " |-- actor1_geo_long: double (nullable = true)\n",
      " |-- actor1_geo_feature_id: string (nullable = true)\n",
      " |-- actor2_geo_type: string (nullable = true)\n",
      " |-- actor2_geo_fullname: string (nullable = true)\n",
      " |-- actor2_geo_country_code: string (nullable = true)\n",
      " |-- actor2_geo_adm1_code: string (nullable = true)\n",
      " |-- actor2_geo_lat: double (nullable = true)\n",
      " |-- actor2_geo_long: double (nullable = true)\n",
      " |-- actor2_geo_feature_id: string (nullable = true)\n",
      " |-- action_geo_type: string (nullable = true)\n",
      " |-- action_geo_fullname: string (nullable = true)\n",
      " |-- action_geo_country_code: string (nullable = true)\n",
      " |-- action_geo_adm1_code: string (nullable = true)\n",
      " |-- action_geo_lat: double (nullable = true)\n",
      " |-- action_geo_long: double (nullable = true)\n",
      " |-- action_geo_feature_id: string (nullable = true)\n",
      " |-- date_added: string (nullable = true)\n",
      " |-- source_url: string (nullable = true)\n",
      " |-- actor1_geo_centroid: string (nullable = true)\n",
      " |-- actor2_geo_centroid: string (nullable = true)\n",
      " |-- action_geo_centroid: string (nullable = true)\n",
      " |-- processed_time: timestamp (nullable = true)\n",
      " |-- source_file: string (nullable = true)\n",
      "\n"
     ]
    }
   ],
   "source": [
    "# 스키마 확인\n",
    "df.printSchema()"
   ]
  },
  {
   "cell_type": "code",
   "execution_count": null,
   "metadata": {},
   "outputs": [
    {
     "name": "stdout",
     "output_type": "stream",
     "text": [
      "+-------------------+-----+\n",
      "|actor1_country_code|count|\n",
      "+-------------------+-----+\n",
      "|               null| 3388|\n",
      "|                CHN|  749|\n",
      "|                USA|  742|\n",
      "|                RUS|  481|\n",
      "|                IRN|  301|\n",
      "|                ISR|  293|\n",
      "|                GBR|  238|\n",
      "|                AUS|  183|\n",
      "|                UKR|  168|\n",
      "|                PSE|  158|\n",
      "+-------------------+-----+\n",
      "only showing top 10 rows\n",
      "\n"
     ]
    },
    {
     "name": "stderr",
     "output_type": "stream",
     "text": [
      "25/09/01 05:45:08 ERROR StandaloneSchedulerBackend: Application has been killed. Reason: Master removed our application: KILLED\n",
      "25/09/01 05:45:08 ERROR Inbox: Ignoring error\n",
      "org.apache.spark.SparkException: Exiting due to error from cluster scheduler: Master removed our application: KILLED\n",
      "\tat org.apache.spark.errors.SparkCoreErrors$.clusterSchedulerError(SparkCoreErrors.scala:291)\n",
      "\tat org.apache.spark.scheduler.TaskSchedulerImpl.error(TaskSchedulerImpl.scala:978)\n",
      "\tat org.apache.spark.scheduler.cluster.StandaloneSchedulerBackend.dead(StandaloneSchedulerBackend.scala:165)\n",
      "\tat org.apache.spark.deploy.client.StandaloneAppClient$ClientEndpoint.markDead(StandaloneAppClient.scala:263)\n",
      "\tat org.apache.spark.deploy.client.StandaloneAppClient$ClientEndpoint$$anonfun$receive$1.applyOrElse(StandaloneAppClient.scala:170)\n",
      "\tat org.apache.spark.rpc.netty.Inbox.$anonfun$process$1(Inbox.scala:115)\n",
      "\tat org.apache.spark.rpc.netty.Inbox.safelyCall(Inbox.scala:213)\n",
      "\tat org.apache.spark.rpc.netty.Inbox.process(Inbox.scala:100)\n",
      "\tat org.apache.spark.rpc.netty.MessageLoop.org$apache$spark$rpc$netty$MessageLoop$$receiveLoop(MessageLoop.scala:75)\n",
      "\tat org.apache.spark.rpc.netty.MessageLoop$$anon$1.run(MessageLoop.scala:41)\n",
      "\tat java.base/java.util.concurrent.ThreadPoolExecutor.runWorker(ThreadPoolExecutor.java:1136)\n",
      "\tat java.base/java.util.concurrent.ThreadPoolExecutor$Worker.run(ThreadPoolExecutor.java:635)\n",
      "\tat java.base/java.lang.Thread.run(Thread.java:840)\n"
     ]
    }
   ],
   "source": [
    "# 간단한 통계\n",
    "df.select(\"actor1_country_code\").groupBy(\"actor1_country_code\").count().orderBy(F.desc(\"count\")).show(10)"
   ]
  },
  {
   "cell_type": "code",
   "execution_count": 4,
   "metadata": {},
   "outputs": [
    {
     "ename": "NameError",
     "evalue": "name 'spark' is not defined",
     "output_type": "error",
     "traceback": [
      "\u001b[0;31m---------------------------------------------------------------------------\u001b[0m",
      "\u001b[0;31mNameError\u001b[0m                                 Traceback (most recent call last)",
      "Cell \u001b[0;32mIn[4], line 1\u001b[0m\n\u001b[0;32m----> 1\u001b[0m \u001b[43mspark\u001b[49m\u001b[38;5;241m.\u001b[39mstop()\n",
      "\u001b[0;31mNameError\u001b[0m: name 'spark' is not defined"
     ]
    }
   ],
   "source": [
    "spark.stop()"
   ]
  }
 ],
 "metadata": {
  "kernelspec": {
   "display_name": "Python 3 (ipykernel)",
   "language": "python",
   "name": "python3"
  }
 },
 "nbformat": 4,
 "nbformat_minor": 4
}
