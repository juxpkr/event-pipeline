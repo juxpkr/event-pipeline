{
 "cells": [
  {
   "cell_type": "markdown",
   "metadata": {},
   "source": [
    "# 간단한 GDELT 테스트 노트북\n",
    "\n",
    "Silver 테이블 불러와서 컬럼들 확인하는 용도"
   ]
  },
  {
   "cell_type": "code",
   "execution_count": 1,
   "metadata": {},
   "outputs": [
    {
     "name": "stdout",
     "output_type": "stream",
     "text": [
      ":: loading settings :: url = jar:file:/usr/local/lib/python3.10/site-packages/pyspark/jars/ivy-2.5.1.jar!/org/apache/ivy/core/settings/ivysettings.xml\n"
     ]
    },
    {
     "name": "stderr",
     "output_type": "stream",
     "text": [
      "Ivy Default Cache set to: /root/.ivy2/cache\n",
      "The jars for the packages stored in: /root/.ivy2/jars\n",
      "io.delta#delta-core_2.12 added as a dependency\n",
      "org.apache.hadoop#hadoop-aws added as a dependency\n",
      "com.amazonaws#aws-java-sdk-bundle added as a dependency\n",
      ":: resolving dependencies :: org.apache.spark#spark-submit-parent-1fc5a112-669f-4662-84a3-407edc110808;1.0\n",
      "\tconfs: [default]\n",
      "\tfound io.delta#delta-core_2.12;2.4.0 in central\n",
      "\tfound io.delta#delta-storage;2.4.0 in central\n",
      "\tfound org.antlr#antlr4-runtime;4.9.3 in central\n",
      "\tfound org.apache.hadoop#hadoop-aws;3.3.4 in central\n",
      "\tfound org.wildfly.openssl#wildfly-openssl;1.0.7.Final in central\n",
      "\tfound com.amazonaws#aws-java-sdk-bundle;1.12.367 in central\n",
      "downloading https://repo1.maven.org/maven2/io/delta/delta-core_2.12/2.4.0/delta-core_2.12-2.4.0.jar ...\n",
      "\t[SUCCESSFUL ] io.delta#delta-core_2.12;2.4.0!delta-core_2.12.jar (1230ms)\n",
      "downloading https://repo1.maven.org/maven2/org/apache/hadoop/hadoop-aws/3.3.4/hadoop-aws-3.3.4.jar ...\n",
      "\t[SUCCESSFUL ] org.apache.hadoop#hadoop-aws;3.3.4!hadoop-aws.jar (350ms)\n",
      "downloading https://repo1.maven.org/maven2/com/amazonaws/aws-java-sdk-bundle/1.12.367/aws-java-sdk-bundle-1.12.367.jar ...\n",
      "\t[SUCCESSFUL ] com.amazonaws#aws-java-sdk-bundle;1.12.367!aws-java-sdk-bundle.jar (9926ms)\n",
      "downloading https://repo1.maven.org/maven2/io/delta/delta-storage/2.4.0/delta-storage-2.4.0.jar ...\n",
      "\t[SUCCESSFUL ] io.delta#delta-storage;2.4.0!delta-storage.jar (294ms)\n",
      "downloading https://repo1.maven.org/maven2/org/antlr/antlr4-runtime/4.9.3/antlr4-runtime-4.9.3.jar ...\n",
      "\t[SUCCESSFUL ] org.antlr#antlr4-runtime;4.9.3!antlr4-runtime.jar (300ms)\n",
      "downloading https://repo1.maven.org/maven2/org/wildfly/openssl/wildfly-openssl/1.0.7.Final/wildfly-openssl-1.0.7.Final.jar ...\n",
      "\t[SUCCESSFUL ] org.wildfly.openssl#wildfly-openssl;1.0.7.Final!wildfly-openssl.jar (310ms)\n",
      ":: resolution report :: resolve 9164ms :: artifacts dl 12413ms\n",
      "\t:: modules in use:\n",
      "\tcom.amazonaws#aws-java-sdk-bundle;1.12.367 from central in [default]\n",
      "\tio.delta#delta-core_2.12;2.4.0 from central in [default]\n",
      "\tio.delta#delta-storage;2.4.0 from central in [default]\n",
      "\torg.antlr#antlr4-runtime;4.9.3 from central in [default]\n",
      "\torg.apache.hadoop#hadoop-aws;3.3.4 from central in [default]\n",
      "\torg.wildfly.openssl#wildfly-openssl;1.0.7.Final from central in [default]\n",
      "\t:: evicted modules:\n",
      "\tcom.amazonaws#aws-java-sdk-bundle;1.12.262 by [com.amazonaws#aws-java-sdk-bundle;1.12.367] in [default]\n",
      "\t---------------------------------------------------------------------\n",
      "\t|                  |            modules            ||   artifacts   |\n",
      "\t|       conf       | number| search|dwnlded|evicted|| number|dwnlded|\n",
      "\t---------------------------------------------------------------------\n",
      "\t|      default     |   7   |   6   |   6   |   1   ||   6   |   6   |\n",
      "\t---------------------------------------------------------------------\n",
      ":: retrieving :: org.apache.spark#spark-submit-parent-1fc5a112-669f-4662-84a3-407edc110808\n",
      "\tconfs: [default]\n",
      "\t6 artifacts copied, 0 already retrieved (309194kB/277ms)\n",
      "25/09/01 15:30:39 WARN NativeCodeLoader: Unable to load native-hadoop library for your platform... using builtin-java classes where applicable\n",
      "Setting default log level to \"WARN\".\n",
      "To adjust logging level use sc.setLogLevel(newLevel). For SparkR, use setLogLevel(newLevel).\n"
     ]
    },
    {
     "name": "stdout",
     "output_type": "stream",
     "text": [
      "✅ Spark 세션 생성 완료\n"
     ]
    }
   ],
   "source": [
    "import sys\n",
    "sys.path.append('/app')\n",
    "\n",
    "from src.utils.spark_builder import get_spark_session\n",
    "from pyspark.sql import functions as F\n",
    "\n",
    "# Spark 세션 생성\n",
    "spark = get_spark_session(\"GDELT_Test\", \"spark://spark-master:7077\")\n",
    "print(\"✅ Spark 세션 생성 완료\")"
   ]
  },
  {
   "cell_type": "code",
   "execution_count": 2,
   "metadata": {},
   "outputs": [
    {
     "name": "stderr",
     "output_type": "stream",
     "text": [
      "25/09/01 15:31:20 WARN MetricsConfig: Cannot locate configuration: tried hadoop-metrics2-s3a-file-system.properties,hadoop-metrics2.properties\n",
      "25/09/01 15:31:24 WARN package: Truncated the string representation of a plan since it was too large. This behavior can be adjusted by setting 'spark.sql.debug.maxToStringFields'.\n",
      "[Stage 3:==================================>                      (30 + 2) / 50]\r"
     ]
    },
    {
     "name": "stdout",
     "output_type": "stream",
     "text": [
      "📊 레코드 수: 1046\n",
      "📋 컬럼 수: 63\n"
     ]
    },
    {
     "name": "stderr",
     "output_type": "stream",
     "text": [
      "                                                                                \r"
     ]
    }
   ],
   "source": [
    "# Silver Table 읽기\n",
    "df = spark.read.format(\"delta\").load(\"s3a://warehouse/silver/gdelt_events\")\n",
    "\n",
    "print(f\"📊 레코드 수: {df.count()}\")\n",
    "print(f\"📋 컬럼 수: {len(df.columns)}\")"
   ]
  },
  {
   "cell_type": "code",
   "execution_count": 3,
   "metadata": {},
   "outputs": [
    {
     "name": "stdout",
     "output_type": "stream",
     "text": [
      "📝 전체 컬럼 목록:\n",
      " 1. global_event_id\n",
      " 2. day\n",
      " 3. month_year\n",
      " 4. year\n",
      " 5. fraction_date\n",
      " 6. actor1_code\n",
      " 7. actor1_name\n",
      " 8. actor1_country_code\n",
      " 9. actor1_known_group_code\n",
      "10. actor1_ethnic_code\n",
      "11. actor1_religion1_code\n",
      "12. actor1_religion2_code\n",
      "13. actor1_type1_code\n",
      "14. actor1_type2_code\n",
      "15. actor1_type3_code\n",
      "16. actor2_code\n",
      "17. actor2_name\n",
      "18. actor2_country_code\n",
      "19. actor2_known_group_code\n",
      "20. actor2_ethnic_code\n",
      "21. actor2_religion1_code\n",
      "22. actor2_religion2_code\n",
      "23. actor2_type1_code\n",
      "24. actor2_type2_code\n",
      "25. actor2_type3_code\n",
      "26. is_root_event\n",
      "27. event_code\n",
      "28. event_base_code\n",
      "29. event_root_code\n",
      "30. quad_class\n",
      "31. goldstein_scale\n",
      "32. num_mentions\n",
      "33. num_sources\n",
      "34. num_articles\n",
      "35. avg_tone\n",
      "36. actor1_geo_type\n",
      "37. actor1_geo_fullname\n",
      "38. actor1_geo_country_code\n",
      "39. actor1_geo_adm1_code\n",
      "40. actor1_geo_lat\n",
      "41. actor1_geo_long\n",
      "42. actor1_geo_feature_id\n",
      "43. actor2_geo_type\n",
      "44. actor2_geo_fullname\n",
      "45. actor2_geo_country_code\n",
      "46. actor2_geo_adm1_code\n",
      "47. actor2_geo_lat\n",
      "48. actor2_geo_long\n",
      "49. actor2_geo_feature_id\n",
      "50. action_geo_type\n",
      "51. action_geo_fullname\n",
      "52. action_geo_country_code\n",
      "53. action_geo_adm1_code\n",
      "54. action_geo_lat\n",
      "55. action_geo_long\n",
      "56. action_geo_feature_id\n",
      "57. date_added\n",
      "58. source_url\n",
      "59. actor1_geo_centroid\n",
      "60. actor2_geo_centroid\n",
      "61. action_geo_centroid\n",
      "62. processed_time\n",
      "63. source_file\n"
     ]
    }
   ],
   "source": [
    "# 전체 컬럼명 확인\n",
    "print(\"📝 전체 컬럼 목록:\")\n",
    "for i, col in enumerate(df.columns, 1):\n",
    "    print(f\"{i:2d}. {col}\")"
   ]
  },
  {
   "cell_type": "code",
   "execution_count": 4,
   "metadata": {},
   "outputs": [
    {
     "name": "stdout",
     "output_type": "stream",
     "text": [
      "🔍 샘플 데이터:\n"
     ]
    },
    {
     "name": "stderr",
     "output_type": "stream",
     "text": [
      "                                                                                \r"
     ]
    },
    {
     "name": "stdout",
     "output_type": "stream",
     "text": [
      "+---------------+--------+----------+----+-------------+-----------+--------------------+-------------------+-----------------------+------------------+---------------------+---------------------+-----------------+-----------------+-----------------+-----------+-----------+-------------------+-----------------------+------------------+---------------------+---------------------+-----------------+-----------------+-----------------+-------------+----------+---------------+---------------+----------+---------------+------------+-----------+------------+-----------------+---------------+------------------------------------------------+-----------------------+--------------------+--------------+---------------+---------------------+---------------+-------------------+------------------------------------+--------------------+--------------+---------------+---------------------+---------------+-------------------+-----------------------+------------------------------------------------+--------------+---------------+---------------------+----------+----------+-------------------+-------------------+-------------------+-------------------------+-------------------------+\n",
      "|global_event_id|day     |month_year|year|fraction_date|actor1_code|actor1_name         |actor1_country_code|actor1_known_group_code|actor1_ethnic_code|actor1_religion1_code|actor1_religion2_code|actor1_type1_code|actor1_type2_code|actor1_type3_code|actor2_code|actor2_name|actor2_country_code|actor2_known_group_code|actor2_ethnic_code|actor2_religion1_code|actor2_religion2_code|actor2_type1_code|actor2_type2_code|actor2_type3_code|is_root_event|event_code|event_base_code|event_root_code|quad_class|goldstein_scale|num_mentions|num_sources|num_articles|avg_tone         |actor1_geo_type|actor1_geo_fullname                             |actor1_geo_country_code|actor1_geo_adm1_code|actor1_geo_lat|actor1_geo_long|actor1_geo_feature_id|actor2_geo_type|actor2_geo_fullname|actor2_geo_country_code             |actor2_geo_adm1_code|actor2_geo_lat|actor2_geo_long|actor2_geo_feature_id|action_geo_type|action_geo_fullname|action_geo_country_code|action_geo_adm1_code                            |action_geo_lat|action_geo_long|action_geo_feature_id|date_added|source_url|actor1_geo_centroid|actor2_geo_centroid|action_geo_centroid|processed_time           |source_file              |\n",
      "+---------------+--------+----------+----+-------------+-----------+--------------------+-------------------+-----------------------+------------------+---------------------+---------------------+-----------------+-----------------+-----------------+-----------+-----------+-------------------+-----------------------+------------------+---------------------+---------------------+-----------------+-----------------+-----------------+-------------+----------+---------------+---------------+----------+---------------+------------+-----------+------------+-----------------+---------------+------------------------------------------------+-----------------------+--------------------+--------------+---------------+---------------------+---------------+-------------------+------------------------------------+--------------------+--------------+---------------+---------------------+---------------+-------------------+-----------------------+------------------------------------------------+--------------+---------------+---------------------+----------+----------+-------------------+-------------------+-------------------+-------------------------+-------------------------+\n",
      "|1260675505     |20240901|202409    |2024|2024.6603    |null       |null                |null               |null                   |null              |null                 |null                 |null             |null             |null             |NOR        |NORWAY     |NOR                |null                   |null              |null                 |null                 |null             |null             |null             |0            |173       |173            |17             |4         |-5.0           |2           |1          |2           |-5.62060889929743|0              |null                                            |null                   |null                |null          |null           |null                 |null           |1                  |Norway                              |NO                  |null          |null           |62                   |10             |NO                 |1                      |Norway                                          |null          |null           |null                 |62        |10        |null               |null               |null               |2025-09-01 13:01:56.79813|20250901124500.export.CSV|\n",
      "|1260675506     |20240901|202409    |2024|2024.6603    |AFG        |AFGHANISTAN         |AFG                |null                   |null              |null                 |null                 |null             |null             |null             |null       |null       |null               |null                   |null              |null                 |null                 |null             |null             |null             |0            |070       |070            |07             |2         |7.0            |10          |1          |10          |-6.93196405648267|4              |Herat, Herat, Afghanistan                       |AF                     |AF11                |3562.0        |34.3482        |62.1997              |-3377359       |0                  |null                                |null                |null          |null           |null                 |null           |null               |4                      |Herat, Herat, Afghanistan                       |null          |null           |3562                 |34.3482   |62.1997   |null               |null               |null               |2025-09-01 13:01:56.79813|20250901124500.export.CSV|\n",
      "|1260675507     |20250802|202508    |2025|2025.5808    |BUS        |MANUFACTURER        |null               |null                   |null              |null                 |null                 |BUS              |null             |null             |null       |null       |null               |null                   |null              |null                 |null                 |null             |null             |null             |1            |020       |020            |02             |1         |3.0            |5           |1          |5           |0.0              |4              |Hamburg, Hamburg, Germany                       |GM                     |GM04                |40698.0       |53.55          |10                   |-1785434       |0                  |null                                |null                |null          |null           |null                 |null           |null               |4                      |Hamburg, Hamburg, Germany                       |null          |null           |40698                |53.55     |10        |null               |null               |null               |2025-09-01 13:01:56.79813|20250901124500.export.CSV|\n",
      "|1260675508     |20250802|202508    |2025|2025.5808    |OPP        |ACTIVIST            |null               |null                   |null              |null                 |null                 |OPP              |null             |null             |null       |null       |null               |null                   |null              |null                 |null                 |null             |null             |null             |1            |070       |070            |07             |2         |7.0            |10          |1          |10          |-3.69318181818182|5              |Staffordshire, Staffordshire, United Kingdom    |UK                     |UKM9                |40131.0       |52.8333        |-2                   |-2608511       |0                  |null                                |null                |null          |null           |null                 |null           |null               |5                      |Staffordshire, Staffordshire, United Kingdom    |null          |null           |40131                |52.8333   |-2        |null               |null               |null               |2025-09-01 13:01:56.79813|20250901124500.export.CSV|\n",
      "|1260675509     |20250825|202508    |2025|2025.6438    |USAGOV     |UNITED STATES       |USA                |null                   |null              |null                 |null                 |GOV              |null             |null             |null       |null       |null               |null                   |null              |null                 |null                 |null             |null             |null             |0            |052       |052            |05             |1         |3.5            |1           |1          |1           |-0.72332730560579|3              |White House, District of Columbia, United States|US                     |USDC                |null          |38.8951        |-77.0364             |531871         |0                  |null                                |null                |null          |null           |null                 |null           |null               |3                      |White House, District of Columbia, United States|null          |null           |null                 |38.8951   |-77.0364  |null               |null               |null               |2025-09-01 13:01:56.79813|20250901124500.export.CSV|\n",
      "|1260675510     |20250831|202508    |2025|2025.6603    |DEUGOVLAB  |URSULA VON DER LEYEN|DEU                |null                   |null              |null                 |null                 |GOV              |LAB              |null             |BGR        |BULGARIA   |BGR                |null                   |null              |null                 |null                 |null             |null             |null             |1            |060       |060            |06             |2         |6.0            |5           |1          |5           |-2.6578073089701 |4              |Vilnius, Vilniaus Apskritis, Lithuania          |LH                     |LH65                |19171.0       |54.6833        |25.3167              |-2620663       |4                  |Plovdiv, Plovdiv, Bulgaria          |BU                  |null          |11978.0        |42.15                |24.75          |-837298            |4                      |Plovdiv, Plovdiv, Bulgaria                      |null          |null           |11978                |42.15     |24.75     |null               |null               |null               |2025-09-01 13:01:56.79813|20250901124500.export.CSV|\n",
      "|1260675511     |20250831|202508    |2025|2025.6603    |DEUGOVLAB  |URSULA VON DER LEYEN|DEU                |null                   |null              |null                 |null                 |GOV              |LAB              |null             |BGR        |BULGARIA   |BGR                |null                   |null              |null                 |null                 |null             |null             |null             |1            |060       |060            |06             |2         |6.0            |2           |1          |2           |-2.6578073089701 |4              |Plovdiv, Plovdiv, Bulgaria                      |BU                     |BU51                |11978.0       |42.15          |24.75                |-837298        |4                  |Plovdiv, Plovdiv, Bulgaria          |BU                  |null          |11978.0        |42.15                |24.75          |-837298            |4                      |Plovdiv, Plovdiv, Bulgaria                      |null          |null           |11978                |42.15     |24.75     |null               |null               |null               |2025-09-01 13:01:56.79813|20250901124500.export.CSV|\n",
      "|1260675512     |20250831|202508    |2025|2025.6603    |DEUGOVLAB  |URSULA VON DER LEYEN|DEU                |null                   |null              |null                 |null                 |GOV              |LAB              |null             |RUS        |RUSSIA     |RUS                |null                   |null              |null                 |null                 |null             |null             |null             |1            |112       |112            |11             |3         |-2.0           |3           |1          |3           |-2.6578073089701 |4              |Vilnius, Vilniaus Apskritis, Lithuania          |LH                     |LH65                |19171.0       |54.6833        |25.3167              |-2620663       |4                  |Moscow, Moskva, Russia              |RS                  |null          |25106.0        |55.7522              |37.6156        |-2960561           |4                      |Brussels, Bruxelles-Capitale, Belgium           |null          |null           |5850                 |50.8333   |4.33333   |null               |null               |null               |2025-09-01 13:01:56.79813|20250901124500.export.CSV|\n",
      "|1260675513     |20250831|202508    |2025|2025.6603    |DEUGOVLAB  |URSULA VON DER LEYEN|DEU                |null                   |null              |null                 |null                 |GOV              |LAB              |null             |RUS        |RUSSIA     |RUS                |null                   |null              |null                 |null                 |null             |null             |null             |1            |112       |112            |11             |3         |-2.0           |2           |1          |2           |-2.6578073089701 |4              |Plovdiv, Plovdiv, Bulgaria                      |BU                     |BU51                |11978.0       |42.15          |24.75                |-837298        |4                  |Moscow, Moskva, Russia              |RS                  |null          |25106.0        |55.7522              |37.6156        |-2960561           |4                      |Brussels, Bruxelles-Capitale, Belgium           |null          |null           |5850                 |50.8333   |4.33333   |null               |null               |null               |2025-09-01 13:01:56.79813|20250901124500.export.CSV|\n",
      "|1260675514     |20250901|202509    |2025|2025.6603    |null       |null                |null               |null                   |null              |null                 |null                 |null             |null             |null             |AZEGOVBUS  |AZERBAIJAN |AZE                |null                   |null              |null                 |null                 |GOV              |BUS              |null             |1            |051       |051            |05             |1         |3.4            |5           |1          |5           |3.26086956521739 |0              |null                                            |null                   |null                |null          |null           |null                 |null           |1                  |Azerbaijan                          |AJ                  |null          |null           |40.5                 |47.5           |AJ                 |1                      |Azerbaijan                                      |null          |null           |null                 |40.5      |47.5      |null               |null               |null               |2025-09-01 13:01:56.79813|20250901124500.export.CSV|\n",
      "|1260675515     |20250901|202509    |2025|2025.6603    |null       |null                |null               |null                   |null              |null                 |null                 |null             |null             |null             |BGR        |BULGARIA   |BGR                |null                   |null              |null                 |null                 |null             |null             |null             |1            |060       |060            |06             |2         |6.0            |3           |1          |3           |-2.78745644599303|0              |null                                            |null                   |null                |null          |null           |null                 |null           |4                  |Moscow, Moskva, Russia              |RS                  |null          |25106.0        |55.7522              |37.6156        |-2960561           |4                      |Moscow, Moskva, Russia                          |null          |null           |25106                |55.7522   |37.6156   |null               |null               |null               |2025-09-01 13:01:56.79813|20250901124500.export.CSV|\n",
      "|1260675516     |20250901|202509    |2025|2025.6603    |null       |null                |null               |null                   |null              |null                 |null                 |null             |null             |null             |BGR        |BULGARIA   |BGR                |null                   |null              |null                 |null                 |null             |null             |null             |1            |060       |060            |06             |2         |6.0            |2           |1          |2           |-2.78745644599303|0              |null                                            |null                   |null                |null          |null           |null                 |null           |4                  |Plovdiv, Plovdiv, Bulgaria          |BU                  |null          |11978.0        |42.15                |24.75          |-837298            |4                      |Moscow, Moskva, Russia                          |null          |null           |25106                |55.7522   |37.6156   |null               |null               |null               |2025-09-01 13:01:56.79813|20250901124500.export.CSV|\n",
      "|1260675517     |20250901|202509    |2025|2025.6603    |null       |null                |null               |null                   |null              |null                 |null                 |null             |null             |null             |BUS        |BUSINESS   |null               |null                   |null              |null                 |null                 |BUS              |null             |null             |1            |042       |042            |04             |1         |1.9            |6           |1          |6           |-7.16981132075472|0              |null                                            |null                   |null                |null          |null           |null                 |null           |4                  |Haryana, Haryana, India             |IN                  |null          |17660.0        |29.6161              |76.9806        |6210381            |4                      |Haryana, Haryana, India                         |null          |null           |17660                |29.6161   |76.9806   |null               |null               |null               |2025-09-01 13:01:56.79813|20250901124500.export.CSV|\n",
      "|1260675518     |20250901|202509    |2025|2025.6603    |null       |null                |null               |null                   |null              |null                 |null                 |null             |null             |null             |BUS        |BUSINESS   |null               |null                   |null              |null                 |null                 |BUS              |null             |null             |1            |046       |046            |04             |1         |7.0            |4           |1          |4           |6.54911838790932 |0              |null                                            |null                   |null                |null          |null           |null                 |null           |4                  |Bengaluru, Karnataka, India         |IN                  |null          |70159.0        |12.9833              |77.5833        |-2090174           |4                      |Bengaluru, Karnataka, India                     |null          |null           |70159                |12.9833   |77.5833   |null               |null               |null               |2025-09-01 13:01:56.79813|20250901124500.export.CSV|\n",
      "|1260675519     |20250901|202509    |2025|2025.6603    |null       |null                |null               |null                   |null              |null                 |null                 |null             |null             |null             |CAN        |TORONTO    |CAN                |null                   |null              |null                 |null                 |null             |null             |null             |1            |036       |036            |03             |1         |4.0            |10          |1          |10          |0.0              |0              |null                                            |null                   |null                |null          |null           |null                 |null           |4                  |Toronto, Ontario, Canada            |CA                  |null          |12686.0        |43.6667              |-79.4167       |-574890            |4                      |Toronto, Ontario, Canada                        |null          |null           |12686                |43.6667   |-79.4167  |null               |null               |null               |2025-09-01 13:01:56.79813|20250901124500.export.CSV|\n",
      "|1260675520     |20250901|202509    |2025|2025.6603    |null       |null                |null               |null                   |null              |null                 |null                 |null             |null             |null             |CAN        |CANADA     |CAN                |null                   |null              |null                 |null                 |null             |null             |null             |1            |057       |057            |05             |1         |8.0            |20          |2          |20          |5.02813799853193 |0              |null                                            |null                   |null                |null          |null           |null                 |null           |1                  |Canada                              |CA                  |null          |null           |60                   |-96            |CA                 |1                      |Canada                                          |null          |null           |null                 |60        |-96       |null               |null               |null               |2025-09-01 13:01:56.79813|20250901124500.export.CSV|\n",
      "|1260675521     |20250901|202509    |2025|2025.6603    |null       |null                |null               |null                   |null              |null                 |null                 |null             |null             |null             |CHN        |CHINA      |CHN                |null                   |null              |null                 |null                 |null             |null             |null             |1            |040       |040            |04             |1         |1.0            |1           |1          |1           |-0.81008100810081|0              |null                                            |null                   |null                |null          |null           |null                 |null           |4                  |Yellow River, China (general), China|CH                  |null          |13229.0        |37.7575              |119.076        |-1910204           |4                      |Beijing, Beijing, China                         |null          |null           |13001                |39.9289   |116.388   |null               |null               |null               |2025-09-01 13:01:56.79813|20250901124500.export.CSV|\n",
      "|1260675522     |20250901|202509    |2025|2025.6603    |null       |null                |null               |null                   |null              |null                 |null                 |null             |null             |null             |CHN        |CHINA      |CHN                |null                   |null              |null                 |null                 |null             |null             |null             |0            |040       |040            |04             |1         |1.0            |2           |1          |2           |3.18471337579618 |0              |null                                            |null                   |null                |null          |null           |null                 |null           |4                  |Feihong, Sichuan, China             |CH                  |null          |13270.0        |31.7963              |103.736        |10405130           |4                      |Shanghai, Shanghai, China                       |null          |null           |13243                |31.2222   |121.458   |null               |null               |null               |2025-09-01 13:01:56.79813|20250901124500.export.CSV|\n",
      "|1260675523     |20250901|202509    |2025|2025.6603    |null       |null                |null               |null                   |null              |null                 |null                 |null             |null             |null             |CHN        |CHINA      |CHN                |null                   |null              |null                 |null                 |null             |null             |null             |1            |042       |042            |04             |1         |1.9            |6           |1          |6           |-1.2012012012012 |0              |null                                            |null                   |null                |null          |null           |null                 |null           |4                  |Xiaomi, Fujian, China               |CH                  |null          |13163.0        |25.2225              |116.057        |10999868           |4                      |Xiaomi, Fujian, China                           |null          |null           |13163                |25.2225   |116.057   |null               |null               |null               |2025-09-01 13:01:56.79813|20250901124500.export.CSV|\n",
      "|1260675524     |20250901|202509    |2025|2025.6603    |null       |null                |null               |null                   |null              |null                 |null                 |null             |null             |null             |CHN        |CHINA      |CHN                |null                   |null              |null                 |null                 |null             |null             |null             |0            |051       |051            |05             |1         |3.4            |10          |1          |10          |-1.15131578947368|0              |null                                            |null                   |null                |null          |null           |null                 |null           |4                  |Wenzhou, Zhejiang, China            |CH                  |null          |13328.0        |27.9994              |120.667        |-1930588           |4                      |Wenzhou, Zhejiang, China                        |null          |null           |13328                |27.9994   |120.667   |null               |null               |null               |2025-09-01 13:01:56.79813|20250901124500.export.CSV|\n",
      "+---------------+--------+----------+----+-------------+-----------+--------------------+-------------------+-----------------------+------------------+---------------------+---------------------+-----------------+-----------------+-----------------+-----------+-----------+-------------------+-----------------------+------------------+---------------------+---------------------+-----------------+-----------------+-----------------+-------------+----------+---------------+---------------+----------+---------------+------------+-----------+------------+-----------------+---------------+------------------------------------------------+-----------------------+--------------------+--------------+---------------+---------------------+---------------+-------------------+------------------------------------+--------------------+--------------+---------------+---------------------+---------------+-------------------+-----------------------+------------------------------------------------+--------------+---------------+---------------------+----------+----------+-------------------+-------------------+-------------------+-------------------------+-------------------------+\n",
      "only showing top 20 rows\n",
      "\n"
     ]
    }
   ],
   "source": [
    "# 샘플 데이터 확인\n",
    "print(\"🔍 샘플 데이터:\")\n",
    "df.show(20, truncate=False)"
   ]
  },
  {
   "cell_type": "code",
   "execution_count": 5,
   "metadata": {},
   "outputs": [
    {
     "name": "stdout",
     "output_type": "stream",
     "text": [
      "root\n",
      " |-- global_event_id: long (nullable = true)\n",
      " |-- day: integer (nullable = true)\n",
      " |-- month_year: integer (nullable = true)\n",
      " |-- year: integer (nullable = true)\n",
      " |-- fraction_date: double (nullable = true)\n",
      " |-- actor1_code: string (nullable = true)\n",
      " |-- actor1_name: string (nullable = true)\n",
      " |-- actor1_country_code: string (nullable = true)\n",
      " |-- actor1_known_group_code: string (nullable = true)\n",
      " |-- actor1_ethnic_code: string (nullable = true)\n",
      " |-- actor1_religion1_code: string (nullable = true)\n",
      " |-- actor1_religion2_code: string (nullable = true)\n",
      " |-- actor1_type1_code: string (nullable = true)\n",
      " |-- actor1_type2_code: string (nullable = true)\n",
      " |-- actor1_type3_code: string (nullable = true)\n",
      " |-- actor2_code: string (nullable = true)\n",
      " |-- actor2_name: string (nullable = true)\n",
      " |-- actor2_country_code: string (nullable = true)\n",
      " |-- actor2_known_group_code: string (nullable = true)\n",
      " |-- actor2_ethnic_code: string (nullable = true)\n",
      " |-- actor2_religion1_code: string (nullable = true)\n",
      " |-- actor2_religion2_code: string (nullable = true)\n",
      " |-- actor2_type1_code: string (nullable = true)\n",
      " |-- actor2_type2_code: string (nullable = true)\n",
      " |-- actor2_type3_code: string (nullable = true)\n",
      " |-- is_root_event: integer (nullable = true)\n",
      " |-- event_code: string (nullable = true)\n",
      " |-- event_base_code: string (nullable = true)\n",
      " |-- event_root_code: string (nullable = true)\n",
      " |-- quad_class: integer (nullable = true)\n",
      " |-- goldstein_scale: double (nullable = true)\n",
      " |-- num_mentions: integer (nullable = true)\n",
      " |-- num_sources: integer (nullable = true)\n",
      " |-- num_articles: integer (nullable = true)\n",
      " |-- avg_tone: double (nullable = true)\n",
      " |-- actor1_geo_type: string (nullable = true)\n",
      " |-- actor1_geo_fullname: string (nullable = true)\n",
      " |-- actor1_geo_country_code: string (nullable = true)\n",
      " |-- actor1_geo_adm1_code: string (nullable = true)\n",
      " |-- actor1_geo_lat: double (nullable = true)\n",
      " |-- actor1_geo_long: double (nullable = true)\n",
      " |-- actor1_geo_feature_id: string (nullable = true)\n",
      " |-- actor2_geo_type: string (nullable = true)\n",
      " |-- actor2_geo_fullname: string (nullable = true)\n",
      " |-- actor2_geo_country_code: string (nullable = true)\n",
      " |-- actor2_geo_adm1_code: string (nullable = true)\n",
      " |-- actor2_geo_lat: double (nullable = true)\n",
      " |-- actor2_geo_long: double (nullable = true)\n",
      " |-- actor2_geo_feature_id: string (nullable = true)\n",
      " |-- action_geo_type: string (nullable = true)\n",
      " |-- action_geo_fullname: string (nullable = true)\n",
      " |-- action_geo_country_code: string (nullable = true)\n",
      " |-- action_geo_adm1_code: string (nullable = true)\n",
      " |-- action_geo_lat: double (nullable = true)\n",
      " |-- action_geo_long: double (nullable = true)\n",
      " |-- action_geo_feature_id: string (nullable = true)\n",
      " |-- date_added: string (nullable = true)\n",
      " |-- source_url: string (nullable = true)\n",
      " |-- actor1_geo_centroid: string (nullable = true)\n",
      " |-- actor2_geo_centroid: string (nullable = true)\n",
      " |-- action_geo_centroid: string (nullable = true)\n",
      " |-- processed_time: timestamp (nullable = true)\n",
      " |-- source_file: string (nullable = true)\n",
      "\n"
     ]
    }
   ],
   "source": [
    "# 스키마 확인\n",
    "df.printSchema()"
   ]
  },
  {
   "cell_type": "code",
   "execution_count": null,
   "metadata": {},
   "outputs": [
    {
     "name": "stdout",
     "output_type": "stream",
     "text": [
      "+-------------------+-----+\n",
      "|actor1_country_code|count|\n",
      "+-------------------+-----+\n",
      "|               null| 3388|\n",
      "|                CHN|  749|\n",
      "|                USA|  742|\n",
      "|                RUS|  481|\n",
      "|                IRN|  301|\n",
      "|                ISR|  293|\n",
      "|                GBR|  238|\n",
      "|                AUS|  183|\n",
      "|                UKR|  168|\n",
      "|                PSE|  158|\n",
      "+-------------------+-----+\n",
      "only showing top 10 rows\n",
      "\n"
     ]
    },
    {
     "name": "stderr",
     "output_type": "stream",
     "text": [
      "25/09/01 05:45:08 ERROR StandaloneSchedulerBackend: Application has been killed. Reason: Master removed our application: KILLED\n",
      "25/09/01 05:45:08 ERROR Inbox: Ignoring error\n",
      "org.apache.spark.SparkException: Exiting due to error from cluster scheduler: Master removed our application: KILLED\n",
      "\tat org.apache.spark.errors.SparkCoreErrors$.clusterSchedulerError(SparkCoreErrors.scala:291)\n",
      "\tat org.apache.spark.scheduler.TaskSchedulerImpl.error(TaskSchedulerImpl.scala:978)\n",
      "\tat org.apache.spark.scheduler.cluster.StandaloneSchedulerBackend.dead(StandaloneSchedulerBackend.scala:165)\n",
      "\tat org.apache.spark.deploy.client.StandaloneAppClient$ClientEndpoint.markDead(StandaloneAppClient.scala:263)\n",
      "\tat org.apache.spark.deploy.client.StandaloneAppClient$ClientEndpoint$$anonfun$receive$1.applyOrElse(StandaloneAppClient.scala:170)\n",
      "\tat org.apache.spark.rpc.netty.Inbox.$anonfun$process$1(Inbox.scala:115)\n",
      "\tat org.apache.spark.rpc.netty.Inbox.safelyCall(Inbox.scala:213)\n",
      "\tat org.apache.spark.rpc.netty.Inbox.process(Inbox.scala:100)\n",
      "\tat org.apache.spark.rpc.netty.MessageLoop.org$apache$spark$rpc$netty$MessageLoop$$receiveLoop(MessageLoop.scala:75)\n",
      "\tat org.apache.spark.rpc.netty.MessageLoop$$anon$1.run(MessageLoop.scala:41)\n",
      "\tat java.base/java.util.concurrent.ThreadPoolExecutor.runWorker(ThreadPoolExecutor.java:1136)\n",
      "\tat java.base/java.util.concurrent.ThreadPoolExecutor$Worker.run(ThreadPoolExecutor.java:635)\n",
      "\tat java.base/java.lang.Thread.run(Thread.java:840)\n"
     ]
    }
   ],
   "source": [
    "# 간단한 통계\n",
    "df.select(\"actor1_country_code\").groupBy(\"actor1_country_code\").count().orderBy(F.desc(\"count\")).show(10)"
   ]
  },
  {
   "cell_type": "code",
   "execution_count": 4,
   "metadata": {},
   "outputs": [
    {
     "ename": "NameError",
     "evalue": "name 'spark' is not defined",
     "output_type": "error",
     "traceback": [
      "\u001b[0;31m---------------------------------------------------------------------------\u001b[0m",
      "\u001b[0;31mNameError\u001b[0m                                 Traceback (most recent call last)",
      "Cell \u001b[0;32mIn[4], line 1\u001b[0m\n\u001b[0;32m----> 1\u001b[0m \u001b[43mspark\u001b[49m\u001b[38;5;241m.\u001b[39mstop()\n",
      "\u001b[0;31mNameError\u001b[0m: name 'spark' is not defined"
     ]
    }
   ],
   "source": [
    "spark.stop()"
   ]
  }
 ],
 "metadata": {
  "kernelspec": {
   "display_name": "Python 3 (ipykernel)",
   "language": "python",
   "name": "python3"
  },
  "language_info": {
   "codemirror_mode": {
    "name": "ipython",
    "version": 3
   },
   "file_extension": ".py",
   "mimetype": "text/x-python",
   "name": "python",
   "nbconvert_exporter": "python",
   "pygments_lexer": "ipython3",
   "version": "3.10.18"
  }
 },
 "nbformat": 4,
 "nbformat_minor": 4
}
