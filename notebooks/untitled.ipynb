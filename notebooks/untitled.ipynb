{
 "cells": [
  {
   "cell_type": "code",
   "execution_count": 1,
   "id": "6ec9ff92",
   "metadata": {},
   "outputs": [
    {
     "name": "stdout",
     "output_type": "stream",
     "text": [
      ":: loading settings :: url = jar:file:/usr/local/lib/python3.10/site-packages/pyspark/jars/ivy-2.5.1.jar!/org/apache/ivy/core/settings/ivysettings.xml\n"
     ]
    },
    {
     "name": "stderr",
     "output_type": "stream",
     "text": [
      "Ivy Default Cache set to: /root/.ivy2/cache\n",
      "The jars for the packages stored in: /root/.ivy2/jars\n",
      "io.delta#delta-core_2.12 added as a dependency\n",
      "org.apache.hadoop#hadoop-aws added as a dependency\n",
      "com.amazonaws#aws-java-sdk-bundle added as a dependency\n",
      "org.apache.spark#spark-sql-kafka-0-10_2.12 added as a dependency\n",
      "org.postgresql#postgresql added as a dependency\n",
      ":: resolving dependencies :: org.apache.spark#spark-submit-parent-9af4712b-8a79-4ddd-809d-600fe22dbc6c;1.0\n",
      "\tconfs: [default]\n",
      "\tfound io.delta#delta-core_2.12;2.4.0 in central\n",
      "\tfound io.delta#delta-storage;2.4.0 in central\n",
      "\tfound org.antlr#antlr4-runtime;4.9.3 in central\n",
      "\tfound org.apache.hadoop#hadoop-aws;3.3.4 in central\n",
      "\tfound org.wildfly.openssl#wildfly-openssl;1.0.7.Final in central\n",
      "\tfound com.amazonaws#aws-java-sdk-bundle;1.12.367 in central\n",
      "\tfound org.apache.spark#spark-sql-kafka-0-10_2.12;3.4.3 in central\n",
      "\tfound org.apache.spark#spark-token-provider-kafka-0-10_2.12;3.4.3 in central\n",
      "\tfound org.apache.kafka#kafka-clients;3.3.2 in central\n",
      "\tfound org.lz4#lz4-java;1.8.0 in central\n",
      "\tfound org.xerial.snappy#snappy-java;1.1.10.5 in central\n",
      "\tfound org.slf4j#slf4j-api;2.0.6 in central\n",
      "\tfound org.apache.hadoop#hadoop-client-runtime;3.3.4 in central\n",
      "\tfound org.apache.hadoop#hadoop-client-api;3.3.4 in central\n",
      "\tfound commons-logging#commons-logging;1.1.3 in central\n",
      "\tfound com.google.code.findbugs#jsr305;3.0.0 in central\n",
      "\tfound org.apache.commons#commons-pool2;2.11.1 in central\n",
      "\tfound org.postgresql#postgresql;42.7.3 in central\n",
      "\tfound org.checkerframework#checker-qual;3.42.0 in central\n",
      "downloading https://repo1.maven.org/maven2/io/delta/delta-core_2.12/2.4.0/delta-core_2.12-2.4.0.jar ...\n",
      "\t[SUCCESSFUL ] io.delta#delta-core_2.12;2.4.0!delta-core_2.12.jar (1087ms)\n",
      "downloading https://repo1.maven.org/maven2/org/apache/hadoop/hadoop-aws/3.3.4/hadoop-aws-3.3.4.jar ...\n",
      "\t[SUCCESSFUL ] org.apache.hadoop#hadoop-aws;3.3.4!hadoop-aws.jar (431ms)\n",
      "downloading https://repo1.maven.org/maven2/com/amazonaws/aws-java-sdk-bundle/1.12.367/aws-java-sdk-bundle-1.12.367.jar ...\n",
      "\t[SUCCESSFUL ] com.amazonaws#aws-java-sdk-bundle;1.12.367!aws-java-sdk-bundle.jar (39144ms)\n",
      "downloading https://repo1.maven.org/maven2/org/apache/spark/spark-sql-kafka-0-10_2.12/3.4.3/spark-sql-kafka-0-10_2.12-3.4.3.jar ...\n",
      "\t[SUCCESSFUL ] org.apache.spark#spark-sql-kafka-0-10_2.12;3.4.3!spark-sql-kafka-0-10_2.12.jar (483ms)\n",
      "downloading https://repo1.maven.org/maven2/org/postgresql/postgresql/42.7.3/postgresql-42.7.3.jar ...\n",
      "\t[SUCCESSFUL ] org.postgresql#postgresql;42.7.3!postgresql.jar (594ms)\n",
      "downloading https://repo1.maven.org/maven2/io/delta/delta-storage/2.4.0/delta-storage-2.4.0.jar ...\n",
      "\t[SUCCESSFUL ] io.delta#delta-storage;2.4.0!delta-storage.jar (373ms)\n",
      "downloading https://repo1.maven.org/maven2/org/antlr/antlr4-runtime/4.9.3/antlr4-runtime-4.9.3.jar ...\n",
      "\t[SUCCESSFUL ] org.antlr#antlr4-runtime;4.9.3!antlr4-runtime.jar (487ms)\n",
      "downloading https://repo1.maven.org/maven2/org/wildfly/openssl/wildfly-openssl/1.0.7.Final/wildfly-openssl-1.0.7.Final.jar ...\n",
      "\t[SUCCESSFUL ] org.wildfly.openssl#wildfly-openssl;1.0.7.Final!wildfly-openssl.jar (449ms)\n",
      "downloading https://repo1.maven.org/maven2/org/apache/spark/spark-token-provider-kafka-0-10_2.12/3.4.3/spark-token-provider-kafka-0-10_2.12-3.4.3.jar ...\n",
      "\t[SUCCESSFUL ] org.apache.spark#spark-token-provider-kafka-0-10_2.12;3.4.3!spark-token-provider-kafka-0-10_2.12.jar (363ms)\n",
      "downloading https://repo1.maven.org/maven2/org/apache/kafka/kafka-clients/3.3.2/kafka-clients-3.3.2.jar ...\n",
      "\t[SUCCESSFUL ] org.apache.kafka#kafka-clients;3.3.2!kafka-clients.jar (1032ms)\n",
      "downloading https://repo1.maven.org/maven2/com/google/code/findbugs/jsr305/3.0.0/jsr305-3.0.0.jar ...\n",
      "\t[SUCCESSFUL ] com.google.code.findbugs#jsr305;3.0.0!jsr305.jar (347ms)\n",
      "downloading https://repo1.maven.org/maven2/org/apache/commons/commons-pool2/2.11.1/commons-pool2-2.11.1.jar ...\n",
      "\t[SUCCESSFUL ] org.apache.commons#commons-pool2;2.11.1!commons-pool2.jar (544ms)\n",
      "downloading https://repo1.maven.org/maven2/org/apache/hadoop/hadoop-client-runtime/3.3.4/hadoop-client-runtime-3.3.4.jar ...\n",
      "\t[SUCCESSFUL ] org.apache.hadoop#hadoop-client-runtime;3.3.4!hadoop-client-runtime.jar (4494ms)\n",
      "downloading https://repo1.maven.org/maven2/org/lz4/lz4-java/1.8.0/lz4-java-1.8.0.jar ...\n",
      "\t[SUCCESSFUL ] org.lz4#lz4-java;1.8.0!lz4-java.jar (460ms)\n",
      "downloading https://repo1.maven.org/maven2/org/xerial/snappy/snappy-java/1.1.10.5/snappy-java-1.1.10.5.jar ...\n",
      "\t[SUCCESSFUL ] org.xerial.snappy#snappy-java;1.1.10.5!snappy-java.jar(bundle) (763ms)\n",
      "downloading https://repo1.maven.org/maven2/org/slf4j/slf4j-api/2.0.6/slf4j-api-2.0.6.jar ...\n",
      "\t[SUCCESSFUL ] org.slf4j#slf4j-api;2.0.6!slf4j-api.jar (326ms)\n",
      "downloading https://repo1.maven.org/maven2/org/apache/hadoop/hadoop-client-api/3.3.4/hadoop-client-api-3.3.4.jar ...\n",
      "\t[SUCCESSFUL ] org.apache.hadoop#hadoop-client-api;3.3.4!hadoop-client-api.jar (2700ms)\n",
      "downloading https://repo1.maven.org/maven2/commons-logging/commons-logging/1.1.3/commons-logging-1.1.3.jar ...\n",
      "\t[SUCCESSFUL ] commons-logging#commons-logging;1.1.3!commons-logging.jar (350ms)\n",
      "downloading https://repo1.maven.org/maven2/org/checkerframework/checker-qual/3.42.0/checker-qual-3.42.0.jar ...\n",
      "\t[SUCCESSFUL ] org.checkerframework#checker-qual;3.42.0!checker-qual.jar (329ms)\n",
      ":: resolution report :: resolve 29849ms :: artifacts dl 55020ms\n",
      "\t:: modules in use:\n",
      "\tcom.amazonaws#aws-java-sdk-bundle;1.12.367 from central in [default]\n",
      "\tcom.google.code.findbugs#jsr305;3.0.0 from central in [default]\n",
      "\tcommons-logging#commons-logging;1.1.3 from central in [default]\n",
      "\tio.delta#delta-core_2.12;2.4.0 from central in [default]\n",
      "\tio.delta#delta-storage;2.4.0 from central in [default]\n",
      "\torg.antlr#antlr4-runtime;4.9.3 from central in [default]\n",
      "\torg.apache.commons#commons-pool2;2.11.1 from central in [default]\n",
      "\torg.apache.hadoop#hadoop-aws;3.3.4 from central in [default]\n",
      "\torg.apache.hadoop#hadoop-client-api;3.3.4 from central in [default]\n",
      "\torg.apache.hadoop#hadoop-client-runtime;3.3.4 from central in [default]\n",
      "\torg.apache.kafka#kafka-clients;3.3.2 from central in [default]\n",
      "\torg.apache.spark#spark-sql-kafka-0-10_2.12;3.4.3 from central in [default]\n",
      "\torg.apache.spark#spark-token-provider-kafka-0-10_2.12;3.4.3 from central in [default]\n",
      "\torg.checkerframework#checker-qual;3.42.0 from central in [default]\n",
      "\torg.lz4#lz4-java;1.8.0 from central in [default]\n",
      "\torg.postgresql#postgresql;42.7.3 from central in [default]\n",
      "\torg.slf4j#slf4j-api;2.0.6 from central in [default]\n",
      "\torg.wildfly.openssl#wildfly-openssl;1.0.7.Final from central in [default]\n",
      "\torg.xerial.snappy#snappy-java;1.1.10.5 from central in [default]\n",
      "\t:: evicted modules:\n",
      "\tcom.amazonaws#aws-java-sdk-bundle;1.12.262 by [com.amazonaws#aws-java-sdk-bundle;1.12.367] in [default]\n",
      "\t---------------------------------------------------------------------\n",
      "\t|                  |            modules            ||   artifacts   |\n",
      "\t|       conf       | number| search|dwnlded|evicted|| number|dwnlded|\n",
      "\t---------------------------------------------------------------------\n",
      "\t|      default     |   20  |   19  |   19  |   1   ||   19  |   19  |\n",
      "\t---------------------------------------------------------------------\n",
      ":: retrieving :: org.apache.spark#spark-submit-parent-9af4712b-8a79-4ddd-809d-600fe22dbc6c\n",
      "\tconfs: [default]\n",
      "\t19 artifacts copied, 0 already retrieved (367443kB/1764ms)\n",
      "25/08/25 13:28:17 WARN NativeCodeLoader: Unable to load native-hadoop library for your platform... using builtin-java classes where applicable\n",
      "Setting default log level to \"WARN\".\n",
      "To adjust logging level use sc.setLogLevel(newLevel). For SparkR, use setLogLevel(newLevel).\n"
     ]
    },
    {
     "name": "stdout",
     "output_type": "stream",
     "text": [
      "!! SparkSession 생성 완료!\n"
     ]
    }
   ],
   "source": [
    "from src.utils.spark_builder import get_spark_session\n",
    "\n",
    "spark = get_spark_session(\"Jupyter Test\")\n",
    "print(\"!! SparkSession 생성 완료!\")"
   ]
  },
  {
   "cell_type": "code",
   "execution_count": 2,
   "id": "e2ef22c6",
   "metadata": {},
   "outputs": [
    {
     "name": "stderr",
     "output_type": "stream",
     "text": [
      "25/08/25 13:28:51 WARN MetricsConfig: Cannot locate configuration: tried hadoop-metrics2-s3a-file-system.properties,hadoop-metrics2.properties\n",
      "                                                                                \r"
     ]
    },
    {
     "name": "stdout",
     "output_type": "stream",
     "text": [
      "GDELT silver 데이터 로드 성공: s3a://silver/gdelt_events\n"
     ]
    },
    {
     "name": "stderr",
     "output_type": "stream",
     "text": [
      "25/08/25 13:29:17 WARN package: Truncated the string representation of a plan since it was too large. This behavior can be adjusted by setting 'spark.sql.debug.maxToStringFields'.\n",
      "                                                                                \r"
     ]
    },
    {
     "name": "stdout",
     "output_type": "stream",
     "text": [
      "총 레코드 수 : 1276725\n",
      "컬럼 수: 20\n",
      "\n",
      " 테이블 스키마: \n",
      "root\n",
      " |-- event_date: string (nullable = true)\n",
      " |-- Actor1CountryCode: string (nullable = true)\n",
      " |-- EventRootCode: string (nullable = true)\n",
      " |-- day_of_week: long (nullable = true)\n",
      " |-- event_count: long (nullable = true)\n",
      " |-- avg_conflict_score: double (nullable = true)\n",
      " |-- stddev_conflict_score: double (nullable = true)\n",
      " |-- avg_tone: double (nullable = true)\n",
      " |-- unique_source_count: long (nullable = true)\n",
      " |-- GlobalEventID: string (nullable = true)\n",
      " |-- Day: string (nullable = true)\n",
      " |-- MonthYear: string (nullable = true)\n",
      " |-- Year: string (nullable = true)\n",
      " |-- FractionDate: string (nullable = true)\n",
      " |-- Actor1Code: string (nullable = true)\n",
      " |-- Actor1Name: string (nullable = true)\n",
      " |-- Actor1KnownGroupCode: string (nullable = true)\n",
      " |-- Actor1EthnicCode: string (nullable = true)\n",
      " |-- AvgTone: string (nullable = true)\n",
      " |-- QuadClass: string (nullable = true)\n",
      "\n",
      "\n",
      " 상위 20개 레코드\n"
     ]
    },
    {
     "name": "stderr",
     "output_type": "stream",
     "text": [
      "[Stage 14:>                                                         (0 + 1) / 1]\r"
     ]
    },
    {
     "name": "stdout",
     "output_type": "stream",
     "text": [
      "+----------+-----------------+-------------+-----------+-----------+------------------+---------------------+--------+-------------------+-------------+--------+---------+----+------------+----------+--------------+--------------------+----------------+-------+---------+\n",
      "|event_date|Actor1CountryCode|EventRootCode|day_of_week|event_count|avg_conflict_score|stddev_conflict_score|avg_tone|unique_source_count|GlobalEventID|Day     |MonthYear|Year|FractionDate|Actor1Code|Actor1Name    |Actor1KnownGroupCode|Actor1EthnicCode|AvgTone|QuadClass|\n",
      "+----------+-----------------+-------------+-----------+-----------+------------------+---------------------+--------+-------------------+-------------+--------+---------+----+------------+----------+--------------+--------------------+----------------+-------+---------+\n",
      "|null      |                 |             |null       |null       |null              |null                 |null    |null               |1259429063   |20240825|202408   |2024|2024.6438   |COP       |POLICE        |                    |                |       |COP      |\n",
      "|null      |PSE              |             |null       |null       |null              |null                 |null    |null               |1259429064   |20240825|202408   |2024|2024.6438   |PSE       |PALESTINIAN   |                    |                |       |         |\n",
      "|null      |PSE              |             |null       |null       |null              |null                 |null    |null               |1259429065   |20240825|202408   |2024|2024.6438   |PSE       |PALESTINIAN   |                    |                |       |         |\n",
      "|null      |PSE              |             |null       |null       |null              |null                 |null    |null               |1259429066   |20240825|202408   |2024|2024.6438   |PSE       |PALESTINIAN   |                    |                |       |         |\n",
      "|null      |PSE              |             |null       |null       |null              |null                 |null    |null               |1259429067   |20240825|202408   |2024|2024.6438   |PSE       |PALESTINIAN   |                    |                |       |         |\n",
      "|null      |PSE              |             |null       |null       |null              |null                 |null    |null               |1259429068   |20240825|202408   |2024|2024.6438   |PSE       |PALESTINIAN   |                    |                |       |         |\n",
      "|null      |PSE              |             |null       |null       |null              |null                 |null    |null               |1259429069   |20240825|202408   |2024|2024.6438   |PSE       |PALESTINIAN   |                    |                |       |         |\n",
      "|null      |PSE              |             |null       |null       |null              |null                 |null    |null               |1259429070   |20240825|202408   |2024|2024.6438   |PSEREB    |HAMAS         |                    |                |       |REB      |\n",
      "|null      |USA              |             |null       |null       |null              |null                 |null    |null               |1259429071   |20240825|202408   |2024|2024.6438   |USA       |VIRGINIA      |                    |                |       |         |\n",
      "|null      |USA              |             |null       |null       |null              |null                 |null    |null               |1259429072   |20240825|202408   |2024|2024.6438   |USACVL    |VIRGINIA      |                    |                |       |CVL      |\n",
      "|null      |                 |             |null       |null       |null              |null                 |null    |null               |1259429073   |20250726|202507   |2025|2025.5644   |GOV       |ADMINISTRATION|                    |                |       |GOV      |\n",
      "|null      |                 |             |null       |null       |null              |null                 |null    |null               |1259429074   |20250726|202507   |2025|2025.5644   |GOV       |ADMINISTRATION|                    |                |       |GOV      |\n",
      "|null      |                 |             |null       |null       |null              |null                 |null    |null               |1259429075   |20250726|202507   |2025|2025.5644   |GOV       |ADMINISTRATION|                    |                |       |GOV      |\n",
      "|null      |                 |             |null       |null       |null              |null                 |null    |null               |1259429076   |20250818|202508   |2025|2025.6247   |          |              |                    |                |       |         |\n",
      "|null      |                 |             |null       |null       |null              |null                 |null    |null               |1259429077   |20250818|202508   |2025|2025.6247   |          |              |                    |                |       |         |\n",
      "|null      |                 |             |null       |null       |null              |null                 |null    |null               |1259429078   |20250818|202508   |2025|2025.6247   |          |              |                    |                |       |         |\n",
      "|null      |AFR              |             |null       |null       |null              |null                 |null    |null               |1259429079   |20250818|202508   |2025|2025.6247   |AFR       |AFRICA        |                    |                |       |         |\n",
      "|null      |                 |             |null       |null       |null              |null                 |null    |null               |1259429080   |20250818|202508   |2025|2025.6247   |COPGOV    |DEPUTIES      |                    |                |       |COP      |\n",
      "|null      |                 |             |null       |null       |null              |null                 |null    |null               |1259429081   |20250818|202508   |2025|2025.6247   |COPGOV    |DEPUTIES      |                    |                |       |COP      |\n",
      "|null      |                 |             |null       |null       |null              |null                 |null    |null               |1259429082   |20250818|202508   |2025|2025.6247   |HLH       |SURGEON       |                    |                |       |HLH      |\n",
      "+----------+-----------------+-------------+-----------+-----------+------------------+---------------------+--------+-------------------+-------------+--------+---------+----+------------+----------+--------------+--------------------+----------------+-------+---------+\n",
      "only showing top 20 rows\n",
      "\n"
     ]
    },
    {
     "name": "stderr",
     "output_type": "stream",
     "text": [
      "                                                                                \r"
     ]
    }
   ],
   "source": [
    "silver_path = \"s3a://silver/gdelt_events\"\n",
    "try:\n",
    "    df_gdelt_silver = spark.read.format(\"delta\").load(silver_path)\n",
    "    print(f\"GDELT silver 데이터 로드 성공: {silver_path}\")\n",
    "\n",
    "    # 기본 정보 출력\n",
    "    print(f\"총 레코드 수 : {df_gdelt_silver.count()}\")\n",
    "    print(f\"컬럼 수: {len(df_gdelt_silver.columns)}\")\n",
    "\n",
    "    # 스키마 정보\n",
    "    print(\"\\n 테이블 스키마: \")\n",
    "    df_gdelt_silver.printSchema()\n",
    "\n",
    "    # 상위 20개\n",
    "    print(\"\\n 상위 20개 레코드\")\n",
    "    df_gdelt_silver.show(20, truncate=False)\n",
    "except Exception as e:\n",
    "    print(f\"데이터 로드 실패: {e}\")\n",
    "    print(\"1. MinIo에 Silver 버킷이 존재하는지\")\n",
    "    print(\"2. gdelt_events 폴더에 Delta 파일이 있는지\")\n",
    "    print(\"3. 데이터 파이프라인이 실행되었는지\")"
   ]
  },
  {
   "cell_type": "code",
   "execution_count": 8,
   "id": "433bd7b2",
   "metadata": {},
   "outputs": [],
   "source": [
    "spark.stop()"
   ]
  }
 ],
 "metadata": {
  "kernelspec": {
   "display_name": "Python 3 (ipykernel)",
   "language": "python",
   "name": "python3"
  },
  "language_info": {
   "codemirror_mode": {
    "name": "ipython",
    "version": 3
   },
   "file_extension": ".py",
   "mimetype": "text/x-python",
   "name": "python",
   "nbconvert_exporter": "python",
   "pygments_lexer": "ipython3",
   "version": "3.10.18"
  }
 },
 "nbformat": 4,
 "nbformat_minor": 5
}
