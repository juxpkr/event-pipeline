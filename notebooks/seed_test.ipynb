{
 "cells": [
  {
   "cell_type": "markdown",
   "id": "b0766b83",
   "metadata": {},
   "source": [
    "# Seed 생성 확인용 테스트 노트북\n",
    "\n",
    "dbt seed로 생성된 seed 테이블 확인용"
   ]
  },
  {
   "cell_type": "code",
   "execution_count": 1,
   "id": "e2d5d5a0",
   "metadata": {},
   "outputs": [
    {
     "name": "stderr",
     "output_type": "stream",
     "text": [
      "25/09/17 02:19:19 WARN NativeCodeLoader: Unable to load native-hadoop library for your platform... using builtin-java classes where applicable\n",
      "Setting default log level to \"WARN\".\n",
      "To adjust logging level use sc.setLogLevel(newLevel). For SparkR, use setLogLevel(newLevel).\n"
     ]
    },
    {
     "name": "stdout",
     "output_type": "stream",
     "text": [
      "✅ Spark 세션 생성 완료\n"
     ]
    }
   ],
   "source": [
    "import sys\n",
    "sys.path.append('/app')\n",
    "\n",
    "from src.utils.spark_builder import get_spark_session\n",
    "from pyspark.sql import functions as F\n",
    "\n",
    "# Spark 세션 생성\n",
    "spark = get_spark_session(\"GDELT_Seed_Test\", \"spark://spark-master:7077\")\n",
    "print(\"✅ Spark 세션 생성 완료\")"
   ]
  },
  {
   "cell_type": "code",
   "execution_count": 2,
   "id": "6ddc969d",
   "metadata": {},
   "outputs": [
    {
     "name": "stdout",
     "output_type": "stream",
     "text": [
      "📖 사용 가능한 데이터베이스(스키마) 목록:\n",
      "+---------+\n",
      "|namespace|\n",
      "+---------+\n",
      "|  default|\n",
      "|     gold|\n",
      "|   silver|\n",
      "+---------+\n",
      "\n"
     ]
    }
   ],
   "source": [
    "# 1. Spark Metastore에 존재하는 모든 데이터베이스(스키마) 목록을 확인합니다.\n",
    "print(\"📖 사용 가능한 데이터베이스(스키마) 목록:\")\n",
    "spark.sql(\"SHOW DATABASES\").show()"
   ]
  },
  {
   "cell_type": "code",
   "execution_count": 3,
   "id": "1feee1e7",
   "metadata": {},
   "outputs": [
    {
     "name": "stdout",
     "output_type": "stream",
     "text": [
      "📜 'default' 스키마의 테이블 목록:\n"
     ]
    },
    {
     "name": "stderr",
     "output_type": "stream",
     "text": [
      "[Stage 0:>                                                          (0 + 1) / 1]\r"
     ]
    },
    {
     "name": "stdout",
     "output_type": "stream",
     "text": [
      "+---------+--------------------+-----------+\n",
      "|namespace|           tableName|isTemporary|\n",
      "+---------+--------------------+-----------+\n",
      "|  default|actor_ethnic_grou...|      false|\n",
      "|  default|actor_organizatio...|      false|\n",
      "|  default|actor_religion_codes|      false|\n",
      "|  default|    actor_role_codes|      false|\n",
      "|  default|  event_detail_codes|      false|\n",
      "|  default|event_quad_class_...|      false|\n",
      "|  default|    event_root_codes|      false|\n",
      "|  default| gdelt_silver_events|      false|\n",
      "|  default|       geo_adm_codes|      false|\n",
      "|  default|geo_country_fips_...|      false|\n",
      "|  default|geo_country_iso_c...|      false|\n",
      "|  default|      geo_type_codes|      false|\n",
      "+---------+--------------------+-----------+\n",
      "\n"
     ]
    },
    {
     "name": "stderr",
     "output_type": "stream",
     "text": [
      "                                                                                \r"
     ]
    }
   ],
   "source": [
    "# 2. 'default' 스키마 안에 있는 테이블 목록을 확인합니다.\n",
    "# dbt seed로 생성된 테이블이 여기에 보여야 합니다. (gdelt_silver_events는 seed 테이블이 아닙니다.)\n",
    "print(\"📜 'default' 스키마의 테이블 목록:\")\n",
    "spark.sql(\"SHOW TABLES IN default\").show()"
   ]
  },
  {
   "cell_type": "code",
   "execution_count": null,
   "id": "275658c0",
   "metadata": {},
   "outputs": [],
   "source": [
    "# 3. 총 11개의 seed 테이블의 샘플 데이터를 5개씩 출력하여 내용 확인\n",
    "seed_tables = [\n",
    "    \"actor_ethnic_group_codes\",\n",
    "    \"actor_organization_codes\",\n",
    "    \"actor_religion_codes\",\n",
    "    \"actor_role_codes\",\n",
    "    \"event_root_codes\",\n",
    "    \"event_detail_codes\",\n",
    "    \"event_quad_class_codes\",\n",
    "    \"geo_adm_codes\",\n",
    "    \"geo_country_fips_codes\",\n",
    "    \"geo_country_iso_codes\",\n",
    "    \"geo_type_codes\"\n",
    "]\n",
    "\n",
    "for table in seed_tables:\n",
    "    print(f\"\\n 🔍 {table} 테이블 샘플 데이터\")\n",
    "    try:\n",
    "        spark.sql(f\"SELECT * FROM default.{table} LIMIT 5\").show(truncate=False)\n",
    "    except Exception as e:\n",
    "        print(f\"❌ 테이블 조회 중, 오류 발생: {e}\")"
   ]
  },
  {
   "cell_type": "markdown",
   "id": "f2b4fa5f",
   "metadata": {},
   "source": [
    "생성된 seed 테이블을 삭제할 경우, 아래 코드에 \"삭제할 seed 테이블명\"을 입력하여 실행"
   ]
  },
  {
   "cell_type": "code",
   "execution_count": null,
   "id": "16aa844e",
   "metadata": {},
   "outputs": [],
   "source": [
    "# 삭제할 seed 테이블 이름 목록\n",
    "seed_tables_to_drop = [\n",
    "    # \"[삭제할 seed 테이블명]\"\n",
    "]\n",
    "print(\"🗑️ 기존 Seed 테이블 삭제를 시작합니다.\")\n",
    "\n",
    "for table_name in seed_tables_to_drop:\n",
    "    try:\n",
    "        spark.sql(f\"DROP TABLE IF EXISTS default.{table_name}\")\n",
    "        print(f\"  - 테이블 'default.{table_name}' 삭제 완료.\")\n",
    "    except Exception as e:\n",
    "        print(f\"  - 테이블 'default.{table_name}' 삭제 중 오류 발생: {e}\")\n",
    "\n",
    "print(\"\\n✅ 모든 Seed 테이블 삭제 작업이 완료되었습니다.\")\n",
    "\n",
    "# 삭제 후 테이블 목록을 다시 확인하여 깨끗해졌는지 확인\n",
    "print(\"📜 현재 'default' 스키마의 테이블 목록:\")\n",
    "spark.sql(\"SHOW TABLES IN default\").show()"
   ]
  },
  {
   "cell_type": "markdown",
   "id": "7d2b4c5d",
   "metadata": {},
   "source": [
    "Staging 폴더의 stg_seed_mapping.sql을 dbt run한 결과 확인"
   ]
  },
  {
   "cell_type": "code",
   "execution_count": 4,
   "id": "d5daa1b5",
   "metadata": {},
   "outputs": [
    {
     "name": "stdout",
     "output_type": "stream",
     "text": [
      "🥈 [stg_seed_mapping] 뷰 : 상위 20개 데이터\n"
     ]
    },
    {
     "name": "stderr",
     "output_type": "stream",
     "text": [
      "25/09/17 02:19:38 WARN MetricsConfig: Cannot locate configuration: tried hadoop-metrics2-s3a-file-system.properties,hadoop-metrics2.properties\n",
      "25/09/17 02:19:44 WARN package: Truncated the string representation of a plan since it was too large. This behavior can be adjusted by setting 'spark.sql.debug.maxToStringFields'.\n",
      "[Stage 22:>                                                         (0 + 1) / 1]\r"
     ]
    },
    {
     "name": "stdout",
     "output_type": "stream",
     "text": [
      "+---------------+----------+-------------+--------------------------------+---------------------------------------------+----------+------------------+---------------+------------+-----------+------------+-----------------+-----------+--------------+-------------------+-----------------------------+----------------------+---------------------------+----------------+------------------+-----------------------+--------------------------------+-------------------+------------------+--------------------------+--------------------+--------------+---------------+---------------------+-----------+--------------+------------------------------+----------------------+---------------------------+----------------+------------------+-----------------------+--------------------------------------------------------------------------------+-------------------+------------------+--------------------------+--------------------+--------------+---------------+---------------------+------------------+-----------------------+--------------------------+--------------------+--------------+---------------+---------------------+-------------------+---------------------------------------------------------------------------------------------------------------------------------------------------+--------------------------+-------------------------+\n",
      "|global_event_id|event_date|is_root_event|mp_event_categories             |mp_event_info                                |quad_class|mp_quad_class     |goldstein_scale|num_mentions|num_sources|num_articles|avg_tone         |actor1_code|actor1_name   |actor1_country_code|mp_actor1_affiliation_country|mp_actor1_organization|mp_actor1_organization_type|mp_actor1_ethnic|mp_actor1_religion|mp_actor1_religion_type|mp_actor1_role                  |mp_actor1_role_type|mp_actor1_geo_type|mp_actor1_location_country|actor1_geo_adm1_code|actor1_geo_lat|actor1_geo_long|actor1_geo_feature_id|actor2_code|actor2_name   |mp_actor2_affiliation_country |mp_actor2_organization|mp_actor2_organization_type|mp_actor2_ethnic|mp_actor2_religion|mp_actor2_religion_type|mp_actor2_role                                                                  |mp_actor2_role_type|mp_actor2_geo_type|mp_actor2_location_country|actor2_geo_adm1_code|actor2_geo_lat|actor2_geo_long|actor2_geo_feature_id|mp_action_geo_type|action_geo_country_code|mp_action_location_country|action_geo_adm1_code|action_geo_lat|action_geo_long|action_geo_feature_id|date_added         |source_url                                                                                                                                         |processed_time            |source_file              |\n",
      "+---------------+----------+-------------+--------------------------------+---------------------------------------------+----------+------------------+---------------+------------+-----------+------------+-----------------+-----------+--------------+-------------------+-----------------------------+----------------------+---------------------------+----------------+------------------+-----------------------+--------------------------------+-------------------+------------------+--------------------------+--------------------+--------------+---------------+---------------------+-----------+--------------+------------------------------+----------------------+---------------------------+----------------+------------------+-----------------------+--------------------------------------------------------------------------------+-------------------+------------------+--------------------------+--------------------+--------------+---------------+---------------------+------------------+-----------------------+--------------------------+--------------------+--------------+---------------+---------------------+-------------------+---------------------------------------------------------------------------------------------------------------------------------------------------+--------------------------+-------------------------+\n",
      "|1262473743     |2024-09-11|true         |COERCE                          |Arrest detain or charge with legal action    |4         |Material Conflict |-5.0           |6           |1          |6           |-6.90954773869344|JUD        |HIGH COURT    |null               |null                         |null                  |null                       |null            |null              |null                   |Judiciary: judges, courts       |Primary            |COUNTRY           |Netherlands               |NL                  |52.5          |5.75           |NL                   |null       |null          |null                          |null                  |null                       |null            |null              |null                   |null                                                                            |null               |null              |null                      |null                |null          |null           |null                 |COUNTRY           |NL                     |Netherlands               |NL                  |52.5          |5.75           |NL                   |2025-09-11 01:45:00|https://www.sunlive.co.nz/news/371397-appeal-for-halved-jail-time-for-toddlers-death.html                                                          |2025-09-11 01:48:18.167479|20250911014500.export.CSV|\n",
      "|1262473744     |2024-09-11|true         |ENGAGE IN DIPLOMATIC COOPERATION|Grant diplomatic recognition                 |1         |Verbal Cooperation|6.0            |2           |1          |2           |-6.06673407482306|NOR        |NORWAY        |NOR                |Norway                       |null                  |null                       |null            |null              |null                   |null                            |null               |COUNTRY           |Ireland                   |EI                  |53.0          |-8.0           |EI                   |ISR        |ISRAEL        |Israel                        |null                  |null                       |null            |null              |null                   |null                                                                            |null               |COUNTRY           |Norway                    |NO                  |62.0          |10.0           |NO                   |COUNTRY           |NO                     |Norway                    |NO                  |62.0          |10.0           |NO                   |2025-09-11 01:45:00|https://pakobserver.net/palestine-recognition-costs-a-high-price-of-genocide-famine/                                                               |2025-09-11 01:48:18.167479|20250911014500.export.CSV|\n",
      "|1262473745     |2024-09-11|true         |ENGAGE IN DIPLOMATIC COOPERATION|Grant diplomatic recognition                 |1         |Verbal Cooperation|6.0            |2           |1          |2           |-6.06673407482306|NOR        |NORWAY        |NOR                |Norway                       |null                  |null                       |null            |null              |null                   |null                            |null               |COUNTRY           |Norway                    |NO                  |62.0          |10.0           |NO                   |ISR        |ISRAEL        |Israel                        |null                  |null                       |null            |null              |null                   |null                                                                            |null               |WORLD CITY        |Israel                    |IS00                |31.4167       |34.3333        |-797156              |COUNTRY           |NO                     |Norway                    |NO                  |62.0          |10.0           |NO                   |2025-09-11 01:45:00|https://pakobserver.net/palestine-recognition-costs-a-high-price-of-genocide-famine/                                                               |2025-09-11 01:48:18.167479|20250911014500.export.CSV|\n",
      "|1262473746     |2024-09-11|true         |ENGAGE IN DIPLOMATIC COOPERATION|Grant diplomatic recognition                 |1         |Verbal Cooperation|6.0            |6           |1          |6           |-6.06673407482306|NOR        |NORWAY        |NOR                |Norway                       |null                  |null                       |null            |null              |null                   |null                            |null               |COUNTRY           |Norway                    |NO                  |62.0          |10.0           |NO                   |PSE        |PALESTINE     |Occupied Palestinian Territory|null                  |null                       |null            |null              |null                   |null                                                                            |null               |WORLD CITY        |Israel                    |IS00                |31.4167       |34.3333        |-797156              |COUNTRY           |NO                     |Norway                    |NO                  |62.0          |10.0           |NO                   |2025-09-11 01:45:00|https://pakobserver.net/palestine-recognition-costs-a-high-price-of-genocide-famine/                                                               |2025-09-11 01:48:18.167479|20250911014500.export.CSV|\n",
      "|1262473747     |2024-09-11|false        |APPEAL                          |Make an appeal or request not specified below|1         |Verbal Cooperation|3.0            |1           |1          |1           |-4.07223796033994|SWE        |SWEDEN        |SWE                |Sweden                       |null                  |null                       |null            |null              |null                   |null                            |null               |WORLD CITY        |Ukraine                   |UP25                |48.6167       |22.3           |-1057311             |null       |null          |null                          |null                  |null                       |null            |null              |null                   |null                                                                            |null               |null              |null                      |null                |null          |null           |null                 |WORLD CITY        |GM                     |Germany                   |GM16                |52.5167       |13.4           |-1746443             |2025-09-11 01:45:00|https://www.dailymail.co.uk/news/article-15084723/europe-plan-stop-putin-floods-borders-new-defences.html                                          |2025-09-11 01:48:18.167479|20250911014500.export.CSV|\n",
      "|1262473748     |2024-09-11|false        |APPEAL                          |Make an appeal or request not specified below|1         |Verbal Cooperation|3.0            |1           |1          |1           |-4.07223796033994|SWE        |SWEDEN        |SWE                |Sweden                       |null                  |null                       |null            |null              |null                   |null                            |null               |WORLD CITY        |Ukraine                   |UP25                |48.6167       |22.3           |-1057311             |CVL        |POPULATION    |null                          |null                  |null                       |null            |null              |null                   |Civilian individuals or groups                                                  |Secondary          |WORLD CITY        |Germany                   |GM16                |52.5167       |13.4           |-1746443             |WORLD CITY        |GM                     |Germany                   |GM16                |52.5167       |13.4           |-1746443             |2025-09-11 01:45:00|https://www.dailymail.co.uk/news/article-15084723/europe-plan-stop-putin-floods-borders-new-defences.html                                          |2025-09-11 01:48:18.167479|20250911014500.export.CSV|\n",
      "|1262473749     |2025-08-12|true         |CONSULT                         |Host a visit                                 |1         |Verbal Cooperation|2.8            |10          |1          |10          |-6.06673407482306|FRA        |FRANCE        |FRA                |France                       |null                  |null                       |null            |null              |null                   |null                            |null               |COUNTRY           |France                    |FR                  |46.0          |2.0            |FR                   |IGOUNO     |UNITED NATIONS|null                          |United Nations        |IGO                        |null            |null              |null                   |Inter-governmental organizations                                                |Group              |WORLD CITY        |Israel                    |IS00                |31.4167       |34.3333        |-797156              |COUNTRY           |SA                     |Saudi Arabia              |SA                  |25.0          |45.0           |SA                   |2025-09-11 01:45:00|https://pakobserver.net/palestine-recognition-costs-a-high-price-of-genocide-famine/                                                               |2025-09-11 01:48:18.167479|20250911014500.export.CSV|\n",
      "|1262473750     |2025-08-12|true         |CONSULT                         |Consult not specified below                  |1         |Verbal Cooperation|1.0            |2           |1          |2           |-6.06673407482306|FRA        |FRANCE        |FRA                |France                       |null                  |null                       |null            |null              |null                   |null                            |null               |COUNTRY           |France                    |FR                  |46.0          |2.0            |FR                   |SAU        |SAUDI ARABIA  |Saudi Arabia                  |null                  |null                       |null            |null              |null                   |null                                                                            |null               |COUNTRY           |France                    |FR                  |46.0          |2.0            |FR                   |COUNTRY           |SA                     |Saudi Arabia              |SA                  |25.0          |45.0           |SA                   |2025-09-11 01:45:00|https://pakobserver.net/palestine-recognition-costs-a-high-price-of-genocide-famine/                                                               |2025-09-11 01:48:18.167479|20250911014500.export.CSV|\n",
      "|1262473751     |2025-08-12|true         |CONSULT                         |Consult not specified below                  |1         |Verbal Cooperation|1.0            |8           |1          |8           |-6.06673407482306|FRA        |FRANCE        |FRA                |France                       |null                  |null                       |null            |null              |null                   |null                            |null               |COUNTRY           |France                    |FR                  |46.0          |2.0            |FR                   |SAU        |SAUDI ARABIA  |Saudi Arabia                  |null                  |null                       |null            |null              |null                   |null                                                                            |null               |COUNTRY           |Saudi Arabia              |SA                  |25.0          |45.0           |SA                   |COUNTRY           |SA                     |Saudi Arabia              |SA                  |25.0          |45.0           |SA                   |2025-09-11 01:45:00|https://pakobserver.net/palestine-recognition-costs-a-high-price-of-genocide-famine/                                                               |2025-09-11 01:48:18.167479|20250911014500.export.CSV|\n",
      "|1262473752     |2025-08-12|true         |CONSULT                         |Make a visit                                 |1         |Verbal Cooperation|1.9            |10          |1          |10          |-6.06673407482306|IGOUNO     |UNITED NATIONS|null               |null                         |United Nations        |IGO                        |null            |null              |null                   |Inter-governmental organizations|Group              |WORLD CITY        |Israel                    |IS00                |31.4167       |34.3333        |-797156              |FRA        |FRANCE        |France                        |null                  |null                       |null            |null              |null                   |null                                                                            |null               |COUNTRY           |France                    |FR                  |46.0          |2.0            |FR                   |COUNTRY           |SA                     |Saudi Arabia              |SA                  |25.0          |45.0           |SA                   |2025-09-11 01:45:00|https://pakobserver.net/palestine-recognition-costs-a-high-price-of-genocide-famine/                                                               |2025-09-11 01:48:18.167479|20250911014500.export.CSV|\n",
      "|1262473753     |2025-08-12|true         |CONSULT                         |Make a visit                                 |1         |Verbal Cooperation|1.9            |2           |1          |2           |-6.06673407482306|IGOUNO     |UNITED NATIONS|null               |null                         |United Nations        |IGO                        |null            |null              |null                   |Inter-governmental organizations|Group              |WORLD CITY        |Israel                    |IS00                |31.4167       |34.3333        |-797156              |SAU        |SAUDI ARABIA  |Saudi Arabia                  |null                  |null                       |null            |null              |null                   |null                                                                            |null               |COUNTRY           |France                    |FR                  |46.0          |2.0            |FR                   |COUNTRY           |SA                     |Saudi Arabia              |SA                  |25.0          |45.0           |SA                   |2025-09-11 01:45:00|https://pakobserver.net/palestine-recognition-costs-a-high-price-of-genocide-famine/                                                               |2025-09-11 01:48:18.167479|20250911014500.export.CSV|\n",
      "|1262473754     |2025-08-12|true         |CONSULT                         |Make a visit                                 |1         |Verbal Cooperation|1.9            |8           |1          |8           |-6.06673407482306|IGOUNO     |UNITED NATIONS|null               |null                         |United Nations        |IGO                        |null            |null              |null                   |Inter-governmental organizations|Group              |WORLD CITY        |Israel                    |IS00                |31.4167       |34.3333        |-797156              |SAU        |SAUDI ARABIA  |Saudi Arabia                  |null                  |null                       |null            |null              |null                   |null                                                                            |null               |COUNTRY           |Saudi Arabia              |SA                  |25.0          |45.0           |SA                   |COUNTRY           |SA                     |Saudi Arabia              |SA                  |25.0          |45.0           |SA                   |2025-09-11 01:45:00|https://pakobserver.net/palestine-recognition-costs-a-high-price-of-genocide-famine/                                                               |2025-09-11 01:48:18.167479|20250911014500.export.CSV|\n",
      "|1262473755     |2025-08-12|true         |CONSULT                         |Consult not specified below                  |1         |Verbal Cooperation|1.0            |2           |1          |2           |-6.06673407482306|SAU        |SAUDI ARABIA  |SAU                |Saudi Arabia                 |null                  |null                       |null            |null              |null                   |null                            |null               |COUNTRY           |France                    |FR                  |46.0          |2.0            |FR                   |FRA        |FRANCE        |France                        |null                  |null                       |null            |null              |null                   |null                                                                            |null               |COUNTRY           |France                    |FR                  |46.0          |2.0            |FR                   |COUNTRY           |SA                     |Saudi Arabia              |SA                  |25.0          |45.0           |SA                   |2025-09-11 01:45:00|https://pakobserver.net/palestine-recognition-costs-a-high-price-of-genocide-famine/                                                               |2025-09-11 01:48:18.167479|20250911014500.export.CSV|\n",
      "|1262473756     |2025-08-12|true         |CONSULT                         |Consult not specified below                  |1         |Verbal Cooperation|1.0            |8           |1          |8           |-6.06673407482306|SAU        |SAUDI ARABIA  |SAU                |Saudi Arabia                 |null                  |null                       |null            |null              |null                   |null                            |null               |COUNTRY           |Saudi Arabia              |SA                  |25.0          |45.0           |SA                   |FRA        |FRANCE        |France                        |null                  |null                       |null            |null              |null                   |null                                                                            |null               |COUNTRY           |France                    |FR                  |46.0          |2.0            |FR                   |COUNTRY           |SA                     |Saudi Arabia              |SA                  |25.0          |45.0           |SA                   |2025-09-11 01:45:00|https://pakobserver.net/palestine-recognition-costs-a-high-price-of-genocide-famine/                                                               |2025-09-11 01:48:18.167479|20250911014500.export.CSV|\n",
      "|1262473757     |2025-08-12|true         |CONSULT                         |Host a visit                                 |1         |Verbal Cooperation|2.8            |2           |1          |2           |-6.06673407482306|SAU        |SAUDI ARABIA  |SAU                |Saudi Arabia                 |null                  |null                       |null            |null              |null                   |null                            |null               |COUNTRY           |France                    |FR                  |46.0          |2.0            |FR                   |IGOUNO     |UNITED NATIONS|null                          |United Nations        |IGO                        |null            |null              |null                   |Inter-governmental organizations                                                |Group              |WORLD CITY        |Israel                    |IS00                |31.4167       |34.3333        |-797156              |COUNTRY           |SA                     |Saudi Arabia              |SA                  |25.0          |45.0           |SA                   |2025-09-11 01:45:00|https://pakobserver.net/palestine-recognition-costs-a-high-price-of-genocide-famine/                                                               |2025-09-11 01:48:18.167479|20250911014500.export.CSV|\n",
      "|1262473758     |2025-08-12|true         |CONSULT                         |Host a visit                                 |1         |Verbal Cooperation|2.8            |8           |1          |8           |-6.06673407482306|SAU        |SAUDI ARABIA  |SAU                |Saudi Arabia                 |null                  |null                       |null            |null              |null                   |null                            |null               |COUNTRY           |Saudi Arabia              |SA                  |25.0          |45.0           |SA                   |IGOUNO     |UNITED NATIONS|null                          |United Nations        |IGO                        |null            |null              |null                   |Inter-governmental organizations                                                |Group              |WORLD CITY        |Israel                    |IS00                |31.4167       |34.3333        |-797156              |COUNTRY           |SA                     |Saudi Arabia              |SA                  |25.0          |45.0           |SA                   |2025-09-11 01:45:00|https://pakobserver.net/palestine-recognition-costs-a-high-price-of-genocide-famine/                                                               |2025-09-11 01:48:18.167479|20250911014500.export.CSV|\n",
      "|1262473759     |2025-08-12|true         |MAKE PUBLIC STATEMENT           |Deny responsibility                          |1         |Verbal Cooperation|-2.0           |4           |1          |4           |-19.4630872483222|USA        |UNITED STATES |USA                |United States                |null                  |null                       |null            |null              |null                   |null                            |null               |US CITY           |United States             |USVT                |44.8175       |-73.2893       |1458739              |null       |null          |null                          |null                  |null                       |null            |null              |null                   |null                                                                            |null               |null              |null                      |null                |null          |null           |null                 |US CITY           |US                     |United States             |USVT                |44.8175       |-73.2893       |1458739              |2025-09-11 01:45:00|https://www.wcax.com/2025/09/10/vermont-woman-involved-fatal-fathers-day-crash-now-charged-with-involuntary-manslaughter/                          |2025-09-11 01:48:18.167479|20250911014500.export.CSV|\n",
      "|1262473760     |2025-09-04|true         |CONSULT                         |Make a visit                                 |1         |Verbal Cooperation|1.9            |2           |1          |2           |0.86956521739131 |null       |null          |null               |null                         |null                  |null                       |null            |null              |null                   |null                            |null               |null              |null                      |null                |null          |null           |null                 |EDU        |SCHOOL        |null                          |null                  |null                       |null            |null              |null                   |Education: educators, schools, students, or organizations dealing with education|Secondary          |WORLD CITY        |Canada                    |CA08                |45.3333       |-80.0333       |-570949              |WORLD CITY        |CA                     |Canada                    |CA08                |45.3333       |-80.0333       |-570949              |2025-09-11 01:45:00|https://www.northbaynipissing.com/news/students-could-return-to-parry-sound-high-school-next-week/article_130faac0-9699-53f0-9b55-0065d92d3b34.html|2025-09-11 01:48:18.167479|20250911014500.export.CSV|\n",
      "|1262473761     |2025-09-04|true         |CONSULT                         |Engage in negotiation                        |1         |Verbal Cooperation|7.0            |10          |1          |10          |-2.48366013071896|null       |null          |null               |null                         |null                  |null                       |null            |null              |null                   |null                            |null               |null              |null                      |null                |null          |null           |null                 |REL        |BISHOP        |null                          |null                  |null                       |null            |null              |null                   |null                                                                            |null               |WORLD CITY        |Australia                 |AS05                |-34.9269      |138.609        |11377306             |WORLD CITY        |AS                     |Australia                 |AS05                |-34.9269      |138.609        |11377306             |2025-09-11 01:45:00|https://www.theguardian.com/australia-news/2025/sep/11/anu-vice-chancellor-genevieve-bell-resigns-amid-crisis-of-confidence-in-leadership          |2025-09-11 01:48:18.167479|20250911014500.export.CSV|\n",
      "|1262473762     |2025-09-04|true         |CONSULT                         |Engage in negotiation                        |1         |Verbal Cooperation|7.0            |5           |1          |5           |-0.35502958579882|CAN        |CANADA        |CAN                |Canada                       |null                  |null                       |null            |null              |null                   |null                            |null               |WORLD CITY        |Canada                    |CA02                |49.25         |-123.133       |-575268              |COP        |PRISON        |null                          |null                  |null                       |null            |null              |null                   |Police forces, officers, criminal investigative units, protective agencies      |Primary            |WORLD CITY        |Qatar                     |QA01                |25.2867       |51.5333        |-785169              |WORLD CITY        |CA                     |Canada                    |CA02                |49.25         |-123.133       |-575268              |2025-09-11 01:45:00|https://vancouversun.com:443/news/getting-b-c-fugitive-returned-to-canada-without-a-treaty-is-possible-experts                                     |2025-09-11 01:48:18.167479|20250911014500.export.CSV|\n",
      "+---------------+----------+-------------+--------------------------------+---------------------------------------------+----------+------------------+---------------+------------+-----------+------------+-----------------+-----------+--------------+-------------------+-----------------------------+----------------------+---------------------------+----------------+------------------+-----------------------+--------------------------------+-------------------+------------------+--------------------------+--------------------+--------------+---------------+---------------------+-----------+--------------+------------------------------+----------------------+---------------------------+----------------+------------------+-----------------------+--------------------------------------------------------------------------------+-------------------+------------------+--------------------------+--------------------+--------------+---------------+---------------------+------------------+-----------------------+--------------------------+--------------------+--------------+---------------+---------------------+-------------------+---------------------------------------------------------------------------------------------------------------------------------------------------+--------------------------+-------------------------+\n",
      "\n"
     ]
    },
    {
     "name": "stderr",
     "output_type": "stream",
     "text": [
      "                                                                                \r"
     ]
    }
   ],
   "source": [
    "# stg_seed_mapping 모델 결과 확인\n",
    "print(\"🥈 [stg_seed_mapping] 뷰 : 상위 20개 데이터\")\n",
    "spark.sql(\"SELECT * FROM silver.stg_seed_mapping LIMIT 20\").show(truncate=False)\n",
    "# spark.sql(\"SELECT * FROM silver.stg_seed_mapping WHERE source_url = 'https://pakobserver.net/palestine-recognition-costs-a-high-price-of-genocide-famine/'\").show(truncate=False)"
   ]
  },
  {
   "cell_type": "markdown",
   "id": "f048fb4a",
   "metadata": {},
   "source": [
    "Staging 폴더의 stg_seed_actors_parsed.sql을 dbt run한 결과 확인"
   ]
  },
  {
   "cell_type": "code",
   "execution_count": 5,
   "id": "235425b0",
   "metadata": {},
   "outputs": [
    {
     "name": "stdout",
     "output_type": "stream",
     "text": [
      "🥈 [stg_seed_actors_parsed] 뷰 : 상위 20개 데이터\n"
     ]
    },
    {
     "name": "stderr",
     "output_type": "stream",
     "text": [
      "                                                                                \r"
     ]
    },
    {
     "name": "stdout",
     "output_type": "stream",
     "text": [
      "+------------+--------------------------------------------------------------------------------------------------------------------------------------+--------+--------------------------------------------------------------------------------+--------+----------------------------------------------+------------+------------------------------------------------------------------+-----+\n",
      "|actor_code  |description1                                                                                                                          |type1   |description2                                                                    |type2   |description3                                  |type3       |description4                                                      |type4|\n",
      "+------------+--------------------------------------------------------------------------------------------------------------------------------------+--------+--------------------------------------------------------------------------------+--------+----------------------------------------------+------------+------------------------------------------------------------------+-----+\n",
      "|PSE         |Occupied Palestinian Territory                                                                                                        |Country |null                                                                            |null    |null                                          |null        |null                                                              |null |\n",
      "|ELI         |Elites: former government officials, celebrities, spokespersons for organizations                                                     |Role    |null                                                                            |null    |null                                          |null        |null                                                              |null |\n",
      "|NPLCOP      |Nepal                                                                                                                                 |Country |Police forces, officers, criminal investigative units, protective agencies      |Role    |null                                          |null        |null                                                              |null |\n",
      "|USAJUD      |United States                                                                                                                         |Country |Judiciary: judges, courts                                                       |Role    |null                                          |null        |null                                                              |null |\n",
      "|REL         |Unspecified Religious                                                                                                                 |Religion|null                                                                            |null    |null                                          |null        |null                                                              |null |\n",
      "|POL         |Poland                                                                                                                                |Country |null                                                                            |null    |null                                          |null        |null                                                              |null |\n",
      "|JAM         |Jamaica                                                                                                                               |Country |null                                                                            |null    |null                                          |null        |null                                                              |null |\n",
      "|BRA         |Brazil                                                                                                                                |Country |null                                                                            |null    |null                                          |null        |null                                                              |null |\n",
      "|IGOWSTNATMIL|Inter-governmental organizations                                                                                                      |Role    |null                                                                            |null    |North Atlantic Treaty Organization (NATO)     |Organization|Military: troops, soldiers, all state-military personnel/equipment|Role |\n",
      "|IMGMOSALQ   |International Militarized Groups                                                                                                      |Role    |Islam                                                                           |Religion|Al Qaeda                                      |Organization|null                                                              |null |\n",
      "|AUSLEG      |Australia                                                                                                                             |Country |Legislature: parliaments, assemblies, lawmakers                                 |Role    |null                                          |null        |null                                                              |null |\n",
      "|JOR         |Jordan                                                                                                                                |Country |null                                                                            |null    |null                                          |null        |null                                                              |null |\n",
      "|FRA         |France                                                                                                                                |Country |null                                                                            |null    |null                                          |null        |null                                                              |null |\n",
      "|IGOSEAASN   |Inter-governmental organizations                                                                                                      |Role    |null                                                                            |null    |Association of Southeast Asian Nations (ASEAN)|Organization|null                                                              |null |\n",
      "|USAOPP      |United States                                                                                                                         |Country |Political opposition: opposition parties, individuals, anti-government activists|Role    |null                                          |null        |null                                                              |null |\n",
      "|VAT         |Holy See (Vatican City)                                                                                                               |Country |null                                                                            |null    |null                                          |null        |null                                                              |null |\n",
      "|PAKEDU      |Pakistan                                                                                                                              |Country |Education: educators, schools, students, or organizations dealing with education|Role    |null                                          |null        |null                                                              |null |\n",
      "|BUS         |Business: businessmen, companies, and enterprises, not including MNCS                                                                 |Role    |null                                                                            |null    |null                                          |null        |null                                                              |null |\n",
      "|JUD         |Judiciary: judges, courts                                                                                                             |Role    |null                                                                            |null    |null                                          |null        |null                                                              |null |\n",
      "|HRI         |Human Rights: actors for whom their primary area of operation or expertise is with documenting and/or correcting human rights concerns|Role    |null                                                                            |null    |null                                          |null        |null                                                              |null |\n",
      "+------------+--------------------------------------------------------------------------------------------------------------------------------------+--------+--------------------------------------------------------------------------------+--------+----------------------------------------------+------------+------------------------------------------------------------------+-----+\n",
      "\n"
     ]
    }
   ],
   "source": [
    "# stg_seed_actors_parsed 모델 결과 확인\n",
    "print(\"🥈 [stg_seed_actors_parsed] 뷰 : 상위 20개 데이터\")\n",
    "spark.sql(\"SELECT * FROM silver.stg_seed_actors_parsed LIMIT 20\").show(truncate=False)"
   ]
  },
  {
   "cell_type": "markdown",
   "id": "011e17cf",
   "metadata": {},
   "source": [
    "Staging 폴더의 stg_actors_description.sql을 dbt run한 결과 확인"
   ]
  },
  {
   "cell_type": "code",
   "execution_count": 6,
   "id": "ed27de8b",
   "metadata": {},
   "outputs": [
    {
     "name": "stdout",
     "output_type": "stream",
     "text": [
      "🥈 [stg_actors_description] 뷰 : 상위 20개 데이터\n",
      "+---------------+-----------------------------------------------+--------------------------------------------------------------------------------+\n",
      "|global_event_id|actor1_info                                    |actor2_info                                                                     |\n",
      "+---------------+-----------------------------------------------+--------------------------------------------------------------------------------+\n",
      "|1262473749     |France                                         |Inter-governmental organizations United Nations                                 |\n",
      "|1262473750     |France                                         |Saudi Arabia                                                                    |\n",
      "|1262473751     |France                                         |Saudi Arabia                                                                    |\n",
      "|1262473743     |Judiciary: judges, courts                      |null                                                                            |\n",
      "|1262473760     |null                                           |Education: educators, schools, students, or organizations dealing with education|\n",
      "|1262473761     |null                                           |Unspecified Religious                                                           |\n",
      "|1262473744     |Norway                                         |Israel                                                                          |\n",
      "|1262473745     |Norway                                         |Israel                                                                          |\n",
      "|1262473746     |Norway                                         |Occupied Palestinian Territory                                                  |\n",
      "|1262473755     |Saudi Arabia                                   |France                                                                          |\n",
      "|1262473756     |Saudi Arabia                                   |France                                                                          |\n",
      "|1262473757     |Saudi Arabia                                   |Inter-governmental organizations United Nations                                 |\n",
      "|1262473758     |Saudi Arabia                                   |Inter-governmental organizations United Nations                                 |\n",
      "|1262473759     |United States                                  |null                                                                            |\n",
      "|1262473752     |Inter-governmental organizations United Nations|France                                                                          |\n",
      "|1262473753     |Inter-governmental organizations United Nations|Saudi Arabia                                                                    |\n",
      "|1262473754     |Inter-governmental organizations United Nations|Saudi Arabia                                                                    |\n",
      "|1262473762     |Canada                                         |Police forces, officers, criminal investigative units, protective agencies      |\n",
      "|1262473747     |Sweden                                         |null                                                                            |\n",
      "|1262473748     |Sweden                                         |Civilian individuals or groups                                                  |\n",
      "+---------------+-----------------------------------------------+--------------------------------------------------------------------------------+\n",
      "\n"
     ]
    }
   ],
   "source": [
    "# stg_actors_description 모델 결과 확인\n",
    "print(\"🥈 [stg_actors_description] 뷰 : 상위 20개 데이터\")\n",
    "spark.sql(\"SELECT * FROM silver.stg_actors_description LIMIT 20\").show(truncate=False)"
   ]
  },
  {
   "cell_type": "markdown",
   "id": "b2650ec5",
   "metadata": {},
   "source": [
    "Marts 폴더의 gold_1st_global_overview.sql을 dbt run한 결과 확인"
   ]
  },
  {
   "cell_type": "code",
   "execution_count": 7,
   "id": "cd7a331a",
   "metadata": {},
   "outputs": [
    {
     "name": "stdout",
     "output_type": "stream",
     "text": [
      "🥇 [gold_1st_global_overview] 뷰\n"
     ]
    },
    {
     "name": "stderr",
     "output_type": "stream",
     "text": [
      "                                                                                \r"
     ]
    },
    {
     "name": "stdout",
     "output_type": "stream",
     "text": [
      "+----------+----------------+-------------------+--------------------+------------------+-----------------+------------------+-------------------+-----------+--------------------------+\n",
      "|event_date|country_name    |risk_score         |avg_goldstein_scale |total_num_mentions|total_num_sources|total_num_articles|avg_tone           |event_count|updated_at                |\n",
      "+----------+----------------+-------------------+--------------------+------------------+-----------------+------------------+-------------------+-----------+--------------------------+\n",
      "|2025-09-11|Afghanistan     |0.385573800907541  |0.7136363636363634  |65                |22               |65                |-0.4139449735135315|22         |2025-09-17 02:16:05.698069|\n",
      "|2025-09-11|Australia       |0.814058132862184  |0.7170212765957444  |241               |47               |231               |-1.3417975027268148|47         |2025-09-17 02:16:05.698069|\n",
      "|2025-09-11|Austria         |-1.826086956521739 |3.0                 |4                 |1                |4                 |1.08695652173913   |1          |2025-09-17 02:16:05.698069|\n",
      "|2025-09-11|Bahamas, The    |5.248091603053429  |-5.0                |7                 |1                |7                 |-9.16030534351143  |1          |2025-09-17 02:16:05.698069|\n",
      "|2025-09-11|Bangladesh      |0.17061611374407604|3.0                 |10                |1                |10                |-5.56872037914692  |1          |2025-09-17 02:16:05.698069|\n",
      "|2025-09-11|Belgium         |-1.2662556213592735|2.3499999999999996  |14                |2                |14                |0.766283524904209  |2          |2025-09-17 02:16:05.698069|\n",
      "|2025-09-11|Brazil          |3.122026605199062  |-3.8000000000000003 |8                 |3                |8                 |-3.3410138248847994|3          |2025-09-17 02:16:05.698069|\n",
      "|2025-09-11|Bulgaria        |1.1603008242139712 |0.3999999999999999  |2                 |2                |2                 |-4.07223796033994  |2          |2025-09-17 02:16:05.698069|\n",
      "|2025-09-11|Cambodia        |-0.5561376470738506|0.2333333333333331  |14                |3                |14                |2.197311460469353  |3          |2025-09-17 02:16:05.698069|\n",
      "|2025-09-11|Canada          |0.7421498891526529 |-0.48750000000000004|66                |16               |66                |0.1870595176510112 |16         |2025-09-17 02:16:05.698069|\n",
      "|2025-09-11|China           |-0.4256895573274706|1.9368421052631581  |185               |38               |185               |0.6159524554705625 |38         |2025-09-17 02:16:05.698069|\n",
      "|2025-09-11|Congo (Kinshasa)|2.87769193611199   |-0.4                |2                 |2                |2                 |-8.46354166666667  |2          |2025-09-17 02:16:05.698069|\n",
      "|2025-09-11|Czech Republic  |1.8841270306760944 |1.1923076923076923  |104               |26               |104               |-6.095538564085481 |26         |2025-09-17 02:16:05.698069|\n",
      "|2025-09-11|Denmark         |2.455386117273107  |-4.0                |34                |6                |34                |-0.3234474114249866|6          |2025-09-17 02:16:05.698069|\n",
      "|2025-09-11|Finland         |0.6489302603259601 |1.7                 |12                |4                |12                |-4.07223796033994  |4          |2025-09-17 02:16:05.698069|\n",
      "|2025-09-11|France          |4.108715221988493  |-3.4799999999999995 |54                |10               |54                |-6.360660677965614 |10         |2025-09-17 02:16:05.698069|\n",
      "|2025-09-11|Germany         |1.1611342505021043 |-1.3058823529411767 |63                |17               |63                |0.1948319825990911 |17         |2025-09-17 02:16:05.698069|\n",
      "|2025-09-11|Greece          |4.229123037574512  |-5.0                |8                 |2                |8                 |-5.30164533820841  |2          |2025-09-17 02:16:05.698069|\n",
      "|2025-09-11|Guam            |1.2200032092165691 |0.13076923076923072 |81                |13               |71                |-2.574659843696257 |13         |2025-09-17 02:16:05.698069|\n",
      "|2025-09-11|Hong Kong       |-0.4125880928471299|1.4333333333333336  |20                |3                |20                |-0.2811870536197166|3          |2025-09-17 02:16:05.698069|\n",
      "+----------+----------------+-------------------+--------------------+------------------+-----------------+------------------+-------------------+-----------+--------------------------+\n",
      "only showing top 20 rows\n",
      "\n"
     ]
    }
   ],
   "source": [
    "# gold_1st_global_overview 모델 결과 확인\n",
    "print(\"🥇 [gold_1st_global_overview] 뷰\")\n",
    "spark.sql(\"SELECT * FROM gold.gold_1st_global_overview\").show(truncate=False)"
   ]
  },
  {
   "cell_type": "markdown",
   "id": "97f74ad3",
   "metadata": {},
   "source": [
    "Marts 폴더의 gold_2nd_country_events.sql을 dbt run한 결과 확인"
   ]
  },
  {
   "cell_type": "code",
   "execution_count": 8,
   "id": "02bf5d7b",
   "metadata": {},
   "outputs": [
    {
     "name": "stdout",
     "output_type": "stream",
     "text": [
      "🥇 [gold_2nd_country_events] 뷰\n"
     ]
    },
    {
     "name": "stderr",
     "output_type": "stream",
     "text": [
      "                                                                                \r"
     ]
    },
    {
     "name": "stdout",
     "output_type": "stream",
     "text": [
      "+----------+--------------+------------------------------+-------------------+--------------+-------------+--------------+------------------+-----------+-----------------+-------------------+---------------------+-----------------------+--------------------------+\n",
      "|event_date|actor1_country|actor2_country                |avg_goldstein_scale|total_mentions|total_sources|total_articles|avg_tone          |event_count|verbal_coop_count|material_coop_count|verbal_conflict_count|material_conflict_count|updated_at                |\n",
      "+----------+--------------+------------------------------+-------------------+--------------+-------------+--------------+------------------+-----------+-----------------+-------------------+---------------------+-----------------------+--------------------------+\n",
      "|2025-09-11|Poland        |Russia                        |-5.288888888888889 |58            |18           |58            |-4.340645603320586|18         |5                |0                  |4                    |9                      |2025-09-17 02:16:19.575768|\n",
      "|2025-09-11|Russia        |Poland                        |-1.58              |32            |10           |32            |-5.547586346044904|10         |7                |0                  |0                    |3                      |2025-09-17 02:16:19.575768|\n",
      "|2025-09-11|Ukraine       |Poland                        |-5.344444444444445 |26            |9            |26            |-4.438061872797927|9          |3                |0                  |0                    |6                      |2025-09-17 02:16:19.575768|\n",
      "|2025-09-11|Poland        |Ukraine                       |-2.6888888888888887|24            |9            |24            |-4.601620732293145|9          |3                |3                  |0                    |3                      |2025-09-17 02:16:19.575768|\n",
      "|2025-09-11|Israel        |Occupied Palestinian Territory|-1.4875            |16            |8            |16            |-5.857236886704452|8          |4                |0                  |2                    |2                      |2025-09-17 02:16:19.575768|\n",
      "|2025-09-11|Israel        |Qatar                         |-6.3               |9             |7            |9             |-7.566779542277252|7          |2                |0                  |0                    |5                      |2025-09-17 02:16:19.575768|\n",
      "|2025-09-11|United States |Poland                        |5.5                |20            |6            |20            |-2.36406619385342 |6          |6                |0                  |0                    |0                      |2025-09-17 02:16:19.575768|\n",
      "|2025-09-11|France        |Denmark                       |2.0                |20            |6            |20            |-6.1764705882353  |6          |6                |0                  |0                    |0                      |2025-09-17 02:16:19.575768|\n",
      "|2025-09-11|United Kingdom|Russia                        |-4.3999999999999995|10            |6            |10            |-4.07223796033994 |6          |0                |0                  |6                    |0                      |2025-09-17 02:16:19.575768|\n",
      "|2025-09-11|Greece        |United Kingdom                |2.0                |20            |6            |20            |-6.1764705882353  |6          |6                |0                  |0                    |0                      |2025-09-17 02:16:19.575768|\n",
      "|2025-09-11|United States |Korea, Republic of            |5.5                |32            |6            |32            |-0.56925996204934 |6          |3                |3                  |0                    |0                      |2025-09-17 02:16:19.575768|\n",
      "|2025-09-11|Denmark       |Greece                        |2.0                |20            |6            |20            |-6.1764705882353  |6          |6                |0                  |0                    |0                      |2025-09-17 02:16:19.575768|\n",
      "|2025-09-11|France        |Greece                        |2.0                |20            |6            |20            |-6.1764705882353  |6          |6                |0                  |0                    |0                      |2025-09-17 02:16:19.575768|\n",
      "|2025-09-11|United Kingdom|France                        |2.0                |20            |6            |20            |-6.1764705882353  |6          |6                |0                  |0                    |0                      |2025-09-17 02:16:19.575768|\n",
      "|2025-09-11|United Kingdom|Denmark                       |2.0                |20            |6            |20            |-6.1764705882353  |6          |6                |0                  |0                    |0                      |2025-09-17 02:16:19.575768|\n",
      "|2025-09-11|Denmark       |France                        |2.0                |20            |6            |20            |-6.1764705882353  |6          |6                |0                  |0                    |0                      |2025-09-17 02:16:19.575768|\n",
      "|2025-09-11|United Kingdom|Greece                        |2.0                |20            |6            |20            |-6.1764705882353  |6          |6                |0                  |0                    |0                      |2025-09-17 02:16:19.575768|\n",
      "|2025-09-11|Denmark       |United Kingdom                |2.0                |20            |6            |20            |-6.1764705882353  |6          |6                |0                  |0                    |0                      |2025-09-17 02:16:19.575768|\n",
      "|2025-09-11|Greece        |Denmark                       |2.0                |20            |6            |20            |-6.1764705882353  |6          |6                |0                  |0                    |0                      |2025-09-17 02:16:19.575768|\n",
      "|2025-09-11|France        |United Kingdom                |2.0                |20            |6            |20            |-6.1764705882353  |6          |6                |0                  |0                    |0                      |2025-09-17 02:16:19.575768|\n",
      "+----------+--------------+------------------------------+-------------------+--------------+-------------+--------------+------------------+-----------+-----------------+-------------------+---------------------+-----------------------+--------------------------+\n",
      "only showing top 20 rows\n",
      "\n"
     ]
    }
   ],
   "source": [
    "# gold_2nd_country_events 모델 결과 확인\n",
    "print(\"🥇 [gold_2nd_country_events] 뷰\")\n",
    "spark.sql(\"SELECT * FROM gold.gold_2nd_country_events\").show(truncate=False)"
   ]
  },
  {
   "cell_type": "markdown",
   "id": "d54b4d1b",
   "metadata": {},
   "source": [
    "Marts 폴더의 gold_3rd_events_summary.sql을 dbt run한 결과 확인"
   ]
  },
  {
   "cell_type": "code",
   "execution_count": null,
   "id": "a5ff2df2",
   "metadata": {},
   "outputs": [],
   "source": [
    "# gold_3rd_events_summary 모델 결과 확인\n",
    "print(\"🥇 [gold_3rd_events_summary] 뷰\")\n",
    "# spark.sql(\"SELECT * FROM gold.gold_3rd_events_summary\").show(truncate=False)"
   ]
  },
  {
   "cell_type": "markdown",
   "id": "b77c9e68",
   "metadata": {},
   "source": [
    "Marts 폴더의 gold_4th_daily_detail_summary.sql을 dbt run한 결과 확인"
   ]
  },
  {
   "cell_type": "code",
   "execution_count": 9,
   "id": "5f68f334",
   "metadata": {},
   "outputs": [
    {
     "name": "stdout",
     "output_type": "stream",
     "text": [
      "🥇 [gold_4th_daily_detail_summary] 뷰\n"
     ]
    },
    {
     "name": "stderr",
     "output_type": "stream",
     "text": [
      "                                                                                \r"
     ]
    },
    {
     "name": "stdout",
     "output_type": "stream",
     "text": [
      "+----------+--------------------------------+--------------+------------------------+---------------+------------+----------+-----------+--------------------------+----------------------------------------------------+-----------------+------------+\n",
      "|event_date|event_category                  |action_country|actor1_info             |actor2_info    |num_articles|is_anomaly|event_type |processed_time            |mp_event_info                                       |avg_tone         |num_mentions|\n",
      "+----------+--------------------------------+--------------+------------------------+---------------+------------+----------+-----------+--------------------------+----------------------------------------------------+-----------------+------------+\n",
      "|2024-09-11|ENGAGE IN DIPLOMATIC COOPERATION|Norway        |NORWAY                  |ISRAEL         |2           |0         |Cooperation|2025-09-11 01:48:18.167479|Grant diplomatic recognition                        |-6.06673407482306|2           |\n",
      "|2025-09-11|DISAPPROVE                      |Australia     |PENNY WONG              |CHINA          |1           |0         |Conflict   |2025-09-11 01:48:18.167479|Disapprove not specified below                      |2.93453724604966 |1           |\n",
      "|2025-09-11|CONSULT                         |China         |CHINESE                 |AUSTRALIA      |6           |0         |Cooperation|2025-09-11 01:48:18.167479|Make a visit                                        |5.12820512820513 |6           |\n",
      "|2025-09-11|CONSULT                         |Slovenia      |DENMARK                 |UNITED KINGDOM |2           |0         |Cooperation|2025-09-11 01:48:18.167479|Consult not specified below                         |-6.1764705882353 |2           |\n",
      "|2025-09-11|EXPRESS INTENT TO COOPERATE     |United States |COLLEGE                 |null           |5           |0         |Cooperation|2025-09-11 01:48:18.167479|Express intent to meet or negotiate                 |5.16666666666667 |5           |\n",
      "|2025-09-11|CONSULT                         |United Kingdom|EUROPE                  |UNITED KINGDOM |2           |0         |Cooperation|2025-09-11 01:48:18.167479|Make a visit                                        |-4.07223796033994|2           |\n",
      "|2025-09-11|COERCE                          |United Kingdom|BRITAIN                 |null           |2           |0         |Conflict   |2025-09-11 01:48:18.167479|Impose administrative sanctions not specified below |-0.87719298245614|2           |\n",
      "|2025-09-11|CONSULT                         |United Kingdom|BRITISH                 |BUSINESS       |5           |0         |Cooperation|2025-09-11 01:48:18.167479|Make a visit                                        |4.67836257309942 |5           |\n",
      "|2025-09-11|APPEAL                          |United States |MAYOR                   |null           |3           |0         |Cooperation|2025-09-11 01:48:18.167479|Appeal to engage in or accept mediation             |1.04166666666666 |3           |\n",
      "|2025-09-11|COERCE                          |Niger         |NIGER                   |DEALER         |10          |0         |Conflict   |2025-09-11 01:48:18.167479|Destroy property                                    |-8.17843866171004|10          |\n",
      "|2025-09-04|CONSULT                         |Canada        |SCHOOL                  |null           |2           |0         |Cooperation|2025-09-11 01:48:18.167479|Host a visit                                        |0.86956521739131 |2           |\n",
      "|2025-09-11|ENGAGE IN DIPLOMATIC COOPERATION|India         |AUSTRALIA               |null           |1           |1         |Cooperation|2025-09-11 01:48:18.167479|Engage in diplomatic cooperation not specified below|8.57142857142857 |1           |\n",
      "|2025-09-11|APPEAL                          |Slovenia      |FRANCE                  |UNITED KINGDOM |2           |0         |Cooperation|2025-09-11 01:48:18.167479|Make an appeal or request not specified below       |-6.1764705882353 |2           |\n",
      "|2025-09-11|CONSULT                         |Slovenia      |FRANCE                  |GREECE         |2           |0         |Cooperation|2025-09-11 01:48:18.167479|Consult not specified below                         |-6.1764705882353 |2           |\n",
      "|2025-09-11|APPEAL                          |China         |ASEAN                   |CHIEF EXECUTIVE|2           |1         |Cooperation|2025-09-11 01:48:18.167479|Make an appeal or request not specified below       |5.94900849858357 |2           |\n",
      "|2025-09-11|ENGAGE IN DIPLOMATIC COOPERATION|United States |JORDAN                  |null           |2           |0         |Cooperation|2025-09-11 01:48:18.167479|Praise or endorse                                   |-1.35135135135135|2           |\n",
      "|2025-09-11|FIGHT                           |United States |HOUSE OF REPRESENTATIVES|UTAH           |3           |0         |Conflict   |2025-09-11 01:48:18.167479|Fight with small arms and light weapons             |-4.09836065573771|3           |\n",
      "|2025-09-11|MAKE PUBLIC STATEMENT           |Qatar         |QATAR                   |ISRAEL         |2           |0         |Cooperation|2025-09-11 01:48:18.167479|Make statement not specified below                  |-6.6951566951567 |2           |\n",
      "|2025-09-11|EXPRESS INTENT TO COOPERATE     |United States |UNITED STATES           |null           |4           |0         |Cooperation|2025-09-11 01:48:18.167479|Express intent to provide material aid              |-1.7283950617284 |4           |\n",
      "|2025-09-11|CONSULT                         |United States |UNITED STATES           |LANDOWNER      |1           |0         |Cooperation|2025-09-11 01:48:18.167479|Make a visit                                        |1.50501672240803 |1           |\n",
      "+----------+--------------------------------+--------------+------------------------+---------------+------------+----------+-----------+--------------------------+----------------------------------------------------+-----------------+------------+\n",
      "only showing top 20 rows\n",
      "\n"
     ]
    }
   ],
   "source": [
    "# gold_4th_daily_detail_summary 모델 결과 확인\n",
    "print(\"🥇 [gold_4th_daily_detail_summary] 뷰\")\n",
    "spark.sql(\"SELECT * FROM gold.gold_4th_daily_detail_summary\").show(truncate=False)"
   ]
  },
  {
   "cell_type": "code",
   "execution_count": null,
   "id": "f62a185b",
   "metadata": {},
   "outputs": [],
   "source": [
    "# spark.stop()\n",
    "print(\"\\n✅ Spark 세션이 종료되었습니다.\")"
   ]
  }
 ],
 "metadata": {
  "kernelspec": {
   "display_name": "Python 3 (ipykernel)",
   "language": "python",
   "name": "python3"
  },
  "language_info": {
   "codemirror_mode": {
    "name": "ipython",
    "version": 3
   },
   "file_extension": ".py",
   "mimetype": "text/x-python",
   "name": "python",
   "nbconvert_exporter": "python",
   "pygments_lexer": "ipython3",
   "version": "3.10.18"
  }
 },
 "nbformat": 4,
 "nbformat_minor": 5
}
