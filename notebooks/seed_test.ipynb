{
 "cells": [
  {
   "cell_type": "markdown",
   "id": "b0766b83",
   "metadata": {},
   "source": [
    "# Seed 생성 확인용 테스트 노트북\n",
    "http://4.230.26.44:8888"
   ]
  },
  {
   "cell_type": "code",
   "execution_count": 1,
   "id": "e2d5d5a0",
   "metadata": {},
   "outputs": [
    {
     "name": "stderr",
     "output_type": "stream",
     "text": [
      "25/09/25 14:16:51 WARN NativeCodeLoader: Unable to load native-hadoop library for your platform... using builtin-java classes where applicable\n",
      "Setting default log level to \"WARN\".\n",
      "To adjust logging level use sc.setLogLevel(newLevel). For SparkR, use setLogLevel(newLevel).\n",
      "25/09/25 14:16:52 WARN Utils: Service 'SparkUI' could not bind on port 4040. Attempting port 4041.\n"
     ]
    },
    {
     "name": "stdout",
     "output_type": "stream",
     "text": [
      "✅ Spark 세션 생성 완료\n"
     ]
    }
   ],
   "source": [
    "import os\n",
    "import sys\n",
    "\n",
    "sys.path.append(\"/app\")\n",
    "from src.utils.spark_builder import get_spark_session\n",
    "from pyspark.sql import functions as F\n",
    "\n",
    "os.environ[\n",
    "    \"PYSPARK_SUBMIT_ARGS\"\n",
    "] = \"\"\"\n",
    "    --conf spark.cores.max=2\n",
    "    --conf spark.executor.memory=8g\n",
    "    --conf spark.app.name=GDELT_dbt_test\n",
    "    pyspark-shell\n",
    "\"\"\"\n",
    "\n",
    "# Spark 세션 생성\n",
    "spark = get_spark_session(\"GDELT_dbt_test\", \"spark://spark-master:7077\")\n",
    "print(\"✅ Spark 세션 생성 완료\")"
   ]
  },
  {
   "cell_type": "code",
   "execution_count": 2,
   "id": "6ddc969d",
   "metadata": {},
   "outputs": [
    {
     "name": "stdout",
     "output_type": "stream",
     "text": [
      "📖 사용 가능한 데이터베이스(스키마) 목록:\n",
      "+------------+\n",
      "|   namespace|\n",
      "+------------+\n",
      "|     default|\n",
      "|    gold_dev|\n",
      "|   gold_prod|\n",
      "|    seed_dev|\n",
      "|   seed_prod|\n",
      "|      silver|\n",
      "| staging_dev|\n",
      "|staging_prod|\n",
      "+------------+\n",
      "\n"
     ]
    }
   ],
   "source": [
    "# Spark Metastore에 존재하는 모든 데이터베이스(스키마) 목록을 확인합니다.\n",
    "print(\"📖 사용 가능한 데이터베이스(스키마) 목록:\")\n",
    "spark.sql(\"SHOW DATABASES\").show()"
   ]
  },
  {
   "cell_type": "code",
   "execution_count": 3,
   "id": "1feee1e7",
   "metadata": {},
   "outputs": [
    {
     "name": "stdout",
     "output_type": "stream",
     "text": [
      "📜 '_dev' 스키마의 테이블 목록:\n"
     ]
    },
    {
     "name": "stderr",
     "output_type": "stream",
     "text": [
      "25/09/25 14:02:46 WARN TaskSchedulerImpl: Initial job has not accepted any resources; check your cluster UI to ensure that workers are registered and have sufficient resources\n",
      "                                                                                \r"
     ]
    },
    {
     "name": "stdout",
     "output_type": "stream",
     "text": [
      "+---------+--------------------+-----------+\n",
      "|namespace|           tableName|isTemporary|\n",
      "+---------+--------------------+-----------+\n",
      "| seed_dev|actor_ethnic_grou...|      false|\n",
      "| seed_dev|actor_organizatio...|      false|\n",
      "| seed_dev|actor_religion_codes|      false|\n",
      "| seed_dev|    actor_role_codes|      false|\n",
      "| seed_dev|  event_detail_codes|      false|\n",
      "| seed_dev|event_quad_class_...|      false|\n",
      "| seed_dev|    event_root_codes|      false|\n",
      "| seed_dev|       geo_adm_codes|      false|\n",
      "| seed_dev|   geo_country_codes|      false|\n",
      "| seed_dev|      geo_type_codes|      false|\n",
      "+---------+--------------------+-----------+\n",
      "\n"
     ]
    },
    {
     "name": "stderr",
     "output_type": "stream",
     "text": [
      "                                                                                \r"
     ]
    },
    {
     "name": "stdout",
     "output_type": "stream",
     "text": [
      "+-----------+--------------------+-----------+\n",
      "|  namespace|           tableName|isTemporary|\n",
      "+-----------+--------------------+-----------+\n",
      "|staging_dev|stg_actors_descri...|      false|\n",
      "|staging_dev|stg_gkg_detailed_...|      false|\n",
      "|staging_dev|    stg_seed_mapping|      false|\n",
      "+-----------+--------------------+-----------+\n",
      "\n",
      "+---------+--------------------+-----------+\n",
      "|namespace|           tableName|isTemporary|\n",
      "+---------+--------------------+-----------+\n",
      "| gold_dev|gold_daily_detail...|      false|\n",
      "| gold_dev|gold_daily_events...|      false|\n",
      "| gold_dev|gold_near_realtim...|      false|\n",
      "| gold_dev|  gold_superset_view|      false|\n",
      "+---------+--------------------+-----------+\n",
      "\n"
     ]
    }
   ],
   "source": [
    "# dbt seed 또는 dbt run으로 생성된 테이블 확인\n",
    "print(\"📜 '_dev' 스키마의 테이블 목록:\")\n",
    "spark.sql(\"SHOW TABLES IN seed_dev\").show()\n",
    "spark.sql(\"SHOW TABLES IN staging_dev\").show()\n",
    "spark.sql(\"SHOW TABLES IN gold_dev\").show()"
   ]
  },
  {
   "cell_type": "markdown",
   "id": "2bcc0f86",
   "metadata": {},
   "source": [
    "### Seed 확인 및 테이블 관리"
   ]
  },
  {
   "cell_type": "code",
   "execution_count": null,
   "id": "275658c0",
   "metadata": {},
   "outputs": [],
   "source": [
    "# Seed 테이블(총 10개)의 샘플 데이터를 5개씩 출력하여 내용 확인\n",
    "seed_tables = [\n",
    "    \"actor_ethnic_group_codes\",\n",
    "    \"actor_organization_codes\",\n",
    "    \"actor_religion_codes\",\n",
    "    \"actor_role_codes\",\n",
    "    \"event_root_codes\",\n",
    "    \"event_detail_codes\",\n",
    "    \"event_quad_class_codes\",\n",
    "    \"geo_adm_codes\",\n",
    "    \"geo_country_codes\",\n",
    "    \"geo_type_codes\",\n",
    "]\n",
    "\n",
    "for table in seed_tables:\n",
    "    print(f\"\\n 🔍 {table} 테이블 샘플 데이터\")\n",
    "    try:\n",
    "        spark.sql(f\"SELECT * FROM seed_dev.{table} LIMIT 5\").show(truncate=False)\n",
    "    except Exception as e:\n",
    "        print(f\"❌ 테이블 조회 중, 오류 발생: {e}\")"
   ]
  },
  {
   "cell_type": "markdown",
   "id": "f2b4fa5f",
   "metadata": {},
   "source": [
    "생성된 테이블을 삭제할 경우, 아래 코드에 해당 스키마와 \"삭제할 테이블명\"을 수정하여 실행"
   ]
  },
  {
   "cell_type": "code",
   "execution_count": null,
   "id": "16aa844e",
   "metadata": {},
   "outputs": [],
   "source": [
    "# 삭제할 테이블 이름 목록\n",
    "tables_to_drop = [\n",
    "    # \"[삭제할 seed 테이블명]\"\n",
    "    \"gold_events_by_category_daily\"\n",
    "]\n",
    "print(\"🗑️ 기존 테이블 삭제를 시작합니다.\")\n",
    "\n",
    "for table_name in tables_to_drop:\n",
    "    try:\n",
    "        spark.sql(f\"DROP TABLE IF EXISTS gold_dev.{table_name}\")\n",
    "        print(f\"  - 테이블 'gold_dev.{table_name}' 삭제 완료.\")\n",
    "    except Exception as e:\n",
    "        print(f\"  - 테이블 'gold_dev.{table_name}' 삭제 중 오류 발생: {e}\")\n",
    "\n",
    "print(\"\\n✅ 테이블 삭제 작업이 완료되었습니다.\")\n",
    "\n",
    "# 삭제 후 테이블 목록을 다시 확인하여 깨끗해졌는지 확인\n",
    "print(\"📜 현재 'gold_dev' 스키마의 테이블 목록:\")\n",
    "spark.sql(\"SHOW TABLES IN gold_dev\").show()"
   ]
  },
  {
   "cell_type": "markdown",
   "id": "7d2b4c5d",
   "metadata": {},
   "source": [
    "### Staging 폴더의 SQL 파일을 dbt run한 결과 확인"
   ]
  },
  {
   "cell_type": "code",
   "execution_count": 6,
   "id": "d5daa1b5",
   "metadata": {},
   "outputs": [
    {
     "name": "stdout",
     "output_type": "stream",
     "text": [
      "🥈 [stg_seed_mapping] 뷰\n"
     ]
    },
    {
     "name": "stderr",
     "output_type": "stream",
     "text": [
      "25/09/25 13:57:15 WARN MetricsConfig: Cannot locate configuration: tried hadoop-metrics2-s3a-file-system.properties,hadoop-metrics2.properties\n",
      "25/09/25 13:57:21 WARN package: Truncated the string representation of a plan since it was too large. This behavior can be adjusted by setting 'spark.sql.debug.maxToStringFields'.\n",
      "[Stage 28:>                                                         (0 + 1) / 1]\r"
     ]
    },
    {
     "name": "stdout",
     "output_type": "stream",
     "text": [
      "+---------------+----------+-------------+-------------------+------------------------+----------+-------------+---------------+------------+-----------+------------+-----------------+-----------+--------------------+--------------------------+--------------------------+--------------------------+----------------------+---------------------------+----------------+------------------+-----------------------+--------------+-------------------+-------------------+---------------------------------------------------+-------------------------+--------------------------------------------------------+-------------------------+--------------+---------------+-----------+-------------+--------------------------+----------------------------+--------------------------+----------------------+---------------------------+----------------+------------------+-----------------------+--------------+-------------------+------------------+---------------------------------------------------+-----------------------+-------------------------+--------------------------------------------------------+-------------------------+--------------+---------------+-------------------+---------------------------------------------------+-------------------------+--------------------------------------------------------+-------------------------+--------------+---------------+-------------------+--------------------------------------------------------------------------------------------------------------------------------------------------+-------------------+-------------------------+\n",
      "|global_event_id|event_date|is_root_event|mp_event_categories|mp_event_info           |quad_class|mp_quad_class|goldstein_scale|num_mentions|num_sources|num_articles|avg_tone         |actor1_code|actor1_name         |mp_actor1_from_country_iso|mp_actor1_from_country_eng|mp_actor1_from_country_kor|mp_actor1_organization|mp_actor1_organization_type|mp_actor1_ethnic|mp_actor1_religion|mp_actor1_religion_type|mp_actor1_role|mp_actor1_role_type|mp_actor1_geo_type |actor1_geo_fullname                                |mp_actor1_geo_country_iso|mp_actor1_geo_country_eng                               |mp_actor1_geo_country_kor|actor1_geo_lat|actor1_geo_long|actor2_code|actor2_name  |mp_actor2_from_country_iso|mp_actor2_from_country_eng  |mp_actor2_from_country_kor|mp_actor2_organization|mp_actor2_organization_type|mp_actor2_ethnic|mp_actor2_religion|mp_actor2_religion_type|mp_actor2_role|mp_actor2_role_type|mp_actor2_geo_type|actor2_geo_fullname                                |actor2_geo_country_code|mp_actor2_geo_country_iso|mp_actor2_geo_country_eng                               |mp_actor2_geo_country_kor|actor2_geo_lat|actor2_geo_long|mp_action_geo_type |action_geo_fullname                                |mp_action_geo_country_iso|mp_action_geo_country_eng                               |mp_action_geo_country_kor|action_geo_lat|action_geo_long|date_added         |source_url                                                                                                                                        |processed_at       |source_file              |\n",
      "+---------------+----------+-------------+-------------------+------------------------+----------+-------------+---------------+------------+-----------+------------+-----------------+-----------+--------------------+--------------------------+--------------------------+--------------------------+----------------------+---------------------------+----------------+------------------+-----------------------+--------------+-------------------+-------------------+---------------------------------------------------+-------------------------+--------------------------------------------------------+-------------------------+--------------+---------------+-----------+-------------+--------------------------+----------------------------+--------------------------+----------------------+---------------------------+----------------+------------------+-----------------------+--------------+-------------------+------------------+---------------------------------------------------+-----------------------+-------------------------+--------------------------------------------------------+-------------------------+--------------+---------------+-------------------+---------------------------------------------------+-------------------------+--------------------------------------------------------+-------------------------+--------------+---------------+-------------------+--------------------------------------------------------------------------------------------------------------------------------------------------+-------------------+-------------------------+\n",
      "|1264660563     |2025-09-23|false        |외교적 협력        |외교적 협력             |1         |언어적 협력  |3.5            |6           |1          |6           |4.99219968798752 |EDU        |STUDENT             |null                      |null                      |null                      |null                  |null                       |null            |null              |null                   |교육          |2차 역할           |미국 도시          |Miles College, Alabama, United States              |USA                      |The United States of America                            |미국                     |32.8432       |-87.8903       |null       |null         |null                      |null                        |null                      |null                  |null                       |null            |null              |null                   |null          |null               |null              |null                                               |null                   |null                     |null                                                    |null                     |null          |null           |미국 도시          |Miles College, Alabama, United States              |USA                      |The United States of America                            |미국                     |32.8432       |-87.8903       |2025-09-23 07:00:00|https://www.birminghamtimes.com/2025/09/mackenzie-scott-gives-70m-to-uncf-to-financially-strengthen-hbcus/                                        |2025-09-23 07:45:00|20250923070000.export.CSV|\n",
      "|1264660577     |2025-09-23|true         |협의               |협의                    |1         |언어적 협력  |1.0            |6           |1          |6           |6.5625           |EDU        |UNIVERSITY          |null                      |null                      |null                      |null                  |null                       |null            |null              |null                   |교육          |2차 역할           |미국 외 도시       |Middlesbrough, Redcar and Cleveland, United Kingdom|GBR                      |The United Kingdom of Great Britain and Northern Ireland|영국                     |54.5728       |-1.16278       |GOV        |CHANCELLOR   |null                      |null                        |null                      |null                  |null                       |null            |null              |null                   |정부          |1차 역할           |미국 외 도시      |Middlesbrough, Redcar and Cleveland, United Kingdom|UK                     |GBR                      |The United Kingdom of Great Britain and Northern Ireland|영국                     |54.5728       |-1.16278       |미국 외 도시       |Middlesbrough, Redcar and Cleveland, United Kingdom|GBR                      |The United Kingdom of Great Britain and Northern Ireland|영국                     |54.5728       |-1.16278       |2025-09-23 07:00:00|https://www.thenorthernecho.co.uk/news/25486137.education-secretary-bridget-phillipson-visits-uni/                                                |2025-09-23 07:45:00|20250923070000.export.CSV|\n",
      "|1264660861     |2025-09-23|true         |외교적 협력        |칭찬 또는 지지          |1         |언어적 협력  |3.4            |1           |1          |1           |7.37179487179487 |ISR        |ISRAELI             |ISR                       |Israel                    |이스라엘                  |null                  |null                       |null            |null              |null                   |null          |null               |미국 외 도시       |Gaza, Israel (general), Israel                     |ISR                      |Israel                                                  |이스라엘                 |31.4167       |34.3333        |ISRGOV     |ISRAEL       |ISR                       |Israel                      |이스라엘                  |null                  |null                       |null            |null              |null                   |정부          |1차 역할           |미국 외 도시      |Gaza, Israel (general), Israel                     |IS                     |ISR                      |Israel                                                  |이스라엘                 |31.4167       |34.3333        |미국 외 도시       |Gaza, Israel (general), Israel                     |ISR                      |Israel                                                  |이스라엘                 |31.4167       |34.3333        |2025-09-23 07:00:00|https://www.prokerala.com/news/articles/a1677799.html                                                                                             |2025-09-23 07:45:00|20250923070000.export.CSV|\n",
      "|1264660897     |2025-09-23|false        |협력 의사 표명     |협력 의사 표명          |1         |언어적 협력  |4.0            |2           |1          |2           |-1.59744408945687|JPN        |JAPAN               |JPN                       |Japan                     |일본                      |null                  |null                       |null            |null              |null                   |null          |null               |미국 외 도시       |Tokyo, Tokyo, Japan                                |JPN                      |Japan                                                   |일본                     |35.685        |139.751        |USA        |THE US       |USA                       |The United States of America|미국                      |null                  |null                       |null            |null              |null                   |null          |null               |미국 외 도시      |Seoul, Soul-t'ukpyolsi, South Korea                |KS                     |KOR                      |Republic of Korea                                       |대한민국                 |37.5664       |127.0          |미국 외 도시       |Tokyo, Tokyo, Japan                                |JPN                      |Japan                                                   |일본                     |35.685        |139.751        |2025-09-23 07:00:00|https://www.prokerala.com/news/articles/a1677792.html                                                                                             |2025-09-23 07:45:00|20250923070000.export.CSV|\n",
      "|1264662865     |2025-09-23|true         |비판 및 반대       |고발                    |3         |언어적 갈등  |-2.0           |3           |1          |3           |-3.68731563421829|EDU        |UNIVERSITY          |null                      |null                      |null                      |null                  |null                       |null            |null              |null                   |교육          |2차 역할           |국가               |Sweden                                             |SWE                      |Sweden                                                  |스웨덴                   |62.0          |15.0           |null       |null         |null                      |null                        |null                      |null                  |null                       |null            |null              |null                   |null          |null               |null              |null                                               |null                   |null                     |null                                                    |null                     |null          |null           |국가               |Sweden                                             |SWE                      |Sweden                                                  |스웨덴                   |62.0          |15.0           |2025-09-23 07:15:00|https://www.huffingtonpost.co.uk/entry/uk-experts-accuse-trump-of-fearmongering-for-linking-paracetamol-and-autism_uk_68d22f79e4b03fb4d933e980    |2025-09-23 07:45:00|20250923071500.export.CSV|\n",
      "|1264663157     |2025-09-23|true         |협의               |협의                    |1         |언어적 협력  |1.0            |2           |1          |2           |-4.22535211267606|IGOUNOGOV  |UNITED NATIONS      |null                      |null                      |null                      |유엔(UN)              |국제기구                   |null            |null              |null                   |국제 정부 기구|단체               |국가               |Belarus                                            |BLR                      |Belarus                                                 |벨라루스                 |53.0          |28.0           |EST        |ESTONIA      |EST                       |Estonia                     |에스토니아                |null                  |null                       |null            |null              |null                   |null          |null               |국가              |Lithuania                                          |LH                     |LTU                      |Lithuania                                               |리투아니아               |56.0          |24.0           |국가               |Belarus                                            |BLR                      |Belarus                                                 |벨라루스                 |53.0          |28.0           |2025-09-23 07:15:00|https://www.thehindubusinessline.com/news/world/baltic-leaders-say-russia-is-testing-nato-readiness-to-respond/article70083487.ece                |2025-09-23 07:45:00|20250923071500.export.CSV|\n",
      "|1264663209     |2025-09-23|false        |공개 성명 발표     |성명 발표               |1         |언어적 협력  |0.0            |3           |1          |3           |-1.7910447761194 |ISR        |ISRAEL              |ISR                       |Israel                    |이스라엘                  |null                  |null                       |null            |null              |null                   |null          |null               |미국 외 도시       |Gaza, Israel (general), Israel                     |ISR                      |Israel                                                  |이스라엘                 |31.4167       |34.3333        |PSE        |PALESTINIAN  |PSE                       |State of Palestine          |팔레스타인                |null                  |null                       |null            |null              |null                   |null          |null               |미국 외 도시      |Gaza, Israel (general), Israel                     |IS                     |ISR                      |Israel                                                  |이스라엘                 |31.4167       |34.3333        |국가               |United States                                      |USA                      |The United States of America                            |미국                     |39.828175     |-98.5795       |2025-09-23 07:15:00|https://kaieteurnewsonline.com/2025/09/23/france-joins-other-western-nations-in-recognising-palestinian-state/                                    |2025-09-23 07:45:00|20250923071500.export.CSV|\n",
      "|1264663377     |2025-09-23|true         |외교적 협력        |외교적 협력             |1         |언어적 협력  |3.5            |4           |1          |4           |4.36046511627907 |MNCSEA     |AIRASIA             |null                      |null                      |null                      |null                  |null                       |null            |null              |null                   |다국적 기업   |단체               |미국 외 도시       |Manila, Manila, Philippines                        |PHL                      |The Philippines                                         |필리핀                   |14.6042       |120.982        |null       |null         |null                      |null                        |null                      |null                  |null                       |null            |null              |null                   |null          |null               |null              |null                                               |null                   |null                     |null                                                    |null                     |null          |null           |미국 외 도시       |Manila, Manila, Philippines                        |PHL                      |The Philippines                                         |필리핀                   |14.6042       |120.982        |2025-09-23 07:15:00|https://www.thestar.com.my/business/business-news/2025/09/23/airasia-to-boost-the-philippines039-connectivity-with-kl-cebu-direct-flights         |2025-09-23 07:45:00|20250923071500.export.CSV|\n",
      "|1264663605     |2025-09-23|true         |협의               |협의                    |1         |언어적 협력  |1.0            |1           |1          |1           |0.0              |UKRGOV     |UKRAINE             |UKR                       |Ukraine                   |우크라이나                |null                  |null                       |null            |null              |null                   |정부          |1차 역할           |미국 외 도시       |Copenhagen, Køavn*, Denmark                        |DNK                      |Denmark                                                 |덴마크                   |55.6667       |12.5833        |USAGOV     |THE US       |USA                       |The United States of America|미국                      |null                  |null                       |null            |null              |null                   |정부          |1차 역할           |미국 외 도시      |Copenhagen, Køavn*, Denmark                        |DA                     |DNK                      |Denmark                                                 |덴마크                   |55.6667       |12.5833        |미국 주            |New York, United States                            |USA                      |The United States of America                            |미국                     |42.1497       |-74.9384       |2025-09-23 07:15:00|https://eaworldview.com/2025/09/ukraine-war-un-zelensky-trump/                                                                                    |2025-09-23 07:45:00|20250923071500.export.CSV|\n",
      "|1264664993     |2025-09-23|true         |공개 성명 발표     |성명 발표               |1         |언어적 협력  |0.0            |1           |1          |1           |6.41025641025641 |CHN        |JIANGSU             |CHN                       |China                     |중국                      |null                  |null                       |null            |null              |null                   |null          |null               |해외 1단계 행정구역|Anhui, Anhui, China                                |CHN                      |China                                                   |중국                     |32.0          |117.0          |null       |null         |null                      |null                        |null                      |null                  |null                       |null            |null              |null                   |null          |null               |null              |null                                               |null                   |null                     |null                                                    |null                     |null          |null           |해외 1단계 행정구역|Anhui, Anhui, China                                |CHN                      |China                                                   |중국                     |32.0          |117.0          |2025-09-23 07:30:00|https://english.news.cn/20250923/3f91e9eeabc04b29901972a5964804e5/c.html                                                                          |2025-09-23 07:45:00|20250923073000.export.CSV|\n",
      "|1264665062     |2025-09-23|true         |공개 성명 발표     |비관적 논평             |1         |언어적 협력  |-0.4           |10          |1          |10          |-6.55270655270656|CVL        |CITIZEN             |null                      |null                      |null                      |null                  |null                       |null            |null              |null                   |민간인        |2차 역할           |미국 주            |New Mexico, United States                          |USA                      |The United States of America                            |미국                     |34.8375       |-106.237       |null       |null         |null                      |null                        |null                      |null                  |null                       |null            |null              |null                   |null          |null               |null              |null                                               |null                   |null                     |null                                                    |null                     |null          |null           |미국 주            |New Mexico, United States                          |USA                      |The United States of America                            |미국                     |34.8375       |-106.237       |2025-09-23 07:30:00|https://nuclear-news.net/2025/09/23/1-b1-david-versus-goliath-the-battle-of-a-small-indigenous-community-against-a-federal-radioactive-waste-dump/|2025-09-23 07:45:00|20250923073000.export.CSV|\n",
      "|1264665382     |2025-09-23|true         |공개 성명 발표     |성명 발표               |1         |언어적 협력  |0.0            |3           |1          |3           |-0.78651685393258|IGOUNO     |THE UN              |null                      |null                      |null                      |유엔(UN)              |국제기구                   |null            |null              |null                   |국제 정부 기구|단체               |미국 외 도시       |Almaty, Almaty Qalasy, Kazakhstan                  |KAZ                      |Kazakhstan                                              |카자흐스탄               |43.25         |76.95          |KAZ        |KAZAKHSTAN   |KAZ                       |Kazakhstan                  |카자흐스탄                |null                  |null                       |null            |null              |null                   |null          |null               |미국 외 도시      |Almaty, Almaty Qalasy, Kazakhstan                  |KZ                     |KAZ                      |Kazakhstan                                              |카자흐스탄               |43.25         |76.95          |국가               |Afghanistan                                        |AFG                      |Afghanistan                                             |아프가니스탄             |33.0          |66.0           |2025-09-23 07:30:00|https://www.newscentralasia.net/2025/09/23/central-asia-the-quiet-powerhouse-shaping-a-stable-future-at-unga/                                     |2025-09-23 07:45:00|20250923073000.export.CSV|\n",
      "|1264665487     |2025-09-23|true         |공개 성명 발표     |성명 발표               |1         |언어적 협력  |0.0            |10          |1          |10          |-6.14035087719298|KEN        |KENYA               |KEN                       |Kenya                     |케냐                      |null                  |null                       |null            |null              |null                   |null          |null               |미국 외 도시       |Nakuru, Rift Valley, Kenya                         |KEN                      |Kenya                                                   |케냐                     |-0.283333     |36.0667        |null       |null         |null                      |null                        |null                      |null                  |null                       |null            |null              |null                   |null          |null               |null              |null                                               |null                   |null                     |null                                                    |null                     |null          |null           |미국 외 도시       |Nakuru, Rift Valley, Kenya                         |KEN                      |Kenya                                                   |케냐                     |-0.283333     |36.0667        |2025-09-23 07:30:00|https://www.tuko.co.ke/people/family/603897-nakuru-mum-heartbroken-teacher-allegedly-ridicules-daughters-wearing-underwear/                       |2025-09-23 07:45:00|20250923073000.export.CSV|\n",
      "|1264665520     |2025-09-23|true         |공개 성명 발표     |비관적 논평             |1         |언어적 협력  |-0.4           |10          |1          |10          |-3.44202898550725|LEG        |LAWMAKER            |null                      |null                      |null                      |null                  |null                       |null            |null              |null                   |입법부        |2차 역할           |미국 외 도시       |Beijing, Beijing, China                            |CHN                      |China                                                   |중국                     |39.9289       |116.388        |MIL        |MILITARY     |null                      |null                        |null                      |null                  |null                       |null            |null              |null                   |군대          |1차 역할           |미국 외 도시      |Beijing, Beijing, China                            |CH                     |CHN                      |China                                                   |중국                     |39.9289       |116.388        |미국 외 도시       |Beijing, Beijing, China                            |CHN                      |China                                                   |중국                     |39.9289       |116.388        |2025-09-23 07:30:00|https://www.spacewar.com/afp/250923051314.g7sccp1i.html                                                                                           |2025-09-23 07:45:00|20250923073000.export.CSV|\n",
      "|1264660332     |2025-09-23|true         |비판 및 반대       |비난 또는 규탄          |3         |언어적 갈등  |-2.0           |4           |1          |4           |0.81154192966637 |null       |null                |null                      |null                      |null                      |null                  |null                       |null            |null              |null                   |null          |null               |null               |null                                               |null                     |null                                                    |null                     |null          |null           |NZL        |WELLINGTON   |NZL                       |New Zealand                 |뉴질랜드                  |null                  |null                       |null            |null              |null                   |null          |null               |미국 외 도시      |Wellington, New Zealand (general), New Zealand     |NZ                     |NZL                      |New Zealand                                             |뉴질랜드                 |-41.3         |174.783        |미국 외 도시       |Wellington, New Zealand (general), New Zealand     |NZL                      |New Zealand                                             |뉴질랜드                 |-41.3         |174.783        |2025-09-23 07:00:00|https://www.rnz.co.nz/news/top/573827/people-s-coffee-founder-sells-up-after-brutal-18-months                                                     |2025-09-23 07:45:00|20250923070000.export.CSV|\n",
      "|1264660372     |2025-09-23|true         |협력 의사 표명     |회담 또는 협상 의사 표명|1         |언어적 협력  |4.0            |1           |1          |1           |0.0              |ARE        |UNITED ARAB EMIRATES|ARE                       |The United Arab Emirates  |아랍에미리트 연합         |null                  |null                       |null            |null              |null                   |null          |null               |국가               |Turkey                                             |TUR                      |Türkiye                                                 |튀르키예                 |39.059012     |34.911546      |SAUGOV     |SAUDI ARABIA |SAU                       |Saudi Arabia                |사우디아라비아            |null                  |null                       |null            |null              |null                   |정부          |1차 역할           |국가              |Qatar                                              |QA                     |QAT                      |Qatar                                                   |카타르                   |25.5          |51.25          |국가               |Qatar                                              |QAT                      |Qatar                                                   |카타르                   |25.5          |51.25          |2025-09-23 07:00:00|https://www.washingtonexaminer.com/live-blog-posts/trump-meet-qatar-saudi-arabia-uae-leaders-un-general-assembly/                                 |2025-09-23 07:45:00|20250923070000.export.CSV|\n",
      "|1264660537     |2025-09-23|true         |협의               |협상                    |1         |언어적 협력  |7.0            |2           |1          |2           |1.97368421052632 |CYPGOV     |CYPRUS              |CYP                       |Cyprus                    |키프로스                  |null                  |null                       |null            |null              |null                   |정부          |1차 역할           |미국 주            |New York, United States                            |USA                      |The United States of America                            |미국                     |42.1497       |-74.9384       |MNC        |CHEVRON      |null                      |null                        |null                      |null                  |null                       |null            |null              |null                   |다국적 기업   |단체               |국가              |Cyprus                                             |CY                     |CYP                      |Cyprus                                                  |키프로스                 |35.0          |33.0           |국가               |Cyprus                                             |CYP                      |Cyprus                                                  |키프로스                 |35.0          |33.0           |2025-09-23 07:00:00|https://cyprus-mail.com/2025/09/23/president-meets-chevron-executive-in-new-york                                                                  |2025-09-23 07:45:00|20250923070000.export.CSV|\n",
      "|1264662653     |2025-09-23|false        |비판 및 반대       |고발                    |3         |언어적 갈등  |-2.0           |2           |1          |2           |-6.25            |null       |null                |null                      |null                      |null                      |null                  |null                       |null            |null              |null                   |null          |null               |null               |null                                               |null                     |null                                                    |null                     |null          |null           |USA        |UNITED STATES|USA                       |The United States of America|미국                      |null                  |null                       |null            |null              |null                   |null          |null               |미국 주           |New Hampshire, United States                       |US                     |USA                      |The United States of America                            |미국                     |43.4108       |-71.5653       |미국 주            |New Hampshire, United States                       |USA                      |The United States of America                            |미국                     |43.4108       |-71.5653       |2025-09-23 07:15:00|https://www.yahoo.com/news/articles/hampshire-man-charged-murder-shooting-173700762.html                                                          |2025-09-23 07:45:00|20250923071500.export.CSV|\n",
      "|1264662797     |2025-09-23|false        |강압               |체포, 구금 또는 기소    |4         |물리적 갈등  |-5.0           |2           |1          |2           |-5.26315789473684|COP        |PRISON              |null                      |null                      |null                      |null                  |null                       |null            |null              |null                   |경찰          |1차 역할           |미국 외 도시       |Sharm El-Sheikh, Janub Sina', Egypt                |EGY                      |Egypt                                                   |이집트                   |27.8518       |34.305         |EGY        |EGYPTIAN     |EGY                       |Egypt                       |이집트                    |null                  |null                       |null            |null              |null                   |null          |null               |미국 외 도시      |Sharm El-Sheikh, Janub Sina', Egypt                |EG                     |EGY                      |Egypt                                                   |이집트                   |27.8518       |34.305         |미국 외 도시       |Sharm El-Sheikh, Janub Sina', Egypt                |EGY                      |Egypt                                                   |이집트                   |27.8518       |34.305         |2025-09-23 07:15:00|https://allafrica.com/stories/202509230097.html                                                                                                   |2025-09-23 07:45:00|20250923071500.export.CSV|\n",
      "|1264663307     |2025-09-23|false        |공개 성명 발표     |성명 발표               |1         |언어적 협력  |0.0            |10          |1          |10          |0.99009900990099 |LAB        |WORKER              |null                      |null                      |null                      |null                  |null                       |null            |null              |null                   |노동          |2차 역할           |미국 외 도시       |Port Of Newcastle, New South Wales, Australia      |AUS                      |Australia                                               |호주                     |-32.9333      |151.783        |null       |null         |null                      |null                        |null                      |null                  |null                       |null            |null              |null                   |null          |null               |null              |null                                               |null                   |null                     |null                                                    |null                     |null          |null           |미국 외 도시       |Port Of Newcastle, New South Wales, Australia      |AUS                      |Australia                                               |호주                     |-32.9333      |151.783        |2025-09-23 07:15:00|https://www.newcastleherald.com.au/story/9072923/hunter-industrial-strikes-ampcontrol-workers-rally-more-to-come/                                 |2025-09-23 07:45:00|20250923071500.export.CSV|\n",
      "+---------------+----------+-------------+-------------------+------------------------+----------+-------------+---------------+------------+-----------+------------+-----------------+-----------+--------------------+--------------------------+--------------------------+--------------------------+----------------------+---------------------------+----------------+------------------+-----------------------+--------------+-------------------+-------------------+---------------------------------------------------+-------------------------+--------------------------------------------------------+-------------------------+--------------+---------------+-----------+-------------+--------------------------+----------------------------+--------------------------+----------------------+---------------------------+----------------+------------------+-----------------------+--------------+-------------------+------------------+---------------------------------------------------+-----------------------+-------------------------+--------------------------------------------------------+-------------------------+--------------+---------------+-------------------+---------------------------------------------------+-------------------------+--------------------------------------------------------+-------------------------+--------------+---------------+-------------------+--------------------------------------------------------------------------------------------------------------------------------------------------+-------------------+-------------------------+\n",
      "only showing top 20 rows\n",
      "\n"
     ]
    },
    {
     "name": "stderr",
     "output_type": "stream",
     "text": [
      "                                                                                \r"
     ]
    }
   ],
   "source": [
    "# stg_seed_mapping 결과 확인\n",
    "print(\"🥈 [stg_seed_mapping] 뷰\")\n",
    "spark.sql(\"SELECT * FROM staging_dev.stg_seed_mapping\").show(truncate=False)"
   ]
  },
  {
   "cell_type": "code",
   "execution_count": 7,
   "id": "ed27de8b",
   "metadata": {},
   "outputs": [
    {
     "name": "stdout",
     "output_type": "stream",
     "text": [
      "🥈 [stg_actors_description] 뷰\n"
     ]
    },
    {
     "name": "stderr",
     "output_type": "stream",
     "text": [
      "[Stage 39:=======================================>                 (7 + 2) / 10]\r"
     ]
    },
    {
     "name": "stdout",
     "output_type": "stream",
     "text": [
      "+----------+----------------------+\n",
      "|actor_code|actor_full_description|\n",
      "+----------+----------------------+\n",
      "+----------+----------------------+\n",
      "\n"
     ]
    },
    {
     "name": "stderr",
     "output_type": "stream",
     "text": [
      "                                                                                \r"
     ]
    }
   ],
   "source": [
    "# stg_actors_description 결과 확인\n",
    "print(\"🥈 [stg_actors_description] 뷰\")\n",
    "spark.sql(\n",
    "    \"SELECT * FROM staging_dev.stg_actors_description WHERE actor_full_description IS NULL\"\n",
    ").show(truncate=False)"
   ]
  },
  {
   "cell_type": "code",
   "execution_count": 8,
   "id": "24365b13",
   "metadata": {},
   "outputs": [
    {
     "name": "stdout",
     "output_type": "stream",
     "text": [
      "🥈 [stg_gkg_detailed_events] 뷰\n"
     ]
    },
    {
     "name": "stderr",
     "output_type": "stream",
     "text": [
      "                                                                                \r"
     ]
    },
    {
     "name": "stdout",
     "output_type": "stream",
     "text": [
      "+---------------+----------+--------------------------------------------------------------------------------------------------------------------------------------------------+-------------------+----------------+----------+----------------+------------------+-------+-------------------+\n",
      "|global_event_id|event_date|source_url                                                                                                                                        |mention_source_name|mention_doc_tone|v2_persons|v2_organizations|v2_enhanced_themes|amounts|processed_at       |\n",
      "+---------------+----------+--------------------------------------------------------------------------------------------------------------------------------------------------+-------------------+----------------+----------+----------------+------------------+-------+-------------------+\n",
      "|1264660563     |2025-09-23|https://www.birminghamtimes.com/2025/09/mackenzie-scott-gives-70m-to-uncf-to-financially-strengthen-hbcus/                                        |null               |null            |null      |null            |null              |null   |2025-09-23 07:45:00|\n",
      "|1264660577     |2025-09-23|https://www.thenorthernecho.co.uk/news/25486137.education-secretary-bridget-phillipson-visits-uni/                                                |null               |null            |null      |null            |null              |null   |2025-09-23 07:45:00|\n",
      "|1264660861     |2025-09-23|https://www.prokerala.com/news/articles/a1677799.html                                                                                             |null               |null            |null      |null            |null              |null   |2025-09-23 07:45:00|\n",
      "|1264660897     |2025-09-23|https://www.prokerala.com/news/articles/a1677792.html                                                                                             |null               |null            |null      |null            |null              |null   |2025-09-23 07:45:00|\n",
      "|1264662865     |2025-09-23|https://www.huffingtonpost.co.uk/entry/uk-experts-accuse-trump-of-fearmongering-for-linking-paracetamol-and-autism_uk_68d22f79e4b03fb4d933e980    |null               |null            |null      |null            |null              |null   |2025-09-23 07:45:00|\n",
      "|1264663157     |2025-09-23|https://www.thehindubusinessline.com/news/world/baltic-leaders-say-russia-is-testing-nato-readiness-to-respond/article70083487.ece                |null               |null            |null      |null            |null              |null   |2025-09-23 07:45:00|\n",
      "|1264663209     |2025-09-23|https://kaieteurnewsonline.com/2025/09/23/france-joins-other-western-nations-in-recognising-palestinian-state/                                    |null               |null            |null      |null            |null              |null   |2025-09-23 07:45:00|\n",
      "|1264663377     |2025-09-23|https://www.thestar.com.my/business/business-news/2025/09/23/airasia-to-boost-the-philippines039-connectivity-with-kl-cebu-direct-flights         |null               |null            |null      |null            |null              |null   |2025-09-23 07:45:00|\n",
      "|1264663605     |2025-09-23|https://eaworldview.com/2025/09/ukraine-war-un-zelensky-trump/                                                                                    |null               |null            |null      |null            |null              |null   |2025-09-23 07:45:00|\n",
      "|1264664993     |2025-09-23|https://english.news.cn/20250923/3f91e9eeabc04b29901972a5964804e5/c.html                                                                          |null               |null            |null      |null            |null              |null   |2025-09-23 07:45:00|\n",
      "|1264665062     |2025-09-23|https://nuclear-news.net/2025/09/23/1-b1-david-versus-goliath-the-battle-of-a-small-indigenous-community-against-a-federal-radioactive-waste-dump/|null               |null            |null      |null            |null              |null   |2025-09-23 07:45:00|\n",
      "|1264665382     |2025-09-23|https://www.newscentralasia.net/2025/09/23/central-asia-the-quiet-powerhouse-shaping-a-stable-future-at-unga/                                     |null               |null            |null      |null            |null              |null   |2025-09-23 07:45:00|\n",
      "|1264665487     |2025-09-23|https://www.tuko.co.ke/people/family/603897-nakuru-mum-heartbroken-teacher-allegedly-ridicules-daughters-wearing-underwear/                       |null               |null            |null      |null            |null              |null   |2025-09-23 07:45:00|\n",
      "|1264665520     |2025-09-23|https://www.spacewar.com/afp/250923051314.g7sccp1i.html                                                                                           |null               |null            |null      |null            |null              |null   |2025-09-23 07:45:00|\n",
      "|1264660332     |2025-09-23|https://www.rnz.co.nz/news/top/573827/people-s-coffee-founder-sells-up-after-brutal-18-months                                                     |null               |null            |null      |null            |null              |null   |2025-09-23 07:45:00|\n",
      "|1264660372     |2025-09-23|https://www.washingtonexaminer.com/live-blog-posts/trump-meet-qatar-saudi-arabia-uae-leaders-un-general-assembly/                                 |null               |null            |null      |null            |null              |null   |2025-09-23 07:45:00|\n",
      "|1264660537     |2025-09-23|https://cyprus-mail.com/2025/09/23/president-meets-chevron-executive-in-new-york                                                                  |null               |null            |null      |null            |null              |null   |2025-09-23 07:45:00|\n",
      "|1264662653     |2025-09-23|https://www.yahoo.com/news/articles/hampshire-man-charged-murder-shooting-173700762.html                                                          |null               |null            |null      |null            |null              |null   |2025-09-23 07:45:00|\n",
      "|1264662797     |2025-09-23|https://allafrica.com/stories/202509230097.html                                                                                                   |null               |null            |null      |null            |null              |null   |2025-09-23 07:45:00|\n",
      "|1264663307     |2025-09-23|https://www.newcastleherald.com.au/story/9072923/hunter-industrial-strikes-ampcontrol-workers-rally-more-to-come/                                 |null               |null            |null      |null            |null              |null   |2025-09-23 07:45:00|\n",
      "+---------------+----------+--------------------------------------------------------------------------------------------------------------------------------------------------+-------------------+----------------+----------+----------------+------------------+-------+-------------------+\n",
      "only showing top 20 rows\n",
      "\n"
     ]
    }
   ],
   "source": [
    "# stg_gkg_detailed_events 결과 확인\n",
    "print(\"🥈 [stg_gkg_detailed_events] 뷰\")\n",
    "spark.sql(\"SELECT * FROM staging_dev.stg_gkg_detailed_events\").show(truncate=False)"
   ]
  },
  {
   "cell_type": "markdown",
   "id": "97f74ad3",
   "metadata": {},
   "source": [
    "### Marts 폴더의 SQL 파일을 dbt run한 결과 확인"
   ]
  },
  {
   "cell_type": "code",
   "execution_count": 9,
   "id": "5f68f334",
   "metadata": {},
   "outputs": [
    {
     "name": "stdout",
     "output_type": "stream",
     "text": [
      "🥇 [gold_near_realtime_summary] 뷰\n"
     ]
    },
    {
     "name": "stderr",
     "output_type": "stream",
     "text": [
      "                                                                                \r"
     ]
    },
    {
     "name": "stdout",
     "output_type": "stream",
     "text": [
      "+----------+-------------------------+--------------------------------------------------------+-------------------------+-----------+--------------------+--------------------+--------------+-------------+--------------+-----------------------+--------------------+-------------------+-------------------+-------------------+--------------------------------------------------------------------------------------------+\n",
      "|event_date|mp_action_geo_country_iso|mp_action_geo_country_eng                               |mp_action_geo_country_kor|event_count|avg_goldstein_scale |avg_tone            |total_mentions|total_sources|total_articles|count_cooperation_event|count_conflict_event|count_anomaly_event|risk_score_daily   |processed_at       |daily_tone_summary                                                                          |\n",
      "+----------+-------------------------+--------------------------------------------------------+-------------------------+-----------+--------------------+--------------------+--------------+-------------+--------------+-----------------------+--------------------+-------------------+-------------------+-------------------+--------------------------------------------------------------------------------------------+\n",
      "|2025-09-24|BTN                      |Bhutan                                                  |부탄                     |22         |-0.9681818181818183 |0.03258957417121409 |94            |22           |90            |17                     |5                   |2                  |1.0925225275112083 |2025-09-25 09:45:00|부탄에서는 \"협의\" 관련 중립적인 분위기의 이벤트가 주로 발생했습니다.                        |\n",
      "|2024-09-24|HKG                      |Hong Kong                                               |홍콩                     |1          |-5.0                |-8.39160839160839   |5             |1            |5             |0                      |1                   |0                  |5.017482517482517  |2025-09-24 12:00:00|홍콩에서는 \"강압\" 관련 부정적인 분위기의 이벤트가 주로 발생했습니다.                        |\n",
      "|2025-09-25|DNK                      |Denmark                                                 |덴마크                   |176        |-1.2346590909090907 |-4.909676955160557  |904           |183          |891           |95                     |81                  |11                 |3.1243294310103433 |2025-09-25 11:00:00|덴마크에서는 \"공개 성명 발표\" 관련 부정적인 분위기의 이벤트가 주로 발생했습니다.            |\n",
      "|2025-09-17|SAU                      |Saudi Arabia                                            |사우디아라비아           |8          |4.1875              |-2.0131960211669435 |16            |8            |16            |8                      |0                   |0                  |-1.0739028853139496|2025-09-24 23:15:00|사우디아라비아에서는 \"외교적 협력\" 관련 중립적인 분위기의 이벤트가 주로 발생했습니다.       |\n",
      "|2025-09-24|TWN                      |Taiwan (Province of China)                              |대만                     |376        |1.0367021276595747  |-2.3178614024886115 |2012          |380          |1971          |299                    |77                  |11                 |1.362925185594775  |2025-09-24 23:30:00|대만에서는 \"협의\" 관련 중립적인 분위기의 이벤트가 주로 발생했습니다.                        |\n",
      "|2025-08-25|AUS                      |Australia                                               |호주                     |14         |2.2857142857142856  |0.2986387499787929  |57            |14           |57            |13                     |1                   |0                  |-0.704637301927729 |2025-09-24 22:00:00|호주에서는 \"협의\" 관련 중립적인 분위기의 이벤트가 주로 발생했습니다.                        |\n",
      "|2025-09-24|KGZ                      |Kyrgyzstan                                              |키르기스스탄             |18         |3.1166666666666667  |0.7947599624427334  |139           |18           |139           |17                     |1                   |0                  |-1.2186869704869205|2025-09-24 22:30:00|키르기스스탄에서는 \"협의\" 관련 중립적인 분위기의 이벤트가 주로 발생했습니다.                |\n",
      "|2025-09-23|ISL                      |Iceland                                                 |아이슬란드               |31         |-0.15161290322580642|-2.01551333288331   |190           |31           |166           |21                     |10                  |0                  |1.3672578923749255 |2025-09-23 23:45:00|아이슬란드에서는 \"협의\" 관련 중립적인 분위기의 이벤트가 주로 발생했습니다.                  |\n",
      "|2025-09-25|TUV                      |Tuvalu                                                  |투발루                   |3          |3.233333333333333   |-1.3430330162283102 |12            |3            |12            |3                      |0                   |0                  |-0.9940343040645516|2025-09-25 01:00:00|투발루에서는 \"협의\" 관련 중립적인 분위기의 이벤트가 주로 발생했습니다.                      |\n",
      "|2025-09-17|IRL                      |Ireland                                                 |아일랜드                 |12         |0.1500000000000001  |-0.7469654528478067 |28            |12           |28            |7                      |5                   |0                  |0.646070965811942  |2025-09-24 11:15:00|아일랜드에서는 \"협의\" 관련 중립적인 분위기의 이벤트가 주로 발생했습니다.                    |\n",
      "|2025-09-25|YEM                      |Yemen                                                   |예멘                     |29         |-3.3620689655172415 |-7.882587111994657  |140           |29           |140           |14                     |15                  |6                  |4.7192697823543135 |2025-09-25 11:00:00|예멘에서는 \"전투\" 관련 부정적인 분위기의 이벤트가 주로 발생했습니다.                        |\n",
      "|2025-09-25|CAN                      |Canada                                                  |캐나다                   |864        |1.3062499999999984  |-0.14810264878029897|4492          |959          |4295          |700                    |164                 |32                 |0.7436203483949018 |2025-09-25 11:00:00|캐나다에서는 \"협의\" 관련 중립적인 분위기의 이벤트가 주로 발생했습니다.                      |\n",
      "|2025-09-24|GNB                      |Guinea-Bissau                                           |기니비사우               |37         |2.7378378378378376  |1.8181051048934003  |116           |37           |116           |37                     |0                   |2                  |-1.192166867858094 |2025-09-24 19:15:00|기니비사우에서는 \"협의\" 관련 중립적인 분위기의 이벤트가 주로 발생했습니다.                  |\n",
      "|2025-09-24|TON                      |Tonga                                                   |통가                     |27         |2.525925925925926   |3.2167353768315587  |91            |27           |91            |27                     |0                   |8                  |-1.5688162028115649|2025-09-24 18:00:00|통가에서는 \"협의\" 관련 긍정적인 분위기의 이벤트가 주로 발생했습니다.                        |\n",
      "|2025-09-17|SYR                      |Syrian Arab Republic                                    |시리아 아랍 공화국       |11         |2.727272727272727   |-1.1556907326355377 |35            |11           |35            |10                     |1                   |0                  |-0.5373500892860281|2025-09-24 19:30:00|시리아 아랍 공화국에서는 \"협력 의사 표명\" 관련 중립적인 분위기의 이벤트가 주로 발생했습니다.|\n",
      "|2024-09-25|GBR                      |The United Kingdom of Great Britain and Northern Ireland|영국                     |12         |-3.8333333333333335 |2.5205401010608917  |57            |12           |57            |4                      |8                   |0                  |1.6574859663059993 |2025-09-25 09:45:00|영국에서는 \"전투\" 관련 긍정적인 분위기의 이벤트가 주로 발생했습니다.                        |\n",
      "|2025-09-25|ETH                      |Ethiopia                                                |에티오피아               |62         |0.5967741935483871  |0.29152195730662755 |287           |74           |279           |49                     |13                  |10                 |0.43958319304283655|2025-09-25 09:30:00|에티오피아에서는 \"협의\" 관련 중립적인 분위기의 이벤트가 주로 발생했습니다.                  |\n",
      "|2025-09-24|REU                      |Réunion                                                 |레위니옹                 |13         |1.0615384615384615  |4.106902996931101   |120           |13           |116           |10                     |3                   |1                  |-1.2498502583562536|2025-09-24 23:00:00|레위니옹에서는 \"협의\" 관련 긍정적인 분위기의 이벤트가 주로 발생했습니다.                    |\n",
      "|2025-08-25|NGA                      |Nigeria                                                 |나이지리아               |5          |2.88                |-6.581064886149639  |13            |5            |13            |5                      |0                   |0                  |0.8562070483317117 |2025-09-24 08:30:00|나이지리아에서는 \"협의\" 관련 부정적인 분위기의 이벤트가 주로 발생했습니다.                  |\n",
      "|2025-09-25|LIE                      |Liechtenstein                                           |리히텐슈타인             |3          |0.4666666666666666  |-1.48285449490268   |25            |3            |25            |2                      |1                   |0                  |0.4312454728710926 |2025-09-25 08:30:00|리히텐슈타인에서는 \"공개 성명 발표\" 관련 중립적인 분위기의 이벤트가 주로 발생했습니다.      |\n",
      "+----------+-------------------------+--------------------------------------------------------+-------------------------+-----------+--------------------+--------------------+--------------+-------------+--------------+-----------------------+--------------------+-------------------+-------------------+-------------------+--------------------------------------------------------------------------------------------+\n",
      "only showing top 20 rows\n",
      "\n"
     ]
    }
   ],
   "source": [
    "# 15분마다 업데이트) gdelt_events 데이터만을 사용하여, 대시보드의 핵심 KPI를 빠르게 집계\n",
    "print(\"🥇 [gold_near_realtime_summary] 뷰\")\n",
    "spark.sql(\"SELECT * FROM gold_dev.gold_near_realtime_summary\").show(truncate=False)"
   ]
  },
  {
   "cell_type": "code",
   "execution_count": 3,
   "id": "90bfd68c",
   "metadata": {},
   "outputs": [
    {
     "name": "stdout",
     "output_type": "stream",
     "text": [
      "🥇 [gold_daily_detailed_events] 뷰\n"
     ]
    },
    {
     "name": "stderr",
     "output_type": "stream",
     "text": [
      "25/09/25 15:08:19 WARN RetryingMetaStoreClient: MetaStoreClient lost connection. Attempting to reconnect (1 of 1) after 1s. getDatabase\n",
      "org.apache.thrift.transport.TTransportException: java.net.SocketException: Connection reset\n",
      "\tat org.apache.thrift.transport.TIOStreamTransport.read(TIOStreamTransport.java:129)\n",
      "\tat org.apache.thrift.transport.TTransport.readAll(TTransport.java:86)\n",
      "\tat org.apache.thrift.protocol.TBinaryProtocol.readAll(TBinaryProtocol.java:425)\n",
      "\tat org.apache.thrift.protocol.TBinaryProtocol.readI32(TBinaryProtocol.java:321)\n",
      "\tat org.apache.thrift.protocol.TBinaryProtocol.readMessageBegin(TBinaryProtocol.java:225)\n",
      "\tat org.apache.thrift.TServiceClient.receiveBase(TServiceClient.java:77)\n",
      "\tat org.apache.hadoop.hive.metastore.api.ThriftHiveMetastore$Client.recv_get_database(ThriftHiveMetastore.java:782)\n",
      "\tat org.apache.hadoop.hive.metastore.api.ThriftHiveMetastore$Client.get_database(ThriftHiveMetastore.java:769)\n",
      "\tat org.apache.hadoop.hive.metastore.HiveMetaStoreClient.getDatabase(HiveMetaStoreClient.java:1288)\n",
      "\tat java.base/jdk.internal.reflect.NativeMethodAccessorImpl.invoke0(Native Method)\n",
      "\tat java.base/jdk.internal.reflect.NativeMethodAccessorImpl.invoke(NativeMethodAccessorImpl.java:77)\n",
      "\tat java.base/jdk.internal.reflect.DelegatingMethodAccessorImpl.invoke(DelegatingMethodAccessorImpl.java:43)\n",
      "\tat java.base/java.lang.reflect.Method.invoke(Method.java:569)\n",
      "\tat org.apache.hadoop.hive.metastore.RetryingMetaStoreClient.invoke(RetryingMetaStoreClient.java:173)\n",
      "\tat jdk.proxy2/jdk.proxy2.$Proxy31.getDatabase(Unknown Source)\n",
      "\tat java.base/jdk.internal.reflect.NativeMethodAccessorImpl.invoke0(Native Method)\n",
      "\tat java.base/jdk.internal.reflect.NativeMethodAccessorImpl.invoke(NativeMethodAccessorImpl.java:77)\n",
      "\tat java.base/jdk.internal.reflect.DelegatingMethodAccessorImpl.invoke(DelegatingMethodAccessorImpl.java:43)\n",
      "\tat java.base/java.lang.reflect.Method.invoke(Method.java:569)\n",
      "\tat org.apache.hadoop.hive.metastore.HiveMetaStoreClient$SynchronizedHandler.invoke(HiveMetaStoreClient.java:2327)\n",
      "\tat jdk.proxy2/jdk.proxy2.$Proxy31.getDatabase(Unknown Source)\n",
      "\tat org.apache.hadoop.hive.ql.metadata.Hive.getDatabase(Hive.java:1563)\n",
      "\tat org.apache.hadoop.hive.ql.metadata.Hive.databaseExists(Hive.java:1552)\n",
      "\tat org.apache.spark.sql.hive.client.Shim_v0_12.databaseExists(HiveShim.scala:609)\n",
      "\tat org.apache.spark.sql.hive.client.HiveClientImpl.$anonfun$databaseExists$1(HiveClientImpl.scala:406)\n",
      "\tat scala.runtime.java8.JFunction0$mcZ$sp.apply(JFunction0$mcZ$sp.java:23)\n",
      "\tat org.apache.spark.sql.hive.client.HiveClientImpl.$anonfun$withHiveState$1(HiveClientImpl.scala:303)\n",
      "\tat org.apache.spark.sql.hive.client.HiveClientImpl.liftedTree1$1(HiveClientImpl.scala:234)\n",
      "\tat org.apache.spark.sql.hive.client.HiveClientImpl.retryLocked(HiveClientImpl.scala:233)\n",
      "\tat org.apache.spark.sql.hive.client.HiveClientImpl.withHiveState(HiveClientImpl.scala:283)\n",
      "\tat org.apache.spark.sql.hive.client.HiveClientImpl.databaseExists(HiveClientImpl.scala:406)\n",
      "\tat org.apache.spark.sql.hive.HiveExternalCatalog.$anonfun$databaseExists$1(HiveExternalCatalog.scala:223)\n",
      "\tat scala.runtime.java8.JFunction0$mcZ$sp.apply(JFunction0$mcZ$sp.java:23)\n",
      "\tat org.apache.spark.sql.hive.HiveExternalCatalog.withClient(HiveExternalCatalog.scala:101)\n",
      "\tat org.apache.spark.sql.hive.HiveExternalCatalog.databaseExists(HiveExternalCatalog.scala:223)\n",
      "\tat org.apache.spark.sql.catalyst.catalog.ExternalCatalogWithListener.databaseExists(ExternalCatalogWithListener.scala:69)\n",
      "\tat org.apache.spark.sql.catalyst.catalog.SessionCatalog.databaseExists(SessionCatalog.scala:319)\n",
      "\tat org.apache.spark.sql.catalyst.catalog.SessionCatalog.requireDbExists(SessionCatalog.scala:249)\n",
      "\tat org.apache.spark.sql.catalyst.catalog.SessionCatalog.getTableRawMetadata(SessionCatalog.scala:540)\n",
      "\tat org.apache.spark.sql.catalyst.catalog.SessionCatalog.getTableMetadata(SessionCatalog.scala:526)\n",
      "\tat org.apache.spark.sql.execution.datasources.v2.V2SessionCatalog.loadTable(V2SessionCatalog.scala:74)\n",
      "\tat org.apache.spark.sql.connector.catalog.DelegatingCatalogExtension.loadTable(DelegatingCatalogExtension.java:73)\n",
      "\tat org.apache.spark.sql.delta.catalog.DeltaCatalog.super$loadTable(DeltaCatalog.scala:175)\n",
      "\tat org.apache.spark.sql.delta.catalog.DeltaCatalog.$anonfun$loadTable$1(DeltaCatalog.scala:175)\n",
      "\tat org.apache.spark.sql.delta.metering.DeltaLogging.recordFrameProfile(DeltaLogging.scala:140)\n",
      "\tat org.apache.spark.sql.delta.metering.DeltaLogging.recordFrameProfile$(DeltaLogging.scala:138)\n",
      "\tat org.apache.spark.sql.delta.catalog.DeltaCatalog.recordFrameProfile(DeltaCatalog.scala:57)\n",
      "\tat org.apache.spark.sql.delta.catalog.DeltaCatalog.loadTable(DeltaCatalog.scala:174)\n",
      "\tat org.apache.spark.sql.connector.catalog.CatalogV2Util$.getTable(CatalogV2Util.scala:355)\n",
      "\tat org.apache.spark.sql.connector.catalog.CatalogV2Util$.loadTable(CatalogV2Util.scala:336)\n",
      "\tat org.apache.spark.sql.catalyst.analysis.Analyzer$ResolveRelations$.$anonfun$resolveRelation$3(Analyzer.scala:1266)\n",
      "\tat scala.Option.orElse(Option.scala:447)\n",
      "\tat org.apache.spark.sql.catalyst.analysis.Analyzer$ResolveRelations$.$anonfun$resolveRelation$1(Analyzer.scala:1265)\n",
      "\tat scala.Option.orElse(Option.scala:447)\n",
      "\tat org.apache.spark.sql.catalyst.analysis.Analyzer$ResolveRelations$.org$apache$spark$sql$catalyst$analysis$Analyzer$ResolveRelations$$resolveRelation(Analyzer.scala:1257)\n",
      "\tat org.apache.spark.sql.catalyst.analysis.Analyzer$ResolveRelations$$anonfun$apply$14.applyOrElse(Analyzer.scala:1120)\n",
      "\tat org.apache.spark.sql.catalyst.analysis.Analyzer$ResolveRelations$$anonfun$apply$14.applyOrElse(Analyzer.scala:1084)\n",
      "\tat org.apache.spark.sql.catalyst.plans.logical.AnalysisHelper.$anonfun$resolveOperatorsUpWithPruning$3(AnalysisHelper.scala:138)\n",
      "\tat org.apache.spark.sql.catalyst.trees.CurrentOrigin$.withOrigin(TreeNode.scala:104)\n",
      "\tat org.apache.spark.sql.catalyst.plans.logical.AnalysisHelper.$anonfun$resolveOperatorsUpWithPruning$1(AnalysisHelper.scala:138)\n",
      "\tat org.apache.spark.sql.catalyst.plans.logical.AnalysisHelper$.allowInvokingTransformsInAnalyzer(AnalysisHelper.scala:323)\n",
      "\tat org.apache.spark.sql.catalyst.plans.logical.AnalysisHelper.resolveOperatorsUpWithPruning(AnalysisHelper.scala:134)\n",
      "\tat org.apache.spark.sql.catalyst.plans.logical.AnalysisHelper.resolveOperatorsUpWithPruning$(AnalysisHelper.scala:130)\n",
      "\tat org.apache.spark.sql.catalyst.plans.logical.LogicalPlan.resolveOperatorsUpWithPruning(LogicalPlan.scala:31)\n",
      "\tat org.apache.spark.sql.catalyst.plans.logical.AnalysisHelper.$anonfun$resolveOperatorsUpWithPruning$2(AnalysisHelper.scala:135)\n",
      "\tat org.apache.spark.sql.catalyst.trees.UnaryLike.mapChildren(TreeNode.scala:1250)\n",
      "\tat org.apache.spark.sql.catalyst.trees.UnaryLike.mapChildren$(TreeNode.scala:1249)\n",
      "\tat org.apache.spark.sql.catalyst.plans.logical.Project.mapChildren(basicLogicalOperators.scala:69)\n",
      "\tat org.apache.spark.sql.catalyst.plans.logical.AnalysisHelper.$anonfun$resolveOperatorsUpWithPruning$1(AnalysisHelper.scala:135)\n",
      "\tat org.apache.spark.sql.catalyst.plans.logical.AnalysisHelper$.allowInvokingTransformsInAnalyzer(AnalysisHelper.scala:323)\n",
      "\tat org.apache.spark.sql.catalyst.plans.logical.AnalysisHelper.resolveOperatorsUpWithPruning(AnalysisHelper.scala:134)\n",
      "\tat org.apache.spark.sql.catalyst.plans.logical.AnalysisHelper.resolveOperatorsUpWithPruning$(AnalysisHelper.scala:130)\n",
      "\tat org.apache.spark.sql.catalyst.plans.logical.LogicalPlan.resolveOperatorsUpWithPruning(LogicalPlan.scala:31)\n",
      "\tat org.apache.spark.sql.catalyst.analysis.Analyzer$ResolveRelations$.apply(Analyzer.scala:1084)\n",
      "\tat org.apache.spark.sql.catalyst.analysis.Analyzer$ResolveRelations$.apply(Analyzer.scala:1043)\n",
      "\tat org.apache.spark.sql.catalyst.rules.RuleExecutor.$anonfun$execute$2(RuleExecutor.scala:222)\n",
      "\tat scala.collection.LinearSeqOptimized.foldLeft(LinearSeqOptimized.scala:126)\n",
      "\tat scala.collection.LinearSeqOptimized.foldLeft$(LinearSeqOptimized.scala:122)\n",
      "\tat scala.collection.immutable.List.foldLeft(List.scala:91)\n",
      "\tat org.apache.spark.sql.catalyst.rules.RuleExecutor.$anonfun$execute$1(RuleExecutor.scala:219)\n",
      "\tat org.apache.spark.sql.catalyst.rules.RuleExecutor.$anonfun$execute$1$adapted(RuleExecutor.scala:211)\n",
      "\tat scala.collection.immutable.List.foreach(List.scala:431)\n",
      "\tat org.apache.spark.sql.catalyst.rules.RuleExecutor.execute(RuleExecutor.scala:211)\n",
      "\tat org.apache.spark.sql.catalyst.analysis.Analyzer.org$apache$spark$sql$catalyst$analysis$Analyzer$$executeSameContext(Analyzer.scala:228)\n",
      "\tat org.apache.spark.sql.catalyst.analysis.Analyzer.$anonfun$execute$1(Analyzer.scala:224)\n",
      "\tat org.apache.spark.sql.catalyst.analysis.AnalysisContext$.withNewAnalysisContext(Analyzer.scala:173)\n",
      "\tat org.apache.spark.sql.catalyst.analysis.Analyzer.execute(Analyzer.scala:224)\n",
      "\tat org.apache.spark.sql.catalyst.analysis.Analyzer.execute(Analyzer.scala:188)\n",
      "\tat org.apache.spark.sql.catalyst.rules.RuleExecutor.$anonfun$executeAndTrack$1(RuleExecutor.scala:182)\n",
      "\tat org.apache.spark.sql.catalyst.QueryPlanningTracker$.withTracker(QueryPlanningTracker.scala:88)\n",
      "\tat org.apache.spark.sql.catalyst.rules.RuleExecutor.executeAndTrack(RuleExecutor.scala:182)\n",
      "\tat org.apache.spark.sql.catalyst.analysis.Analyzer.$anonfun$executeAndCheck$1(Analyzer.scala:209)\n",
      "\tat org.apache.spark.sql.catalyst.plans.logical.AnalysisHelper$.markInAnalyzer(AnalysisHelper.scala:330)\n",
      "\tat org.apache.spark.sql.catalyst.analysis.Analyzer.executeAndCheck(Analyzer.scala:208)\n",
      "\tat org.apache.spark.sql.execution.QueryExecution.$anonfun$analyzed$1(QueryExecution.scala:76)\n",
      "\tat org.apache.spark.sql.catalyst.QueryPlanningTracker.measurePhase(QueryPlanningTracker.scala:111)\n",
      "\tat org.apache.spark.sql.execution.QueryExecution.$anonfun$executePhase$2(QueryExecution.scala:202)\n",
      "\tat org.apache.spark.sql.execution.QueryExecution$.withInternalError(QueryExecution.scala:526)\n",
      "\tat org.apache.spark.sql.execution.QueryExecution.$anonfun$executePhase$1(QueryExecution.scala:202)\n",
      "\tat org.apache.spark.sql.SparkSession.withActive(SparkSession.scala:827)\n",
      "\tat org.apache.spark.sql.execution.QueryExecution.executePhase(QueryExecution.scala:201)\n",
      "\tat org.apache.spark.sql.execution.QueryExecution.analyzed$lzycompute(QueryExecution.scala:76)\n",
      "\tat org.apache.spark.sql.execution.QueryExecution.analyzed(QueryExecution.scala:74)\n",
      "\tat org.apache.spark.sql.execution.QueryExecution.assertAnalyzed(QueryExecution.scala:66)\n",
      "\tat org.apache.spark.sql.Dataset$.$anonfun$ofRows$2(Dataset.scala:97)\n",
      "\tat org.apache.spark.sql.SparkSession.withActive(SparkSession.scala:827)\n",
      "\tat org.apache.spark.sql.Dataset$.ofRows(Dataset.scala:95)\n",
      "\tat org.apache.spark.sql.SparkSession.$anonfun$sql$1(SparkSession.scala:640)\n",
      "\tat org.apache.spark.sql.SparkSession.withActive(SparkSession.scala:827)\n",
      "\tat org.apache.spark.sql.SparkSession.sql(SparkSession.scala:630)\n",
      "\tat org.apache.spark.sql.SparkSession.sql(SparkSession.scala:662)\n",
      "\tat java.base/jdk.internal.reflect.NativeMethodAccessorImpl.invoke0(Native Method)\n",
      "\tat java.base/jdk.internal.reflect.NativeMethodAccessorImpl.invoke(NativeMethodAccessorImpl.java:77)\n",
      "\tat java.base/jdk.internal.reflect.DelegatingMethodAccessorImpl.invoke(DelegatingMethodAccessorImpl.java:43)\n",
      "\tat java.base/java.lang.reflect.Method.invoke(Method.java:569)\n",
      "\tat py4j.reflection.MethodInvoker.invoke(MethodInvoker.java:244)\n",
      "\tat py4j.reflection.ReflectionEngine.invoke(ReflectionEngine.java:374)\n",
      "\tat py4j.Gateway.invoke(Gateway.java:282)\n",
      "\tat py4j.commands.AbstractCommand.invokeMethod(AbstractCommand.java:132)\n",
      "\tat py4j.commands.CallCommand.execute(CallCommand.java:79)\n",
      "\tat py4j.ClientServerConnection.waitForCommands(ClientServerConnection.java:182)\n",
      "\tat py4j.ClientServerConnection.run(ClientServerConnection.java:106)\n",
      "\tat java.base/java.lang.Thread.run(Thread.java:840)\n",
      "Caused by: java.net.SocketException: Connection reset\n",
      "\tat java.base/sun.nio.ch.NioSocketImpl.implRead(NioSocketImpl.java:328)\n",
      "\tat java.base/sun.nio.ch.NioSocketImpl.read(NioSocketImpl.java:355)\n",
      "\tat java.base/sun.nio.ch.NioSocketImpl$1.read(NioSocketImpl.java:808)\n",
      "\tat java.base/java.net.Socket$SocketInputStream.read(Socket.java:966)\n",
      "\tat java.base/java.io.BufferedInputStream.fill(BufferedInputStream.java:244)\n",
      "\tat java.base/java.io.BufferedInputStream.read1(BufferedInputStream.java:284)\n",
      "\tat java.base/java.io.BufferedInputStream.read(BufferedInputStream.java:343)\n",
      "\tat org.apache.thrift.transport.TIOStreamTransport.read(TIOStreamTransport.java:127)\n",
      "\t... 122 more\n",
      "25/09/25 15:08:20 WARN TIOStreamTransport: Error closing output stream.\n",
      "java.net.SocketException: Socket closed\n",
      "\tat java.base/sun.nio.ch.NioSocketImpl.ensureOpenAndConnected(NioSocketImpl.java:165)\n",
      "\tat java.base/sun.nio.ch.NioSocketImpl.beginWrite(NioSocketImpl.java:371)\n",
      "\tat java.base/sun.nio.ch.NioSocketImpl.implWrite(NioSocketImpl.java:416)\n",
      "\tat java.base/sun.nio.ch.NioSocketImpl.write(NioSocketImpl.java:445)\n",
      "\tat java.base/sun.nio.ch.NioSocketImpl$2.write(NioSocketImpl.java:831)\n",
      "\tat java.base/java.net.Socket$SocketOutputStream.write(Socket.java:1035)\n",
      "\tat java.base/java.io.BufferedOutputStream.flushBuffer(BufferedOutputStream.java:81)\n",
      "\tat java.base/java.io.BufferedOutputStream.flush(BufferedOutputStream.java:142)\n",
      "\tat java.base/java.io.FilterOutputStream.close(FilterOutputStream.java:182)\n",
      "\tat org.apache.thrift.transport.TIOStreamTransport.close(TIOStreamTransport.java:110)\n",
      "\tat org.apache.thrift.transport.TSocket.close(TSocket.java:235)\n",
      "\tat org.apache.hadoop.hive.metastore.HiveMetaStoreClient.close(HiveMetaStoreClient.java:561)\n",
      "\tat org.apache.hadoop.hive.metastore.HiveMetaStoreClient.reconnect(HiveMetaStoreClient.java:333)\n",
      "\tat org.apache.hadoop.hive.metastore.RetryingMetaStoreClient.invoke(RetryingMetaStoreClient.java:163)\n",
      "\tat jdk.proxy2/jdk.proxy2.$Proxy31.getDatabase(Unknown Source)\n",
      "\tat java.base/jdk.internal.reflect.NativeMethodAccessorImpl.invoke0(Native Method)\n",
      "\tat java.base/jdk.internal.reflect.NativeMethodAccessorImpl.invoke(NativeMethodAccessorImpl.java:77)\n",
      "\tat java.base/jdk.internal.reflect.DelegatingMethodAccessorImpl.invoke(DelegatingMethodAccessorImpl.java:43)\n",
      "\tat java.base/java.lang.reflect.Method.invoke(Method.java:569)\n",
      "\tat org.apache.hadoop.hive.metastore.HiveMetaStoreClient$SynchronizedHandler.invoke(HiveMetaStoreClient.java:2327)\n",
      "\tat jdk.proxy2/jdk.proxy2.$Proxy31.getDatabase(Unknown Source)\n",
      "\tat org.apache.hadoop.hive.ql.metadata.Hive.getDatabase(Hive.java:1563)\n",
      "\tat org.apache.hadoop.hive.ql.metadata.Hive.databaseExists(Hive.java:1552)\n",
      "\tat org.apache.spark.sql.hive.client.Shim_v0_12.databaseExists(HiveShim.scala:609)\n",
      "\tat org.apache.spark.sql.hive.client.HiveClientImpl.$anonfun$databaseExists$1(HiveClientImpl.scala:406)\n",
      "\tat scala.runtime.java8.JFunction0$mcZ$sp.apply(JFunction0$mcZ$sp.java:23)\n",
      "\tat org.apache.spark.sql.hive.client.HiveClientImpl.$anonfun$withHiveState$1(HiveClientImpl.scala:303)\n",
      "\tat org.apache.spark.sql.hive.client.HiveClientImpl.liftedTree1$1(HiveClientImpl.scala:234)\n",
      "\tat org.apache.spark.sql.hive.client.HiveClientImpl.retryLocked(HiveClientImpl.scala:233)\n",
      "\tat org.apache.spark.sql.hive.client.HiveClientImpl.withHiveState(HiveClientImpl.scala:283)\n",
      "\tat org.apache.spark.sql.hive.client.HiveClientImpl.databaseExists(HiveClientImpl.scala:406)\n",
      "\tat org.apache.spark.sql.hive.HiveExternalCatalog.$anonfun$databaseExists$1(HiveExternalCatalog.scala:223)\n",
      "\tat scala.runtime.java8.JFunction0$mcZ$sp.apply(JFunction0$mcZ$sp.java:23)\n",
      "\tat org.apache.spark.sql.hive.HiveExternalCatalog.withClient(HiveExternalCatalog.scala:101)\n",
      "\tat org.apache.spark.sql.hive.HiveExternalCatalog.databaseExists(HiveExternalCatalog.scala:223)\n",
      "\tat org.apache.spark.sql.catalyst.catalog.ExternalCatalogWithListener.databaseExists(ExternalCatalogWithListener.scala:69)\n",
      "\tat org.apache.spark.sql.catalyst.catalog.SessionCatalog.databaseExists(SessionCatalog.scala:319)\n",
      "\tat org.apache.spark.sql.catalyst.catalog.SessionCatalog.requireDbExists(SessionCatalog.scala:249)\n",
      "\tat org.apache.spark.sql.catalyst.catalog.SessionCatalog.getTableRawMetadata(SessionCatalog.scala:540)\n",
      "\tat org.apache.spark.sql.catalyst.catalog.SessionCatalog.getTableMetadata(SessionCatalog.scala:526)\n",
      "\tat org.apache.spark.sql.execution.datasources.v2.V2SessionCatalog.loadTable(V2SessionCatalog.scala:74)\n",
      "\tat org.apache.spark.sql.connector.catalog.DelegatingCatalogExtension.loadTable(DelegatingCatalogExtension.java:73)\n",
      "\tat org.apache.spark.sql.delta.catalog.DeltaCatalog.super$loadTable(DeltaCatalog.scala:175)\n",
      "\tat org.apache.spark.sql.delta.catalog.DeltaCatalog.$anonfun$loadTable$1(DeltaCatalog.scala:175)\n",
      "\tat org.apache.spark.sql.delta.metering.DeltaLogging.recordFrameProfile(DeltaLogging.scala:140)\n",
      "\tat org.apache.spark.sql.delta.metering.DeltaLogging.recordFrameProfile$(DeltaLogging.scala:138)\n",
      "\tat org.apache.spark.sql.delta.catalog.DeltaCatalog.recordFrameProfile(DeltaCatalog.scala:57)\n",
      "\tat org.apache.spark.sql.delta.catalog.DeltaCatalog.loadTable(DeltaCatalog.scala:174)\n",
      "\tat org.apache.spark.sql.connector.catalog.CatalogV2Util$.getTable(CatalogV2Util.scala:355)\n",
      "\tat org.apache.spark.sql.connector.catalog.CatalogV2Util$.loadTable(CatalogV2Util.scala:336)\n",
      "\tat org.apache.spark.sql.catalyst.analysis.Analyzer$ResolveRelations$.$anonfun$resolveRelation$3(Analyzer.scala:1266)\n",
      "\tat scala.Option.orElse(Option.scala:447)\n",
      "\tat org.apache.spark.sql.catalyst.analysis.Analyzer$ResolveRelations$.$anonfun$resolveRelation$1(Analyzer.scala:1265)\n",
      "\tat scala.Option.orElse(Option.scala:447)\n",
      "\tat org.apache.spark.sql.catalyst.analysis.Analyzer$ResolveRelations$.org$apache$spark$sql$catalyst$analysis$Analyzer$ResolveRelations$$resolveRelation(Analyzer.scala:1257)\n",
      "\tat org.apache.spark.sql.catalyst.analysis.Analyzer$ResolveRelations$$anonfun$apply$14.applyOrElse(Analyzer.scala:1120)\n",
      "\tat org.apache.spark.sql.catalyst.analysis.Analyzer$ResolveRelations$$anonfun$apply$14.applyOrElse(Analyzer.scala:1084)\n",
      "\tat org.apache.spark.sql.catalyst.plans.logical.AnalysisHelper.$anonfun$resolveOperatorsUpWithPruning$3(AnalysisHelper.scala:138)\n",
      "\tat org.apache.spark.sql.catalyst.trees.CurrentOrigin$.withOrigin(TreeNode.scala:104)\n",
      "\tat org.apache.spark.sql.catalyst.plans.logical.AnalysisHelper.$anonfun$resolveOperatorsUpWithPruning$1(AnalysisHelper.scala:138)\n",
      "\tat org.apache.spark.sql.catalyst.plans.logical.AnalysisHelper$.allowInvokingTransformsInAnalyzer(AnalysisHelper.scala:323)\n",
      "\tat org.apache.spark.sql.catalyst.plans.logical.AnalysisHelper.resolveOperatorsUpWithPruning(AnalysisHelper.scala:134)\n",
      "\tat org.apache.spark.sql.catalyst.plans.logical.AnalysisHelper.resolveOperatorsUpWithPruning$(AnalysisHelper.scala:130)\n",
      "\tat org.apache.spark.sql.catalyst.plans.logical.LogicalPlan.resolveOperatorsUpWithPruning(LogicalPlan.scala:31)\n",
      "\tat org.apache.spark.sql.catalyst.plans.logical.AnalysisHelper.$anonfun$resolveOperatorsUpWithPruning$2(AnalysisHelper.scala:135)\n",
      "\tat org.apache.spark.sql.catalyst.trees.UnaryLike.mapChildren(TreeNode.scala:1250)\n",
      "\tat org.apache.spark.sql.catalyst.trees.UnaryLike.mapChildren$(TreeNode.scala:1249)\n",
      "\tat org.apache.spark.sql.catalyst.plans.logical.Project.mapChildren(basicLogicalOperators.scala:69)\n",
      "\tat org.apache.spark.sql.catalyst.plans.logical.AnalysisHelper.$anonfun$resolveOperatorsUpWithPruning$1(AnalysisHelper.scala:135)\n",
      "\tat org.apache.spark.sql.catalyst.plans.logical.AnalysisHelper$.allowInvokingTransformsInAnalyzer(AnalysisHelper.scala:323)\n",
      "\tat org.apache.spark.sql.catalyst.plans.logical.AnalysisHelper.resolveOperatorsUpWithPruning(AnalysisHelper.scala:134)\n",
      "\tat org.apache.spark.sql.catalyst.plans.logical.AnalysisHelper.resolveOperatorsUpWithPruning$(AnalysisHelper.scala:130)\n",
      "\tat org.apache.spark.sql.catalyst.plans.logical.LogicalPlan.resolveOperatorsUpWithPruning(LogicalPlan.scala:31)\n",
      "\tat org.apache.spark.sql.catalyst.analysis.Analyzer$ResolveRelations$.apply(Analyzer.scala:1084)\n",
      "\tat org.apache.spark.sql.catalyst.analysis.Analyzer$ResolveRelations$.apply(Analyzer.scala:1043)\n",
      "\tat org.apache.spark.sql.catalyst.rules.RuleExecutor.$anonfun$execute$2(RuleExecutor.scala:222)\n",
      "\tat scala.collection.LinearSeqOptimized.foldLeft(LinearSeqOptimized.scala:126)\n",
      "\tat scala.collection.LinearSeqOptimized.foldLeft$(LinearSeqOptimized.scala:122)\n",
      "\tat scala.collection.immutable.List.foldLeft(List.scala:91)\n",
      "\tat org.apache.spark.sql.catalyst.rules.RuleExecutor.$anonfun$execute$1(RuleExecutor.scala:219)\n",
      "\tat org.apache.spark.sql.catalyst.rules.RuleExecutor.$anonfun$execute$1$adapted(RuleExecutor.scala:211)\n",
      "\tat scala.collection.immutable.List.foreach(List.scala:431)\n",
      "\tat org.apache.spark.sql.catalyst.rules.RuleExecutor.execute(RuleExecutor.scala:211)\n",
      "\tat org.apache.spark.sql.catalyst.analysis.Analyzer.org$apache$spark$sql$catalyst$analysis$Analyzer$$executeSameContext(Analyzer.scala:228)\n",
      "\tat org.apache.spark.sql.catalyst.analysis.Analyzer.$anonfun$execute$1(Analyzer.scala:224)\n",
      "\tat org.apache.spark.sql.catalyst.analysis.AnalysisContext$.withNewAnalysisContext(Analyzer.scala:173)\n",
      "\tat org.apache.spark.sql.catalyst.analysis.Analyzer.execute(Analyzer.scala:224)\n",
      "\tat org.apache.spark.sql.catalyst.analysis.Analyzer.execute(Analyzer.scala:188)\n",
      "\tat org.apache.spark.sql.catalyst.rules.RuleExecutor.$anonfun$executeAndTrack$1(RuleExecutor.scala:182)\n",
      "\tat org.apache.spark.sql.catalyst.QueryPlanningTracker$.withTracker(QueryPlanningTracker.scala:88)\n",
      "\tat org.apache.spark.sql.catalyst.rules.RuleExecutor.executeAndTrack(RuleExecutor.scala:182)\n",
      "\tat org.apache.spark.sql.catalyst.analysis.Analyzer.$anonfun$executeAndCheck$1(Analyzer.scala:209)\n",
      "\tat org.apache.spark.sql.catalyst.plans.logical.AnalysisHelper$.markInAnalyzer(AnalysisHelper.scala:330)\n",
      "\tat org.apache.spark.sql.catalyst.analysis.Analyzer.executeAndCheck(Analyzer.scala:208)\n",
      "\tat org.apache.spark.sql.execution.QueryExecution.$anonfun$analyzed$1(QueryExecution.scala:76)\n",
      "\tat org.apache.spark.sql.catalyst.QueryPlanningTracker.measurePhase(QueryPlanningTracker.scala:111)\n",
      "\tat org.apache.spark.sql.execution.QueryExecution.$anonfun$executePhase$2(QueryExecution.scala:202)\n",
      "\tat org.apache.spark.sql.execution.QueryExecution$.withInternalError(QueryExecution.scala:526)\n",
      "\tat org.apache.spark.sql.execution.QueryExecution.$anonfun$executePhase$1(QueryExecution.scala:202)\n",
      "\tat org.apache.spark.sql.SparkSession.withActive(SparkSession.scala:827)\n",
      "\tat org.apache.spark.sql.execution.QueryExecution.executePhase(QueryExecution.scala:201)\n",
      "\tat org.apache.spark.sql.execution.QueryExecution.analyzed$lzycompute(QueryExecution.scala:76)\n",
      "\tat org.apache.spark.sql.execution.QueryExecution.analyzed(QueryExecution.scala:74)\n",
      "\tat org.apache.spark.sql.execution.QueryExecution.assertAnalyzed(QueryExecution.scala:66)\n",
      "\tat org.apache.spark.sql.Dataset$.$anonfun$ofRows$2(Dataset.scala:97)\n",
      "\tat org.apache.spark.sql.SparkSession.withActive(SparkSession.scala:827)\n",
      "\tat org.apache.spark.sql.Dataset$.ofRows(Dataset.scala:95)\n",
      "\tat org.apache.spark.sql.SparkSession.$anonfun$sql$1(SparkSession.scala:640)\n",
      "\tat org.apache.spark.sql.SparkSession.withActive(SparkSession.scala:827)\n",
      "\tat org.apache.spark.sql.SparkSession.sql(SparkSession.scala:630)\n",
      "\tat org.apache.spark.sql.SparkSession.sql(SparkSession.scala:662)\n",
      "\tat java.base/jdk.internal.reflect.NativeMethodAccessorImpl.invoke0(Native Method)\n",
      "\tat java.base/jdk.internal.reflect.NativeMethodAccessorImpl.invoke(NativeMethodAccessorImpl.java:77)\n",
      "\tat java.base/jdk.internal.reflect.DelegatingMethodAccessorImpl.invoke(DelegatingMethodAccessorImpl.java:43)\n",
      "\tat java.base/java.lang.reflect.Method.invoke(Method.java:569)\n",
      "\tat py4j.reflection.MethodInvoker.invoke(MethodInvoker.java:244)\n",
      "\tat py4j.reflection.ReflectionEngine.invoke(ReflectionEngine.java:374)\n",
      "\tat py4j.Gateway.invoke(Gateway.java:282)\n",
      "\tat py4j.commands.AbstractCommand.invokeMethod(AbstractCommand.java:132)\n",
      "\tat py4j.commands.CallCommand.execute(CallCommand.java:79)\n",
      "\tat py4j.ClientServerConnection.waitForCommands(ClientServerConnection.java:182)\n",
      "\tat py4j.ClientServerConnection.run(ClientServerConnection.java:106)\n",
      "\tat java.base/java.lang.Thread.run(Thread.java:840)\n",
      "                                                                                \r"
     ]
    },
    {
     "name": "stdout",
     "output_type": "stream",
     "text": [
      "+---------------+----------+-------------+-------------------+-------------------------+----------+-------------+---------------+------------+-----------+------------+-----------------+-----------+--------------------+--------------------------+--------------------------+--------------------------+----------------------+---------------------------+----------------+------------------+-----------------------+--------------+-------------------+------------------+-----------------------------------------------+-------------------------+----------------------------+-------------------------+--------------+---------------+-----------+---------------+--------------------------+----------------------------+--------------------------+----------------------+---------------------------+----------------+------------------+-----------------------+--------------+-------------------+------------------+------------------------------------------------+-----------------------+-------------------------+----------------------------+-------------------------+--------------+---------------+------------------+---------------------------------+-------------------------+----------------------------+-------------------------+--------------+---------------+-------------------+--------------------------------------------------------------------------------------------------------------------------------------------+-------------------+-------------------------+---------------+---------------+-------------------+----------------+----------+----------------+------------------+-------+-------------------+--------------------+----------+----------+--------------------+---------------------------------------------------------------------------+-----------------------------------------------------------------------------------------------------+------------------------------------------------------------------------------------------------------------------------------------------------------------------------------------+-------------------------------------------------------------------------+----------------------------+----------------------------------------------------------------------------------+\n",
      "|global_event_id|event_date|is_root_event|mp_event_categories|mp_event_info            |quad_class|mp_quad_class|goldstein_scale|num_mentions|num_sources|num_articles|avg_tone         |actor1_code|actor1_name         |mp_actor1_from_country_iso|mp_actor1_from_country_eng|mp_actor1_from_country_kor|mp_actor1_organization|mp_actor1_organization_type|mp_actor1_ethnic|mp_actor1_religion|mp_actor1_religion_type|mp_actor1_role|mp_actor1_role_type|mp_actor1_geo_type|actor1_geo_fullname                            |mp_actor1_geo_country_iso|mp_actor1_geo_country_eng   |mp_actor1_geo_country_kor|actor1_geo_lat|actor1_geo_long|actor2_code|actor2_name    |mp_actor2_from_country_iso|mp_actor2_from_country_eng  |mp_actor2_from_country_kor|mp_actor2_organization|mp_actor2_organization_type|mp_actor2_ethnic|mp_actor2_religion|mp_actor2_religion_type|mp_actor2_role|mp_actor2_role_type|mp_actor2_geo_type|actor2_geo_fullname                             |actor2_geo_country_code|mp_actor2_geo_country_iso|mp_actor2_geo_country_eng   |mp_actor2_geo_country_kor|actor2_geo_lat|actor2_geo_long|mp_action_geo_type|action_geo_fullname              |mp_action_geo_country_iso|mp_action_geo_country_eng   |mp_action_geo_country_kor|action_geo_lat|action_geo_long|date_added         |source_url                                                                                                                                  |processed_at       |source_file              |actor1_info    |actor2_info    |mention_source_name|mention_doc_tone|v2_persons|v2_organizations|v2_enhanced_themes|amounts|goldstein_zscore   |tone_zscore         |is_anomaly|event_type|risk_score_detailed |simple_story                                                               |simple_story_v2                                                                                      |rich_story                                                                                                                                                                          |headline_story                                                           |event_summary               |tone_story                                                                        |\n",
      "+---------------+----------+-------------+-------------------+-------------------------+----------+-------------+---------------+------------+-----------+------------+-----------------+-----------+--------------------+--------------------------+--------------------------+--------------------------+----------------------+---------------------------+----------------+------------------+-----------------------+--------------+-------------------+------------------+-----------------------------------------------+-------------------------+----------------------------+-------------------------+--------------+---------------+-----------+---------------+--------------------------+----------------------------+--------------------------+----------------------+---------------------------+----------------+------------------+-----------------------+--------------+-------------------+------------------+------------------------------------------------+-----------------------+-------------------------+----------------------------+-------------------------+--------------+---------------+------------------+---------------------------------+-------------------------+----------------------------+-------------------------+--------------+---------------+-------------------+--------------------------------------------------------------------------------------------------------------------------------------------+-------------------+-------------------------+---------------+---------------+-------------------+----------------+----------+----------------+------------------+-------+-------------------+--------------------+----------+----------+--------------------+---------------------------------------------------------------------------+-----------------------------------------------------------------------------------------------------+------------------------------------------------------------------------------------------------------------------------------------------------------------------------------------+-------------------------------------------------------------------------+----------------------------+----------------------------------------------------------------------------------+\n",
      "|1264661232     |2025-09-23|true         |공개 성명 발표     |성명 발표                |1         |언어적 협력  |0.0            |6           |1          |6           |0.49504950495049 |TURGOV     |TURKISH             |TUR                       |Türkiye                   |튀르키예                  |null                  |null                       |null            |null              |null                   |정부          |1차 역할           |미국 외 도시      |Warszawa, (PL67), Poland                       |POL                      |Poland                      |폴란드                   |52.25         |21.0           |UKR        |UKRAINE        |UKR                       |Ukraine                     |우크라이나                |null                  |null                       |null            |null              |null                   |null          |null               |미국 외 도시      |Warszawa, (PL67), Poland                        |PL                     |POL                      |Poland                      |폴란드                   |52.25         |21.0           |미국 외 도시      |Warszawa, (PL67), Poland         |POL                      |Poland                      |폴란드                   |52.25         |21.0           |2025-09-23 07:00:00|https://charter97.org/en/news/2025/9/23/656714/                                                                                             |2025-09-23 07:45:00|20250923070000.export.CSV|튀르키예 정부  |우크라이나     |null               |null            |null      |null            |null              |null   |-0.1735747918989359|0.5231653448398677  |false     |협력      |0.20983704236046402 |TURKISH이(가) UKRAINE에게 성명 발표을(를) 했습니다.                        |튀르키예 정부(TURKISH)이(가) 우크라이나(UKRAINE)에게 성명 발표을(를) 했습니다.                       |튀르키예의 TURKISH이(가) 우크라이나의 UKRAINE와(과) 폴란드에서 성명 발표 관련 논의를 했습니다.(주요 인물: 정보 없음, 관련 기관: 정보 없음, 주요 테마: 정보 없음)                    |폴란드에서 TURKISH와(과) UKRAINE 간 공개 성명 발표 발생                  |공개 성명 발표 (언어적 협력)|중립적 분위기 속에서, TURKISH의 성명 발표 이벤트가 발생했습니다.                  |\n",
      "|1264824785     |2025-09-24|false        |공개 성명 발표     |공감/위로 표명           |1         |언어적 협력  |3.4            |4           |1          |4           |-3.75099760574621|TURGOV     |TURKEY              |TUR                       |Türkiye                   |튀르키예                  |null                  |null                       |null            |null              |null                   |정부          |1차 역할           |국가              |Turkey                                         |TUR                      |Türkiye                     |튀르키예                 |39.059012     |34.911546      |PSE        |PALESTINIAN    |PSE                       |State of Palestine          |팔레스타인                |null                  |null                       |null            |null              |null                   |null          |null               |미국 외 도시      |Gaza, Israel (general), Israel                  |IS                     |ISR                      |Israel                      |이스라엘                 |31.4167       |34.3333        |미국 외 도시      |Gaza, Israel (general), Israel   |ISR                      |Israel                      |이스라엘                 |31.4167       |34.3333        |2025-09-24 00:00:00|https://www.oregonlive.com/nation/2025/09/un-officials-warn-world-leaders-choose-law-over-raw-power-or-evil-will-prevail.html               |2025-09-24 00:15:00|20250924000000.export.CSV|튀르키예 정부  |팔레스타인     |null               |null            |null      |null            |null              |null   |0.5840003975441383 |-0.46859615819210954|false     |협력      |-0.2974418460521589 |TURKEY이(가) PALESTINIAN에게 공감/위로 표명을(를) 했습니다.                |튀르키예 정부(TURKEY)이(가) 팔레스타인(PALESTINIAN)에게 공감/위로 표명을(를) 했습니다.               |튀르키예의 TURKEY이(가) 팔레스타인의 PALESTINIAN와(과) 이스라엘에서 공감/위로 표명 관련 논의를 했습니다.(주요 인물: 정보 없음, 관련 기관: 정보 없음, 주요 테마: 정보 없음)          |이스라엘에서 TURKEY와(과) PALESTINIAN 간 공개 성명 발표 발생             |공개 성명 발표 (언어적 협력)|부정적 분위기 속에서, TURKEY의 공감/위로 표명 이벤트가 발생했습니다.              |\n",
      "|1264824784     |2025-09-24|false        |공개 성명 발표     |공감/위로 표명           |1         |언어적 협력  |3.4            |4           |1          |4           |-3.75099760574621|TURGOV     |TURKEY              |TUR                       |Türkiye                   |튀르키예                  |null                  |null                       |null            |null              |null                   |정부          |1차 역할           |국가              |Turkey                                         |TUR                      |Türkiye                     |튀르키예                 |39.059012     |34.911546      |ISRGOV     |ISRAEL         |ISR                       |Israel                      |이스라엘                  |null                  |null                       |null            |null              |null                   |정부          |1차 역할           |미국 외 도시      |Gaza, Israel (general), Israel                  |IS                     |ISR                      |Israel                      |이스라엘                 |31.4167       |34.3333        |미국 외 도시      |Gaza, Israel (general), Israel   |ISR                      |Israel                      |이스라엘                 |31.4167       |34.3333        |2025-09-24 00:00:00|https://www.oregonlive.com/nation/2025/09/un-officials-warn-world-leaders-choose-law-over-raw-power-or-evil-will-prevail.html               |2025-09-24 00:15:00|20250924000000.export.CSV|튀르키예 정부  |이스라엘 정부  |null               |null            |null      |null            |null              |null   |0.5840003975441383 |-0.46859615819210954|false     |협력      |-0.2974418460521589 |TURKEY이(가) ISRAEL에게 공감/위로 표명을(를) 했습니다.                     |튀르키예 정부(TURKEY)이(가) 이스라엘 정부(ISRAEL)에게 공감/위로 표명을(를) 했습니다.                 |튀르키예의 TURKEY이(가) 이스라엘의 ISRAEL와(과) 이스라엘에서 공감/위로 표명 관련 논의를 했습니다.(주요 인물: 정보 없음, 관련 기관: 정보 없음, 주요 테마: 정보 없음)                 |이스라엘에서 TURKEY와(과) ISRAEL 간 공개 성명 발표 발생                  |공개 성명 발표 (언어적 협력)|부정적 분위기 속에서, TURKEY의 공감/위로 표명 이벤트가 발생했습니다.              |\n",
      "|1264824783     |2025-09-24|false        |호소 및 요청       |타 주체 간 회담/협상 촉구|1         |언어적 협력  |4.0            |6           |1          |6           |-7.17703349282297|TURGOV     |TURKISH             |TUR                       |Türkiye                   |튀르키예                  |null                  |null                       |null            |null              |null                   |정부          |1차 역할           |국가              |Turkey                                         |TUR                      |Türkiye                     |튀르키예                 |39.059012     |34.911546      |null       |null           |null                      |null                        |null                      |null                  |null                       |null            |null              |null                   |null          |null               |null              |null                                            |null                   |null                     |null                        |null                     |null          |null           |국가              |Turkey                           |TUR                      |Türkiye                     |튀르키예                 |39.059012     |34.911546      |2025-09-24 00:00:00|https://www.aljazeera.com/news/2025/9/23/israel-escalates-bombardment-as-tanks-push-deep-into-gaza-city                                     |2025-09-24 00:15:00|20250924000000.export.CSV|튀르키예 정부  |null           |null               |null            |null      |null            |null              |null   |0.717690136857622  |-1.268825268285808  |false     |협력      |0.5114619416925017  |null                                                                       |null                                                                                                 |null                                                                                                                                                                                |null                                                                     |호소 및 요청 (언어적 협력)  |부정적 분위기 속에서, TURKISH의 타 주체 간 회담/협상 촉구 이벤트가 발생했습니다.  |\n",
      "|1264824786     |2025-09-24|false        |공개 성명 발표     |공감/위로 표명           |1         |언어적 협력  |3.4            |2           |1          |2           |-3.75099760574621|TURGOV     |TURKEY              |TUR                       |Türkiye                   |튀르키예                  |null                  |null                       |null            |null              |null                   |정부          |1차 역할           |국가              |Turkey                                         |TUR                      |Türkiye                     |튀르키예                 |39.059012     |34.911546      |PSEGOV     |PALESTINIAN    |PSE                       |State of Palestine          |팔레스타인                |null                  |null                       |null            |null              |null                   |정부          |1차 역할           |미국 외 도시      |Gaza, Israel (general), Israel                  |IS                     |ISR                      |Israel                      |이스라엘                 |31.4167       |34.3333        |미국 외 도시      |Gaza, Israel (general), Israel   |ISR                      |Israel                      |이스라엘                 |31.4167       |34.3333        |2025-09-24 00:00:00|https://www.oregonlive.com/nation/2025/09/un-officials-warn-world-leaders-choose-law-over-raw-power-or-evil-will-prevail.html               |2025-09-24 00:15:00|20250924000000.export.CSV|튀르키예 정부  |팔레스타인 정부|null               |null            |null      |null            |null              |null   |0.5840003975441383 |-0.46859615819210954|false     |협력      |-0.4360712821641479 |TURKEY이(가) PALESTINIAN에게 공감/위로 표명을(를) 했습니다.                |튀르키예 정부(TURKEY)이(가) 팔레스타인 정부(PALESTINIAN)에게 공감/위로 표명을(를) 했습니다.          |튀르키예의 TURKEY이(가) 팔레스타인의 PALESTINIAN와(과) 이스라엘에서 공감/위로 표명 관련 논의를 했습니다.(주요 인물: 정보 없음, 관련 기관: 정보 없음, 주요 테마: 정보 없음)          |이스라엘에서 TURKEY와(과) PALESTINIAN 간 공개 성명 발표 발생             |공개 성명 발표 (언어적 협력)|부정적 분위기 속에서, TURKEY의 공감/위로 표명 이벤트가 발생했습니다.              |\n",
      "|1264994136     |2025-09-24|true         |비판 및 반대       |고발                     |3         |언어적 갈등  |-2.0           |10          |1          |10          |-14.2857142857143|CANLAB     |CANADA              |CAN                       |Canada                    |캐나다                    |null                  |null                       |null            |null              |null                   |노동          |2차 역할           |국가              |Canada                                         |CAN                      |Canada                      |캐나다                   |60.0          |-96.0          |BUS        |BANK           |null                      |null                        |null                      |null                  |null                       |null            |null              |null                   |기업          |2차 역할           |국가              |Canada                                          |CA                     |CAN                      |Canada                      |캐나다                   |60.0          |-96.0          |국가              |Canada                           |CAN                      |Canada                      |캐나다                   |60.0          |-96.0          |2025-09-24 18:15:00|https://article.wn.com/view/2025/09/24/Canadian_Bank_Employee_Charged_With_Fraud_For_Unauthorised_V/                                        |2025-09-24 18:30:00|20250924181500.export.CSV|캐나다 노동    |기업           |null               |null            |null      |null            |null              |null   |-0.6192072562772148|-2.929220399082097  |true      |갈등      |5.746231304313099   |CANADA이(가) BANK에게 고발을(를) 했습니다.                                 |캐나다 노동(CANADA)이(가) 기업(BANK)에게 고발을(를) 했습니다.                                        |null                                                                                                                                                                                |캐나다에서 CANADA와(과) BANK 간 비판 및 반대 발생                        |비판 및 반대 (언어적 갈등)  |부정적 분위기 속에서, CANADA의 고발 이벤트가 발생했습니다.                        |\n",
      "|1264995534     |2025-09-24|true         |협의               |협의                     |1         |언어적 협력  |1.0            |6           |1          |6           |1.80995475113122 |TURGOV     |RECEP TAYYIP ERDOGAN|TUR                       |Türkiye                   |튀르키예                  |null                  |null                       |null            |null              |null                   |정부          |1차 역할           |국가              |Turkey                                         |TUR                      |Türkiye                     |튀르키예                 |39.059012     |34.911546      |USA        |NEW YORK       |USA                       |The United States of America|미국                      |null                  |null                       |null            |null              |null                   |null          |null               |미국 주           |New York, United States                         |US                     |USA                      |The United States of America|미국                     |42.1497       |-74.9384       |국가              |Turkey                           |TUR                      |Türkiye                     |튀르키예                 |39.059012     |34.911546      |2025-09-24 18:15:00|https://libyaobserver.ly/news/menfi-reviews-libyan-political-developments-turkish-president-erdogan-new-york                                |2025-09-24 18:30:00|20250924181500.export.CSV|튀르키예 정부  |미국           |null               |null            |null      |null            |null              |null   |0.04924144029020358|0.8302915658400057  |false     |협력      |-0.684634531493755  |RECEP TAYYIP ERDOGAN이(가) NEW YORK에게 협의을(를) 했습니다.               |튀르키예 정부(RECEP TAYYIP ERDOGAN)이(가) 미국(NEW YORK)에게 협의을(를) 했습니다.                    |튀르키예의 RECEP TAYYIP ERDOGAN이(가) 미국의 NEW YORK와(과) 튀르키예에서 협의 관련 논의를 했습니다.(주요 인물: 정보 없음, 관련 기관: 정보 없음, 주요 테마: 정보 없음)               |튀르키예에서 RECEP TAYYIP ERDOGAN와(과) NEW YORK 간 협의 발생            |협의 (언어적 협력)          |중립적 분위기 속에서, RECEP TAYYIP ERDOGAN의 협의 이벤트가 발생했습니다.          |\n",
      "|1264963530     |2025-09-24|true         |외교적 협력        |칭찬 또는 지지           |1         |언어적 협력  |3.4            |1           |1          |1           |-0.77519379844961|TURGOV     |RECEP TAYYIP ERDOGAN|TUR                       |Türkiye                   |튀르키예                  |null                  |null                       |null            |null              |null                   |정부          |1차 역할           |미국 외 도시      |Gaza, Israel (general), Israel                 |ISR                      |Israel                      |이스라엘                 |31.4167       |34.3333        |USAGOV     |UNITED STATES  |USA                       |The United States of America|미국                      |null                  |null                       |null            |null              |null                   |정부          |1차 역할           |미국 주           |New York, United States                         |US                     |USA                      |The United States of America|미국                     |42.1497       |-74.9384       |미국 외 도시      |Gaza, Israel (general), Israel   |ISR                      |Israel                      |이스라엘                 |31.4167       |34.3333        |2025-09-24 15:15:00|https://en.apa.az/asia/erdogan-says-trump-meeting-with-arab-muslim-leaders-on-gaza-was-fruitful-478709                                      |2025-09-24 15:30:00|20250924151500.export.CSV|튀르키예 정부  |미국 정부      |null               |null            |null      |null            |null              |null   |0.5840003975441383 |0.22647094297542855 |false     |협력      |-1.467441860465117  |RECEP TAYYIP ERDOGAN이(가) UNITED STATES에게 칭찬 또는 지지을(를) 했습니다.|튀르키예 정부(RECEP TAYYIP ERDOGAN)이(가) 미국 정부(UNITED STATES)에게 칭찬 또는 지지을(를) 했습니다.|튀르키예의 RECEP TAYYIP ERDOGAN이(가) 미국의 UNITED STATES와(과) 이스라엘에서 칭찬 또는 지지 관련 논의를 했습니다.(주요 인물: 정보 없음, 관련 기관: 정보 없음, 주요 테마: 정보 없음)|이스라엘에서 RECEP TAYYIP ERDOGAN와(과) UNITED STATES 간 외교적 협력 발생|외교적 협력 (언어적 협력)   |중립적 분위기 속에서, RECEP TAYYIP ERDOGAN의 칭찬 또는 지지 이벤트가 발생했습니다.|\n",
      "|1264988619     |2025-09-24|false        |협의               |방문 접견                |1         |언어적 협력  |2.8            |1           |1          |1           |0.0              |ARMOPP     |ARMENIA             |ARM                       |Armenia                   |아르메니아                |null                  |null                       |null            |null              |null                   |야당          |1차 역할           |미국 주           |Colorado, United States                        |USA                      |The United States of America|미국                     |39.0646       |-105.327       |null       |null           |null                      |null                        |null                      |null                  |null                       |null            |null              |null                   |null          |null               |null              |null                                            |null                   |null                     |null                        |null                     |null          |null           |미국 주           |California, United States        |USA                      |The United States of America|미국                     |36.17         |-119.746       |2025-09-24 17:45:00|https://armenianweekly.com/2025/09/24/anca-rallies-grassroots-in-washington-for-armenia-and-artsakh/                                        |2025-09-24 18:00:00|20250924174500.export.CSV|아르메니아 야당|null           |null               |null            |null      |null            |null              |null   |0.4503106582306546 |0.4075352003065973  |false     |협력      |-1.4                |null                                                                       |null                                                                                                 |null                                                                                                                                                                                |null                                                                     |협의 (언어적 협력)          |중립적 분위기 속에서, ARMENIA의 방문 접견 이벤트가 발생했습니다.                  |\n",
      "|1264987979     |2025-09-24|true         |관계 축소          |관계 축소                |4         |물리적 갈등  |-4.0           |1           |1          |1           |-6.61478599221789|TURGOV     |TURKEY              |TUR                       |Türkiye                   |튀르키예                  |null                  |null                       |null            |null              |null                   |정부          |1차 역할           |미국 외 도시      |Istanbul, Istanbul, Turkey                     |TUR                      |Türkiye                     |튀르키예                 |41.0186       |28.9647        |TUR        |TURKEY         |TUR                       |Türkiye                     |튀르키예                  |null                  |null                       |null            |null              |null                   |null          |null               |미국 외 도시      |Istanbul, Istanbul, Turkey                      |TU                     |TUR                      |Türkiye                     |튀르키예                 |41.0186       |28.9647        |미국 외 도시      |Istanbul, Istanbul, Turkey       |TUR                      |Türkiye                     |튀르키예                 |41.0186       |28.9647        |2025-09-24 17:30:00|https://www.al-monitor.com/originals/2025/09/turkish-opposition-re-elects-ousted-istanbul-provincial-head-new-congress                      |2025-09-24 17:45:00|20250924173000.export.CSV|튀르키예 정부  |튀르키예       |null               |null            |null      |null            |null              |null   |-1.0648397206554938|-1.1374994935737677 |false     |갈등      |3.984435797665367   |TURKEY이(가) TURKEY에게 관계 축소을(를) 했습니다.                          |튀르키예 정부(TURKEY)이(가) 튀르키예(TURKEY)에게 관계 축소을(를) 했습니다.                           |튀르키예의 TURKEY이(가) 튀르키예의 TURKEY와(과) 튀르키예에서 관계 축소 관련 논의를 했습니다.(주요 인물: 정보 없음, 관련 기관: 정보 없음, 주요 테마: 정보 없음)                      |튀르키예에서 TURKEY와(과) TURKEY 간 관계 축소 발생                       |관계 축소 (물리적 갈등)     |부정적 분위기 속에서, TURKEY의 관계 축소 이벤트가 발생했습니다.                   |\n",
      "|1264987978     |2025-09-24|true         |관계 축소          |관계 축소                |4         |물리적 갈등  |-4.0           |1           |1          |1           |-6.61478599221789|TURGOV     |TURKEY              |TUR                       |Türkiye                   |튀르키예                  |null                  |null                       |null            |null              |null                   |정부          |1차 역할           |미국 외 도시      |Istanbul, Istanbul, Turkey                     |TUR                      |Türkiye                     |튀르키예                 |41.0186       |28.9647        |null       |null           |null                      |null                        |null                      |null                  |null                       |null            |null              |null                   |null          |null               |null              |null                                            |null                   |null                     |null                        |null                     |null          |null           |미국 외 도시      |Istanbul, Istanbul, Turkey       |TUR                      |Türkiye                     |튀르키예                 |41.0186       |28.9647        |2025-09-24 17:30:00|https://www.al-monitor.com/originals/2025/09/turkish-opposition-re-elects-ousted-istanbul-provincial-head-new-congress                      |2025-09-24 17:45:00|20250924173000.export.CSV|튀르키예 정부  |null           |null               |null            |null      |null            |null              |null   |-1.0648397206554938|-1.1374994935737677 |false     |갈등      |3.984435797665367   |null                                                                       |null                                                                                                 |null                                                                                                                                                                                |null                                                                     |관계 축소 (물리적 갈등)     |부정적 분위기 속에서, TURKEY의 관계 축소 이벤트가 발생했습니다.                   |\n",
      "|1264947490     |2025-09-24|true         |호소 및 요청       |호소 및 요청             |1         |언어적 협력  |3.0            |10          |1          |10          |-3.2448377581121 |TURGOV     |TURKISH             |TUR                       |Türkiye                   |튀르키예                  |null                  |null                       |null            |null              |null                   |정부          |1차 역할           |미국 외 도시      |Gaza, Israel (general), Israel                 |ISR                      |Israel                      |이스라엘                 |31.4167       |34.3333        |PSE        |PALESTINIAN    |PSE                       |State of Palestine          |팔레스타인                |null                  |null                       |null            |null              |null                   |null          |null               |미국 외 도시      |Gaza, Israel (general), Israel                  |IS                     |ISR                      |Israel                      |이스라엘                 |31.4167       |34.3333        |미국 외 도시      |Gaza, Israel (general), Israel   |ISR                      |Israel                      |이스라엘                 |31.4167       |34.3333        |2025-09-24 13:45:00|https://en.shafaqna.com/424249/turkish-president-calls-on-world-leaders-at-unga-to-stand-firmly-with-palestinians-today-in-name-of-humanity/|2025-09-24 14:00:00|20250924134500.export.CSV|튀르키예 정부  |팔레스타인     |null               |null            |null      |null            |null              |null   |0.4948739046684825 |-0.35037093878759057|false     |협력      |-0.06603165396756072|TURKISH이(가) PALESTINIAN에게 호소 및 요청을(를) 했습니다.                 |튀르키예 정부(TURKISH)이(가) 팔레스타인(PALESTINIAN)에게 호소 및 요청을(를) 했습니다.                |튀르키예의 TURKISH이(가) 팔레스타인의 PALESTINIAN와(과) 이스라엘에서 호소 및 요청 관련 논의를 했습니다.(주요 인물: 정보 없음, 관련 기관: 정보 없음, 주요 테마: 정보 없음)           |이스라엘에서 TURKISH와(과) PALESTINIAN 간 호소 및 요청 발생              |호소 및 요청 (언어적 협력)  |부정적 분위기 속에서, TURKISH의 호소 및 요청 이벤트가 발생했습니다.               |\n",
      "|1264726663     |2025-09-23|true         |협력 의사 표명     |회담 또는 협상 의사 표명 |1         |언어적 협력  |4.0            |1           |1          |1           |-3.59794403198172|TURGOV     |TURKISH             |TUR                       |Türkiye                   |튀르키예                  |null                  |null                       |null            |null              |null                   |정부          |1차 역할           |미국 외 도시      |Istanbul, Istanbul, Turkey                     |TUR                      |Türkiye                     |튀르키예                 |41.0186       |28.9647        |USAGOV     |THE WHITE HOUSE|USA                       |The United States of America|미국                      |null                  |null                       |null            |null              |null                   |정부          |1차 역할           |미국 도시         |White House, District of Columbia, United States|US                     |USA                      |The United States of America|미국                     |38.8951       |-77.0364       |미국 외 도시      |Istanbul, Istanbul, Turkey       |TUR                      |Türkiye                     |튀르키예                 |41.0186       |28.9647        |2025-09-23 13:30:00|https://www.aol.co.uk/articles/israel-struck-qatar-target-hamas-130000687.html                                                              |2025-09-23 13:45:00|20250923133000.export.CSV|튀르키예 정부  |미국 정부      |null               |null            |null      |null            |null              |null   |0.717690136857622  |-0.43284699234355173|false     |협력      |-0.920616790405484  |TURKISH이(가) THE WHITE HOUSE에게 회담 또는 협상 의사 표명을(를) 했습니다. |튀르키예 정부(TURKISH)이(가) 미국 정부(THE WHITE HOUSE)에게 회담 또는 협상 의사 표명을(를) 했습니다. |튀르키예의 TURKISH이(가) 미국의 THE WHITE HOUSE와(과) 튀르키예에서 회담 또는 협상 의사 표명 관련 논의를 했습니다.(주요 인물: 정보 없음, 관련 기관: 정보 없음, 주요 테마: 정보 없음) |튀르키예에서 TURKISH와(과) THE WHITE HOUSE 간 협력 의사 표명 발생        |협력 의사 표명 (언어적 협력)|부정적 분위기 속에서, TURKISH의 회담 또는 협상 의사 표명 이벤트가 발생했습니다.   |\n",
      "|1264726659     |2025-09-23|true         |협의               |협의                     |1         |언어적 협력  |1.0            |2           |1          |2           |-3.59794403198172|TURGOV     |TURKISH             |TUR                       |Türkiye                   |튀르키예                  |null                  |null                       |null            |null              |null                   |정부          |1차 역할           |미국 외 도시      |Istanbul, Istanbul, Turkey                     |TUR                      |Türkiye                     |튀르키예                 |41.0186       |28.9647        |MIL        |FIGHTER JET    |null                      |null                        |null                      |null                  |null                       |null            |null              |null                   |군대          |1차 역할           |미국 도시         |White House, District of Columbia, United States|US                     |USA                      |The United States of America|미국                     |38.8951       |-77.0364       |미국 외 도시      |Istanbul, Istanbul, Turkey       |TUR                      |Türkiye                     |튀르키예                 |41.0186       |28.9647        |2025-09-23 13:30:00|https://www.aol.co.uk/articles/israel-struck-qatar-target-hamas-130000687.html                                                              |2025-09-23 13:45:00|20250923133000.export.CSV|튀르키예 정부  |군대           |null               |null            |null      |null            |null              |null   |0.04924144029020358|-0.43284699234355173|false     |협력      |0.718012645706505   |TURKISH이(가) FIGHTER JET에게 협의을(를) 했습니다.                         |튀르키예 정부(TURKISH)이(가) 군대(FIGHTER JET)에게 협의을(를) 했습니다.                              |null                                                                                                                                                                                |튀르키예에서 TURKISH와(과) FIGHTER JET 간 협의 발생                      |협의 (언어적 협력)          |부정적 분위기 속에서, TURKISH의 협의 이벤트가 발생했습니다.                       |\n",
      "|1264726661     |2025-09-23|true         |협력 의사 표명     |회담 또는 협상 의사 표명 |1         |언어적 협력  |4.0            |1           |1          |1           |-3.59794403198172|TURGOV     |TURKEY              |TUR                       |Türkiye                   |튀르키예                  |null                  |null                       |null            |null              |null                   |정부          |1차 역할           |미국 외 도시      |Istanbul, Istanbul, Turkey                     |TUR                      |Türkiye                     |튀르키예                 |41.0186       |28.9647        |USA        |UNITED STATES  |USA                       |The United States of America|미국                      |null                  |null                       |null            |null              |null                   |null          |null               |미국 도시         |White House, District of Columbia, United States|US                     |USA                      |The United States of America|미국                     |38.8951       |-77.0364       |미국 외 도시      |Istanbul, Istanbul, Turkey       |TUR                      |Türkiye                     |튀르키예                 |41.0186       |28.9647        |2025-09-23 13:30:00|https://www.aol.co.uk/articles/israel-struck-qatar-target-hamas-130000687.html                                                              |2025-09-23 13:45:00|20250923133000.export.CSV|튀르키예 정부  |미국           |null               |null            |null      |null            |null              |null   |0.717690136857622  |-0.43284699234355173|false     |협력      |-0.920616790405484  |TURKEY이(가) UNITED STATES에게 회담 또는 협상 의사 표명을(를) 했습니다.    |튀르키예 정부(TURKEY)이(가) 미국(UNITED STATES)에게 회담 또는 협상 의사 표명을(를) 했습니다.         |튀르키예의 TURKEY이(가) 미국의 UNITED STATES와(과) 튀르키예에서 회담 또는 협상 의사 표명 관련 논의를 했습니다.(주요 인물: 정보 없음, 관련 기관: 정보 없음, 주요 테마: 정보 없음)    |튀르키예에서 TURKEY와(과) UNITED STATES 간 협력 의사 표명 발생           |협력 의사 표명 (언어적 협력)|부정적 분위기 속에서, TURKEY의 회담 또는 협상 의사 표명 이벤트가 발생했습니다.    |\n",
      "|1264726662     |2025-09-23|true         |협력 의사 표명     |회담 또는 협상 의사 표명 |1         |언어적 협력  |4.0            |1           |1          |1           |-3.59794403198172|TURGOV     |TURKEY              |TUR                       |Türkiye                   |튀르키예                  |null                  |null                       |null            |null              |null                   |정부          |1차 역할           |미국 도시         |Washington, District of Columbia, United States|USA                      |The United States of America|미국                     |38.8951       |-77.0364       |USA        |UNITED STATES  |USA                       |The United States of America|미국                      |null                  |null                       |null            |null              |null                   |null          |null               |미국 도시         |White House, District of Columbia, United States|US                     |USA                      |The United States of America|미국                     |38.8951       |-77.0364       |미국 외 도시      |Istanbul, Istanbul, Turkey       |TUR                      |Türkiye                     |튀르키예                 |41.0186       |28.9647        |2025-09-23 13:30:00|https://www.aol.co.uk/articles/israel-struck-qatar-target-hamas-130000687.html                                                              |2025-09-23 13:45:00|20250923133000.export.CSV|튀르키예 정부  |미국           |null               |null            |null      |null            |null              |null   |0.717690136857622  |-0.43284699234355173|false     |협력      |-0.920616790405484  |TURKEY이(가) UNITED STATES에게 회담 또는 협상 의사 표명을(를) 했습니다.    |튀르키예 정부(TURKEY)이(가) 미국(UNITED STATES)에게 회담 또는 협상 의사 표명을(를) 했습니다.         |튀르키예의 TURKEY이(가) 미국의 UNITED STATES와(과) 튀르키예에서 회담 또는 협상 의사 표명 관련 논의를 했습니다.(주요 인물: 정보 없음, 관련 기관: 정보 없음, 주요 테마: 정보 없음)    |튀르키예에서 TURKEY와(과) UNITED STATES 간 협력 의사 표명 발생           |협력 의사 표명 (언어적 협력)|부정적 분위기 속에서, TURKEY의 회담 또는 협상 의사 표명 이벤트가 발생했습니다.    |\n",
      "|1264726660     |2025-09-23|true         |협의               |협의                     |1         |언어적 협력  |1.0            |1           |1          |1           |-3.59794403198172|TURGOV     |TURKEY              |TUR                       |Türkiye                   |튀르키예                  |null                  |null                       |null            |null              |null                   |정부          |1차 역할           |미국 도시         |Washington, District of Columbia, United States|USA                      |The United States of America|미국                     |38.8951       |-77.0364       |MIL        |FIGHTER JET    |null                      |null                        |null                      |null                  |null                       |null            |null              |null                   |군대          |1차 역할           |미국 외 도시      |Istanbul, Istanbul, Turkey                      |TU                     |TUR                      |Türkiye                     |튀르키예                 |41.0186       |28.9647        |미국 외 도시      |Istanbul, Istanbul, Turkey       |TUR                      |Türkiye                     |튀르키예                 |41.0186       |28.9647        |2025-09-23 13:30:00|https://www.aol.co.uk/articles/israel-struck-qatar-target-hamas-130000687.html                                                              |2025-09-23 13:45:00|20250923133000.export.CSV|튀르키예 정부  |군대           |null               |null            |null      |null            |null              |null   |0.04924144029020358|-0.43284699234355173|false     |협력      |0.579383209594516   |TURKEY이(가) FIGHTER JET에게 협의을(를) 했습니다.                          |튀르키예 정부(TURKEY)이(가) 군대(FIGHTER JET)에게 협의을(를) 했습니다.                               |null                                                                                                                                                                                |튀르키예에서 TURKEY와(과) FIGHTER JET 간 협의 발생                       |협의 (언어적 협력)          |부정적 분위기 속에서, TURKEY의 협의 이벤트가 발생했습니다.                        |\n",
      "|1264726665     |2025-09-23|false        |협의               |협상                     |1         |언어적 협력  |7.0            |6           |1          |6           |-3.59794403198172|TURGOV     |TURKISH             |TUR                       |Türkiye                   |튀르키예                  |null                  |null                       |null            |null              |null                   |정부          |1차 역할           |미국 외 도시      |Istanbul, Istanbul, Turkey                     |TUR                      |Türkiye                     |튀르키예                 |41.0186       |28.9647        |USAGOV     |THE US         |USA                       |The United States of America|미국                      |null                  |null                       |null            |null              |null                   |정부          |1차 역할           |미국 외 도시      |Istanbul, Istanbul, Turkey                      |TU                     |TUR                      |Türkiye                     |튀르키예                 |41.0186       |28.9647        |미국 외 도시      |Doha, Ad Daw?ah, Qatar           |QAT                      |Qatar                       |카타르                   |25.2867       |51.5333        |2025-09-23 13:30:00|https://www.aol.co.uk/articles/israel-struck-qatar-target-hamas-130000687.html                                                              |2025-09-23 13:45:00|20250923133000.export.CSV|튀르키예 정부  |미국 정부      |null               |null            |null      |null            |null              |null   |1.3861388334250404 |-0.43284699234355173|false     |협력      |-2.062264896559873  |TURKISH이(가) THE US에게 협상을(를) 했습니다.                              |튀르키예 정부(TURKISH)이(가) 미국 정부(THE US)에게 협상을(를) 했습니다.                              |튀르키예의 TURKISH이(가) 미국의 THE US와(과) 카타르에서 협상 관련 논의를 했습니다.(주요 인물: 정보 없음, 관련 기관: 정보 없음, 주요 테마: 정보 없음)                                |카타르에서 TURKISH와(과) THE US 간 협의 발생                             |협의 (언어적 협력)          |부정적 분위기 속에서, TURKISH의 협상 이벤트가 발생했습니다.                       |\n",
      "|1264726664     |2025-09-23|false        |협의               |협의                     |1         |언어적 협력  |1.0            |6           |1          |6           |-3.59794403198172|TURGOV     |TURKISH             |TUR                       |Türkiye                   |튀르키예                  |null                  |null                       |null            |null              |null                   |정부          |1차 역할           |미국 외 도시      |Istanbul, Istanbul, Turkey                     |TUR                      |Türkiye                     |튀르키예                 |41.0186       |28.9647        |USAGOV     |THE US         |USA                       |The United States of America|미국                      |null                  |null                       |null            |null              |null                   |정부          |1차 역할           |미국 외 도시      |Istanbul, Istanbul, Turkey                      |TU                     |TUR                      |Türkiye                     |튀르키예                 |41.0186       |28.9647        |미국 외 도시      |Istanbul, Istanbul, Turkey       |TUR                      |Türkiye                     |튀르키예                 |41.0186       |28.9647        |2025-09-23 13:30:00|https://www.aol.co.uk/articles/israel-struck-qatar-target-hamas-130000687.html                                                              |2025-09-23 13:45:00|20250923133000.export.CSV|튀르키예 정부  |미국 정부      |null               |null            |null      |null            |null              |null   |0.04924144029020358|-0.43284699234355173|false     |협력      |0.9377351034401269  |TURKISH이(가) THE US에게 협의을(를) 했습니다.                              |튀르키예 정부(TURKISH)이(가) 미국 정부(THE US)에게 협의을(를) 했습니다.                              |튀르키예의 TURKISH이(가) 미국의 THE US와(과) 튀르키예에서 협의 관련 논의를 했습니다.(주요 인물: 정보 없음, 관련 기관: 정보 없음, 주요 테마: 정보 없음)                              |튀르키예에서 TURKISH와(과) THE US 간 협의 발생                           |협의 (언어적 협력)          |부정적 분위기 속에서, TURKISH의 협의 이벤트가 발생했습니다.                       |\n",
      "|1264931421     |2025-09-24|false        |협의               |협의                     |1         |언어적 협력  |1.0            |2           |1          |2           |4.15335463258786 |TURGOV     |TURKISH             |TUR                       |Türkiye                   |튀르키예                  |null                  |null                       |null            |null              |null                   |정부          |1차 역할           |미국 외 도시      |Anadolu, Turkey (general), Turkey              |TUR                      |Türkiye                     |튀르키예                 |39.0          |35.0           |USAGOV     |THE WHITE HOUSE|USA                       |The United States of America|미국                      |null                  |null                       |null            |null              |null                   |정부          |1차 역할           |미국 도시         |White House, District of Columbia, United States|US                     |USA                      |The United States of America|미국                     |38.8951       |-77.0364       |미국 외 도시      |Anadolu, Turkey (general), Turkey|TUR                      |Türkiye                     |튀르키예                 |39.0          |35.0           |2025-09-24 12:15:00|https://news.az/news/turkiye-s-botas-inks-20-year-lng-deal-with-mercuria                                                                    |2025-09-24 12:30:00|20250924121500.export.CSV|튀르키예 정부  |미국 정부      |null               |null            |null      |null            |null              |null   |0.04924144029020358|1.3776462531640123  |false     |협력      |-1.6073769536643687 |TURKISH이(가) THE WHITE HOUSE에게 협의을(를) 했습니다.                     |튀르키예 정부(TURKISH)이(가) 미국 정부(THE WHITE HOUSE)에게 협의을(를) 했습니다.                     |튀르키예의 TURKISH이(가) 미국의 THE WHITE HOUSE와(과) 튀르키예에서 협의 관련 논의를 했습니다.(주요 인물: 정보 없음, 관련 기관: 정보 없음, 주요 테마: 정보 없음)                     |튀르키예에서 TURKISH와(과) THE WHITE HOUSE 간 협의 발생                  |협의 (언어적 협력)          |긍정적 분위기 속에서, TURKISH의 협의 이벤트가 발생했습니다.                       |\n",
      "+---------------+----------+-------------+-------------------+-------------------------+----------+-------------+---------------+------------+-----------+------------+-----------------+-----------+--------------------+--------------------------+--------------------------+--------------------------+----------------------+---------------------------+----------------+------------------+-----------------------+--------------+-------------------+------------------+-----------------------------------------------+-------------------------+----------------------------+-------------------------+--------------+---------------+-----------+---------------+--------------------------+----------------------------+--------------------------+----------------------+---------------------------+----------------+------------------+-----------------------+--------------+-------------------+------------------+------------------------------------------------+-----------------------+-------------------------+----------------------------+-------------------------+--------------+---------------+------------------+---------------------------------+-------------------------+----------------------------+-------------------------+--------------+---------------+-------------------+--------------------------------------------------------------------------------------------------------------------------------------------+-------------------+-------------------------+---------------+---------------+-------------------+----------------+----------+----------------+------------------+-------+-------------------+--------------------+----------+----------+--------------------+---------------------------------------------------------------------------+-----------------------------------------------------------------------------------------------------+------------------------------------------------------------------------------------------------------------------------------------------------------------------------------------+-------------------------------------------------------------------------+----------------------------+----------------------------------------------------------------------------------+\n",
      "only showing top 20 rows\n",
      "\n"
     ]
    },
    {
     "name": "stderr",
     "output_type": "stream",
     "text": [
      "25/09/25 16:17:59 WARN TransportChannelHandler: Exception in connection from spark-master/10.0.1.237:7077\n",
      "java.net.SocketException: Connection reset\n",
      "\tat java.base/sun.nio.ch.SocketChannelImpl.throwConnectionReset(SocketChannelImpl.java:394)\n",
      "\tat java.base/sun.nio.ch.SocketChannelImpl.read(SocketChannelImpl.java:426)\n",
      "\tat io.netty.buffer.PooledByteBuf.setBytes(PooledByteBuf.java:259)\n",
      "\tat io.netty.buffer.AbstractByteBuf.writeBytes(AbstractByteBuf.java:1132)\n",
      "\tat io.netty.channel.socket.nio.NioSocketChannel.doReadBytes(NioSocketChannel.java:357)\n",
      "\tat io.netty.channel.nio.AbstractNioByteChannel$NioByteUnsafe.read(AbstractNioByteChannel.java:151)\n",
      "\tat io.netty.channel.nio.NioEventLoop.processSelectedKey(NioEventLoop.java:788)\n",
      "\tat io.netty.channel.nio.NioEventLoop.processSelectedKeysOptimized(NioEventLoop.java:724)\n",
      "\tat io.netty.channel.nio.NioEventLoop.processSelectedKeys(NioEventLoop.java:650)\n",
      "\tat io.netty.channel.nio.NioEventLoop.run(NioEventLoop.java:562)\n",
      "\tat io.netty.util.concurrent.SingleThreadEventExecutor$4.run(SingleThreadEventExecutor.java:997)\n",
      "\tat io.netty.util.internal.ThreadExecutorMap$2.run(ThreadExecutorMap.java:74)\n",
      "\tat io.netty.util.concurrent.FastThreadLocalRunnable.run(FastThreadLocalRunnable.java:30)\n",
      "\tat java.base/java.lang.Thread.run(Thread.java:840)\n",
      "25/09/25 16:17:59 WARN StandaloneAppClient$ClientEndpoint: Could not connect to spark-master:7077: java.net.SocketException: Connection reset\n",
      "25/09/25 16:17:59 WARN StandaloneAppClient$ClientEndpoint: Connection to d09e7ccc85e1:7077 failed; waiting for master to reconnect...\n",
      "25/09/25 16:17:59 WARN StandaloneSchedulerBackend: Disconnected from Spark cluster! Waiting for reconnection...\n"
     ]
    }
   ],
   "source": [
    "# 1일 마다 업데이트) 모든 Staging 모델들을 조인하고, 스토리 및 KPI 파생 컬럼을 생성하는 상세 이벤트 테이블\n",
    "print(\"🥇 [gold_daily_detailed_events] 뷰\")\n",
    "spark.sql(\"SELECT * FROM gold_dev.gold_daily_detailed_events\").show(truncate=False)\n",
    "# spark.sql(\"SELECT actor1_info, actor2_info, simple_story, rich_story, headline_story, event_summary, tone_story FROM gold_dev.gold_daily_detailed_events WHERE actor1_info IS NULL\").show(truncate=False)"
   ]
  },
  {
   "cell_type": "code",
   "execution_count": 4,
   "id": "a11aa7df",
   "metadata": {},
   "outputs": [
    {
     "name": "stderr",
     "output_type": "stream",
     "text": [
      "25/09/25 14:03:03 WARN MetricsConfig: Cannot locate configuration: tried hadoop-metrics2-s3a-file-system.properties,hadoop-metrics2.properties\n",
      "25/09/25 14:03:08 WARN package: Truncated the string representation of a plan since it was too large. This behavior can be adjusted by setting 'spark.sql.debug.maxToStringFields'.\n",
      "                                                                                \r"
     ]
    },
    {
     "name": "stdout",
     "output_type": "stream",
     "text": [
      " - Row : 8,501 개\n",
      " - Column : 8 개\n"
     ]
    },
    {
     "name": "stderr",
     "output_type": "stream",
     "text": [
      "[Stage 20:>                                                         (0 + 1) / 1]\r"
     ]
    },
    {
     "name": "stdout",
     "output_type": "stream",
     "text": [
      "+----------+-------------------------+-------------------------+-------------------------+-------------+-------------------+-----------+-------------------+\n",
      "|event_date|mp_action_geo_country_iso|mp_action_geo_country_eng|mp_action_geo_country_kor|mp_quad_class|mp_event_categories|event_count|processed_at       |\n",
      "+----------+-------------------------+-------------------------+-------------------------+-------------+-------------------+-----------+-------------------+\n",
      "|2024-09-23|AFG                      |Afghanistan              |아프가니스탄             |물리적 갈등  |전투               |1          |2025-09-23 11:45:00|\n",
      "|2024-09-23|AFG                      |Afghanistan              |아프가니스탄             |언어적 협력  |공개 성명 발표     |2          |2025-09-23 09:30:00|\n",
      "|2024-09-23|AFG                      |Afghanistan              |아프가니스탄             |언어적 협력  |협의               |4          |2025-09-23 23:45:00|\n",
      "|2024-09-23|ARE                      |The United Arab Emirates |아랍에미리트 연합        |언어적 협력  |공개 성명 발표     |2          |2025-09-23 17:15:00|\n",
      "|2024-09-23|AUS                      |Australia                |호주                     |언어적 협력  |호소 및 요청       |1          |2025-09-23 19:15:00|\n",
      "|2024-09-23|AUS                      |Australia                |호주                     |언어적 협력  |협력 의사 표명     |1          |2025-09-23 18:15:00|\n",
      "|2024-09-23|AUS                      |Australia                |호주                     |언어적 협력  |협의               |6          |2025-09-23 18:15:00|\n",
      "|2024-09-23|AUS                      |Australia                |호주                     |물질적 협력  |물질적 협력        |5          |2025-09-23 19:15:00|\n",
      "|2024-09-23|AUS                      |Australia                |호주                     |언어적 협력  |공개 성명 발표     |3          |2025-09-23 18:45:00|\n",
      "|2024-09-23|AUS                      |Australia                |호주                     |물리적 갈등  |전투               |3          |2025-09-23 18:15:00|\n",
      "|2024-09-23|AUS                      |Australia                |호주                     |물질적 협력  |원조 제공          |1          |2025-09-23 22:30:00|\n",
      "|2024-09-23|AUS                      |Australia                |호주                     |언어적 갈등  |비판 및 반대       |2          |2025-09-23 22:30:00|\n",
      "|2024-09-23|AUS                      |Australia                |호주                     |물리적 갈등  |물리적 공격        |1          |2025-09-23 08:00:00|\n",
      "|2024-09-23|AUS                      |Australia                |호주                     |물리적 갈등  |강압               |1          |2025-09-23 11:15:00|\n",
      "|2024-09-23|AUS                      |Australia                |호주                     |언어적 협력  |외교적 협력        |3          |2025-09-23 18:30:00|\n",
      "|2024-09-23|AUT                      |Austria                  |오스트리아               |언어적 협력  |협의               |1          |2025-09-23 16:30:00|\n",
      "|2024-09-23|AZE                      |Azerbaijan               |아제르바이잔             |언어적 협력  |협의               |3          |2025-09-23 09:45:00|\n",
      "|2024-09-23|BEL                      |Belgium                  |벨기에                   |언어적 협력  |협력 의사 표명     |1          |2025-09-23 14:45:00|\n",
      "|2024-09-23|BEL                      |Belgium                  |벨기에                   |언어적 협력  |협의               |2          |2025-09-23 14:45:00|\n",
      "|2024-09-23|BLZ                      |Belize                   |벨리즈                   |언어적 협력  |외교적 협력        |1          |2025-09-23 20:15:00|\n",
      "+----------+-------------------------+-------------------------+-------------------------+-------------+-------------------+-----------+-------------------+\n",
      "only showing top 20 rows\n",
      "\n"
     ]
    },
    {
     "name": "stderr",
     "output_type": "stream",
     "text": [
      "                                                                                \r"
     ]
    }
   ],
   "source": [
    "df = spark.table(\"gold_dev.gold_daily_events_category\")\n",
    "row_count = df.count()\n",
    "col_count = len(df.columns)\n",
    "print(f\" - Row : {row_count:,} 개\")\n",
    "print(f\" - Column : {col_count} 개\")\n",
    "\n",
    "spark.sql(\n",
    "    \"SELECT * FROM gold_dev.gold_daily_events_category ORDER BY event_date, mp_action_geo_country_iso ASC\"\n",
    ").show(truncate=False)"
   ]
  },
  {
   "cell_type": "code",
   "execution_count": 5,
   "id": "7f3f8b17",
   "metadata": {},
   "outputs": [
    {
     "name": "stderr",
     "output_type": "stream",
     "text": [
      "25/09/26 00:46:25 WARN DeltaLog: Change in the table id detected while updating snapshot. \n",
      "Previous snapshot = Snapshot(path=s3a://warehouse/gold_dev/gold_daily_actor_network/_delta_log, version=0, metadata=Metadata(8f317bdd-5100-4514-86d5-dae3f8a34fb5,null,null,Format(parquet,Map()),{\"type\":\"struct\",\"fields\":[{\"name\":\"event_date\",\"type\":\"date\",\"nullable\":true,\"metadata\":{}},{\"name\":\"actor1_country_iso\",\"type\":\"string\",\"nullable\":true,\"metadata\":{}},{\"name\":\"actor1_country_eng\",\"type\":\"string\",\"nullable\":true,\"metadata\":{}},{\"name\":\"actor1_country_kor\",\"type\":\"string\",\"nullable\":true,\"metadata\":{}},{\"name\":\"actor1_geo_lat\",\"type\":\"double\",\"nullable\":true,\"metadata\":{}},{\"name\":\"actor1_geo_long\",\"type\":\"double\",\"nullable\":true,\"metadata\":{}},{\"name\":\"actor2_country_iso\",\"type\":\"string\",\"nullable\":true,\"metadata\":{}},{\"name\":\"actor2_country_eng\",\"type\":\"string\",\"nullable\":true,\"metadata\":{}},{\"name\":\"actor2_country_kor\",\"type\":\"string\",\"nullable\":true,\"metadata\":{}},{\"name\":\"actor2_geo_lat\",\"type\":\"double\",\"nullable\":true,\"metadata\":{}},{\"name\":\"actor2_geo_long\",\"type\":\"double\",\"nullable\":true,\"metadata\":{}},{\"name\":\"event_count\",\"type\":\"long\",\"nullable\":true,\"metadata\":{}},{\"name\":\"avg_tone\",\"type\":\"double\",\"nullable\":true,\"metadata\":{}},{\"name\":\"processed_at\",\"type\":\"timestamp\",\"nullable\":true,\"metadata\":{}},{\"name\":\"location_text\",\"type\":\"string\",\"nullable\":true,\"metadata\":{}},{\"name\":\"route_name\",\"type\":\"string\",\"nullable\":true,\"metadata\":{}},{\"name\":\"tone_category\",\"type\":\"string\",\"nullable\":true,\"metadata\":{}}]},List(),Map(),Some(1758847213278)), logSegment=LogSegment(s3a://warehouse/gold_dev/gold_daily_actor_network/_delta_log,0,WrappedArray(S3AFileStatus{path=s3a://warehouse/gold_dev/gold_daily_actor_network/_delta_log/00000000000000000000.json; isDirectory=false; length=5584; replication=1; blocksize=33554432; modification_time=1758847216656; access_time=0; owner=root; group=root; permission=rw-rw-rw-; isSymlink=false; hasAcl=false; isEncrypted=true; isErasureCoded=false} isEmptyDirectory=FALSE eTag=6330d732ea2e9f6173154f9960c70e19 versionId=null),None,1758847216656), checksumOpt=None)\n",
      "New snapshot = Snapshot(path=s3a://warehouse/gold_dev/gold_daily_actor_network/_delta_log, version=1, metadata=Metadata(cfbad58c-c8df-4d9e-aa43-a330e79b5b70,null,null,Format(parquet,Map()),{\"type\":\"struct\",\"fields\":[{\"name\":\"event_date\",\"type\":\"date\",\"nullable\":true,\"metadata\":{}},{\"name\":\"actor1_country_iso\",\"type\":\"string\",\"nullable\":true,\"metadata\":{}},{\"name\":\"actor1_country_eng\",\"type\":\"string\",\"nullable\":true,\"metadata\":{}},{\"name\":\"actor1_country_kor\",\"type\":\"string\",\"nullable\":true,\"metadata\":{}},{\"name\":\"actor1_geo_lat\",\"type\":\"double\",\"nullable\":true,\"metadata\":{}},{\"name\":\"actor1_geo_long\",\"type\":\"double\",\"nullable\":true,\"metadata\":{}},{\"name\":\"actor2_country_iso\",\"type\":\"string\",\"nullable\":true,\"metadata\":{}},{\"name\":\"actor2_country_eng\",\"type\":\"string\",\"nullable\":true,\"metadata\":{}},{\"name\":\"actor2_country_kor\",\"type\":\"string\",\"nullable\":true,\"metadata\":{}},{\"name\":\"actor2_geo_lat\",\"type\":\"double\",\"nullable\":true,\"metadata\":{}},{\"name\":\"actor2_geo_long\",\"type\":\"double\",\"nullable\":true,\"metadata\":{}},{\"name\":\"event_count\",\"type\":\"long\",\"nullable\":true,\"metadata\":{}},{\"name\":\"avg_tone\",\"type\":\"double\",\"nullable\":true,\"metadata\":{}},{\"name\":\"processed_at\",\"type\":\"timestamp\",\"nullable\":true,\"metadata\":{}},{\"name\":\"location_text\",\"type\":\"string\",\"nullable\":true,\"metadata\":{}},{\"name\":\"route_name\",\"type\":\"string\",\"nullable\":true,\"metadata\":{}},{\"name\":\"tone_category\",\"type\":\"string\",\"nullable\":true,\"metadata\":{}}]},List(),Map(),Some(1758847539580)), logSegment=LogSegment(s3a://warehouse/gold_dev/gold_daily_actor_network/_delta_log,1,WrappedArray(S3AFileStatus{path=s3a://warehouse/gold_dev/gold_daily_actor_network/_delta_log/00000000000000000000.json; isDirectory=false; length=5584; replication=1; blocksize=33554432; modification_time=1758847216656; access_time=0; owner=root; group=root; permission=rw-rw-rw-; isSymlink=false; hasAcl=false; isEncrypted=true; isErasureCoded=false} isEmptyDirectory=FALSE eTag=6330d732ea2e9f6173154f9960c70e19 versionId=null, S3AFileStatus{path=s3a://warehouse/gold_dev/gold_daily_actor_network/_delta_log/00000000000000000001.json; isDirectory=false; length=5955; replication=1; blocksize=33554432; modification_time=1758847543179; access_time=0; owner=root; group=root; permission=rw-rw-rw-; isSymlink=false; hasAcl=false; isEncrypted=true; isErasureCoded=false} isEmptyDirectory=FALSE eTag=9dc9b331e26e44da2251a550587a72ce versionId=null),None,1758847543179), checksumOpt=None).\n",
      "                                                                                \r"
     ]
    },
    {
     "name": "stdout",
     "output_type": "stream",
     "text": [
      " - Row : 1,000 개\n",
      " - Column : 17 개\n"
     ]
    },
    {
     "name": "stderr",
     "output_type": "stream",
     "text": [
      "                                                                                \r"
     ]
    },
    {
     "name": "stdout",
     "output_type": "stream",
     "text": [
      "+----------+------------------+--------------------------------------------------------+----------------------+--------------+---------------+------------------+--------------------------------------------------------+------------------+--------------+---------------+-----------+-----------------+-------------------+---------------------------------------------+----------+-------------+\n",
      "|event_date|actor1_country_iso|actor1_country_eng                                      |actor1_country_kor    |actor1_geo_lat|actor1_geo_long|actor2_country_iso|actor2_country_eng                                      |actor2_country_kor|actor2_geo_lat|actor2_geo_long|event_count|avg_tone         |processed_at       |location_text                                |route_name|tone_category|\n",
      "+----------+------------------+--------------------------------------------------------+----------------------+--------------+---------------+------------------+--------------------------------------------------------+------------------+--------------+---------------+-----------+-----------------+-------------------+---------------------------------------------+----------+-------------+\n",
      "|2024-09-23|IDN               |Indonesia                                               |인도네시아            |-6.17444      |106.829        |GBR               |The United Kingdom of Great Britain and Northern Ireland|영국              |54.0          |-4.0           |2          |1.8058690744921  |2025-09-23 10:00:00|[-6.174440|106.829000] [54.000000|-4.000000] |IDN → GBR |Positive     |\n",
      "|2024-09-23|KOR               |Republic of Korea                                       |중국                  |37.0          |127.5          |CHN               |China                                                   |미국              |24.2479       |112.028        |2          |-0.10537407797682|2025-09-23 13:45:00|[37.000000|127.500000] [24.247900|112.028000]|KOR → CHN |Negative     |\n",
      "|2024-09-23|SAU               |Saudi Arabia                                            |아제르바이잔          |25.0          |45.0           |AZE               |Azerbaijan                                              |null              |40.5          |47.5           |2          |4.23280423280423 |2025-09-23 09:45:00|[25.000000|45.000000] [40.500000|47.500000]  |SAU → AZE |Positive     |\n",
      "|2024-09-23|FRA               |France                                                  |프랑스                |46.0          |2.0            |IND               |India                                                   |null              |28.6          |77.2           |2          |4.60122699386503 |2025-09-23 23:00:00|[46.000000|2.000000] [28.600000|77.200000]   |FRA → IND |Positive     |\n",
      "|2024-09-23|CHN               |China                                                   |조선민주주의인민공화국|19.2269       |109.143        |KOR               |Republic of Korea                                       |null              |35.1028       |129.04         |2          |2.22222222222222 |2025-09-23 09:15:00|[19.226900|109.143000] [35.102800|129.040000]|CHN → KOR |Positive     |\n",
      "|2024-09-23|ITA               |Italy                                                   |이탈리아              |42.833333     |12.833333      |ISR               |Israel                                                  |null              |31.4167       |34.3333        |2          |0.57803468208093 |2025-09-23 14:30:00|[42.833333|12.833333] [31.416700|34.333300]  |ITA → ISR |Positive     |\n",
      "|2024-09-23|GBR               |The United Kingdom of Great Britain and Northern Ireland|영국                  |54.0          |-4.0           |IDN               |Indonesia                                               |인도네시아        |-6.17444      |106.829        |2          |1.8058690744921  |2025-09-23 10:00:00|[54.000000|-4.000000] [-6.174440|106.829000] |GBR → IDN |Positive     |\n",
      "|2024-09-23|NLD               |The Netherlands                                         |네덜란드              |52.5          |5.75           |TUR               |Türkiye                                                 |튀르키예          |39.9272       |32.8644        |2          |5.15463917525773 |2025-09-23 09:45:00|[52.500000|5.750000] [39.927200|32.864400]   |NLD → TUR |Positive     |\n",
      "|2024-09-23|USA               |The United States of America                            |미국                  |38.8951       |-77.0364       |CHN               |China                                                   |중국              |23.7822       |116.151        |2          |-3.48258706467662|2025-09-23 10:30:00|[38.895100|-77.036400] [23.782200|116.151000]|USA → CHN |Negative     |\n",
      "|2024-09-23|ITA               |Italy                                                   |이탈리아              |41.9          |12.4833        |USA               |The United States of America                            |미국              |40.7443       |-73.4821       |2          |-0.32948929159802|2025-09-23 07:45:00|[41.900000|12.483300] [40.744300|-73.482100] |ITA → USA |Negative     |\n",
      "|2024-09-23|CHN               |China                                                   |중국                  |23.7822       |116.151        |USA               |The United States of America                            |미국              |38.8951       |-77.0364       |2          |-3.48258706467662|2025-09-23 10:30:00|[23.782200|116.151000] [38.895100|-77.036400]|CHN → USA |Negative     |\n",
      "|2024-09-23|UKR               |Ukraine                                                 |우크라이나            |49.0          |32.0           |RUS               |The Russian Federation                                  |러시아 연방       |56.043        |44.7525        |2          |-4.06153846153846|2025-09-23 09:00:00|[49.000000|32.000000] [56.043000|44.752500]  |UKR → RUS |Negative     |\n",
      "|2024-09-23|KOR               |Republic of Korea                                       |대한민국              |37.0          |127.5          |CHN               |China                                                   |중국              |23.7822       |116.151        |2          |-0.96286107290234|2025-09-23 09:45:00|[37.000000|127.500000] [23.782200|116.151000]|KOR → CHN |Negative     |\n",
      "|2024-09-23|JPN               |Japan                                                   |일본                  |35.685        |139.751        |OMN               |Oman                                                    |말레이시아        |21.0          |57.0           |1          |-7.14285714285714|2025-09-23 21:45:00|[35.685000|139.751000] [21.000000|57.000000] |JPN → OMN |Negative     |\n",
      "|2024-09-23|ARE               |The United Arab Emirates                                |미국                  |24.0          |54.0           |GBR               |The United Kingdom of Great Britain and Northern Ireland|콜롬비아          |51.8          |-3.15          |1          |1.51260504201681 |2025-09-23 20:45:00|[24.000000|54.000000] [51.800000|-3.150000]  |ARE → GBR |Positive     |\n",
      "|2024-09-23|OMN               |Oman                                                    |말레이시아            |21.0          |57.0           |JPN               |Japan                                                   |일본              |35.685        |139.751        |1          |-7.14285714285714|2025-09-23 21:45:00|[21.000000|57.000000] [35.685000|139.751000] |OMN → JPN |Negative     |\n",
      "|2024-09-23|KOR               |Republic of Korea                                       |대한민국              |37.0          |127.5          |CHN               |China                                                   |중국              |39.9289       |116.388        |1          |-1.00719424460431|2025-09-23 13:30:00|[37.000000|127.500000] [39.928900|116.388000]|KOR → CHN |Negative     |\n",
      "|2024-09-23|USA               |The United States of America                            |null                  |42.1497       |-74.9384       |ISR               |Israel                                                  |이스라엘          |31.5          |34.75          |1          |-0.29901751388295|2025-09-23 19:15:00|[42.149700|-74.938400] [31.500000|34.750000] |USA → ISR |Negative     |\n",
      "|2024-09-23|UKR               |Ukraine                                                 |러시아 연방           |50.4333       |30.5167        |FRA               |France                                                  |독일              |46.0          |2.0            |1          |-2.3121387283237 |2025-09-23 21:30:00|[50.433300|30.516700] [46.000000|2.000000]   |UKR → FRA |Negative     |\n",
      "|2024-09-23|SAU               |Saudi Arabia                                            |이스라엘              |25.0          |45.0           |LBN               |Lebanon                                                 |레바논            |33.8903       |35.4722        |1          |-2.02839756592292|2025-09-23 16:45:00|[25.000000|45.000000] [33.890300|35.472200]  |SAU → LBN |Negative     |\n",
      "+----------+------------------+--------------------------------------------------------+----------------------+--------------+---------------+------------------+--------------------------------------------------------+------------------+--------------+---------------+-----------+-----------------+-------------------+---------------------------------------------+----------+-------------+\n",
      "only showing top 20 rows\n",
      "\n"
     ]
    }
   ],
   "source": [
    "df = spark.table(\"gold_dev.gold_daily_actor_network\")\n",
    "row_count = df.count()\n",
    "col_count = len(df.columns)\n",
    "print(f\" - Row : {row_count:,} 개\")\n",
    "print(f\" - Column : {col_count} 개\")\n",
    "\n",
    "spark.sql(\n",
    "    \"SELECT * FROM gold_dev.gold_daily_actor_network ORDER BY event_date ASC\"\n",
    ").show(truncate=False)"
   ]
  },
  {
   "cell_type": "code",
   "execution_count": null,
   "id": "a1f40dab",
   "metadata": {},
   "outputs": [],
   "source": [
    "# Superset 연결용 최종 테이블\n",
    "print(\"🥇 [gold_superset_view] 뷰\")\n",
    "spark.sql(\"SELECT * FROM gold_dev.gold_superset_view\").show(truncate=False)"
   ]
  },
  {
   "cell_type": "markdown",
   "id": "2b89c612",
   "metadata": {},
   "source": [
    "### 시각화 테스트"
   ]
  },
  {
   "cell_type": "code",
   "execution_count": 12,
   "id": "c6776003",
   "metadata": {},
   "outputs": [
    {
     "name": "stdout",
     "output_type": "stream",
     "text": [
      "ℹ️ 이미 삭제되었거나, 다른 이름의 캐시 파일이 사용 중일 수 있습니다.\n",
      "✅ Matplotlib 캐시 디렉토리(/root/.cache/matplotlib)의 모든 파일을 삭제했습니다.\n",
      "\n",
      "‼️‼️‼️ 중요: 이제 메뉴에서 'Kernel' > 'Restart Kernel'을 실행하여 런타임을 반드시 재시작해주세요! ‼️‼️‼️\n"
     ]
    }
   ],
   "source": [
    "# 한글 폰트를 찾지 못하는 경우 : WARNING:matplotlib.font_manager:findfont: Font family 'NanumGothic' not found.\n",
    "import matplotlib\n",
    "import os\n",
    "\n",
    "try:\n",
    "    cache_dir = matplotlib.get_cachedir()\n",
    "    font_cache_file = os.path.join(\n",
    "        cache_dir, \"fontlist-v330.json\"\n",
    "    )  # 버전마다 파일명이 다를 수 있습니다.\n",
    "\n",
    "    if os.path.exists(font_cache_file):\n",
    "        os.remove(font_cache_file)\n",
    "        print(\n",
    "            f\"✅ Matplotlib 폰트 캐시 파일({font_cache_file})을 성공적으로 삭제했습니다.\"\n",
    "        )\n",
    "    else:\n",
    "        print(\"ℹ️ 이미 삭제되었거나, 다른 이름의 캐시 파일이 사용 중일 수 있습니다.\")\n",
    "        # 만약 위 코드로 해결되지 않으면, 캐시 디렉토리 전체를 비웁니다.\n",
    "        os.system(f\"rm -rf {cache_dir}/*\")\n",
    "        print(f\"✅ Matplotlib 캐시 디렉토리({cache_dir})의 모든 파일을 삭제했습니다.\")\n",
    "\n",
    "except Exception as e:\n",
    "    print(f\"❌ 폰트 캐시를 삭제하는 중 오류 발생: {e}\")\n",
    "\n",
    "print(\n",
    "    \"\\n‼️‼️‼️ 중요: 이제 메뉴에서 'Kernel' > 'Restart Kernel'을 실행하여 런타임을 반드시 재시작해주세요! ‼️‼️‼️\"\n",
    ")"
   ]
  },
  {
   "cell_type": "code",
   "execution_count": 2,
   "id": "a0390bf6",
   "metadata": {},
   "outputs": [
    {
     "name": "stdout",
     "output_type": "stream",
     "text": [
      "시각화에 필요한 라이브러리를 설치합니다...\n",
      "Requirement already satisfied: matplotlib in /usr/local/lib/python3.10/site-packages (3.10.6)\n",
      "Requirement already satisfied: seaborn in /usr/local/lib/python3.10/site-packages (0.13.2)\n",
      "Requirement already satisfied: squarify in /usr/local/lib/python3.10/site-packages (0.4.4)\n",
      "Requirement already satisfied: packaging>=20.0 in /usr/local/lib/python3.10/site-packages (from matplotlib) (25.0)\n",
      "Requirement already satisfied: cycler>=0.10 in /usr/local/lib/python3.10/site-packages (from matplotlib) (0.12.1)\n",
      "Requirement already satisfied: pillow>=8 in /usr/local/lib/python3.10/site-packages (from matplotlib) (11.3.0)\n",
      "Requirement already satisfied: python-dateutil>=2.7 in /usr/local/lib/python3.10/site-packages (from matplotlib) (2.9.0.post0)\n",
      "Requirement already satisfied: numpy>=1.23 in /usr/local/lib/python3.10/site-packages (from matplotlib) (2.2.6)\n",
      "Requirement already satisfied: contourpy>=1.0.1 in /usr/local/lib/python3.10/site-packages (from matplotlib) (1.3.2)\n",
      "Requirement already satisfied: pyparsing>=2.3.1 in /usr/local/lib/python3.10/site-packages (from matplotlib) (3.2.5)\n",
      "Requirement already satisfied: fonttools>=4.22.0 in /usr/local/lib/python3.10/site-packages (from matplotlib) (4.60.0)\n",
      "Requirement already satisfied: kiwisolver>=1.3.1 in /usr/local/lib/python3.10/site-packages (from matplotlib) (1.4.9)\n",
      "Requirement already satisfied: pandas>=1.2 in /usr/local/lib/python3.10/site-packages (from seaborn) (2.3.2)\n",
      "Requirement already satisfied: tzdata>=2022.7 in /usr/local/lib/python3.10/site-packages (from pandas>=1.2->seaborn) (2025.2)\n",
      "Requirement already satisfied: pytz>=2020.1 in /usr/local/lib/python3.10/site-packages (from pandas>=1.2->seaborn) (2025.2)\n",
      "Requirement already satisfied: six>=1.5 in /usr/local/lib/python3.10/site-packages (from python-dateutil>=2.7->matplotlib) (1.17.0)\n",
      "\u001b[33mWARNING: Running pip as the 'root' user can result in broken permissions and conflicting behaviour with the system package manager. It is recommended to use a virtual environment instead: https://pip.pypa.io/warnings/venv\u001b[0m\u001b[33m\n",
      "\u001b[0m\n",
      "\u001b[1m[\u001b[0m\u001b[34;49mnotice\u001b[0m\u001b[1;39;49m]\u001b[0m\u001b[39;49m A new release of pip is available: \u001b[0m\u001b[31;49m23.0.1\u001b[0m\u001b[39;49m -> \u001b[0m\u001b[32;49m25.2\u001b[0m\n",
      "\u001b[1m[\u001b[0m\u001b[34;49mnotice\u001b[0m\u001b[1;39;49m]\u001b[0m\u001b[39;49m To update, run: \u001b[0m\u001b[32;49mpip install --upgrade pip\u001b[0m\n",
      "✅ Python 시각화 라이브러리(matplotlib, seaborn, squarify) 설치 완료.\n",
      "\n",
      "시스템 패키지 목록을 최신 상태로 업데이트합니다...\n",
      "나눔고딕 폰트 설치를 시작합니다...\n",
      "✅ 폰트 설치 완료.\n",
      "\n",
      "Matplotlib의 폰트 캐시를 재구성합니다...\n",
      "✅ 캐시 재구성 완료.\n",
      "\n",
      "✅ Matplotlib에 'NanumGothic' 폰트를 성공적으로 등록했습니다.\n",
      "\n",
      "'gold_dev.gold_daily_events_category' 테이블에서 데이터를 불러옵니다...\n"
     ]
    },
    {
     "name": "stderr",
     "output_type": "stream",
     "text": [
      "25/09/25 14:17:05 WARN MetricsConfig: Cannot locate configuration: tried hadoop-metrics2-s3a-file-system.properties,hadoop-metrics2.properties\n",
      "25/09/25 14:17:25 WARN TaskSchedulerImpl: Initial job has not accepted any resources; check your cluster UI to ensure that workers are registered and have sufficient resources\n",
      "25/09/25 14:17:40 WARN TaskSchedulerImpl: Initial job has not accepted any resources; check your cluster UI to ensure that workers are registered and have sufficient resources\n",
      "25/09/25 14:17:55 WARN TaskSchedulerImpl: Initial job has not accepted any resources; check your cluster UI to ensure that workers are registered and have sufficient resources\n",
      "25/09/25 14:18:08 WARN package: Truncated the string representation of a plan since it was too large. This behavior can be adjusted by setting 'spark.sql.debug.maxToStringFields'.\n",
      "                                                                                \r"
     ]
    },
    {
     "name": "stdout",
     "output_type": "stream",
     "text": [
      "✅ 데이터 로딩 및 변환 완료.\n",
      "\n",
      "'카테고리 별 이벤트 분포' 막대그래프 시각화를 시작합니다...\n"
     ]
    },
    {
     "data": {
      "image/png": "[encoded data removed]",
      "text/plain": [
       "<Figure size 1000x800 with 1 Axes>"
      ]
     },
     "metadata": {},
     "output_type": "display_data"
    },
    {
     "name": "stdout",
     "output_type": "stream",
     "text": [
      "✅ 막대그래프 생성 완료.\n",
      "\n",
      "'이벤트 타입 분포' 트리맵 시각화를 시작합니다...\n"
     ]
    },
    {
     "data": {
      "image/png": "[encoded data removed]",
      "text/plain": [
       "<Figure size 1200x800 with 1 Axes>"
      ]
     },
     "metadata": {},
     "output_type": "display_data"
    },
    {
     "name": "stdout",
     "output_type": "stream",
     "text": [
      "✅ 트리맵 생성 완료.\n"
     ]
    }
   ],
   "source": [
    "import sys\n",
    "import os\n",
    "\n",
    "# --- 0단계: 모든 필수 Python 라이브러리 설치 ---\n",
    "print(\"시각화에 필요한 라이브러리를 설치합니다...\")\n",
    "!{sys.executable} -m pip install matplotlib seaborn squarify\n",
    "print(\"✅ Python 시각화 라이브러리(matplotlib, seaborn, squarify) 설치 완료.\")\n",
    "\n",
    "\n",
    "# --- 라이브러리 임포트 ---\n",
    "import matplotlib.pyplot as plt\n",
    "import matplotlib.font_manager as fm\n",
    "import seaborn as sns\n",
    "import squarify\n",
    "from pyspark.sql.functions import sum as spark_sum\n",
    "from matplotlib.ticker import FuncFormatter\n",
    "\n",
    "\n",
    "# --- 1단계: 시스템 패키지 목록 업데이트 및 한글 폰트 설치 ---\n",
    "print(\"\\n시스템 패키지 목록을 최신 상태로 업데이트합니다...\")\n",
    "os.system(\"apt-get -qq update\")\n",
    "print(\"나눔고딕 폰트 설치를 시작합니다...\")\n",
    "os.system(\"apt-get -qq -y install fonts-nanum\")\n",
    "print(\"✅ 폰트 설치 완료.\")\n",
    "\n",
    "# --- 2단계: Matplotlib 폰트 캐시 재구성 ---\n",
    "print(\"\\nMatplotlib의 폰트 캐시를 재구성합니다...\")\n",
    "try:\n",
    "    # 이전 버전 호환성을 위해 _rebuild()를 먼저 시도\n",
    "    fm._rebuild()\n",
    "except AttributeError:\n",
    "    # 최신 버전에서는 캐시를 직접 삭제\n",
    "    import matplotlib\n",
    "\n",
    "    cache_dir = matplotlib.get_cachedir()\n",
    "    if os.path.exists(cache_dir):\n",
    "        os.system(f\"rm -rf {cache_dir}/*\")\n",
    "print(\"✅ 캐시 재구성 완료.\")\n",
    "\n",
    "\n",
    "# --- 3단계: Matplotlib 기본 폰트 설정 ---\n",
    "try:\n",
    "    plt.rc(\"font\", family=\"NanumGothic\")\n",
    "    plt.rcParams[\"axes.unicode_minus\"] = False\n",
    "    print(\"\\n✅ Matplotlib에 'NanumGothic' 폰트를 성공적으로 등록했습니다.\")\n",
    "\n",
    "    # --- 4단계: 데이터 로딩 및 준비 ---\n",
    "    table_name = \"gold_dev.gold_daily_events_category\"\n",
    "    print(f\"\\n'{table_name}' 테이블에서 데이터를 불러옵니다...\")\n",
    "    df = spark.table(table_name)\n",
    "\n",
    "    # 시각화에 필요한 컬럼만 선택하여 Pandas로 변환 (날짜 타입 변환 오류 방지)\n",
    "    pandas_df = df.select(\n",
    "        \"mp_quad_class\", \"mp_event_categories\", \"event_count\"\n",
    "    ).toPandas()\n",
    "    print(\"✅ 데이터 로딩 및 변환 완료.\")\n",
    "\n",
    "    # --- 5단계: 카테고리 별 이벤트 분포 (가로 막대그래프) ---\n",
    "    print(\"\\n'카테고리 별 이벤트 분포' 막대그래프 시각화를 시작합니다...\")\n",
    "\n",
    "    category_agg = (\n",
    "        pandas_df.groupby(\"mp_event_categories\")[\"event_count\"].sum().reset_index()\n",
    "    )\n",
    "    category_agg = category_agg.sort_values(by=\"event_count\", ascending=False).head(15)\n",
    "\n",
    "    plt.figure(figsize=(10, 8))\n",
    "    barplot = sns.barplot(\n",
    "        x=\"event_count\", y=\"mp_event_categories\", data=category_agg, orient=\"h\"\n",
    "    )\n",
    "    plt.title(\"이벤트 카테고리별 분포 (상위 15개)\", fontsize=16, pad=20)\n",
    "    plt.xlabel(\"총 이벤트 수\", fontsize=12)\n",
    "    plt.ylabel(\"이벤트 카테고리\", fontsize=12)\n",
    "\n",
    "    def format_k(x, pos):\n",
    "        return f\"{x*1e-3:,.0f}k\" if x > 0 else \"0\"\n",
    "\n",
    "    formatter = FuncFormatter(format_k)\n",
    "    barplot.xaxis.set_major_formatter(formatter)\n",
    "\n",
    "    plt.tight_layout()\n",
    "    plt.show()\n",
    "    print(\"✅ 막대그래프 생성 완료.\")\n",
    "\n",
    "    # --- 6단계: 이벤트 타입 분포 (트리맵) ---\n",
    "    print(\"\\n'이벤트 타입 분포' 트리맵 시각화를 시작합니다...\")\n",
    "\n",
    "    quad_class_agg = (\n",
    "        pandas_df.groupby(\"mp_quad_class\")[\"event_count\"].sum().reset_index()\n",
    "    )\n",
    "\n",
    "    sizes = quad_class_agg[\"event_count\"]\n",
    "    labels = quad_class_agg.apply(\n",
    "        lambda x: f\"{x['mp_quad_class']}\\n({x['event_count']:,})\", axis=1\n",
    "    )\n",
    "\n",
    "    plt.figure(figsize=(12, 8))\n",
    "    squarify.plot(sizes=sizes, label=labels, alpha=0.8, text_kwargs={\"fontsize\": 14})\n",
    "\n",
    "    plt.title(\"이벤트 타입(4대 분류)별 분포\", fontsize=18)\n",
    "    plt.axis(\"off\")\n",
    "    plt.show()\n",
    "    print(\"✅ 트리맵 생성 완료.\")\n",
    "\n",
    "except Exception as e:\n",
    "    print(f\"❌ 데이터를 불러오거나 시각화하는 중 오류가 발생했습니다: {e}\")"
   ]
  },
  {
   "cell_type": "markdown",
   "id": "879823d8",
   "metadata": {},
   "source": [
    "### Gold_dev의 모든 테이블 크기 확인용"
   ]
  },
  {
   "cell_type": "code",
   "execution_count": 6,
   "id": "fccfe860",
   "metadata": {},
   "outputs": [
    {
     "name": "stdout",
     "output_type": "stream",
     "text": [
      "🥇 'gold_dev' 스키마에서 총 4개의 테이블을 발견했습니다.\n",
      "\n",
      "테이블명: gold_dev.gold_daily_detailed_events\n"
     ]
    },
    {
     "name": "stderr",
     "output_type": "stream",
     "text": [
      "                                                                                \r"
     ]
    },
    {
     "name": "stdout",
     "output_type": "stream",
     "text": [
      " - 행(Row)의 수: 258,338 개\n",
      " - 열(Column)의 수: 81 개\n",
      "\n",
      "테이블명: gold_dev.gold_daily_events_category\n",
      " - 행(Row)의 수: 8,501 개\n",
      " - 열(Column)의 수: 8 개\n",
      "\n",
      "테이블명: gold_dev.gold_near_realtime_summary\n"
     ]
    },
    {
     "name": "stderr",
     "output_type": "stream",
     "text": [
      "                                                                                \r"
     ]
    },
    {
     "name": "stdout",
     "output_type": "stream",
     "text": [
      " - 행(Row)의 수: 1,137 개\n",
      " - 열(Column)의 수: 16 개\n",
      "\n",
      "테이블명: gold_dev.gold_superset_view\n"
     ]
    },
    {
     "name": "stderr",
     "output_type": "stream",
     "text": [
      "                                                                                \r"
     ]
    },
    {
     "name": "stdout",
     "output_type": "stream",
     "text": [
      " - 행(Row)의 수: 252,909 개\n",
      " - 열(Column)의 수: 15 개\n",
      "\n"
     ]
    }
   ],
   "source": [
    "schema_name = \"gold_dev\"\n",
    "\n",
    "try:\n",
    "    # --- 지정된 스키마의 모든 테이블 목록을 가져옵니다. ---\n",
    "    tables_df = spark.sql(f\"SHOW TABLES IN {schema_name}\")\n",
    "\n",
    "    # DataFrame에서 테이블 이름만 추출하여 Python 리스트로 변환합니다.\n",
    "    table_names = [row.tableName for row in tables_df.collect()]\n",
    "\n",
    "    if not table_names:\n",
    "        print(f\"ℹ️ '{schema_name}' 스키마에서 테이블을 찾을 수 없습니다.\")\n",
    "    else:\n",
    "        print(\n",
    "            f\"🥇 '{schema_name}' 스키마에서 총 {len(table_names)}개의 테이블을 발견했습니다.\\n\"\n",
    "        )\n",
    "\n",
    "    # --- 반복문을 사용하여 각 테이블의 정보를 조회하고 출력합니다. ---\n",
    "    for table in table_names:\n",
    "        full_table_name = f\"{schema_name}.{table}\"\n",
    "        print(f\"테이블명: {full_table_name}\")\n",
    "\n",
    "        try:\n",
    "            df = spark.table(full_table_name)\n",
    "            row_count = df.count()\n",
    "            col_count = len(df.columns)\n",
    "            print(f\" - 행(Row)의 수: {row_count:,} 개\")\n",
    "            print(f\" - 열(Column)의 수: {col_count} 개\\n\")\n",
    "\n",
    "        except Exception as e:\n",
    "            print(f\"❌ 테이블 '{full_table_name}' 조회 중 오류 발생: {e}\\n\")\n",
    "\n",
    "except Exception as e:\n",
    "    print(f\"❌ 스키마 '{schema_name}'의 테이블 목록을 가져오는 중 오류 발생: {e}\")"
   ]
  },
  {
   "cell_type": "markdown",
   "id": "5a42c5bf",
   "metadata": {},
   "source": [
    "### Spark 세션 종료"
   ]
  },
  {
   "cell_type": "code",
   "execution_count": null,
   "id": "f62a185b",
   "metadata": {},
   "outputs": [],
   "source": [
    "spark.stop()\n",
    "print(\"\\n✅ Spark 세션이 종료되었습니다.\")"
   ]
  }
 ],
 "metadata": {
  "kernelspec": {
   "display_name": "Python 3 (ipykernel)",
   "language": "python",
   "name": "python3"
  },
  "language_info": {
   "codemirror_mode": {
    "name": "ipython",
    "version": 3
   },
   "file_extension": ".py",
   "mimetype": "text/x-python",
   "name": "python",
   "nbconvert_exporter": "python",
   "pygments_lexer": "ipython3",
   "version": "3.10.18"
  }
 },
 "nbformat": 4,
 "nbformat_minor": 5
}
