{
 "cells": [
  {
   "cell_type": "markdown",
   "id": "b0766b83",
   "metadata": {},
   "source": [
    "# Seed 생성 확인용 테스트 노트북\n",
    "http://4.230.26.44:8888"
   ]
  },
  {
   "cell_type": "code",
   "execution_count": 1,
   "id": "e2d5d5a0",
   "metadata": {},
   "outputs": [
    {
     "name": "stderr",
     "output_type": "stream",
     "text": [
      "25/09/25 07:39:36 WARN NativeCodeLoader: Unable to load native-hadoop library for your platform... using builtin-java classes where applicable\n",
      "Setting default log level to \"WARN\".\n",
      "To adjust logging level use sc.setLogLevel(newLevel). For SparkR, use setLogLevel(newLevel).\n"
     ]
    },
    {
     "name": "stdout",
     "output_type": "stream",
     "text": [
      "✅ Spark 세션 생성 완료\n"
     ]
    }
   ],
   "source": [
    "import os\n",
    "import sys\n",
    "\n",
    "sys.path.append(\"/app\")\n",
    "from src.utils.spark_builder import get_spark_session\n",
    "from pyspark.sql import functions as F\n",
    "\n",
    "os.environ[\n",
    "    \"PYSPARK_SUBMIT_ARGS\"\n",
    "] = \"\"\"\n",
    "    --conf spark.cores.max=2\n",
    "    --conf spark.executor.memory=8g\n",
    "    --conf spark.app.name=GDELT_dbt_test\n",
    "    pyspark-shell\n",
    "\"\"\"\n",
    "\n",
    "# Spark 세션 생성\n",
    "spark = get_spark_session(\"GDELT_dbt_test\", \"spark://spark-master:7077\")\n",
    "print(\"✅ Spark 세션 생성 완료\")"
   ]
  },
  {
   "cell_type": "code",
   "execution_count": 2,
   "id": "6ddc969d",
   "metadata": {},
   "outputs": [
    {
     "name": "stdout",
     "output_type": "stream",
     "text": [
      "📖 사용 가능한 데이터베이스(스키마) 목록:\n",
      "+------------+\n",
      "|   namespace|\n",
      "+------------+\n",
      "|     default|\n",
      "|    gold_dev|\n",
      "|   gold_prod|\n",
      "|    seed_dev|\n",
      "|   seed_prod|\n",
      "|      silver|\n",
      "| staging_dev|\n",
      "|staging_prod|\n",
      "+------------+\n",
      "\n"
     ]
    }
   ],
   "source": [
    "# Spark Metastore에 존재하는 모든 데이터베이스(스키마) 목록을 확인합니다.\n",
    "print(\"📖 사용 가능한 데이터베이스(스키마) 목록:\")\n",
    "spark.sql(\"SHOW DATABASES\").show()"
   ]
  },
  {
   "cell_type": "code",
   "execution_count": null,
   "id": "1feee1e7",
   "metadata": {},
   "outputs": [
    {
     "name": "stdout",
     "output_type": "stream",
     "text": [
      "📜 '_dev' 스키마의 테이블 목록:\n"
     ]
    },
    {
     "name": "stderr",
     "output_type": "stream",
     "text": [
      "                                                                                \r"
     ]
    },
    {
     "name": "stdout",
     "output_type": "stream",
     "text": [
      "+---------+--------------------+-----------+\n",
      "|namespace|           tableName|isTemporary|\n",
      "+---------+--------------------+-----------+\n",
      "| seed_dev|actor_ethnic_grou...|      false|\n",
      "| seed_dev|actor_organizatio...|      false|\n",
      "| seed_dev|actor_religion_codes|      false|\n",
      "| seed_dev|    actor_role_codes|      false|\n",
      "| seed_dev|  event_detail_codes|      false|\n",
      "| seed_dev|event_quad_class_...|      false|\n",
      "| seed_dev|    event_root_codes|      false|\n",
      "| seed_dev|       geo_adm_codes|      false|\n",
      "| seed_dev|   geo_country_codes|      false|\n",
      "| seed_dev|      geo_type_codes|      false|\n",
      "+---------+--------------------+-----------+\n",
      "\n",
      "+-----------+--------------------+-----------+\n",
      "|  namespace|           tableName|isTemporary|\n",
      "+-----------+--------------------+-----------+\n",
      "|staging_dev|stg_actors_descri...|      false|\n",
      "|staging_dev|stg_gkg_detailed_...|      false|\n",
      "|staging_dev|    stg_seed_mapping|      false|\n",
      "+-----------+--------------------+-----------+\n",
      "\n",
      "+---------+--------------------+-----------+\n",
      "|namespace|           tableName|isTemporary|\n",
      "+---------+--------------------+-----------+\n",
      "|gold_prod|gold_daily_detail...|      false|\n",
      "|gold_prod|gold_dashboard_ma...|      false|\n",
      "|gold_prod|gold_near_realtim...|      false|\n",
      "|gold_prod|  gold_superset_view|      false|\n",
      "+---------+--------------------+-----------+\n",
      "\n"
     ]
    }
   ],
   "source": [
    "# dbt seed 또는 dbt run으로 생성된 테이블 확인\n",
    "print(\"📜 '_dev' 스키마의 테이블 목록:\")\n",
    "spark.sql(\"SHOW TABLES IN seed_dev\").show()\n",
    "spark.sql(\"SHOW TABLES IN staging_dev\").show()\n",
    "spark.sql(\"SHOW TABLES IN gold_dev\").show()"
   ]
  },
  {
   "cell_type": "markdown",
   "id": "2bcc0f86",
   "metadata": {},
   "source": [
    "### Seed 확인 및 관리"
   ]
  },
  {
   "cell_type": "code",
   "execution_count": null,
   "id": "275658c0",
   "metadata": {},
   "outputs": [],
   "source": [
    "# Seed 테이블(총 10개)의 샘플 데이터를 5개씩 출력하여 내용 확인\n",
    "seed_tables = [\n",
    "    \"actor_ethnic_group_codes\",\n",
    "    \"actor_organization_codes\",\n",
    "    \"actor_religion_codes\",\n",
    "    \"actor_role_codes\",\n",
    "    \"event_root_codes\",\n",
    "    \"event_detail_codes\",\n",
    "    \"event_quad_class_codes\",\n",
    "    \"geo_adm_codes\",\n",
    "    \"geo_country_codes\",\n",
    "    \"geo_type_codes\",\n",
    "]\n",
    "\n",
    "for table in seed_tables:\n",
    "    print(f\"\\n 🔍 {table} 테이블 샘플 데이터\")\n",
    "    try:\n",
    "        spark.sql(f\"SELECT * FROM seed_dev.{table} LIMIT 5\").show(truncate=False)\n",
    "    except Exception as e:\n",
    "        print(f\"❌ 테이블 조회 중, 오류 발생: {e}\")"
   ]
  },
  {
   "cell_type": "markdown",
   "id": "f2b4fa5f",
   "metadata": {},
   "source": [
    "생성된 seed 테이블을 삭제할 경우, 아래 코드에 \"삭제할 seed 테이블명\"을 입력하여 실행"
   ]
  },
  {
   "cell_type": "code",
   "execution_count": null,
   "id": "16aa844e",
   "metadata": {},
   "outputs": [],
   "source": [
    "# 삭제할 seed 테이블 이름 목록\n",
    "seed_tables_to_drop = [\n",
    "    # \"[삭제할 seed 테이블명]\"\n",
    "    # \"geo_country_fips_codes\",\n",
    "    # \"geo_country_iso_codes\"\n",
    "]\n",
    "print(\"🗑️ 기존 Seed 테이블 삭제를 시작합니다.\")\n",
    "\n",
    "for table_name in seed_tables_to_drop:\n",
    "    try:\n",
    "        spark.sql(f\"DROP TABLE IF EXISTS seed_dev.{table_name}\")\n",
    "        print(f\"  - 테이블 'seed_dev.{table_name}' 삭제 완료.\")\n",
    "    except Exception as e:\n",
    "        print(f\"  - 테이블 'seed_dev.{table_name}' 삭제 중 오류 발생: {e}\")\n",
    "\n",
    "print(\"\\n✅ 모든 Seed 테이블 삭제 작업이 완료되었습니다.\")\n",
    "\n",
    "# 삭제 후 테이블 목록을 다시 확인하여 깨끗해졌는지 확인\n",
    "print(\"📜 현재 'seed_dev' 스키마의 테이블 목록:\")\n",
    "spark.sql(\"SHOW TABLES IN seed_dev\").show()"
   ]
  },
  {
   "cell_type": "markdown",
   "id": "7d2b4c5d",
   "metadata": {},
   "source": [
    "### Staging 폴더의 SQL 파일을 dbt run한 결과 확인"
   ]
  },
  {
   "cell_type": "code",
   "execution_count": null,
   "id": "d5daa1b5",
   "metadata": {},
   "outputs": [],
   "source": [
    "# stg_seed_mapping 결과 확인\n",
    "print(\"🥈 [stg_seed_mapping] 뷰\")\n",
    "spark.sql(\"SELECT * FROM staging_dev.stg_seed_mapping\").show(truncate=False)"
   ]
  },
  {
   "cell_type": "code",
   "execution_count": null,
   "id": "ed27de8b",
   "metadata": {},
   "outputs": [],
   "source": [
    "# stg_actors_description 결과 확인\n",
    "print(\"🥈 [stg_actors_description] 뷰\")\n",
    "spark.sql(\"SELECT * FROM staging_dev.stg_actors_description WHERE actor_full_description IS NULL\").show(truncate=False)"
   ]
  },
  {
   "cell_type": "code",
   "execution_count": null,
   "id": "24365b13",
   "metadata": {},
   "outputs": [],
   "source": [
    "# stg_gkg_detailed_events 결과 확인\n",
    "print(\"🥈 [stg_gkg_detailed_events] 뷰\")\n",
    "spark.sql(\"SELECT * FROM staging_dev.stg_gkg_detailed_events\").show(truncate=False)"
   ]
  },
  {
   "cell_type": "markdown",
   "id": "97f74ad3",
   "metadata": {},
   "source": [
    "### Marts 폴더의 SQL 파일을 dbt run한 결과 확인"
   ]
  },
  {
   "cell_type": "code",
   "execution_count": null,
   "id": "5f68f334",
   "metadata": {},
   "outputs": [
    {
     "name": "stdout",
     "output_type": "stream",
     "text": [
      "🥇 [gold_near_realtime_summary] 뷰\n",
      "+----------+-------------------------+-------------------------+-------------------------+-----------+-------------------+-------------------+--------------+-------------+--------------+-----------------------+--------------------+-------------------+------------------+-------------------+----------------------------------------------------------------------+\n",
      "|event_date|mp_action_geo_country_iso|mp_action_geo_country_eng|mp_action_geo_country_kor|event_count|avg_goldstein_scale|avg_tone           |total_mentions|total_sources|total_articles|count_cooperation_event|count_conflict_event|count_anomaly_event|risk_score_daily  |processed_at       |daily_tone_summary                                                    |\n",
      "+----------+-------------------------+-------------------------+-------------------------+-----------+-------------------+-------------------+--------------+-------------+--------------+-----------------------+--------------------+-------------------+------------------+-------------------+----------------------------------------------------------------------+\n",
      "|2025-09-23|EGY                      |Egypt                    |이집트                   |659        |1.9305007587253398 |-2.0745306814700673|2941          |906          |2835          |510                    |149                 |17                 |0.9552535319788517|2025-09-24 06:15:00|이집트에서는 \"협의\" 관련 중립적인 분위기의 이벤트가 주로 발생했습니다.|\n",
      "+----------+-------------------------+-------------------------+-------------------------+-----------+-------------------+-------------------+--------------+-------------+--------------+-----------------------+--------------------+-------------------+------------------+-------------------+----------------------------------------------------------------------+\n",
      "\n"
     ]
    }
   ],
   "source": [
    "# 15분마다 업데이트) gdelt_events 데이터만을 사용하여, 대시보드의 핵심 KPI를 빠르게 집계\n",
    "print(\"🥇 [gold_near_realtime_summary] 뷰\")\n",
    "spark.sql(\"SELECT * FROM gold_dev.gold_near_realtime_summary WHERE event_date = '2025-09-23' and mp_action_geo_country_kor = '이집트'\").show(truncate=False)"
   ]
  },
  {
   "cell_type": "code",
   "execution_count": null,
   "id": "90bfd68c",
   "metadata": {},
   "outputs": [
    {
     "name": "stdout",
     "output_type": "stream",
     "text": [
      "🥇 [gold_daily_detailed_events] 뷰\n"
     ]
    },
    {
     "name": "stderr",
     "output_type": "stream",
     "text": [
      "25/09/25 05:24:39 WARN DeltaLog: Change in the table id detected while updating snapshot. \n",
      "Previous snapshot = Snapshot(path=s3a://warehouse/gold_dev/gold_daily_detailed_events/_delta_log, version=6, metadata=Metadata(f8f48edb-2355-486c-b3ac-f667f30893d9,null,null,Format(parquet,Map()),{\"type\":\"struct\",\"fields\":[{\"name\":\"global_event_id\",\"type\":\"string\",\"nullable\":true,\"metadata\":{}},{\"name\":\"event_date\",\"type\":\"date\",\"nullable\":true,\"metadata\":{}},{\"name\":\"is_root_event\",\"type\":\"boolean\",\"nullable\":true,\"metadata\":{}},{\"name\":\"mp_event_categories\",\"type\":\"string\",\"nullable\":true,\"metadata\":{}},{\"name\":\"mp_event_info\",\"type\":\"string\",\"nullable\":true,\"metadata\":{}},{\"name\":\"quad_class\",\"type\":\"integer\",\"nullable\":true,\"metadata\":{}},{\"name\":\"mp_quad_class\",\"type\":\"string\",\"nullable\":true,\"metadata\":{}},{\"name\":\"goldstein_scale\",\"type\":\"double\",\"nullable\":true,\"metadata\":{}},{\"name\":\"num_mentions\",\"type\":\"integer\",\"nullable\":true,\"metadata\":{}},{\"name\":\"num_sources\",\"type\":\"integer\",\"nullable\":true,\"metadata\":{}},{\"name\":\"num_articles\",\"type\":\"integer\",\"nullable\":true,\"metadata\":{}},{\"name\":\"avg_tone\",\"type\":\"double\",\"nullable\":true,\"metadata\":{}},{\"name\":\"actor1_code\",\"type\":\"string\",\"nullable\":true,\"metadata\":{}},{\"name\":\"actor1_name\",\"type\":\"string\",\"nullable\":true,\"metadata\":{}},{\"name\":\"mp_actor1_from_country_iso\",\"type\":\"string\",\"nullable\":true,\"metadata\":{}},{\"name\":\"mp_actor1_from_country_eng\",\"type\":\"string\",\"nullable\":true,\"metadata\":{}},{\"name\":\"mp_actor1_from_country_kor\",\"type\":\"string\",\"nullable\":true,\"metadata\":{}},{\"name\":\"mp_actor1_organization\",\"type\":\"string\",\"nullable\":true,\"metadata\":{}},{\"name\":\"mp_actor1_organization_type\",\"type\":\"string\",\"nullable\":true,\"metadata\":{}},{\"name\":\"mp_actor1_ethnic\",\"type\":\"string\",\"nullable\":true,\"metadata\":{}},{\"name\":\"mp_actor1_religion\",\"type\":\"string\",\"nullable\":true,\"metadata\":{}},{\"name\":\"mp_actor1_religion_type\",\"type\":\"string\",\"nullable\":true,\"metadata\":{}},{\"name\":\"mp_actor1_role\",\"type\":\"string\",\"nullable\":true,\"metadata\":{}},{\"name\":\"mp_actor1_role_type\",\"type\":\"string\",\"nullable\":true,\"metadata\":{}},{\"name\":\"mp_actor1_geo_type\",\"type\":\"string\",\"nullable\":true,\"metadata\":{}},{\"name\":\"actor1_geo_fullname\",\"type\":\"string\",\"nullable\":true,\"metadata\":{}},{\"name\":\"mp_actor1_geo_country_iso\",\"type\":\"string\",\"nullable\":true,\"metadata\":{}},{\"name\":\"mp_actor1_geo_country_eng\",\"type\":\"string\",\"nullable\":true,\"metadata\":{}},{\"name\":\"mp_actor1_geo_country_kor\",\"type\":\"string\",\"nullable\":true,\"metadata\":{}},{\"name\":\"actor1_geo_lat\",\"type\":\"double\",\"nullable\":true,\"metadata\":{}},{\"name\":\"actor1_geo_long\",\"type\":\"double\",\"nullable\":true,\"metadata\":{}},{\"name\":\"actor2_code\",\"type\":\"string\",\"nullable\":true,\"metadata\":{}},{\"name\":\"actor2_name\",\"type\":\"string\",\"nullable\":true,\"metadata\":{}},{\"name\":\"mp_actor2_from_country_iso\",\"type\":\"string\",\"nullable\":true,\"metadata\":{}},{\"name\":\"mp_actor2_from_country_eng\",\"type\":\"string\",\"nullable\":true,\"metadata\":{}},{\"name\":\"mp_actor2_from_country_kor\",\"type\":\"string\",\"nullable\":true,\"metadata\":{}},{\"name\":\"mp_actor2_organization\",\"type\":\"string\",\"nullable\":true,\"metadata\":{}},{\"name\":\"mp_actor2_organization_type\",\"type\":\"string\",\"nullable\":true,\"metadata\":{}},{\"name\":\"mp_actor2_ethnic\",\"type\":\"string\",\"nullable\":true,\"metadata\":{}},{\"name\":\"mp_actor2_religion\",\"type\":\"string\",\"nullable\":true,\"metadata\":{}},{\"name\":\"mp_actor2_religion_type\",\"type\":\"string\",\"nullable\":true,\"metadata\":{}},{\"name\":\"mp_actor2_role\",\"type\":\"string\",\"nullable\":true,\"metadata\":{}},{\"name\":\"mp_actor2_role_type\",\"type\":\"string\",\"nullable\":true,\"metadata\":{}},{\"name\":\"mp_actor2_geo_type\",\"type\":\"string\",\"nullable\":true,\"metadata\":{}},{\"name\":\"actor2_geo_fullname\",\"type\":\"string\",\"nullable\":true,\"metadata\":{}},{\"name\":\"actor2_geo_country_code\",\"type\":\"string\",\"nullable\":true,\"metadata\":{}},{\"name\":\"mp_actor2_geo_country_iso\",\"type\":\"string\",\"nullable\":true,\"metadata\":{}},{\"name\":\"mp_actor2_geo_country_eng\",\"type\":\"string\",\"nullable\":true,\"metadata\":{}},{\"name\":\"mp_actor2_geo_country_kor\",\"type\":\"string\",\"nullable\":true,\"metadata\":{}},{\"name\":\"actor2_geo_lat\",\"type\":\"double\",\"nullable\":true,\"metadata\":{}},{\"name\":\"actor2_geo_long\",\"type\":\"double\",\"nullable\":true,\"metadata\":{}},{\"name\":\"mp_action_geo_type\",\"type\":\"string\",\"nullable\":true,\"metadata\":{}},{\"name\":\"action_geo_fullname\",\"type\":\"string\",\"nullable\":true,\"metadata\":{}},{\"name\":\"mp_action_geo_country_iso\",\"type\":\"string\",\"nullable\":true,\"metadata\":{}},{\"name\":\"mp_action_geo_country_eng\",\"type\":\"string\",\"nullable\":true,\"metadata\":{}},{\"name\":\"mp_action_geo_country_kor\",\"type\":\"string\",\"nullable\":true,\"metadata\":{}},{\"name\":\"action_geo_lat\",\"type\":\"double\",\"nullable\":true,\"metadata\":{}},{\"name\":\"action_geo_long\",\"type\":\"double\",\"nullable\":true,\"metadata\":{}},{\"name\":\"date_added\",\"type\":\"timestamp\",\"nullable\":true,\"metadata\":{}},{\"name\":\"source_url\",\"type\":\"string\",\"nullable\":true,\"metadata\":{}},{\"name\":\"processed_at\",\"type\":\"timestamp\",\"nullable\":true,\"metadata\":{}},{\"name\":\"source_file\",\"type\":\"string\",\"nullable\":true,\"metadata\":{}},{\"name\":\"actor1_info\",\"type\":\"string\",\"nullable\":true,\"metadata\":{}},{\"name\":\"actor2_info\",\"type\":\"string\",\"nullable\":true,\"metadata\":{}},{\"name\":\"mention_source_name\",\"type\":\"string\",\"nullable\":true,\"metadata\":{}},{\"name\":\"mention_doc_tone\",\"type\":\"double\",\"nullable\":true,\"metadata\":{}},{\"name\":\"v2_persons\",\"type\":\"string\",\"nullable\":true,\"metadata\":{}},{\"name\":\"v2_organizations\",\"type\":\"string\",\"nullable\":true,\"metadata\":{}},{\"name\":\"v2_enhanced_themes\",\"type\":\"string\",\"nullable\":true,\"metadata\":{}},{\"name\":\"amounts\",\"type\":\"string\",\"nullable\":true,\"metadata\":{}},{\"name\":\"goldstein_zscore\",\"type\":\"double\",\"nullable\":true,\"metadata\":{}},{\"name\":\"tone_zscore\",\"type\":\"double\",\"nullable\":true,\"metadata\":{}},{\"name\":\"is_anomaly\",\"type\":\"boolean\",\"nullable\":true,\"metadata\":{}},{\"name\":\"event_type\",\"type\":\"string\",\"nullable\":true,\"metadata\":{}},{\"name\":\"risk_score_detailed\",\"type\":\"double\",\"nullable\":true,\"metadata\":{}},{\"name\":\"simple_story\",\"type\":\"string\",\"nullable\":true,\"metadata\":{}},{\"name\":\"rich_story\",\"type\":\"string\",\"nullable\":true,\"metadata\":{}},{\"name\":\"headline_story\",\"type\":\"string\",\"nullable\":true,\"metadata\":{}},{\"name\":\"event_summary\",\"type\":\"string\",\"nullable\":true,\"metadata\":{}},{\"name\":\"tone_story\",\"type\":\"string\",\"nullable\":true,\"metadata\":{}}]},List(),Map(),Some(1758771287974)), logSegment=LogSegment(s3a://warehouse/gold_dev/gold_daily_detailed_events/_delta_log,6,WrappedArray(S3AFileStatus{path=s3a://warehouse/gold_dev/gold_daily_detailed_events/_delta_log/00000000000000000000.json; isDirectory=false; length=10901; replication=1; blocksize=33554432; modification_time=1758716731928; access_time=0; owner=root; group=root; permission=rw-rw-rw-; isSymlink=false; hasAcl=false; isEncrypted=true; isErasureCoded=false} isEmptyDirectory=FALSE eTag=39a4759b7610b71bca4649645e1cbbe0 versionId=null, S3AFileStatus{path=s3a://warehouse/gold_dev/gold_daily_detailed_events/_delta_log/00000000000000000001.json; isDirectory=false; length=11067; replication=1; blocksize=33554432; modification_time=1758717023223; access_time=0; owner=root; group=root; permission=rw-rw-rw-; isSymlink=false; hasAcl=false; isEncrypted=true; isErasureCoded=false} isEmptyDirectory=FALSE eTag=ecbe5e10089778adba5939bf8f754853 versionId=null, S3AFileStatus{path=s3a://warehouse/gold_dev/gold_daily_detailed_events/_delta_log/00000000000000000002.json; isDirectory=false; length=11067; replication=1; blocksize=33554432; modification_time=1758718216636; access_time=0; owner=root; group=root; permission=rw-rw-rw-; isSymlink=false; hasAcl=false; isEncrypted=true; isErasureCoded=false} isEmptyDirectory=FALSE eTag=b8eb159cd140ff3df30ecdfdf207d3b3 versionId=null, S3AFileStatus{path=s3a://warehouse/gold_dev/gold_daily_detailed_events/_delta_log/00000000000000000003.json; isDirectory=false; length=3564; replication=1; blocksize=33554432; modification_time=1758722794173; access_time=0; owner=root; group=root; permission=rw-rw-rw-; isSymlink=false; hasAcl=false; isEncrypted=true; isErasureCoded=false} isEmptyDirectory=FALSE eTag=b2f06483797460aff9c8ba84d85f8374 versionId=null, S3AFileStatus{path=s3a://warehouse/gold_dev/gold_daily_detailed_events/_delta_log/00000000000000000004.json; isDirectory=false; length=374; replication=1; blocksize=33554432; modification_time=1758723223622; access_time=0; owner=root; group=root; permission=rw-rw-rw-; isSymlink=false; hasAcl=false; isEncrypted=true; isErasureCoded=false} isEmptyDirectory=FALSE eTag=dc901fedc2f2775d03dd153d63a1a72c versionId=null, S3AFileStatus{path=s3a://warehouse/gold_dev/gold_daily_detailed_events/_delta_log/00000000000000000005.json; isDirectory=false; length=11366; replication=1; blocksize=33554432; modification_time=1758764527124; access_time=0; owner=root; group=root; permission=rw-rw-rw-; isSymlink=false; hasAcl=false; isEncrypted=true; isErasureCoded=false} isEmptyDirectory=FALSE eTag=4cf5edcc39e70182875d56bf46356b66 versionId=null, S3AFileStatus{path=s3a://warehouse/gold_dev/gold_daily_detailed_events/_delta_log/00000000000000000006.json; isDirectory=false; length=11161; replication=1; blocksize=33554432; modification_time=1758771356233; access_time=0; owner=root; group=root; permission=rw-rw-rw-; isSymlink=false; hasAcl=false; isEncrypted=true; isErasureCoded=false} isEmptyDirectory=FALSE eTag=7ceb2842f7e56aaae4a85b178286de2d versionId=null),None,1758771356233), checksumOpt=None)\n",
      "New snapshot = Snapshot(path=s3a://warehouse/gold_dev/gold_daily_detailed_events/_delta_log, version=7, metadata=Metadata(704766bf-d172-4503-8e1f-8669ee980edc,null,null,Format(parquet,Map()),{\"type\":\"struct\",\"fields\":[{\"name\":\"global_event_id\",\"type\":\"string\",\"nullable\":true,\"metadata\":{}},{\"name\":\"event_date\",\"type\":\"date\",\"nullable\":true,\"metadata\":{}},{\"name\":\"is_root_event\",\"type\":\"boolean\",\"nullable\":true,\"metadata\":{}},{\"name\":\"mp_event_categories\",\"type\":\"string\",\"nullable\":true,\"metadata\":{}},{\"name\":\"mp_event_info\",\"type\":\"string\",\"nullable\":true,\"metadata\":{}},{\"name\":\"quad_class\",\"type\":\"integer\",\"nullable\":true,\"metadata\":{}},{\"name\":\"mp_quad_class\",\"type\":\"string\",\"nullable\":true,\"metadata\":{}},{\"name\":\"goldstein_scale\",\"type\":\"double\",\"nullable\":true,\"metadata\":{}},{\"name\":\"num_mentions\",\"type\":\"integer\",\"nullable\":true,\"metadata\":{}},{\"name\":\"num_sources\",\"type\":\"integer\",\"nullable\":true,\"metadata\":{}},{\"name\":\"num_articles\",\"type\":\"integer\",\"nullable\":true,\"metadata\":{}},{\"name\":\"avg_tone\",\"type\":\"double\",\"nullable\":true,\"metadata\":{}},{\"name\":\"actor1_code\",\"type\":\"string\",\"nullable\":true,\"metadata\":{}},{\"name\":\"actor1_name\",\"type\":\"string\",\"nullable\":true,\"metadata\":{}},{\"name\":\"mp_actor1_from_country_iso\",\"type\":\"string\",\"nullable\":true,\"metadata\":{}},{\"name\":\"mp_actor1_from_country_eng\",\"type\":\"string\",\"nullable\":true,\"metadata\":{}},{\"name\":\"mp_actor1_from_country_kor\",\"type\":\"string\",\"nullable\":true,\"metadata\":{}},{\"name\":\"mp_actor1_organization\",\"type\":\"string\",\"nullable\":true,\"metadata\":{}},{\"name\":\"mp_actor1_organization_type\",\"type\":\"string\",\"nullable\":true,\"metadata\":{}},{\"name\":\"mp_actor1_ethnic\",\"type\":\"string\",\"nullable\":true,\"metadata\":{}},{\"name\":\"mp_actor1_religion\",\"type\":\"string\",\"nullable\":true,\"metadata\":{}},{\"name\":\"mp_actor1_religion_type\",\"type\":\"string\",\"nullable\":true,\"metadata\":{}},{\"name\":\"mp_actor1_role\",\"type\":\"string\",\"nullable\":true,\"metadata\":{}},{\"name\":\"mp_actor1_role_type\",\"type\":\"string\",\"nullable\":true,\"metadata\":{}},{\"name\":\"mp_actor1_geo_type\",\"type\":\"string\",\"nullable\":true,\"metadata\":{}},{\"name\":\"actor1_geo_fullname\",\"type\":\"string\",\"nullable\":true,\"metadata\":{}},{\"name\":\"mp_actor1_geo_country_iso\",\"type\":\"string\",\"nullable\":true,\"metadata\":{}},{\"name\":\"mp_actor1_geo_country_eng\",\"type\":\"string\",\"nullable\":true,\"metadata\":{}},{\"name\":\"mp_actor1_geo_country_kor\",\"type\":\"string\",\"nullable\":true,\"metadata\":{}},{\"name\":\"actor1_geo_lat\",\"type\":\"double\",\"nullable\":true,\"metadata\":{}},{\"name\":\"actor1_geo_long\",\"type\":\"double\",\"nullable\":true,\"metadata\":{}},{\"name\":\"actor2_code\",\"type\":\"string\",\"nullable\":true,\"metadata\":{}},{\"name\":\"actor2_name\",\"type\":\"string\",\"nullable\":true,\"metadata\":{}},{\"name\":\"mp_actor2_from_country_iso\",\"type\":\"string\",\"nullable\":true,\"metadata\":{}},{\"name\":\"mp_actor2_from_country_eng\",\"type\":\"string\",\"nullable\":true,\"metadata\":{}},{\"name\":\"mp_actor2_from_country_kor\",\"type\":\"string\",\"nullable\":true,\"metadata\":{}},{\"name\":\"mp_actor2_organization\",\"type\":\"string\",\"nullable\":true,\"metadata\":{}},{\"name\":\"mp_actor2_organization_type\",\"type\":\"string\",\"nullable\":true,\"metadata\":{}},{\"name\":\"mp_actor2_ethnic\",\"type\":\"string\",\"nullable\":true,\"metadata\":{}},{\"name\":\"mp_actor2_religion\",\"type\":\"string\",\"nullable\":true,\"metadata\":{}},{\"name\":\"mp_actor2_religion_type\",\"type\":\"string\",\"nullable\":true,\"metadata\":{}},{\"name\":\"mp_actor2_role\",\"type\":\"string\",\"nullable\":true,\"metadata\":{}},{\"name\":\"mp_actor2_role_type\",\"type\":\"string\",\"nullable\":true,\"metadata\":{}},{\"name\":\"mp_actor2_geo_type\",\"type\":\"string\",\"nullable\":true,\"metadata\":{}},{\"name\":\"actor2_geo_fullname\",\"type\":\"string\",\"nullable\":true,\"metadata\":{}},{\"name\":\"actor2_geo_country_code\",\"type\":\"string\",\"nullable\":true,\"metadata\":{}},{\"name\":\"mp_actor2_geo_country_iso\",\"type\":\"string\",\"nullable\":true,\"metadata\":{}},{\"name\":\"mp_actor2_geo_country_eng\",\"type\":\"string\",\"nullable\":true,\"metadata\":{}},{\"name\":\"mp_actor2_geo_country_kor\",\"type\":\"string\",\"nullable\":true,\"metadata\":{}},{\"name\":\"actor2_geo_lat\",\"type\":\"double\",\"nullable\":true,\"metadata\":{}},{\"name\":\"actor2_geo_long\",\"type\":\"double\",\"nullable\":true,\"metadata\":{}},{\"name\":\"mp_action_geo_type\",\"type\":\"string\",\"nullable\":true,\"metadata\":{}},{\"name\":\"action_geo_fullname\",\"type\":\"string\",\"nullable\":true,\"metadata\":{}},{\"name\":\"mp_action_geo_country_iso\",\"type\":\"string\",\"nullable\":true,\"metadata\":{}},{\"name\":\"mp_action_geo_country_eng\",\"type\":\"string\",\"nullable\":true,\"metadata\":{}},{\"name\":\"mp_action_geo_country_kor\",\"type\":\"string\",\"nullable\":true,\"metadata\":{}},{\"name\":\"action_geo_lat\",\"type\":\"double\",\"nullable\":true,\"metadata\":{}},{\"name\":\"action_geo_long\",\"type\":\"double\",\"nullable\":true,\"metadata\":{}},{\"name\":\"date_added\",\"type\":\"timestamp\",\"nullable\":true,\"metadata\":{}},{\"name\":\"source_url\",\"type\":\"string\",\"nullable\":true,\"metadata\":{}},{\"name\":\"processed_at\",\"type\":\"timestamp\",\"nullable\":true,\"metadata\":{}},{\"name\":\"source_file\",\"type\":\"string\",\"nullable\":true,\"metadata\":{}},{\"name\":\"actor1_info\",\"type\":\"string\",\"nullable\":true,\"metadata\":{}},{\"name\":\"actor2_info\",\"type\":\"string\",\"nullable\":true,\"metadata\":{}},{\"name\":\"mention_source_name\",\"type\":\"string\",\"nullable\":true,\"metadata\":{}},{\"name\":\"mention_doc_tone\",\"type\":\"double\",\"nullable\":true,\"metadata\":{}},{\"name\":\"v2_persons\",\"type\":\"string\",\"nullable\":true,\"metadata\":{}},{\"name\":\"v2_organizations\",\"type\":\"string\",\"nullable\":true,\"metadata\":{}},{\"name\":\"v2_enhanced_themes\",\"type\":\"string\",\"nullable\":true,\"metadata\":{}},{\"name\":\"amounts\",\"type\":\"string\",\"nullable\":true,\"metadata\":{}},{\"name\":\"goldstein_zscore\",\"type\":\"double\",\"nullable\":true,\"metadata\":{}},{\"name\":\"tone_zscore\",\"type\":\"double\",\"nullable\":true,\"metadata\":{}},{\"name\":\"is_anomaly\",\"type\":\"boolean\",\"nullable\":true,\"metadata\":{}},{\"name\":\"event_type\",\"type\":\"string\",\"nullable\":true,\"metadata\":{}},{\"name\":\"risk_score_detailed\",\"type\":\"double\",\"nullable\":true,\"metadata\":{}},{\"name\":\"simple_story\",\"type\":\"string\",\"nullable\":true,\"metadata\":{}},{\"name\":\"simple_story_v2\",\"type\":\"string\",\"nullable\":true,\"metadata\":{}},{\"name\":\"rich_story\",\"type\":\"string\",\"nullable\":true,\"metadata\":{}},{\"name\":\"headline_story\",\"type\":\"string\",\"nullable\":true,\"metadata\":{}},{\"name\":\"event_summary\",\"type\":\"string\",\"nullable\":true,\"metadata\":{}},{\"name\":\"tone_story\",\"type\":\"string\",\"nullable\":true,\"metadata\":{}}]},List(),Map(),Some(1758777666578)), logSegment=LogSegment(s3a://warehouse/gold_dev/gold_daily_detailed_events/_delta_log,7,WrappedArray(S3AFileStatus{path=s3a://warehouse/gold_dev/gold_daily_detailed_events/_delta_log/00000000000000000000.json; isDirectory=false; length=10901; replication=1; blocksize=33554432; modification_time=1758716731928; access_time=0; owner=root; group=root; permission=rw-rw-rw-; isSymlink=false; hasAcl=false; isEncrypted=true; isErasureCoded=false} isEmptyDirectory=FALSE eTag=39a4759b7610b71bca4649645e1cbbe0 versionId=null, S3AFileStatus{path=s3a://warehouse/gold_dev/gold_daily_detailed_events/_delta_log/00000000000000000001.json; isDirectory=false; length=11067; replication=1; blocksize=33554432; modification_time=1758717023223; access_time=0; owner=root; group=root; permission=rw-rw-rw-; isSymlink=false; hasAcl=false; isEncrypted=true; isErasureCoded=false} isEmptyDirectory=FALSE eTag=ecbe5e10089778adba5939bf8f754853 versionId=null, S3AFileStatus{path=s3a://warehouse/gold_dev/gold_daily_detailed_events/_delta_log/00000000000000000002.json; isDirectory=false; length=11067; replication=1; blocksize=33554432; modification_time=1758718216636; access_time=0; owner=root; group=root; permission=rw-rw-rw-; isSymlink=false; hasAcl=false; isEncrypted=true; isErasureCoded=false} isEmptyDirectory=FALSE eTag=b8eb159cd140ff3df30ecdfdf207d3b3 versionId=null, S3AFileStatus{path=s3a://warehouse/gold_dev/gold_daily_detailed_events/_delta_log/00000000000000000003.json; isDirectory=false; length=3564; replication=1; blocksize=33554432; modification_time=1758722794173; access_time=0; owner=root; group=root; permission=rw-rw-rw-; isSymlink=false; hasAcl=false; isEncrypted=true; isErasureCoded=false} isEmptyDirectory=FALSE eTag=b2f06483797460aff9c8ba84d85f8374 versionId=null, S3AFileStatus{path=s3a://warehouse/gold_dev/gold_daily_detailed_events/_delta_log/00000000000000000004.json; isDirectory=false; length=374; replication=1; blocksize=33554432; modification_time=1758723223622; access_time=0; owner=root; group=root; permission=rw-rw-rw-; isSymlink=false; hasAcl=false; isEncrypted=true; isErasureCoded=false} isEmptyDirectory=FALSE eTag=dc901fedc2f2775d03dd153d63a1a72c versionId=null, S3AFileStatus{path=s3a://warehouse/gold_dev/gold_daily_detailed_events/_delta_log/00000000000000000005.json; isDirectory=false; length=11366; replication=1; blocksize=33554432; modification_time=1758764527124; access_time=0; owner=root; group=root; permission=rw-rw-rw-; isSymlink=false; hasAcl=false; isEncrypted=true; isErasureCoded=false} isEmptyDirectory=FALSE eTag=4cf5edcc39e70182875d56bf46356b66 versionId=null, S3AFileStatus{path=s3a://warehouse/gold_dev/gold_daily_detailed_events/_delta_log/00000000000000000006.json; isDirectory=false; length=11161; replication=1; blocksize=33554432; modification_time=1758771356233; access_time=0; owner=root; group=root; permission=rw-rw-rw-; isSymlink=false; hasAcl=false; isEncrypted=true; isErasureCoded=false} isEmptyDirectory=FALSE eTag=7ceb2842f7e56aaae4a85b178286de2d versionId=null, S3AFileStatus{path=s3a://warehouse/gold_dev/gold_daily_detailed_events/_delta_log/00000000000000000007.json; isDirectory=false; length=11246; replication=1; blocksize=33554432; modification_time=1758777730760; access_time=0; owner=root; group=root; permission=rw-rw-rw-; isSymlink=false; hasAcl=false; isEncrypted=true; isErasureCoded=false} isEmptyDirectory=FALSE eTag=621416100c75284095dd7a9e95cdb706 versionId=null),None,1758777730760), checksumOpt=None).\n",
      "                                                                                \r"
     ]
    },
    {
     "name": "stdout",
     "output_type": "stream",
     "text": [
      "+-----------+--------------+------------+----------+--------------+----------------------------+----------+\n",
      "|actor1_info|actor2_info   |simple_story|rich_story|headline_story|event_summary               |tone_story|\n",
      "+-----------+--------------+------------+----------+--------------+----------------------------+----------+\n",
      "|null       |사우디아라비아|null        |null      |null          |전투 (물리적 갈등)          |null      |\n",
      "|null       |미국          |null        |null      |null          |전투 (물리적 갈등)          |null      |\n",
      "|null       |민간인        |null        |null      |null          |협력 의사 표명 (언어적 협력)|null      |\n",
      "|null       |이스라엘      |null        |null      |null          |조사 (물질적 협력)          |null      |\n",
      "|null       |교육          |null        |null      |null          |협력 의사 표명 (언어적 협력)|null      |\n",
      "|null       |우크라이나    |null        |null      |null          |외교적 협력 (언어적 협력)   |null      |\n",
      "|null       |바하마        |null        |null      |null          |협력 의사 표명 (언어적 협력)|null      |\n",
      "|null       |정부          |null        |null      |null          |협의 (언어적 협력)          |null      |\n",
      "|null       |이스라엘      |null        |null      |null          |외교적 협력 (언어적 협력)   |null      |\n",
      "|null       |정부          |null        |null      |null          |협의 (언어적 협력)          |null      |\n",
      "|null       |미국          |null        |null      |null          |요구 (언어적 갈등)          |null      |\n",
      "|null       |보건          |null        |null      |null          |요구 (언어적 갈등)          |null      |\n",
      "|null       |미국          |null        |null      |null          |협의 (언어적 협력)          |null      |\n",
      "|null       |미국          |null        |null      |null          |전투 (물리적 갈등)          |null      |\n",
      "|null       |캐나다        |null        |null      |null          |협의 (언어적 협력)          |null      |\n",
      "|null       |정부          |null        |null      |null          |협의 (언어적 협력)          |null      |\n",
      "|null       |사법부        |null        |null      |null          |외교적 협력 (언어적 협력)   |null      |\n",
      "|null       |인도          |null        |null      |null          |비판 및 반대 (언어적 갈등)  |null      |\n",
      "|null       |교육          |null        |null      |null          |협의 (언어적 협력)          |null      |\n",
      "|null       |교육          |null        |null      |null          |협력 의사 표명 (언어적 협력)|null      |\n",
      "+-----------+--------------+------------+----------+--------------+----------------------------+----------+\n",
      "only showing top 20 rows\n",
      "\n"
     ]
    }
   ],
   "source": [
    "# 1일 마다 업데이트) 모든 Staging 모델들을 조인하고, 스토리 및 KPI 파생 컬럼을 생성하는 상세 이벤트 테이블\n",
    "print(\"🥇 [gold_daily_detailed_events] 뷰\")\n",
    "# spark.sql(\"SELECT * FROM gold_dev.gold_daily_detailed_events\").show(truncate=False)\n",
    "spark.sql(\"SELECT actor1_info, actor2_info, simple_story, rich_story, headline_story, event_summary, tone_story FROM gold_dev.gold_daily_detailed_events WHERE actor1_info IS NULL\").show(truncate=False)"
   ]
  },
  {
   "cell_type": "code",
   "execution_count": null,
   "id": "a1f40dab",
   "metadata": {},
   "outputs": [],
   "source": [
    "# Superset 연결용 최종 테이블\n",
    "print(\"🥇 [gold_superset_view] 뷰\")\n",
    "spark.sql(\"SELECT * FROM gold_dev.gold_superset_view\").show(truncate=False)"
   ]
  },
  {
   "cell_type": "code",
   "execution_count": null,
   "id": "f62a185b",
   "metadata": {},
   "outputs": [
    {
     "name": "stdout",
     "output_type": "stream",
     "text": [
      "\n",
      "✅ Spark 세션이 종료되었습니다.\n"
     ]
    },
    {
     "ename": "",
     "evalue": "",
     "output_type": "error",
     "traceback": [
      "\u001b[1;31m코드를 실행할 수 없습니다. 세션이 삭제되었습니다. 커널을 다시 시작해 보세요."
     ]
    },
    {
     "ename": "",
     "evalue": "",
     "output_type": "error",
     "traceback": [
      "\u001b[1;31m원격 Jupyter 서버 'http://4.230.26.44:8888/'에 연결하지 못했습니다. 서버가 실행 중이고 연결할 수 있는지 확인합니다."
     ]
    },
    {
     "ename": "",
     "evalue": "",
     "output_type": "error",
     "traceback": [
      "\u001b[1;31m코드를 실행할 수 없습니다. 세션이 삭제되었습니다. 커널을 다시 시작해 보세요. \n",
      "\u001b[1;31m자세한 내용은 Jupyter <a href='command:jupyter.viewOutput'>로그</a>를 참조하세요."
     ]
    }
   ],
   "source": [
    "spark.stop()\n",
    "print(\"\\n✅ Spark 세션이 종료되었습니다.\")"
   ]
  }
 ],
 "metadata": {
  "kernelspec": {
   "display_name": "Python 3 (ipykernel)",
   "language": "python",
   "name": "python3"
  },
  "language_info": {
   "codemirror_mode": {
    "name": "ipython",
    "version": 3
   },
   "file_extension": ".py",
   "mimetype": "text/x-python",
   "name": "python",
   "nbconvert_exporter": "python",
   "pygments_lexer": "ipython3",
   "version": "3.10.18"
  }
 },
 "nbformat": 4,
 "nbformat_minor": 5
}
