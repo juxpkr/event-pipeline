{
 "cells": [
  {
   "cell_type": "markdown",
   "id": "b0766b83",
   "metadata": {},
   "source": [
    "# Seed 생성 확인용 테스트 노트북\n",
    "\n",
    "dbt seed로 생성된 seed 테이블 확인용"
   ]
  },
  {
   "cell_type": "code",
   "execution_count": null,
   "id": "e2d5d5a0",
   "metadata": {},
   "outputs": [],
   "source": [
    "import sys\n",
    "sys.path.append('/app')\n",
    "\n",
    "from src.utils.spark_builder import get_spark_session\n",
    "from pyspark.sql import functions as F\n",
    "\n",
    "# Spark 세션 생성\n",
    "spark = get_spark_session(\"GDELT_Seed_Test\", \"spark://spark-master:7077\")\n",
    "print(\"✅ Spark 세션 생성 완료\")"
   ]
  },
  {
   "cell_type": "code",
   "execution_count": null,
   "id": "6ddc969d",
   "metadata": {},
   "outputs": [],
   "source": [
    "# 1. Spark Metastore에 존재하는 모든 데이터베이스(스키마) 목록을 확인합니다.\n",
    "print(\"📖 사용 가능한 데이터베이스(스키마) 목록:\")\n",
    "spark.sql(\"SHOW DATABASES\").show()"
   ]
  },
  {
   "cell_type": "code",
   "execution_count": null,
   "id": "1feee1e7",
   "metadata": {},
   "outputs": [],
   "source": [
    "# 2. 'default' 스키마 안에 있는 테이블 목록을 확인합니다.\n",
    "# dbt seed로 생성된 테이블이 여기에 보여야 합니다. (gdelt_silver_events는 seed 테이블이 아닙니다.)\n",
    "print(\"📜 'default' 스키마의 테이블 목록:\")\n",
    "spark.sql(\"SHOW TABLES IN default\").show()"
   ]
  },
  {
   "cell_type": "code",
   "execution_count": null,
   "id": "275658c0",
   "metadata": {},
   "outputs": [],
   "source": [
    "# 3. 총 11개의 seed 테이블의 샘플 데이터를 5개씩 출력하여 내용 확인\n",
    "seed_tables = [\n",
    "    \"actor_ethnic_group_codes\",\n",
    "    \"actor_organization_codes\",\n",
    "    \"actor_religion_codes\",\n",
    "    \"actor_role_codes\",\n",
    "    \"event_root_codes\",\n",
    "    \"event_detail_codes\",\n",
    "    \"event_quad_class_codes\",\n",
    "    \"geo_adm_codes\",\n",
    "    \"geo_country_fips_codes\",\n",
    "    \"geo_country_iso_codes\",\n",
    "    \"geo_type_codes\"\n",
    "]\n",
    "\n",
    "for table in seed_tables:\n",
    "    print(f\"\\n 🔍 {table} 테이블 샘플 데이터\")\n",
    "    try:\n",
    "        spark.sql(f\"SELECT * FROM default.{table} LIMIT 5\").show(truncate=False)\n",
    "    except Exception as e:\n",
    "        print(f\"❌ 테이블 조회 중, 오류 발생: {e}\")"
   ]
  },
  {
   "cell_type": "markdown",
   "id": "f2b4fa5f",
   "metadata": {},
   "source": [
    "생성된 seed 테이블을 삭제할 경우, 아래 코드에 \"삭제할 seed 테이블명\"을 입력하여 실행"
   ]
  },
  {
   "cell_type": "code",
   "execution_count": null,
   "id": "16aa844e",
   "metadata": {},
   "outputs": [],
   "source": [
    "# 삭제할 seed 테이블 이름 목록\n",
    "seed_tables_to_drop = [\n",
    "    # \"[삭제할 seed 테이블명]\"\n",
    "]\n",
    "print(\"🗑️ 기존 Seed 테이블 삭제를 시작합니다.\")\n",
    "\n",
    "for table_name in seed_tables_to_drop:\n",
    "    try:\n",
    "        spark.sql(f\"DROP TABLE IF EXISTS default.{table_name}\")\n",
    "        print(f\"  - 테이블 'default.{table_name}' 삭제 완료.\")\n",
    "    except Exception as e:\n",
    "        print(f\"  - 테이블 'default.{table_name}' 삭제 중 오류 발생: {e}\")\n",
    "\n",
    "print(\"\\n✅ 모든 Seed 테이블 삭제 작업이 완료되었습니다.\")\n",
    "\n",
    "# 삭제 후 테이블 목록을 다시 확인하여 깨끗해졌는지 확인\n",
    "print(\"📜 현재 'default' 스키마의 테이블 목록:\")\n",
    "spark.sql(\"SHOW TABLES IN default\").show()"
   ]
  },
  {
   "cell_type": "markdown",
   "id": "7d2b4c5d",
   "metadata": {},
   "source": [
    "Staging 폴더의 stg_seed_mapping.sql을 dbt run한 결과 확인"
   ]
  },
  {
   "cell_type": "code",
   "execution_count": null,
   "id": "d5daa1b5",
   "metadata": {},
   "outputs": [],
   "source": [
    "# stg_seed_mapping 모델 결과 확인\n",
    "print(\"📜 [stg_seed_mapping] 뷰 : 상위 20개 데이터\")\n",
    "spark.sql(\"SELECT * FROM silver.stg_seed_mapping LIMIT 20\").show(truncate=False)"
   ]
  },
  {
   "cell_type": "code",
   "execution_count": null,
   "id": "235425b0",
   "metadata": {},
   "outputs": [],
   "source": [
    "# stg_seed_actors_parsed 모델 결과 확인\n",
    "print(\"📜 [stg_seed_actors_parsed] 뷰 : 상위 20개 데이터\")\n",
    "spark.sql(\"SELECT * FROM silver.stg_seed_actors_parsed LIMIT 20\").show(truncate=False)"
   ]
  },
  {
   "cell_type": "code",
   "execution_count": null,
   "id": "f62a185b",
   "metadata": {},
   "outputs": [],
   "source": [
    "# spark.stop()\n",
    "print(\"\\n✅ Spark 세션이 종료되었습니다.\")"
   ]
  }
 ],
 "metadata": {
  "kernelspec": {
   "display_name": "Python 3 (ipykernel)",
   "language": "python",
   "name": "python3"
  }
 },
 "nbformat": 4,
 "nbformat_minor": 5
}
