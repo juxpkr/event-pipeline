{
 "cells": [
  {
   "cell_type": "markdown",
   "id": "b0766b83",
   "metadata": {},
   "source": [
    "# Seed 생성 확인용 테스트 노트북\n",
    "\n",
    "dbt seed로 생성된 seed 테이블 확인용"
   ]
  },
  {
   "cell_type": "code",
   "execution_count": 1,
   "id": "e2d5d5a0",
   "metadata": {},
   "outputs": [
    {
     "name": "stderr",
     "output_type": "stream",
     "text": [
      "25/09/11 06:20:44 WARN NativeCodeLoader: Unable to load native-hadoop library for your platform... using builtin-java classes where applicable\n",
      "Setting default log level to \"WARN\".\n",
      "To adjust logging level use sc.setLogLevel(newLevel). For SparkR, use setLogLevel(newLevel).\n"
     ]
    },
    {
     "name": "stdout",
     "output_type": "stream",
     "text": [
      "✅ Spark 세션 생성 완료\n"
     ]
    }
   ],
   "source": [
    "import sys\n",
    "sys.path.append('/app')\n",
    "\n",
    "from src.utils.spark_builder import get_spark_session\n",
    "from pyspark.sql import functions as F\n",
    "\n",
    "# Spark 세션 생성\n",
    "spark = get_spark_session(\"GDELT_Seed_Test\", \"spark://spark-master:7077\")\n",
    "print(\"✅ Spark 세션 생성 완료\")"
   ]
  },
  {
   "cell_type": "code",
   "execution_count": 2,
   "id": "6ddc969d",
   "metadata": {},
   "outputs": [
    {
     "name": "stdout",
     "output_type": "stream",
     "text": [
      "📖 사용 가능한 데이터베이스(스키마) 목록:\n",
      "+---------+\n",
      "|namespace|\n",
      "+---------+\n",
      "|  default|\n",
      "|     gold|\n",
      "|   silver|\n",
      "+---------+\n",
      "\n"
     ]
    }
   ],
   "source": [
    "# 1. Spark Metastore에 존재하는 모든 데이터베이스(스키마) 목록을 확인합니다.\n",
    "print(\"📖 사용 가능한 데이터베이스(스키마) 목록:\")\n",
    "spark.sql(\"SHOW DATABASES\").show()"
   ]
  },
  {
   "cell_type": "code",
   "execution_count": 3,
   "id": "1feee1e7",
   "metadata": {},
   "outputs": [
    {
     "name": "stdout",
     "output_type": "stream",
     "text": [
      "📜 'default' 스키마의 테이블 목록:\n"
     ]
    },
    {
     "name": "stderr",
     "output_type": "stream",
     "text": [
      "[Stage 0:>                                                          (0 + 1) / 1]\r"
     ]
    },
    {
     "name": "stdout",
     "output_type": "stream",
     "text": [
      "+---------+--------------------+-----------+\n",
      "|namespace|           tableName|isTemporary|\n",
      "+---------+--------------------+-----------+\n",
      "|  default|actor_ethnic_grou...|      false|\n",
      "|  default|actor_organizatio...|      false|\n",
      "|  default|actor_religion_codes|      false|\n",
      "|  default|    actor_role_codes|      false|\n",
      "|  default|  event_detail_codes|      false|\n",
      "|  default|event_quad_class_...|      false|\n",
      "|  default|    event_root_codes|      false|\n",
      "|  default| gdelt_silver_events|      false|\n",
      "|  default|       geo_adm_codes|      false|\n",
      "|  default|geo_country_fips_...|      false|\n",
      "|  default|geo_country_iso_c...|      false|\n",
      "|  default|      geo_type_codes|      false|\n",
      "+---------+--------------------+-----------+\n",
      "\n"
     ]
    },
    {
     "name": "stderr",
     "output_type": "stream",
     "text": [
      "                                                                                \r"
     ]
    }
   ],
   "source": [
    "# 2. 'default' 스키마 안에 있는 테이블 목록을 확인합니다.\n",
    "# dbt seed로 생성된 테이블이 여기에 보여야 합니다. (gdelt_silver_events는 seed 테이블이 아닙니다.)\n",
    "print(\"📜 'default' 스키마의 테이블 목록:\")\n",
    "spark.sql(\"SHOW TABLES IN default\").show()"
   ]
  },
  {
   "cell_type": "code",
   "execution_count": 4,
   "id": "275658c0",
   "metadata": {},
   "outputs": [
    {
     "name": "stdout",
     "output_type": "stream",
     "text": [
      "\n",
      " 🔍 actor_ethnic_group_codes 테이블 샘플 데이터\n"
     ]
    },
    {
     "name": "stderr",
     "output_type": "stream",
     "text": [
      "25/09/11 06:21:45 WARN SessionState: METASTORE_FILTER_HOOK will be ignored, since hive.security.authorization.manager is set to instance of HiveAuthorizerFactory.\n",
      "25/09/11 06:21:45 WARN MetricsConfig: Cannot locate configuration: tried hadoop-metrics2-s3a-file-system.properties,hadoop-metrics2.properties\n",
      "                                                                                \r"
     ]
    },
    {
     "name": "stdout",
     "output_type": "stream",
     "text": [
      "+----+-----------------------------------+\n",
      "|code|description                        |\n",
      "+----+-----------------------------------+\n",
      "|abk |Abkhaz (Abkhazians)                |\n",
      "|abr |Aboriginal-Australians (Aborigines)|\n",
      "|ace |Acehnese (Achinese)                |\n",
      "|acg |Achang                             |\n",
      "|ach |Acholi                             |\n",
      "+----+-----------------------------------+\n",
      "\n",
      "\n",
      " 🔍 actor_organization_codes 테이블 샘플 데이터\n",
      "+----+-----+---------------------------+\n",
      "|code|type |description                |\n",
      "+----+-----+---------------------------+\n",
      "|ACC |IGO  |Arab Cooperation Council   |\n",
      "|ADB |IGO  |Asian Development Bank     |\n",
      "|AEU |IGO  |Arab Economic Unity Council|\n",
      "|AFB |IGO  |African Development Bank   |\n",
      "|ALC |Party|All Liberia Coalition Party|\n",
      "+----+-----+---------------------------+\n",
      "\n",
      "\n",
      " 🔍 actor_religion_codes 테이블 샘플 데이터\n",
      "+----+------------+---------------------+\n",
      "|code|type        |description          |\n",
      "+----+------------+---------------------+\n",
      "|REL |Generic     |Unspecified Religious|\n",
      "|ATH |Ideology    |Agnostic/Atheist     |\n",
      "|BAH |Religion    |Bahai Faith          |\n",
      "|BUD |Religion    |Buddhism             |\n",
      "|MAH |Denomination|Mahayana Buddhism    |\n",
      "+----+------------+---------------------+\n",
      "\n",
      "\n",
      " 🔍 actor_role_codes 테이블 샘플 데이터\n",
      "+----+-------+--------------------------------------------------------------------------------------+\n",
      "|code|type   |description                                                                           |\n",
      "+----+-------+--------------------------------------------------------------------------------------+\n",
      "|COP |Primary|Police forces, officers, criminal investigative units, protective agencies            |\n",
      "|GOV |Primary|Government: the executive, governing parties, coalitions partners, executive divisions|\n",
      "|INS |Primary|Insurgents (rebels): all rebels who attempt to overthrow their national government    |\n",
      "|JUD |Primary|Judiciary: judges, courts                                                             |\n",
      "|MIL |Primary|Military: troops, soldiers, all state-military personnel/equipment                    |\n",
      "+----+-------+--------------------------------------------------------------------------------------+\n",
      "\n",
      "\n",
      " 🔍 event_root_codes 테이블 샘플 데이터\n",
      "+----+--------------------------------+\n",
      "|code|description                     |\n",
      "+----+--------------------------------+\n",
      "|1   |MAKE PUBLIC STATEMENT           |\n",
      "|2   |APPEAL                          |\n",
      "|3   |EXPRESS INTENT TO COOPERATE     |\n",
      "|4   |CONSULT                         |\n",
      "|5   |ENGAGE IN DIPLOMATIC COOPERATION|\n",
      "+----+--------------------------------+\n",
      "\n",
      "\n",
      " 🔍 event_detail_codes 테이블 샘플 데이터\n",
      "+----+----------------------------------+\n",
      "|code|description                       |\n",
      "+----+----------------------------------+\n",
      "|10  |Make statement not specified below|\n",
      "|11  |Decline comment                   |\n",
      "|12  |Make pessimistic comment          |\n",
      "|13  |Make optimistic comment           |\n",
      "|14  |Consider policy option            |\n",
      "+----+----------------------------------+\n",
      "\n",
      "\n",
      " 🔍 event_quad_class_codes 테이블 샘플 데이터\n",
      "+----+--------------------+\n",
      "|code|description         |\n",
      "+----+--------------------+\n",
      "|1   |Verbal Cooperation  |\n",
      "|2   |Material Cooperation|\n",
      "|3   |Verbal Conflict     |\n",
      "|4   |Material Conflict   |\n",
      "+----+--------------------+\n",
      "\n",
      "\n",
      " 🔍 geo_adm_codes 테이블 샘플 데이터\n",
      "+----+---------------+-------------------+\n",
      "|code|region_division|description        |\n",
      "+----+---------------+-------------------+\n",
      "|AA00|country        |ARUBA              |\n",
      "|AC00|country        |ANTIGUA AND BARBUDA|\n",
      "|AC01|dependency     |Barbuda            |\n",
      "|AC03|parish         |Saint George       |\n",
      "|AC04|parish         |Saint John         |\n",
      "+----+---------------+-------------------+\n",
      "\n",
      "\n",
      " 🔍 geo_country_fips_codes 테이블 샘플 데이터\n",
      "+----+--------------------+\n",
      "|code|description         |\n",
      "+----+--------------------+\n",
      "|AA  |Aruba               |\n",
      "|AC  |Antigua and Barbuda |\n",
      "|AE  |United Arab Emirates|\n",
      "|AF  |Afghanistan         |\n",
      "|AG  |Algeria             |\n",
      "+----+--------------------+\n",
      "\n",
      "\n",
      " 🔍 geo_country_iso_codes 테이블 샘플 데이터\n",
      "+----+--------------+\n",
      "|code|description   |\n",
      "+----+--------------+\n",
      "|AFG |Afghanistan   |\n",
      "|ALA |Aland Islands |\n",
      "|ALB |Albania       |\n",
      "|DZA |Algeria       |\n",
      "|ASM |American Samoa|\n",
      "+----+--------------+\n",
      "\n",
      "\n",
      " 🔍 geo_type_codes 테이블 샘플 데이터\n",
      "+----+-----------+\n",
      "|code|description|\n",
      "+----+-----------+\n",
      "|1   |COUNTRY    |\n",
      "|2   |US STATE   |\n",
      "|3   |US CITY    |\n",
      "|4   |WORLD CITY |\n",
      "|5   |WORLD STATE|\n",
      "+----+-----------+\n",
      "\n"
     ]
    }
   ],
   "source": [
    "# 3. 총 11개의 seed 테이블의 샘플 데이터를 5개씩 출력하여 내용 확인\n",
    "seed_tables = [\n",
    "    \"actor_ethnic_group_codes\",\n",
    "    \"actor_organization_codes\",\n",
    "    \"actor_religion_codes\",\n",
    "    \"actor_role_codes\",\n",
    "    \"event_root_codes\",\n",
    "    \"event_detail_codes\",\n",
    "    \"event_quad_class_codes\",\n",
    "    \"geo_adm_codes\",\n",
    "    \"geo_country_fips_codes\",\n",
    "    \"geo_country_iso_codes\",\n",
    "    \"geo_type_codes\"\n",
    "]\n",
    "\n",
    "for table in seed_tables:\n",
    "    print(f\"\\n 🔍 {table} 테이블 샘플 데이터\")\n",
    "    try:\n",
    "        spark.sql(f\"SELECT * FROM default.{table} LIMIT 5\").show(truncate=False)\n",
    "    except Exception as e:\n",
    "        print(f\"❌ 테이블 조회 중, 오류 발생: {e}\")"
   ]
  },
  {
   "cell_type": "markdown",
   "id": "f2b4fa5f",
   "metadata": {},
   "source": [
    "생성된 seed 테이블을 삭제할 경우, 아래 코드에 \"삭제할 seed 테이블명\"을 입력하여 실행"
   ]
  },
  {
   "cell_type": "code",
   "execution_count": null,
   "id": "16aa844e",
   "metadata": {},
   "outputs": [],
   "source": [
    "# 삭제할 seed 테이블 이름 목록\n",
    "seed_tables_to_drop = [\n",
    "    # \"[삭제할 seed 테이블명]\"\n",
    "]\n",
    "print(\"🗑️ 기존 Seed 테이블 삭제를 시작합니다.\")\n",
    "\n",
    "for table_name in seed_tables_to_drop:\n",
    "    try:\n",
    "        spark.sql(f\"DROP TABLE IF EXISTS default.{table_name}\")\n",
    "        print(f\"  - 테이블 'default.{table_name}' 삭제 완료.\")\n",
    "    except Exception as e:\n",
    "        print(f\"  - 테이블 'default.{table_name}' 삭제 중 오류 발생: {e}\")\n",
    "\n",
    "print(\"\\n✅ 모든 Seed 테이블 삭제 작업이 완료되었습니다.\")\n",
    "\n",
    "# 삭제 후 테이블 목록을 다시 확인하여 깨끗해졌는지 확인\n",
    "print(\"📜 현재 'default' 스키마의 테이블 목록:\")\n",
    "spark.sql(\"SHOW TABLES IN default\").show()"
   ]
  },
  {
   "cell_type": "markdown",
   "id": "7d2b4c5d",
   "metadata": {},
   "source": [
    "Staging 폴더의 stg_seed_mapping.sql을 dbt run한 결과 확인"
   ]
  },
  {
   "cell_type": "code",
   "execution_count": 20,
   "id": "d5daa1b5",
   "metadata": {},
   "outputs": [
    {
     "name": "stdout",
     "output_type": "stream",
     "text": [
      "🥈 [stg_seed_mapping] 뷰 : 상위 20개 데이터\n"
     ]
    },
    {
     "name": "stderr",
     "output_type": "stream",
     "text": [
      "                                                                                \r"
     ]
    },
    {
     "name": "stdout",
     "output_type": "stream",
     "text": [
      "+---------------+----------+-------------+--------------------------------+---------------------------------------------+------------------+---------------+------------+-----------+------------+-----------------+-----------+--------------+-----------------------------+----------------------+---------------------------+----------------+------------------+-----------------------+--------------------------------+-------------------+------------------+--------------------------+--------------------+--------------+---------------+---------------------+-----------+--------------+------------------------------+----------------------+---------------------------+----------------+------------------+-----------------------+--------------------------------------------------------------------------------+-------------------+------------------+--------------------------+--------------------+--------------+---------------+---------------------+------------------+-----------------------+--------------------+--------------+---------------+---------------------+-------------------+---------------------------------------------------------------------------------------------------------------------------------------------------+--------------------------+-------------------------+\n",
      "|global_event_id|event_date|is_root_event|mp_event_categories             |mp_event_info                                |mp_quad_class     |goldstein_scale|num_mentions|num_sources|num_articles|avg_tone         |actor1_code|actor1_name   |mp_actor1_affiliation_country|mp_actor1_organization|mp_actor1_organization_type|mp_actor1_ethnic|mp_actor1_religion|mp_actor1_religion_type|mp_actor1_role                  |mp_actor1_role_type|mp_actor1_geo_type|mp_actor1_location_country|actor1_geo_adm1_code|actor1_geo_lat|actor1_geo_long|actor1_geo_feature_id|actor2_code|actor2_name   |mp_actor2_affiliation_country |mp_actor2_organization|mp_actor2_organization_type|mp_actor2_ethnic|mp_actor2_religion|mp_actor2_religion_type|mp_actor2_role                                                                  |mp_actor2_role_type|mp_actor2_geo_type|mp_actor2_location_country|actor2_geo_adm1_code|actor2_geo_lat|actor2_geo_long|actor2_geo_feature_id|mp_action_geo_type|mp_action_location_name|action_geo_adm1_code|action_geo_lat|action_geo_long|action_geo_feature_id|date_added         |source_url                                                                                                                                         |processed_time            |source_file              |\n",
      "+---------------+----------+-------------+--------------------------------+---------------------------------------------+------------------+---------------+------------+-----------+------------+-----------------+-----------+--------------+-----------------------------+----------------------+---------------------------+----------------+------------------+-----------------------+--------------------------------+-------------------+------------------+--------------------------+--------------------+--------------+---------------+---------------------+-----------+--------------+------------------------------+----------------------+---------------------------+----------------+------------------+-----------------------+--------------------------------------------------------------------------------+-------------------+------------------+--------------------------+--------------------+--------------+---------------+---------------------+------------------+-----------------------+--------------------+--------------+---------------+---------------------+-------------------+---------------------------------------------------------------------------------------------------------------------------------------------------+--------------------------+-------------------------+\n",
      "|1262473743     |2024-09-11|true         |COERCE                          |Arrest detain or charge with legal action    |Material Conflict |-5.0           |6           |1          |6           |-6.90954773869344|JUD        |HIGH COURT    |null                         |null                  |null                       |null            |null              |null                   |Judiciary: judges, courts       |Primary            |COUNTRY           |Netherlands               |NL                  |52.5          |5.75           |NL                   |null       |null          |null                          |null                  |null                       |null            |null              |null                   |null                                                                            |null               |null              |null                      |null                |null          |null           |null                 |COUNTRY           |Netherlands            |NL                  |52.5          |5.75           |NL                   |2025-09-11 01:45:00|https://www.sunlive.co.nz/news/371397-appeal-for-halved-jail-time-for-toddlers-death.html                                                          |2025-09-11 01:48:18.167479|20250911014500.export.CSV|\n",
      "|1262473744     |2024-09-11|true         |ENGAGE IN DIPLOMATIC COOPERATION|Grant diplomatic recognition                 |Verbal Cooperation|6.0            |2           |1          |2           |-6.06673407482306|NOR        |NORWAY        |Norway                       |null                  |null                       |null            |null              |null                   |null                            |null               |COUNTRY           |Ireland                   |EI                  |53.0          |-8.0           |EI                   |ISR        |ISRAEL        |Israel                        |null                  |null                       |null            |null              |null                   |null                                                                            |null               |COUNTRY           |Norway                    |NO                  |62.0          |10.0           |NO                   |COUNTRY           |Norway                 |NO                  |62.0          |10.0           |NO                   |2025-09-11 01:45:00|https://pakobserver.net/palestine-recognition-costs-a-high-price-of-genocide-famine/                                                               |2025-09-11 01:48:18.167479|20250911014500.export.CSV|\n",
      "|1262473745     |2024-09-11|true         |ENGAGE IN DIPLOMATIC COOPERATION|Grant diplomatic recognition                 |Verbal Cooperation|6.0            |2           |1          |2           |-6.06673407482306|NOR        |NORWAY        |Norway                       |null                  |null                       |null            |null              |null                   |null                            |null               |COUNTRY           |Norway                    |NO                  |62.0          |10.0           |NO                   |ISR        |ISRAEL        |Israel                        |null                  |null                       |null            |null              |null                   |null                                                                            |null               |WORLD CITY        |Israel                    |IS00                |31.4167       |34.3333        |-797156              |COUNTRY           |Norway                 |NO                  |62.0          |10.0           |NO                   |2025-09-11 01:45:00|https://pakobserver.net/palestine-recognition-costs-a-high-price-of-genocide-famine/                                                               |2025-09-11 01:48:18.167479|20250911014500.export.CSV|\n",
      "|1262473746     |2024-09-11|true         |ENGAGE IN DIPLOMATIC COOPERATION|Grant diplomatic recognition                 |Verbal Cooperation|6.0            |6           |1          |6           |-6.06673407482306|NOR        |NORWAY        |Norway                       |null                  |null                       |null            |null              |null                   |null                            |null               |COUNTRY           |Norway                    |NO                  |62.0          |10.0           |NO                   |PSE        |PALESTINE     |Occupied Palestinian Territory|null                  |null                       |null            |null              |null                   |null                                                                            |null               |WORLD CITY        |Israel                    |IS00                |31.4167       |34.3333        |-797156              |COUNTRY           |Norway                 |NO                  |62.0          |10.0           |NO                   |2025-09-11 01:45:00|https://pakobserver.net/palestine-recognition-costs-a-high-price-of-genocide-famine/                                                               |2025-09-11 01:48:18.167479|20250911014500.export.CSV|\n",
      "|1262473747     |2024-09-11|false        |APPEAL                          |Make an appeal or request not specified below|Verbal Cooperation|3.0            |1           |1          |1           |-4.07223796033994|SWE        |SWEDEN        |Sweden                       |null                  |null                       |null            |null              |null                   |null                            |null               |WORLD CITY        |Ukraine                   |UP25                |48.6167       |22.3           |-1057311             |null       |null          |null                          |null                  |null                       |null            |null              |null                   |null                                                                            |null               |null              |null                      |null                |null          |null           |null                 |WORLD CITY        |Germany                |GM16                |52.5167       |13.4           |-1746443             |2025-09-11 01:45:00|https://www.dailymail.co.uk/news/article-15084723/europe-plan-stop-putin-floods-borders-new-defences.html                                          |2025-09-11 01:48:18.167479|20250911014500.export.CSV|\n",
      "|1262473748     |2024-09-11|false        |APPEAL                          |Make an appeal or request not specified below|Verbal Cooperation|3.0            |1           |1          |1           |-4.07223796033994|SWE        |SWEDEN        |Sweden                       |null                  |null                       |null            |null              |null                   |null                            |null               |WORLD CITY        |Ukraine                   |UP25                |48.6167       |22.3           |-1057311             |CVL        |POPULATION    |null                          |null                  |null                       |null            |null              |null                   |Civilian individuals or groups                                                  |Secondary          |WORLD CITY        |Germany                   |GM16                |52.5167       |13.4           |-1746443             |WORLD CITY        |Germany                |GM16                |52.5167       |13.4           |-1746443             |2025-09-11 01:45:00|https://www.dailymail.co.uk/news/article-15084723/europe-plan-stop-putin-floods-borders-new-defences.html                                          |2025-09-11 01:48:18.167479|20250911014500.export.CSV|\n",
      "|1262473749     |2025-08-12|true         |CONSULT                         |Host a visit                                 |Verbal Cooperation|2.8            |10          |1          |10          |-6.06673407482306|FRA        |FRANCE        |France                       |null                  |null                       |null            |null              |null                   |null                            |null               |COUNTRY           |France                    |FR                  |46.0          |2.0            |FR                   |IGOUNO     |UNITED NATIONS|null                          |United Nations        |IGO                        |null            |null              |null                   |Inter-governmental organizations                                                |Group              |WORLD CITY        |Israel                    |IS00                |31.4167       |34.3333        |-797156              |COUNTRY           |Saudi Arabia           |SA                  |25.0          |45.0           |SA                   |2025-09-11 01:45:00|https://pakobserver.net/palestine-recognition-costs-a-high-price-of-genocide-famine/                                                               |2025-09-11 01:48:18.167479|20250911014500.export.CSV|\n",
      "|1262473750     |2025-08-12|true         |CONSULT                         |Consult not specified below                  |Verbal Cooperation|1.0            |2           |1          |2           |-6.06673407482306|FRA        |FRANCE        |France                       |null                  |null                       |null            |null              |null                   |null                            |null               |COUNTRY           |France                    |FR                  |46.0          |2.0            |FR                   |SAU        |SAUDI ARABIA  |Saudi Arabia                  |null                  |null                       |null            |null              |null                   |null                                                                            |null               |COUNTRY           |France                    |FR                  |46.0          |2.0            |FR                   |COUNTRY           |Saudi Arabia           |SA                  |25.0          |45.0           |SA                   |2025-09-11 01:45:00|https://pakobserver.net/palestine-recognition-costs-a-high-price-of-genocide-famine/                                                               |2025-09-11 01:48:18.167479|20250911014500.export.CSV|\n",
      "|1262473751     |2025-08-12|true         |CONSULT                         |Consult not specified below                  |Verbal Cooperation|1.0            |8           |1          |8           |-6.06673407482306|FRA        |FRANCE        |France                       |null                  |null                       |null            |null              |null                   |null                            |null               |COUNTRY           |France                    |FR                  |46.0          |2.0            |FR                   |SAU        |SAUDI ARABIA  |Saudi Arabia                  |null                  |null                       |null            |null              |null                   |null                                                                            |null               |COUNTRY           |Saudi Arabia              |SA                  |25.0          |45.0           |SA                   |COUNTRY           |Saudi Arabia           |SA                  |25.0          |45.0           |SA                   |2025-09-11 01:45:00|https://pakobserver.net/palestine-recognition-costs-a-high-price-of-genocide-famine/                                                               |2025-09-11 01:48:18.167479|20250911014500.export.CSV|\n",
      "|1262473752     |2025-08-12|true         |CONSULT                         |Make a visit                                 |Verbal Cooperation|1.9            |10          |1          |10          |-6.06673407482306|IGOUNO     |UNITED NATIONS|null                         |United Nations        |IGO                        |null            |null              |null                   |Inter-governmental organizations|Group              |WORLD CITY        |Israel                    |IS00                |31.4167       |34.3333        |-797156              |FRA        |FRANCE        |France                        |null                  |null                       |null            |null              |null                   |null                                                                            |null               |COUNTRY           |France                    |FR                  |46.0          |2.0            |FR                   |COUNTRY           |Saudi Arabia           |SA                  |25.0          |45.0           |SA                   |2025-09-11 01:45:00|https://pakobserver.net/palestine-recognition-costs-a-high-price-of-genocide-famine/                                                               |2025-09-11 01:48:18.167479|20250911014500.export.CSV|\n",
      "|1262473753     |2025-08-12|true         |CONSULT                         |Make a visit                                 |Verbal Cooperation|1.9            |2           |1          |2           |-6.06673407482306|IGOUNO     |UNITED NATIONS|null                         |United Nations        |IGO                        |null            |null              |null                   |Inter-governmental organizations|Group              |WORLD CITY        |Israel                    |IS00                |31.4167       |34.3333        |-797156              |SAU        |SAUDI ARABIA  |Saudi Arabia                  |null                  |null                       |null            |null              |null                   |null                                                                            |null               |COUNTRY           |France                    |FR                  |46.0          |2.0            |FR                   |COUNTRY           |Saudi Arabia           |SA                  |25.0          |45.0           |SA                   |2025-09-11 01:45:00|https://pakobserver.net/palestine-recognition-costs-a-high-price-of-genocide-famine/                                                               |2025-09-11 01:48:18.167479|20250911014500.export.CSV|\n",
      "|1262473754     |2025-08-12|true         |CONSULT                         |Make a visit                                 |Verbal Cooperation|1.9            |8           |1          |8           |-6.06673407482306|IGOUNO     |UNITED NATIONS|null                         |United Nations        |IGO                        |null            |null              |null                   |Inter-governmental organizations|Group              |WORLD CITY        |Israel                    |IS00                |31.4167       |34.3333        |-797156              |SAU        |SAUDI ARABIA  |Saudi Arabia                  |null                  |null                       |null            |null              |null                   |null                                                                            |null               |COUNTRY           |Saudi Arabia              |SA                  |25.0          |45.0           |SA                   |COUNTRY           |Saudi Arabia           |SA                  |25.0          |45.0           |SA                   |2025-09-11 01:45:00|https://pakobserver.net/palestine-recognition-costs-a-high-price-of-genocide-famine/                                                               |2025-09-11 01:48:18.167479|20250911014500.export.CSV|\n",
      "|1262473755     |2025-08-12|true         |CONSULT                         |Consult not specified below                  |Verbal Cooperation|1.0            |2           |1          |2           |-6.06673407482306|SAU        |SAUDI ARABIA  |Saudi Arabia                 |null                  |null                       |null            |null              |null                   |null                            |null               |COUNTRY           |France                    |FR                  |46.0          |2.0            |FR                   |FRA        |FRANCE        |France                        |null                  |null                       |null            |null              |null                   |null                                                                            |null               |COUNTRY           |France                    |FR                  |46.0          |2.0            |FR                   |COUNTRY           |Saudi Arabia           |SA                  |25.0          |45.0           |SA                   |2025-09-11 01:45:00|https://pakobserver.net/palestine-recognition-costs-a-high-price-of-genocide-famine/                                                               |2025-09-11 01:48:18.167479|20250911014500.export.CSV|\n",
      "|1262473756     |2025-08-12|true         |CONSULT                         |Consult not specified below                  |Verbal Cooperation|1.0            |8           |1          |8           |-6.06673407482306|SAU        |SAUDI ARABIA  |Saudi Arabia                 |null                  |null                       |null            |null              |null                   |null                            |null               |COUNTRY           |Saudi Arabia              |SA                  |25.0          |45.0           |SA                   |FRA        |FRANCE        |France                        |null                  |null                       |null            |null              |null                   |null                                                                            |null               |COUNTRY           |France                    |FR                  |46.0          |2.0            |FR                   |COUNTRY           |Saudi Arabia           |SA                  |25.0          |45.0           |SA                   |2025-09-11 01:45:00|https://pakobserver.net/palestine-recognition-costs-a-high-price-of-genocide-famine/                                                               |2025-09-11 01:48:18.167479|20250911014500.export.CSV|\n",
      "|1262473757     |2025-08-12|true         |CONSULT                         |Host a visit                                 |Verbal Cooperation|2.8            |2           |1          |2           |-6.06673407482306|SAU        |SAUDI ARABIA  |Saudi Arabia                 |null                  |null                       |null            |null              |null                   |null                            |null               |COUNTRY           |France                    |FR                  |46.0          |2.0            |FR                   |IGOUNO     |UNITED NATIONS|null                          |United Nations        |IGO                        |null            |null              |null                   |Inter-governmental organizations                                                |Group              |WORLD CITY        |Israel                    |IS00                |31.4167       |34.3333        |-797156              |COUNTRY           |Saudi Arabia           |SA                  |25.0          |45.0           |SA                   |2025-09-11 01:45:00|https://pakobserver.net/palestine-recognition-costs-a-high-price-of-genocide-famine/                                                               |2025-09-11 01:48:18.167479|20250911014500.export.CSV|\n",
      "|1262473758     |2025-08-12|true         |CONSULT                         |Host a visit                                 |Verbal Cooperation|2.8            |8           |1          |8           |-6.06673407482306|SAU        |SAUDI ARABIA  |Saudi Arabia                 |null                  |null                       |null            |null              |null                   |null                            |null               |COUNTRY           |Saudi Arabia              |SA                  |25.0          |45.0           |SA                   |IGOUNO     |UNITED NATIONS|null                          |United Nations        |IGO                        |null            |null              |null                   |Inter-governmental organizations                                                |Group              |WORLD CITY        |Israel                    |IS00                |31.4167       |34.3333        |-797156              |COUNTRY           |Saudi Arabia           |SA                  |25.0          |45.0           |SA                   |2025-09-11 01:45:00|https://pakobserver.net/palestine-recognition-costs-a-high-price-of-genocide-famine/                                                               |2025-09-11 01:48:18.167479|20250911014500.export.CSV|\n",
      "|1262473759     |2025-08-12|true         |MAKE PUBLIC STATEMENT           |Deny responsibility                          |Verbal Cooperation|-2.0           |4           |1          |4           |-19.4630872483222|USA        |UNITED STATES |United States                |null                  |null                       |null            |null              |null                   |null                            |null               |US CITY           |United States             |USVT                |44.8175       |-73.2893       |1458739              |null       |null          |null                          |null                  |null                       |null            |null              |null                   |null                                                                            |null               |null              |null                      |null                |null          |null           |null                 |US CITY           |United States          |USVT                |44.8175       |-73.2893       |1458739              |2025-09-11 01:45:00|https://www.wcax.com/2025/09/10/vermont-woman-involved-fatal-fathers-day-crash-now-charged-with-involuntary-manslaughter/                          |2025-09-11 01:48:18.167479|20250911014500.export.CSV|\n",
      "|1262473760     |2025-09-04|true         |CONSULT                         |Make a visit                                 |Verbal Cooperation|1.9            |2           |1          |2           |0.86956521739131 |null       |null          |null                         |null                  |null                       |null            |null              |null                   |null                            |null               |null              |null                      |null                |null          |null           |null                 |EDU        |SCHOOL        |null                          |null                  |null                       |null            |null              |null                   |Education: educators, schools, students, or organizations dealing with education|Secondary          |WORLD CITY        |Canada                    |CA08                |45.3333       |-80.0333       |-570949              |WORLD CITY        |Canada                 |CA08                |45.3333       |-80.0333       |-570949              |2025-09-11 01:45:00|https://www.northbaynipissing.com/news/students-could-return-to-parry-sound-high-school-next-week/article_130faac0-9699-53f0-9b55-0065d92d3b34.html|2025-09-11 01:48:18.167479|20250911014500.export.CSV|\n",
      "|1262473761     |2025-09-04|true         |CONSULT                         |Engage in negotiation                        |Verbal Cooperation|7.0            |10          |1          |10          |-2.48366013071896|null       |null          |null                         |null                  |null                       |null            |null              |null                   |null                            |null               |null              |null                      |null                |null          |null           |null                 |REL        |BISHOP        |null                          |null                  |null                       |null            |null              |null                   |null                                                                            |null               |WORLD CITY        |Australia                 |AS05                |-34.9269      |138.609        |11377306             |WORLD CITY        |Australia              |AS05                |-34.9269      |138.609        |11377306             |2025-09-11 01:45:00|https://www.theguardian.com/australia-news/2025/sep/11/anu-vice-chancellor-genevieve-bell-resigns-amid-crisis-of-confidence-in-leadership          |2025-09-11 01:48:18.167479|20250911014500.export.CSV|\n",
      "|1262473762     |2025-09-04|true         |CONSULT                         |Engage in negotiation                        |Verbal Cooperation|7.0            |5           |1          |5           |-0.35502958579882|CAN        |CANADA        |Canada                       |null                  |null                       |null            |null              |null                   |null                            |null               |WORLD CITY        |Canada                    |CA02                |49.25         |-123.133       |-575268              |COP        |PRISON        |null                          |null                  |null                       |null            |null              |null                   |Police forces, officers, criminal investigative units, protective agencies      |Primary            |WORLD CITY        |Qatar                     |QA01                |25.2867       |51.5333        |-785169              |WORLD CITY        |Canada                 |CA02                |49.25         |-123.133       |-575268              |2025-09-11 01:45:00|https://vancouversun.com:443/news/getting-b-c-fugitive-returned-to-canada-without-a-treaty-is-possible-experts                                     |2025-09-11 01:48:18.167479|20250911014500.export.CSV|\n",
      "+---------------+----------+-------------+--------------------------------+---------------------------------------------+------------------+---------------+------------+-----------+------------+-----------------+-----------+--------------+-----------------------------+----------------------+---------------------------+----------------+------------------+-----------------------+--------------------------------+-------------------+------------------+--------------------------+--------------------+--------------+---------------+---------------------+-----------+--------------+------------------------------+----------------------+---------------------------+----------------+------------------+-----------------------+--------------------------------------------------------------------------------+-------------------+------------------+--------------------------+--------------------+--------------+---------------+---------------------+------------------+-----------------------+--------------------+--------------+---------------+---------------------+-------------------+---------------------------------------------------------------------------------------------------------------------------------------------------+--------------------------+-------------------------+\n",
      "\n"
     ]
    }
   ],
   "source": [
    "# stg_seed_mapping 모델 결과 확인\n",
    "print(\"🥈 [stg_seed_mapping] 뷰 : 상위 20개 데이터\")\n",
    "spark.sql(\"SELECT * FROM silver.stg_seed_mapping LIMIT 20\").show(truncate=False)"
   ]
  },
  {
   "cell_type": "markdown",
   "id": "f048fb4a",
   "metadata": {},
   "source": [
    "Staging 폴더의 stg_seed_actors_parsed.sql을 dbt run한 결과 확인"
   ]
  },
  {
   "cell_type": "code",
   "execution_count": 17,
   "id": "235425b0",
   "metadata": {},
   "outputs": [
    {
     "name": "stdout",
     "output_type": "stream",
     "text": [
      "🥈 [stg_seed_actors_parsed] 뷰 : 상위 20개 데이터\n",
      "+------------+--------------------------------------------------------------------------------------------------------------------------------------+--------+--------------------------------------------------------------------------------+--------+----------------------------------------------+------------+------------------------------------------------------------------+-----+\n",
      "|actor_code  |description1                                                                                                                          |type1   |description2                                                                    |type2   |description3                                  |type3       |description4                                                      |type4|\n",
      "+------------+--------------------------------------------------------------------------------------------------------------------------------------+--------+--------------------------------------------------------------------------------+--------+----------------------------------------------+------------+------------------------------------------------------------------+-----+\n",
      "|PSE         |Occupied Palestinian Territory                                                                                                        |Country |null                                                                            |null    |null                                          |null        |null                                                              |null |\n",
      "|ELI         |Elites: former government officials, celebrities, spokespersons for organizations                                                     |Role    |null                                                                            |null    |null                                          |null        |null                                                              |null |\n",
      "|NPLCOP      |Nepal                                                                                                                                 |Country |Police forces, officers, criminal investigative units, protective agencies      |Role    |null                                          |null        |null                                                              |null |\n",
      "|USAJUD      |United States                                                                                                                         |Country |Judiciary: judges, courts                                                       |Role    |null                                          |null        |null                                                              |null |\n",
      "|REL         |Unspecified Religious                                                                                                                 |Religion|null                                                                            |null    |null                                          |null        |null                                                              |null |\n",
      "|POL         |Poland                                                                                                                                |Country |null                                                                            |null    |null                                          |null        |null                                                              |null |\n",
      "|JAM         |Jamaica                                                                                                                               |Country |null                                                                            |null    |null                                          |null        |null                                                              |null |\n",
      "|BRA         |Brazil                                                                                                                                |Country |null                                                                            |null    |null                                          |null        |null                                                              |null |\n",
      "|IGOWSTNATMIL|Inter-governmental organizations                                                                                                      |Role    |null                                                                            |null    |North Atlantic Treaty Organization (NATO)     |Organization|Military: troops, soldiers, all state-military personnel/equipment|Role |\n",
      "|IMGMOSALQ   |International Militarized Groups                                                                                                      |Role    |Islam                                                                           |Religion|Al Qaeda                                      |Organization|null                                                              |null |\n",
      "|AUSLEG      |Australia                                                                                                                             |Country |Legislature: parliaments, assemblies, lawmakers                                 |Role    |null                                          |null        |null                                                              |null |\n",
      "|JOR         |Jordan                                                                                                                                |Country |null                                                                            |null    |null                                          |null        |null                                                              |null |\n",
      "|FRA         |France                                                                                                                                |Country |null                                                                            |null    |null                                          |null        |null                                                              |null |\n",
      "|IGOSEAASN   |Inter-governmental organizations                                                                                                      |Role    |null                                                                            |null    |Association of Southeast Asian Nations (ASEAN)|Organization|null                                                              |null |\n",
      "|USAOPP      |United States                                                                                                                         |Country |Political opposition: opposition parties, individuals, anti-government activists|Role    |null                                          |null        |null                                                              |null |\n",
      "|VAT         |Holy See (Vatican City)                                                                                                               |Country |null                                                                            |null    |null                                          |null        |null                                                              |null |\n",
      "|PAKEDU      |Pakistan                                                                                                                              |Country |Education: educators, schools, students, or organizations dealing with education|Role    |null                                          |null        |null                                                              |null |\n",
      "|BUS         |Business: businessmen, companies, and enterprises, not including MNCS                                                                 |Role    |null                                                                            |null    |null                                          |null        |null                                                              |null |\n",
      "|JUD         |Judiciary: judges, courts                                                                                                             |Role    |null                                                                            |null    |null                                          |null        |null                                                              |null |\n",
      "|HRI         |Human Rights: actors for whom their primary area of operation or expertise is with documenting and/or correcting human rights concerns|Role    |null                                                                            |null    |null                                          |null        |null                                                              |null |\n",
      "+------------+--------------------------------------------------------------------------------------------------------------------------------------+--------+--------------------------------------------------------------------------------+--------+----------------------------------------------+------------+------------------------------------------------------------------+-----+\n",
      "\n"
     ]
    }
   ],
   "source": [
    "# stg_seed_actors_parsed 모델 결과 확인\n",
    "print(\"🥈 [stg_seed_actors_parsed] 뷰 : 상위 20개 데이터\")\n",
    "spark.sql(\"SELECT * FROM silver.stg_seed_actors_parsed LIMIT 20\").show(truncate=False)"
   ]
  },
  {
   "cell_type": "markdown",
   "id": "011e17cf",
   "metadata": {},
   "source": [
    "Marts 폴더의 mart_actor_info_test.sql을 dbt run한 결과 확인"
   ]
  },
  {
   "cell_type": "code",
   "execution_count": 18,
   "id": "ed27de8b",
   "metadata": {},
   "outputs": [
    {
     "name": "stdout",
     "output_type": "stream",
     "text": [
      "🥇 [mart_actor_info_test] 뷰 : 상위 20개 데이터\n",
      "+---------------+---------------------------------------------------------------------------------+--------------------------------------------------------------------------------------+\n",
      "|global_event_id|actor1_info                                                                      |actor2_info                                                                           |\n",
      "+---------------+---------------------------------------------------------------------------------+--------------------------------------------------------------------------------------+\n",
      "|1262473778     |Occupied Palestinian Territory                                                   |Tunisia                                                                               |\n",
      "|1262474211     |Elites: former government officials, celebrities, spokespersons for organizations|null                                                                                  |\n",
      "|1262474699     |Nepal Police forces, officers, criminal investigative units, protective agencies |null                                                                                  |\n",
      "|1262474807     |Occupied Palestinian Territory                                                   |null                                                                                  |\n",
      "|1262474808     |Occupied Palestinian Territory                                                   |null                                                                                  |\n",
      "|1262474809     |Occupied Palestinian Territory                                                   |null                                                                                  |\n",
      "|1262474810     |Occupied Palestinian Territory                                                   |null                                                                                  |\n",
      "|1262474811     |Occupied Palestinian Territory                                                   |Government: the executive, governing parties, coalitions partners, executive divisions|\n",
      "|1262474812     |Occupied Palestinian Territory                                                   |Government: the executive, governing parties, coalitions partners, executive divisions|\n",
      "|1262474813     |Occupied Palestinian Territory                                                   |Government: the executive, governing parties, coalitions partners, executive divisions|\n",
      "|1262474814     |Occupied Palestinian Territory                                                   |Government: the executive, governing parties, coalitions partners, executive divisions|\n",
      "|1262474815     |Occupied Palestinian Territory                                                   |Israel                                                                                |\n",
      "|1262474816     |Occupied Palestinian Territory                                                   |Legislature: parliaments, assemblies, lawmakers                                       |\n",
      "|1262475217     |United States Judiciary: judges, courts                                          |null                                                                                  |\n",
      "|1262475218     |United States Judiciary: judges, courts                                          |null                                                                                  |\n",
      "|1262475219     |United States Judiciary: judges, courts                                          |null                                                                                  |\n",
      "|1262475220     |United States Judiciary: judges, courts                                          |null                                                                                  |\n",
      "|1262475221     |United States Judiciary: judges, courts                                          |null                                                                                  |\n",
      "|1262475222     |United States Judiciary: judges, courts                                          |Civilian individuals or groups                                                        |\n",
      "|1262475223     |United States Judiciary: judges, courts                                          |France                                                                                |\n",
      "+---------------+---------------------------------------------------------------------------------+--------------------------------------------------------------------------------------+\n",
      "\n"
     ]
    }
   ],
   "source": [
    "# mart_actor_info_test 모델 결과 확인\n",
    "print(\"🥇 [mart_actor_info_test] 뷰 : 상위 20개 데이터\")\n",
    "spark.sql(\"SELECT * FROM gold.mart_actor_info_test LIMIT 20\").show(truncate=False)"
   ]
  },
  {
   "cell_type": "markdown",
   "id": "b2650ec5",
   "metadata": {},
   "source": [
    "Marts 폴더의 gold_gdelt_daily_summary.sql을 dbt run한 결과 확인"
   ]
  },
  {
   "cell_type": "code",
   "execution_count": 21,
   "id": "cd7a331a",
   "metadata": {},
   "outputs": [
    {
     "name": "stdout",
     "output_type": "stream",
     "text": [
      "🥇 [gold_gdelt_daily_summary] 뷰\n"
     ]
    },
    {
     "name": "stderr",
     "output_type": "stream",
     "text": [
      "                                                                                \r"
     ]
    },
    {
     "name": "stdout",
     "output_type": "stream",
     "text": [
      "+----------+------------+--------------+-------------+--------------+-------------------+-----------------+-------------------+------------------+---------+---------+---------+---------+---------+----------------+--------------------+-------------------------+---------------------------+--------------------+-------------------+--------------------------+\n",
      "|event_date|events_total|articles_total|sources_total|mentions_total|avg_tone_mean      |avg_tone_median  |goldstein_mean     |goldstein_abs_mean|neg_ratio|quad1_cnt|quad2_cnt|quad3_cnt|quad4_cnt|top_country_name|top_country_articles|dq_action_geo_alpha_ratio|dq_action_geo_numeric_ratio|dq_actor1_iso3_ratio|dq_latlong_coverage|updated_at                |\n",
      "+----------+------------+--------------+-------------+--------------+-------------------+-----------------+-------------------+------------------+---------+---------+---------+---------+---------+----------------+--------------------+-------------------------+---------------------------+--------------------+-------------------+--------------------------+\n",
      "|2025-09-11|1461        |6268          |1490         |6426          |-2.689906917173756 |-3.07692307692307|0.05831622176591254|3.8773442847364783|0.73717  |883      |150      |189      |239      |United States   |2269                |0.97331                  |0.00000                    |0.60507             |0.97331            |2025-09-12 01:31:50.877694|\n",
      "|2025-09-10|11          |38            |11           |38            |-5.2324560392650445|-4.58786936236392|0.8                |2.2545454545454544|1.00000  |10       |0        |0        |1        |Iraq            |10                  |1.00000                  |0.00000                    |0.81818             |1.00000            |2025-09-12 01:31:50.877694|\n",
      "|2025-09-04|14          |76            |14           |76            |-2.1874547847860843|-0.35502958579882|0.7428571428571428 |5.6000000000000005|0.71429  |10       |0        |0        |4        |Canada          |26                  |0.92857                  |0.00000                    |0.35714             |0.92857            |2025-09-12 01:31:50.877694|\n",
      "|2025-08-12|11          |64            |11           |64            |-7.284584363322981 |-6.06673407482306|1.4636363636363638 |1.8272727272727274|1.00000  |11       |0        |0        |0        |Saudi Arabia    |60                  |1.00000                  |0.00000                    |0.72727             |1.00000            |2025-09-12 01:31:50.877694|\n",
      "|2024-09-11|6           |18            |6            |18            |-5.542370980640417 |-6.06673407482306|3.1666666666666665 |4.833333333333333 |1.00000  |5        |0        |0        |1        |Norway          |10                  |1.00000                  |0.00000                    |0.83333             |1.00000            |2025-09-12 01:31:50.877694|\n",
      "+----------+------------+--------------+-------------+--------------+-------------------+-----------------+-------------------+------------------+---------+---------+---------+---------+---------+----------------+--------------------+-------------------------+---------------------------+--------------------+-------------------+--------------------------+\n",
      "\n"
     ]
    }
   ],
   "source": [
    "# gold_gdelt_daily_summary 모델 결과 확인\n",
    "print(\"🥇 [gold_gdelt_daily_summary] 뷰\")\n",
    "spark.sql(\"SELECT * FROM gold.gold_gdelt_daily_summary\").show(truncate=False)"
   ]
  },
  {
   "cell_type": "code",
   "execution_count": null,
   "id": "f62a185b",
   "metadata": {},
   "outputs": [],
   "source": [
    "# spark.stop()\n",
    "print(\"\\n✅ Spark 세션이 종료되었습니다.\")"
   ]
  }
 ],
 "metadata": {
  "kernelspec": {
   "display_name": "Python 3 (ipykernel)",
   "language": "python",
   "name": "python3"
  },
  "language_info": {
   "codemirror_mode": {
    "name": "ipython",
    "version": 3
   },
   "file_extension": ".py",
   "mimetype": "text/x-python",
   "name": "python",
   "nbconvert_exporter": "python",
   "pygments_lexer": "ipython3",
   "version": "3.10.18"
  }
 },
 "nbformat": 4,
 "nbformat_minor": 5
}
