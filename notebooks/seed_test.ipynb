{
 "cells": [
  {
   "cell_type": "markdown",
   "id": "b0766b83",
   "metadata": {},
   "source": [
    "# Seed 생성 확인용 테스트 노트북\n",
    "\n",
    "dbt seed로 생성된 seed 테이블 확인용"
   ]
  },
  {
   "cell_type": "code",
   "execution_count": 1,
   "id": "e2d5d5a0",
   "metadata": {},
   "outputs": [
    {
     "name": "stderr",
     "output_type": "stream",
     "text": [
      "25/09/21 18:45:38 WARN NativeCodeLoader: Unable to load native-hadoop library for your platform... using builtin-java classes where applicable\n",
      "Setting default log level to \"WARN\".\n",
      "To adjust logging level use sc.setLogLevel(newLevel). For SparkR, use setLogLevel(newLevel).\n"
     ]
    },
    {
     "name": "stdout",
     "output_type": "stream",
     "text": [
      "✅ Spark 세션 생성 완료\n"
     ]
    }
   ],
   "source": [
    "import sys\n",
    "\n",
    "sys.path.append(\"/app\")\n",
    "\n",
    "from src.utils.spark_builder import get_spark_session\n",
    "from pyspark.sql import functions as F\n",
    "\n",
    "# Spark 세션 생성\n",
    "spark = get_spark_session(\"GDELT_Seed_Test\", \"spark://spark-master:7077\")\n",
    "print(\"✅ Spark 세션 생성 완료\")"
   ]
  },
  {
   "cell_type": "code",
   "execution_count": 2,
   "id": "6ddc969d",
   "metadata": {},
   "outputs": [
    {
     "name": "stdout",
     "output_type": "stream",
     "text": [
      "📖 사용 가능한 데이터베이스(스키마) 목록:\n",
      "+---------+\n",
      "|namespace|\n",
      "+---------+\n",
      "|  default|\n",
      "|     gold|\n",
      "|   silver|\n",
      "+---------+\n",
      "\n"
     ]
    }
   ],
   "source": [
    "# 1. Spark Metastore에 존재하는 모든 데이터베이스(스키마) 목록을 확인합니다.\n",
    "print(\"📖 사용 가능한 데이터베이스(스키마) 목록:\")\n",
    "spark.sql(\"SHOW DATABASES\").show()"
   ]
  },
  {
   "cell_type": "code",
   "execution_count": 3,
   "id": "1feee1e7",
   "metadata": {},
   "outputs": [
    {
     "name": "stdout",
     "output_type": "stream",
     "text": [
      "📜 'default' 스키마의 테이블 목록:\n"
     ]
    },
    {
     "name": "stderr",
     "output_type": "stream",
     "text": [
      "[Stage 0:>                                                          (0 + 1) / 1]\r"
     ]
    },
    {
     "name": "stdout",
     "output_type": "stream",
     "text": [
      "+---------+--------------------+-----------+\n",
      "|namespace|           tableName|isTemporary|\n",
      "+---------+--------------------+-----------+\n",
      "|  default|actor_ethnic_grou...|      false|\n",
      "|  default|actor_organizatio...|      false|\n",
      "|  default|actor_religion_codes|      false|\n",
      "|  default|    actor_role_codes|      false|\n",
      "|  default|  event_detail_codes|      false|\n",
      "|  default|event_quad_class_...|      false|\n",
      "|  default|    event_root_codes|      false|\n",
      "|  default| gdelt_silver_events|      false|\n",
      "|  default|       geo_adm_codes|      false|\n",
      "|  default|   geo_country_codes|      false|\n",
      "|  default|geo_country_fips_...|      false|\n",
      "|  default|geo_country_iso_c...|      false|\n",
      "|  default|      geo_type_codes|      false|\n",
      "+---------+--------------------+-----------+\n",
      "\n"
     ]
    },
    {
     "name": "stderr",
     "output_type": "stream",
     "text": [
      "                                                                                \r"
     ]
    }
   ],
   "source": [
    "# 2. 'default' 스키마 안에 있는 테이블 목록을 확인합니다.\n",
    "# dbt seed로 생성된 테이블이 여기에 보여야 합니다. (gdelt_silver_events는 seed 테이블이 아닙니다.)\n",
    "print(\"📜 'default' 스키마의 테이블 목록:\")\n",
    "spark.sql(\"SHOW TABLES IN default\").show()"
   ]
  },
  {
   "cell_type": "code",
   "execution_count": null,
   "id": "275658c0",
   "metadata": {},
   "outputs": [
    {
     "name": "stdout",
     "output_type": "stream",
     "text": [
      "\n",
      " 🔍 actor_ethnic_group_codes 테이블 샘플 데이터\n"
     ]
    },
    {
     "name": "stderr",
     "output_type": "stream",
     "text": [
      "25/09/21 18:46:45 WARN SessionState: METASTORE_FILTER_HOOK will be ignored, since hive.security.authorization.manager is set to instance of HiveAuthorizerFactory.\n",
      "25/09/21 18:46:45 WARN MetricsConfig: Cannot locate configuration: tried hadoop-metrics2-s3a-file-system.properties,hadoop-metrics2.properties\n",
      "                                                                                \r"
     ]
    },
    {
     "name": "stdout",
     "output_type": "stream",
     "text": [
      "+----+---------------------+\n",
      "|code|description          |\n",
      "+----+---------------------+\n",
      "|aar |아파르족             |\n",
      "|abk |압하스인             |\n",
      "|abr |오스트레일리아 원주민|\n",
      "|ace |아체인               |\n",
      "|acg |아창족               |\n",
      "+----+---------------------+\n",
      "\n",
      "\n",
      " 🔍 actor_organization_codes 테이블 샘플 데이터\n",
      "+----+----+--------------------------+\n",
      "|code|type|description               |\n",
      "+----+----+--------------------------+\n",
      "|BHF |정부|보스니아 헤르체고비나 연방|\n",
      "|FTA |정부|파타                      |\n",
      "|HAM |정부|하마스                    |\n",
      "|RPF |정부|르완다 애국 전선          |\n",
      "|SRP |정부|스릅스카 공화국           |\n",
      "+----+----+--------------------------+\n",
      "\n",
      "\n",
      " 🔍 actor_religion_codes 테이블 샘플 데이터\n",
      "+----+----+---------------+\n",
      "|code|type|description    |\n",
      "+----+----+---------------+\n",
      "|REL |일반|종교 (미지정)  |\n",
      "|ATH |이념|불가지론/무신론|\n",
      "|BAH |종교|바하이 신앙    |\n",
      "|BUD |종교|불교           |\n",
      "|MAH |종파|대승불교       |\n",
      "+----+----+---------------+\n",
      "\n",
      "\n",
      " 🔍 actor_role_codes 테이블 샘플 데이터\n",
      "+----+--------+--------------+\n",
      "|code|type    |description   |\n",
      "+----+--------+--------------+\n",
      "|COP |1차 역할|경찰          |\n",
      "|GOV |1차 역할|정부          |\n",
      "|INS |1차 역할|정부 전복 반군|\n",
      "|JUD |1차 역할|사법부        |\n",
      "|MIL |1차 역할|군대          |\n",
      "+----+--------+--------------+\n",
      "\n",
      "\n",
      " 🔍 event_root_codes 테이블 샘플 데이터\n",
      "+----+--------------+\n",
      "|code|description   |\n",
      "+----+--------------+\n",
      "|1   |공개 성명 발표|\n",
      "|2   |호소 및 요청  |\n",
      "|3   |협력 의사 표명|\n",
      "|4   |협의          |\n",
      "|5   |외교적 협력   |\n",
      "+----+--------------+\n",
      "\n",
      "\n",
      " 🔍 event_detail_codes 테이블 샘플 데이터\n",
      "+----+--------------+\n",
      "|code|description   |\n",
      "+----+--------------+\n",
      "|10  |성명 발표     |\n",
      "|11  |논평 거부     |\n",
      "|12  |비관적 논평   |\n",
      "|13  |낙관적 논평   |\n",
      "|14  |정책 옵션 고려|\n",
      "+----+--------------+\n",
      "\n",
      "\n",
      " 🔍 event_quad_class_codes 테이블 샘플 데이터\n",
      "+----+-----------+\n",
      "|code|description|\n",
      "+----+-----------+\n",
      "|1   |언어적 협력|\n",
      "|2   |물질적 협력|\n",
      "|3   |언어적 갈등|\n",
      "|4   |물리적 갈등|\n",
      "+----+-----------+\n",
      "\n",
      "\n",
      " 🔍 geo_adm_codes 테이블 샘플 데이터\n",
      "+----+---------------+-------------------+\n",
      "|code|region_division|description        |\n",
      "+----+---------------+-------------------+\n",
      "|AA00|country        |ARUBA              |\n",
      "|AC00|country        |ANTIGUA AND BARBUDA|\n",
      "|AC01|dependency     |Barbuda            |\n",
      "|AC03|parish         |Saint George       |\n",
      "|AC04|parish         |Saint John         |\n",
      "+----+---------------+-------------------+\n",
      "\n",
      "\n",
      " 🔍 geo_country_codes 테이블 샘플 데이터\n",
      "+---------+--------+----------------+--------+-------------+------------+\n",
      "|fips_code|iso_code|current_iso_code|M49_code|name_eng     |name_kor    |\n",
      "+---------+--------+----------------+--------+-------------+------------+\n",
      "|AA       |ABW     |ABW             |533     |Aruba        |아루바      |\n",
      "|AF       |AFG     |AFG             |4       |Afghanistan  |아프가니스탄|\n",
      "|AO       |AGO     |AGO             |24      |Angola       |앙골라      |\n",
      "|AV       |AIA     |AIA             |660     |Anguilla     |앵귈라      |\n",
      "|AX       |ALA     |ALA             |248     |Åland Islands|올란드 제도 |\n",
      "+---------+--------+----------------+--------+-------------+------------+\n",
      "\n",
      "\n",
      " 🔍 geo_type_codes 테이블 샘플 데이터\n",
      "+----+-------------------+\n",
      "|code|description        |\n",
      "+----+-------------------+\n",
      "|1   |국가               |\n",
      "|2   |미국 주            |\n",
      "|3   |미국 도시\"         |\n",
      "|4   |미국 외 도시       |\n",
      "|5   |해외 1단계 행정구역|\n",
      "+----+-------------------+\n",
      "\n"
     ]
    }
   ],
   "source": [
    "# 3. 총 10개의 seed 테이블의 샘플 데이터를 5개씩 출력하여 내용 확인\n",
    "seed_tables = [\n",
    "    \"actor_ethnic_group_codes\",\n",
    "    \"actor_organization_codes\",\n",
    "    \"actor_religion_codes\",\n",
    "    \"actor_role_codes\",\n",
    "    \"event_root_codes\",\n",
    "    \"event_detail_codes\",\n",
    "    \"event_quad_class_codes\",\n",
    "    \"geo_adm_codes\",\n",
    "    \"geo_country_codes\",\n",
    "    \"geo_type_codes\",\n",
    "]\n",
    "\n",
    "for table in seed_tables:\n",
    "    print(f\"\\n 🔍 {table} 테이블 샘플 데이터\")\n",
    "    try:\n",
    "        spark.sql(f\"SELECT * FROM default.{table} LIMIT 5\").show(truncate=False)\n",
    "    except Exception as e:\n",
    "        print(f\"❌ 테이블 조회 중, 오류 발생: {e}\")"
   ]
  },
  {
   "cell_type": "markdown",
   "id": "f2b4fa5f",
   "metadata": {},
   "source": [
    "생성된 seed 테이블을 삭제할 경우, 아래 코드에 \"삭제할 seed 테이블명\"을 입력하여 실행"
   ]
  },
  {
   "cell_type": "code",
   "execution_count": null,
   "id": "16aa844e",
   "metadata": {},
   "outputs": [
    {
     "name": "stdout",
     "output_type": "stream",
     "text": [
      "🗑️ 기존 Seed 테이블 삭제를 시작합니다.\n",
      "  - 테이블 'default.geo_country_fips_codes' 삭제 완료.\n",
      "  - 테이블 'default.geo_country_iso_codes' 삭제 완료.\n",
      "\n",
      "✅ 모든 Seed 테이블 삭제 작업이 완료되었습니다.\n",
      "📜 현재 'default' 스키마의 테이블 목록:\n",
      "+---------+--------------------+-----------+\n",
      "|namespace|           tableName|isTemporary|\n",
      "+---------+--------------------+-----------+\n",
      "|  default|actor_ethnic_grou...|      false|\n",
      "|  default|actor_organizatio...|      false|\n",
      "|  default|actor_religion_codes|      false|\n",
      "|  default|    actor_role_codes|      false|\n",
      "|  default|  event_detail_codes|      false|\n",
      "|  default|event_quad_class_...|      false|\n",
      "|  default|    event_root_codes|      false|\n",
      "|  default| gdelt_silver_events|      false|\n",
      "|  default|       geo_adm_codes|      false|\n",
      "|  default|   geo_country_codes|      false|\n",
      "|  default|      geo_type_codes|      false|\n",
      "+---------+--------------------+-----------+\n",
      "\n"
     ]
    }
   ],
   "source": [
    "# 삭제할 seed 테이블 이름 목록\n",
    "seed_tables_to_drop = [\n",
    "    # \"[삭제할 seed 테이블명]\"\n",
    "]\n",
    "print(\"🗑️ 기존 Seed 테이블 삭제를 시작합니다.\")\n",
    "\n",
    "for table_name in seed_tables_to_drop:\n",
    "    try:\n",
    "        spark.sql(f\"DROP TABLE IF EXISTS default.{table_name}\")\n",
    "        print(f\"  - 테이블 'default.{table_name}' 삭제 완료.\")\n",
    "    except Exception as e:\n",
    "        print(f\"  - 테이블 'default.{table_name}' 삭제 중 오류 발생: {e}\")\n",
    "\n",
    "print(\"\\n✅ 모든 Seed 테이블 삭제 작업이 완료되었습니다.\")\n",
    "\n",
    "# 삭제 후 테이블 목록을 다시 확인하여 깨끗해졌는지 확인\n",
    "print(\"📜 현재 'default' 스키마의 테이블 목록:\")\n",
    "spark.sql(\"SHOW TABLES IN default\").show()"
   ]
  },
  {
   "cell_type": "markdown",
   "id": "7d2b4c5d",
   "metadata": {},
   "source": [
    "Staging 폴더의 stg_seed_mapping.sql을 dbt run한 결과 확인"
   ]
  },
  {
   "cell_type": "code",
   "execution_count": 8,
   "id": "d5daa1b5",
   "metadata": {},
   "outputs": [
    {
     "name": "stdout",
     "output_type": "stream",
     "text": [
      "🥈 [stg_seed_mapping] 뷰 : 상위 20개 데이터\n",
      "+---------------+----------+-------------+-------------------+------------------------+----------+-------------+---------------+------------+-----------+------------+-----------------+-----------+--------------+-------------------+----------------------+--------------------------------------------------------+---------------------+------------------+-----------------------------------------------+-----------------------+----------------------------+-------------------------+--------------------+--------------+---------------+---------------------+-----------+--------------+-------------------+----------------------+----------------------------+---------------------+------------------+-----------------------------------------------+-----------------------+----------------------------+-------------------------+--------------------+--------------+---------------+---------------------+------------------+-----------------------------------------------+-----------------------+----------------------------+-------------------------+--------------------+--------------+---------------+---------------------+-------------------+--------------------------------------------------------------------------------------------------------------------------------------------------------------------------+--------------------------+-------------------------+\n",
      "|global_event_id|event_date|is_root_event|mp_event_categories|mp_event_info           |quad_class|mp_quad_class|goldstein_scale|num_mentions|num_sources|num_articles|avg_tone         |actor1_code|actor1_name   |actor1_country_code|mp_actor1_country_code|mp_actor1_country_eng                                   |mp_actor1_country_kor|mp_actor1_geo_type|actor1_geo_fullname                            |actor1_geo_country_code|mp_actor1_geo_country_eng   |mp_actor1_geo_country_kor|actor1_geo_adm1_code|actor1_geo_lat|actor1_geo_long|actor1_geo_feature_id|actor2_code|actor2_name   |actor2_country_code|mp_actor2_country_code|mp_actor2_country_eng       |mp_actor2_country_kor|mp_actor2_geo_type|actor2_geo_fullname                            |actor2_geo_country_code|mp_actor2_geo_country_eng   |mp_actor2_geo_country_kor|actor2_geo_adm1_code|actor2_geo_lat|actor2_geo_long|actor2_geo_feature_id|mp_action_geo_type|action_geo_fullname                            |action_geo_country_code|mp_action_geo_country_eng   |mp_action_geo_country_kor|action_geo_adm1_code|action_geo_lat|action_geo_long|action_geo_feature_id|date_added         |source_url                                                                                                                                                                |processed_time            |source_file              |\n",
      "+---------------+----------+-------------+-------------------+------------------------+----------+-------------+---------------+------------+-----------+------------+-----------------+-----------+--------------+-------------------+----------------------+--------------------------------------------------------+---------------------+------------------+-----------------------------------------------+-----------------------+----------------------------+-------------------------+--------------------+--------------+---------------+---------------------+-----------+--------------+-------------------+----------------------+----------------------------+---------------------+------------------+-----------------------------------------------+-----------------------+----------------------------+-------------------------+--------------------+--------------+---------------+---------------------+------------------+-----------------------------------------------+-----------------------+----------------------------+-------------------------+--------------------+--------------+---------------+---------------------+-------------------+--------------------------------------------------------------------------------------------------------------------------------------------------------------------------+--------------------------+-------------------------+\n",
      "|1263588755     |2024-09-17|false        |외교적 협력        |칭찬 또는 지지          |1         |언어적 협력  |3.4            |10          |1          |10          |4.32692307692308 |GBR        |LONDON        |GBR                |GBR                   |The United Kingdom of Great Britain and Northern Ireland|영국                 |미국 외 도시      |Bali, Ghana (general), Ghana                   |GH                     |Ghana                       |가나                     |GH00                |9.24231       |0.509289       |-2070592             |null       |null          |null               |null                  |null                        |null                 |null              |null                                           |null                   |null                        |null                     |null                |null          |null           |null                 |미국 외 도시      |Bali, Ghana (general), Ghana                   |GH                     |Ghana                       |가나                     |GH00                |9.24231       |0.509289       |-2070592             |2025-09-17 07:15:00|https://www.dailymail.co.uk/tvshowbiz/article-15105965/Olivia-Kelly-opens-new-love-Tammy-Hembrow-ex-fiance.html                                                           |2025-09-17 07:17:24.347274|20250917071500.export.CSV|\n",
      "|1263588756     |2024-09-17|true         |협력 의사 표명     |협력 의사 표명          |1         |언어적 협력  |4.0            |10          |1          |10          |3.71681415929203 |MED        |PUBLICATION   |null               |null                  |null                                                    |null                 |국가              |Ireland                                        |EI                     |Ireland                     |아일랜드                 |EI                  |53.0          |-8.0           |EI                   |GOV        |GOVERNMENT    |null               |null                  |null                        |null                 |국가              |Ireland                                        |EI                     |Ireland                     |아일랜드                 |EI                  |53.0          |-8.0           |EI                   |국가              |Ireland                                        |EI                     |Ireland                     |아일랜드                 |EI                  |53.0          |-8.0           |EI                   |2025-09-17 07:15:00|https://www.echolive.ie/corkviews/arid-41706503.html                                                                                                                      |2025-09-17 07:17:24.347274|20250917071500.export.CSV|\n",
      "|1263588757     |2025-08-18|true         |공개 성명 발표     |성명 발표               |1         |언어적 협력  |0.0            |10          |1          |10          |-0.7396449704142 |EDU        |SCHOOL        |null               |null                  |null                                                    |null                 |미국 외 도시      |Gaza, Israel (general), Israel                 |IS                     |Israel                      |이스라엘                 |IS00                |31.4167       |34.3333        |-797156              |EDUMED     |STUDENT       |null               |null                  |null                        |null                 |미국 외 도시      |Gaza, Israel (general), Israel                 |IS                     |Israel                      |이스라엘                 |IS00                |31.4167       |34.3333        |-797156              |미국 외 도시      |Gaza, Israel (general), Israel                 |IS                     |Israel                      |이스라엘                 |IS00                |31.4167       |34.3333        |-797156              |2025-09-17 07:15:00|https://www.sun-sentinel.com/2025/09/17/spurning-jewish-voice-for-peace-as-insufficiently-radical-new-jewish-group-joins-student-intifada/                                |2025-09-17 07:17:24.347274|20250917071500.export.CSV|\n",
      "|1263588758     |2025-08-18|false        |협의               |방문                    |1         |언어적 협력  |1.9            |8           |1          |8           |3.62116991643454 |GOV        |FOREIGN MINIST|null               |null                  |null                                                    |null                 |국가              |Saudi Arabia                                   |SA                     |Saudi Arabia                |사우디아라비아           |SA                  |25.0          |45.0           |SA                   |MOS        |ISLAMIC       |null               |null                  |null                        |null                 |국가              |Saudi Arabia                                   |SA                     |Saudi Arabia                |사우디아라비아           |SA                  |25.0          |45.0           |SA                   |국가              |Saudi Arabia                                   |SA                     |Saudi Arabia                |사우디아라비아           |SA                  |25.0          |45.0           |SA                   |2025-09-17 07:15:00|https://tribune.com.pk/story/2567335/pm-shehbaz-set-to-visit-saudi-arabia-today                                                                                           |2025-09-17 07:17:24.347274|20250917071500.export.CSV|\n",
      "|1263588759     |2025-08-18|false        |협의               |방문 접견               |1         |언어적 협력  |2.8            |8           |1          |8           |3.62116991643454 |MOS        |ISLAMIC       |null               |null                  |null                                                    |null                 |국가              |Saudi Arabia                                   |SA                     |Saudi Arabia                |사우디아라비아           |SA                  |25.0          |45.0           |SA                   |GOV        |FOREIGN MINIST|null               |null                  |null                        |null                 |국가              |Saudi Arabia                                   |SA                     |Saudi Arabia                |사우디아라비아           |SA                  |25.0          |45.0           |SA                   |국가              |Saudi Arabia                                   |SA                     |Saudi Arabia                |사우디아라비아           |SA                  |25.0          |45.0           |SA                   |2025-09-17 07:15:00|https://tribune.com.pk/story/2567335/pm-shehbaz-set-to-visit-saudi-arabia-today                                                                                           |2025-09-17 07:17:24.347274|20250917071500.export.CSV|\n",
      "|1263588760     |2025-08-18|false        |협의               |방문                    |1         |언어적 협력  |1.9            |10          |1          |10          |3.62116991643454 |MOS        |ISLAMIC       |null               |null                  |null                                                    |null                 |국가              |Saudi Arabia                                   |SA                     |Saudi Arabia                |사우디아라비아           |SA                  |25.0          |45.0           |SA                   |SAU        |SAUDI ARABIA  |SAU                |SAU                   |Saudi Arabia                |사우디아라비아       |국가              |Saudi Arabia                                   |SA                     |Saudi Arabia                |사우디아라비아           |SA                  |25.0          |45.0           |SA                   |국가              |Saudi Arabia                                   |SA                     |Saudi Arabia                |사우디아라비아           |SA                  |25.0          |45.0           |SA                   |2025-09-17 07:15:00|https://tribune.com.pk/story/2567335/pm-shehbaz-set-to-visit-saudi-arabia-today                                                                                           |2025-09-17 07:17:24.347274|20250917071500.export.CSV|\n",
      "|1263588761     |2025-08-18|false        |협의               |방문 접견               |1         |언어적 협력  |2.8            |2           |1          |2           |3.62116991643454 |MOS        |ISLAMIC       |null               |null                  |null                                                    |null                 |국가              |Saudi Arabia                                   |SA                     |Saudi Arabia                |사우디아라비아           |SA                  |25.0          |45.0           |SA                   |SAUGOV     |SAUDI ARABIA  |SAU                |SAU                   |Saudi Arabia                |사우디아라비아       |국가              |Saudi Arabia                                   |SA                     |Saudi Arabia                |사우디아라비아           |SA                  |25.0          |45.0           |SA                   |국가              |Saudi Arabia                                   |SA                     |Saudi Arabia                |사우디아라비아           |SA                  |25.0          |45.0           |SA                   |2025-09-17 07:15:00|https://tribune.com.pk/story/2567335/pm-shehbaz-set-to-visit-saudi-arabia-today                                                                                           |2025-09-17 07:17:24.347274|20250917071500.export.CSV|\n",
      "|1263588762     |2025-08-18|false        |협의               |방문 접견               |1         |언어적 협력  |2.8            |10          |1          |10          |3.62116991643454 |SAU        |SAUDI ARABIA  |SAU                |SAU                   |Saudi Arabia                                            |사우디아라비아       |국가              |Saudi Arabia                                   |SA                     |Saudi Arabia                |사우디아라비아           |SA                  |25.0          |45.0           |SA                   |MOS        |ISLAMIC       |null               |null                  |null                        |null                 |국가              |Saudi Arabia                                   |SA                     |Saudi Arabia                |사우디아라비아           |SA                  |25.0          |45.0           |SA                   |국가              |Saudi Arabia                                   |SA                     |Saudi Arabia                |사우디아라비아           |SA                  |25.0          |45.0           |SA                   |2025-09-17 07:15:00|https://tribune.com.pk/story/2567335/pm-shehbaz-set-to-visit-saudi-arabia-today                                                                                           |2025-09-17 07:17:24.347274|20250917071500.export.CSV|\n",
      "|1263588763     |2025-08-18|false        |협의               |방문                    |1         |언어적 협력  |1.9            |2           |1          |2           |3.62116991643454 |SAUGOV     |SAUDI ARABIA  |SAU                |SAU                   |Saudi Arabia                                            |사우디아라비아       |국가              |Saudi Arabia                                   |SA                     |Saudi Arabia                |사우디아라비아           |SA                  |25.0          |45.0           |SA                   |MOS        |ISLAMIC       |null               |null                  |null                        |null                 |국가              |Saudi Arabia                                   |SA                     |Saudi Arabia                |사우디아라비아           |SA                  |25.0          |45.0           |SA                   |국가              |Saudi Arabia                                   |SA                     |Saudi Arabia                |사우디아라비아           |SA                  |25.0          |45.0           |SA                   |2025-09-17 07:15:00|https://tribune.com.pk/story/2567335/pm-shehbaz-set-to-visit-saudi-arabia-today                                                                                           |2025-09-17 07:17:24.347274|20250917071500.export.CSV|\n",
      "|1263588764     |2025-09-10|true         |강압               |체포, 구금 또는 기소    |4         |물리적 갈등  |-5.0           |1           |1          |1           |-5.91304347826087|GOV        |AUTHORITIES   |null               |null                  |null                                                    |null                 |미국 도시         |Washington, District of Columbia, United States|US                     |The United States of America|미국                     |USDC                |38.8951       |-77.0364       |531871               |EDU        |UNIVERSITY    |null               |null                  |null                        |null                 |미국 도시         |Washington, District of Columbia, United States|US                     |The United States of America|미국                     |USDC                |38.8951       |-77.0364       |531871               |미국 도시         |Washington, District of Columbia, United States|US                     |The United States of America|미국                     |USDC                |38.8951       |-77.0364       |531871               |2025-09-17 07:15:00|https://www.independent.com.mt/articles/2025-09-17/world-news/As-officials-searched-for-Charlie-Kirk-s-shooter-suspect-confessed-to-his-partner-prosecutor-says-6736273182|2025-09-17 07:17:24.347274|20250917071500.export.CSV|\n",
      "|1263588765     |2025-09-10|true         |협력 의사 표명     |회담 또는 협상 의사 표명|1         |언어적 협력  |4.0            |2           |1          |2           |0.69686411149825 |ISR        |ISRAEL        |ISR                |ISR                   |Israel                                                  |이스라엘             |국가              |Israel                                         |IS                     |Israel                      |이스라엘                 |IS                  |31.5          |34.75          |IS                   |LUX        |LUXEMBOURG    |LUX                |LUX                   |Luxembourg                  |룩셈부르크           |국가              |Israel                                         |IS                     |Israel                      |이스라엘                 |IS                  |31.5          |34.75          |IS                   |국가              |Luxembourg                                     |LU                     |Luxembourg                  |룩셈부르크               |LU                  |49.75         |6.166667       |LU                   |2025-09-17 07:15:00|https://www.gulf-times.com/article/710884/region/luxembourg-intends-to-recognize-the-palestinian-state                                                                    |2025-09-17 07:17:24.347274|20250917071500.export.CSV|\n",
      "|1263588766     |2025-09-10|true         |협력 의사 표명     |회담 또는 협상 의사 표명|1         |언어적 협력  |4.0            |2           |1          |2           |0.69686411149825 |ISR        |ISRAEL        |ISR                |ISR                   |Israel                                                  |이스라엘             |국가              |Israel                                         |IS                     |Israel                      |이스라엘                 |IS                  |31.5          |34.75          |IS                   |LUX        |LUXEMBOURG    |LUX                |LUX                   |Luxembourg                  |룩셈부르크           |국가              |Luxembourg                                     |LU                     |Luxembourg                  |룩셈부르크               |LU                  |49.75         |6.166667       |LU                   |국가              |Luxembourg                                     |LU                     |Luxembourg                  |룩셈부르크               |LU                  |49.75         |6.166667       |LU                   |2025-09-17 07:15:00|https://www.gulf-times.com/article/710884/region/luxembourg-intends-to-recognize-the-palestinian-state                                                                    |2025-09-17 07:17:24.347274|20250917071500.export.CSV|\n",
      "|1263588767     |2025-09-10|true         |협력 의사 표명     |회담 또는 협상 의사 표명|1         |언어적 협력  |4.0            |4           |1          |4           |0.69686411149825 |LUX        |LUXEMBOURG    |LUX                |LUX                   |Luxembourg                                              |룩셈부르크           |국가              |Saudi Arabia                                   |SA                     |Saudi Arabia                |사우디아라비아           |SA                  |25.0          |45.0           |SA                   |ISR        |ISRAEL        |ISR                |ISR                   |Israel                      |이스라엘             |미국 주           |New York, United States                        |US                     |The United States of America|미국                     |USNY                |42.1497       |-74.9384       |NY                   |국가              |Saudi Arabia                                   |SA                     |Saudi Arabia                |사우디아라비아           |SA                  |25.0          |45.0           |SA                   |2025-09-17 07:15:00|https://www.gulf-times.com/article/710884/region/luxembourg-intends-to-recognize-the-palestinian-state                                                                    |2025-09-17 07:17:24.347274|20250917071500.export.CSV|\n",
      "|1263588768     |2025-09-10|true         |협의               |협의                    |1         |언어적 협력  |1.0            |2           |1          |2           |0.69686411149825 |LUX        |LUXEMBOURG    |LUX                |LUX                   |Luxembourg                                              |룩셈부르크           |국가              |Israel                                         |IS                     |Israel                      |이스라엘                 |IS                  |31.5          |34.75          |IS                   |ISR        |ISRAEL        |ISR                |ISR                   |Israel                      |이스라엘             |국가              |Israel                                         |IS                     |Israel                      |이스라엘                 |IS                  |31.5          |34.75          |IS                   |국가              |Luxembourg                                     |LU                     |Luxembourg                  |룩셈부르크               |LU                  |49.75         |6.166667       |LU                   |2025-09-17 07:15:00|https://www.gulf-times.com/article/710884/region/luxembourg-intends-to-recognize-the-palestinian-state                                                                    |2025-09-17 07:17:24.347274|20250917071500.export.CSV|\n",
      "|1263588769     |2025-09-10|true         |협의               |협의                    |1         |언어적 협력  |1.0            |2           |1          |2           |0.69686411149825 |LUX        |LUXEMBOURG    |LUX                |LUX                   |Luxembourg                                              |룩셈부르크           |국가              |Luxembourg                                     |LU                     |Luxembourg                  |룩셈부르크               |LU                  |49.75         |6.166667       |LU                   |ISR        |ISRAEL        |ISR                |ISR                   |Israel                      |이스라엘             |국가              |Israel                                         |IS                     |Israel                      |이스라엘                 |IS                  |31.5          |34.75          |IS                   |국가              |Luxembourg                                     |LU                     |Luxembourg                  |룩셈부르크               |LU                  |49.75         |6.166667       |LU                   |2025-09-17 07:15:00|https://www.gulf-times.com/article/710884/region/luxembourg-intends-to-recognize-the-palestinian-state                                                                    |2025-09-17 07:17:24.347274|20250917071500.export.CSV|\n",
      "|1263588770     |2025-09-10|true         |협력 의사 표명     |회담 또는 협상 의사 표명|1         |언어적 협력  |4.0            |2           |1          |2           |0.69686411149825 |LUX        |LUXEMBOURG    |LUX                |LUX                   |Luxembourg                                              |룩셈부르크           |국가              |France                                         |FR                     |France                      |프랑스                   |FR                  |46.0          |2.0            |FR                   |PSE        |PALESTINE     |PSE                |PSE                   |State of Palestine          |팔레스타인           |미국 주           |New York, United States                        |US                     |The United States of America|미국                     |USNY                |42.1497       |-74.9384       |NY                   |국가              |Saudi Arabia                                   |SA                     |Saudi Arabia                |사우디아라비아           |SA                  |25.0          |45.0           |SA                   |2025-09-17 07:15:00|https://www.gulf-times.com/article/710884/region/luxembourg-intends-to-recognize-the-palestinian-state                                                                    |2025-09-17 07:17:24.347274|20250917071500.export.CSV|\n",
      "|1263588771     |2025-09-10|true         |협력 의사 표명     |회담 또는 협상 의사 표명|1         |언어적 협력  |4.0            |4           |1          |4           |0.69686411149825 |LUX        |LUXEMBOURG    |LUX                |LUX                   |Luxembourg                                              |룩셈부르크           |국가              |Saudi Arabia                                   |SA                     |Saudi Arabia                |사우디아라비아           |SA                  |25.0          |45.0           |SA                   |PSE        |PALESTINE     |PSE                |PSE                   |State of Palestine          |팔레스타인           |미국 주           |New York, United States                        |US                     |The United States of America|미국                     |USNY                |42.1497       |-74.9384       |NY                   |국가              |Saudi Arabia                                   |SA                     |Saudi Arabia                |사우디아라비아           |SA                  |25.0          |45.0           |SA                   |2025-09-17 07:15:00|https://www.gulf-times.com/article/710884/region/luxembourg-intends-to-recognize-the-palestinian-state                                                                    |2025-09-17 07:17:24.347274|20250917071500.export.CSV|\n",
      "|1263588772     |2025-09-10|true         |협의               |협의                    |1         |언어적 협력  |1.0            |6           |1          |6           |0.69686411149825 |LUX        |LUXEMBOURG    |LUX                |LUX                   |Luxembourg                                              |룩셈부르크           |국가              |Luxembourg                                     |LU                     |Luxembourg                  |룩셈부르크               |LU                  |49.75         |6.166667       |LU                   |PSE        |PALESTINE     |PSE                |PSE                   |State of Palestine          |팔레스타인           |국가              |Israel                                         |IS                     |Israel                      |이스라엘                 |IS                  |31.5          |34.75          |IS                   |국가              |Luxembourg                                     |LU                     |Luxembourg                  |룩셈부르크               |LU                  |49.75         |6.166667       |LU                   |2025-09-17 07:15:00|https://www.gulf-times.com/article/710884/region/luxembourg-intends-to-recognize-the-palestinian-state                                                                    |2025-09-17 07:17:24.347274|20250917071500.export.CSV|\n",
      "|1263588773     |2025-09-10|true         |협력 의사 표명     |회담 또는 협상 의사 표명|1         |언어적 협력  |4.0            |2           |1          |2           |0.69686411149825 |LUX        |LUXEMBOURG    |LUX                |LUX                   |Luxembourg                                              |룩셈부르크           |국가              |Israel                                         |IS                     |Israel                      |이스라엘                 |IS                  |31.5          |34.75          |IS                   |USA        |UNITED STATES |USA                |USA                   |The United States of America|미국                 |미국 주           |New York, United States                        |US                     |The United States of America|미국                     |USNY                |42.1497       |-74.9384       |NY                   |미국 주           |New York, United States                        |US                     |The United States of America|미국                     |USNY                |42.1497       |-74.9384       |NY                   |2025-09-17 07:15:00|https://www.gulf-times.com/article/710884/region/luxembourg-intends-to-recognize-the-palestinian-state                                                                    |2025-09-17 07:17:24.347274|20250917071500.export.CSV|\n",
      "|1263588774     |2025-09-10|true         |협력 의사 표명     |회담 또는 협상 의사 표명|1         |언어적 협력  |4.0            |8           |1          |8           |0.69686411149825 |LUX        |LUXEMBOURG    |LUX                |LUX                   |Luxembourg                                              |룩셈부르크           |국가              |Luxembourg                                     |LU                     |Luxembourg                  |룩셈부르크               |LU                  |49.75         |6.166667       |LU                   |USA        |NEW YORK      |USA                |USA                   |The United States of America|미국                 |미국 주           |New York, United States                        |US                     |The United States of America|미국                     |USNY                |42.1497       |-74.9384       |NY                   |미국 주           |New York, United States                        |US                     |The United States of America|미국                     |USNY                |42.1497       |-74.9384       |NY                   |2025-09-17 07:15:00|https://www.gulf-times.com/article/710884/region/luxembourg-intends-to-recognize-the-palestinian-state                                                                    |2025-09-17 07:17:24.347274|20250917071500.export.CSV|\n",
      "+---------------+----------+-------------+-------------------+------------------------+----------+-------------+---------------+------------+-----------+------------+-----------------+-----------+--------------+-------------------+----------------------+--------------------------------------------------------+---------------------+------------------+-----------------------------------------------+-----------------------+----------------------------+-------------------------+--------------------+--------------+---------------+---------------------+-----------+--------------+-------------------+----------------------+----------------------------+---------------------+------------------+-----------------------------------------------+-----------------------+----------------------------+-------------------------+--------------------+--------------+---------------+---------------------+------------------+-----------------------------------------------+-----------------------+----------------------------+-------------------------+--------------------+--------------+---------------+---------------------+-------------------+--------------------------------------------------------------------------------------------------------------------------------------------------------------------------+--------------------------+-------------------------+\n",
      "\n"
     ]
    }
   ],
   "source": [
    "# stg_seed_mapping 모델 결과 확인\n",
    "print(\"🥈 [stg_seed_mapping] 뷰 : 상위 20개 데이터\")\n",
    "spark.sql(\"SELECT * FROM silver.stg_seed_mapping LIMIT 20\").show(truncate=False)\n",
    "\n",
    "# Spark DataFrame을 Pandas DataFrame으로 변환하여 출력\n",
    "# df = spark.sql(\"SELECT * FROM silver.stg_seed_mapping LIMIT 20\").toPandas()\n",
    "# df"
   ]
  },
  {
   "cell_type": "markdown",
   "id": "f048fb4a",
   "metadata": {},
   "source": [
    "Staging 폴더의 stg_seed_actors_parsed.sql을 dbt run한 결과 확인"
   ]
  },
  {
   "cell_type": "code",
   "execution_count": 10,
   "id": "235425b0",
   "metadata": {},
   "outputs": [
    {
     "name": "stdout",
     "output_type": "stream",
     "text": [
      "🥈 [stg_seed_actors_parsed] 뷰 : 상위 20개 데이터\n",
      "+----------+--------------+-----+------------+-----+----------------+-----+------------+-----+\n",
      "|actor_code|description1  |type1|description2|type2|description3    |type3|description4|type4|\n",
      "+----------+--------------+-----+------------+-----+----------------+-----+------------+-----+\n",
      "|PSE       |팔레스타인    |국가 |null        |null |null            |null |null        |null |\n",
      "|ELI       |엘리트        |역할 |null        |null |null            |null |null        |null |\n",
      "|LTUGOV    |리투아니아    |국가 |정부        |역할 |null            |null |null        |null |\n",
      "|PSEGOV    |팔레스타인    |국가 |정부        |역할 |null            |null |null        |null |\n",
      "|LVA       |라트비아      |국가 |null        |null |null            |null |null        |null |\n",
      "|REL       |종교 (미지정) |종교 |null        |null |null            |null |null        |null |\n",
      "|SWEGOV    |스웨덴        |국가 |정부        |역할 |null            |null |null        |null |\n",
      "|DEUMIL    |독일          |국가 |군대        |역할 |null            |null |null        |null |\n",
      "|ARM       |아르메니아    |국가 |null        |null |null            |null |null        |null |\n",
      "|IGOUNODEV |국제 정부 기구|역할 |유엔(UN)    |조직 |개발            |역할 |null        |null |\n",
      "|PRTELI    |포르투갈      |국가 |엘리트      |역할 |null            |null |null        |null |\n",
      "|DEUPTY    |독일          |국가 |null        |null |null            |null |null        |null |\n",
      "|FRA       |프랑스        |국가 |null        |null |null            |null |null        |null |\n",
      "|AUSBUS    |호주          |국가 |기업        |역할 |null            |null |null        |null |\n",
      "|USAOPP    |미국          |국가 |야당        |역할 |null            |null |null        |null |\n",
      "|CVLEDU    |민간인        |역할 |교육        |역할 |null            |null |null        |null |\n",
      "|UKRMIL    |우크라이나    |국가 |군대        |역할 |null            |null |null        |null |\n",
      "|URY       |우루과이      |국가 |null        |null |null            |null |null        |null |\n",
      "|NGOHRIHRW |비정부 기구   |역할 |인권        |역할 |휴먼 라이츠 워치|조직 |null        |null |\n",
      "|CHRPRO332 |기독교        |종교 |개신교      |종교 |null            |null |null        |null |\n",
      "+----------+--------------+-----+------------+-----+----------------+-----+------------+-----+\n",
      "\n"
     ]
    }
   ],
   "source": [
    "# stg_seed_actors_parsed 모델 결과 확인\n",
    "print(\"🥈 [stg_seed_actors_parsed] 뷰 : 상위 20개 데이터\")\n",
    "spark.sql(\"SELECT * FROM silver.stg_seed_actors_parsed LIMIT 20\").show(truncate=False)"
   ]
  },
  {
   "cell_type": "markdown",
   "id": "011e17cf",
   "metadata": {},
   "source": [
    "Staging 폴더의 stg_actors_description.sql을 dbt run한 결과 확인"
   ]
  },
  {
   "cell_type": "code",
   "execution_count": null,
   "id": "ed27de8b",
   "metadata": {},
   "outputs": [
    {
     "name": "stderr",
     "output_type": "stream",
     "text": [
      "25/09/21 23:53:34 ERROR TaskSchedulerImpl: Lost executor 0 on 172.18.0.19: worker lost\n",
      "25/09/21 23:53:34 WARN BlockManagerMasterEndpoint: No more replicas available for rdd_420_28 !\n",
      "25/09/21 23:53:34 WARN BlockManagerMasterEndpoint: No more replicas available for rdd_416_23 !\n",
      "25/09/21 23:53:34 WARN BlockManagerMasterEndpoint: No more replicas available for rdd_79_5 !\n",
      "25/09/21 23:53:34 WARN BlockManagerMasterEndpoint: No more replicas available for rdd_75_29 !\n",
      "25/09/21 23:53:34 WARN BlockManagerMasterEndpoint: No more replicas available for rdd_416_13 !\n",
      "25/09/21 23:53:34 WARN BlockManagerMasterEndpoint: No more replicas available for rdd_420_43 !\n",
      "25/09/21 23:53:34 WARN BlockManagerMasterEndpoint: No more replicas available for rdd_79_18 !\n",
      "25/09/21 23:53:34 WARN BlockManagerMasterEndpoint: No more replicas available for rdd_79_9 !\n",
      "25/09/21 23:53:34 WARN BlockManagerMasterEndpoint: No more replicas available for rdd_79_16 !\n",
      "25/09/21 23:53:34 WARN BlockManagerMasterEndpoint: No more replicas available for rdd_79_21 !\n",
      "25/09/21 23:53:34 WARN BlockManagerMasterEndpoint: No more replicas available for rdd_416_37 !\n",
      "25/09/21 23:53:34 WARN BlockManagerMasterEndpoint: No more replicas available for rdd_420_26 !\n",
      "25/09/21 23:53:34 WARN BlockManagerMasterEndpoint: No more replicas available for rdd_416_29 !\n",
      "25/09/21 23:53:34 WARN BlockManagerMasterEndpoint: No more replicas available for rdd_420_30 !\n",
      "25/09/21 23:53:34 WARN BlockManagerMasterEndpoint: No more replicas available for rdd_79_22 !\n",
      "25/09/21 23:53:34 WARN BlockManagerMasterEndpoint: No more replicas available for rdd_79_19 !\n",
      "25/09/21 23:53:34 WARN BlockManagerMasterEndpoint: No more replicas available for rdd_420_9 !\n",
      "25/09/21 23:53:34 WARN BlockManagerMasterEndpoint: No more replicas available for rdd_75_47 !\n",
      "25/09/21 23:53:34 WARN BlockManagerMasterEndpoint: No more replicas available for rdd_416_17 !\n",
      "25/09/21 23:53:34 WARN BlockManagerMasterEndpoint: No more replicas available for rdd_420_47 !\n",
      "25/09/21 23:53:34 WARN BlockManagerMasterEndpoint: No more replicas available for rdd_416_16 !\n",
      "25/09/21 23:53:34 WARN BlockManagerMasterEndpoint: No more replicas available for rdd_79_36 !\n",
      "25/09/21 23:53:34 WARN BlockManagerMasterEndpoint: No more replicas available for rdd_420_14 !\n",
      "25/09/21 23:53:34 WARN BlockManagerMasterEndpoint: No more replicas available for rdd_416_0 !\n",
      "25/09/21 23:53:34 WARN BlockManagerMasterEndpoint: No more replicas available for rdd_416_39 !\n",
      "25/09/21 23:53:34 WARN BlockManagerMasterEndpoint: No more replicas available for rdd_79_49 !\n",
      "25/09/21 23:53:34 WARN BlockManagerMasterEndpoint: No more replicas available for rdd_416_2 !\n",
      "25/09/21 23:53:34 WARN BlockManagerMasterEndpoint: No more replicas available for rdd_79_10 !\n",
      "25/09/21 23:53:34 WARN BlockManagerMasterEndpoint: No more replicas available for rdd_420_5 !\n",
      "25/09/21 23:53:34 WARN BlockManagerMasterEndpoint: No more replicas available for rdd_79_40 !\n",
      "25/09/21 23:53:34 WARN BlockManagerMasterEndpoint: No more replicas available for rdd_79_43 !\n",
      "25/09/21 23:53:34 WARN BlockManagerMasterEndpoint: No more replicas available for rdd_416_11 !\n",
      "25/09/21 23:53:34 WARN BlockManagerMasterEndpoint: No more replicas available for rdd_79_28 !\n",
      "25/09/21 23:53:34 WARN BlockManagerMasterEndpoint: No more replicas available for rdd_416_42 !\n",
      "25/09/21 23:53:34 WARN BlockManagerMasterEndpoint: No more replicas available for rdd_75_37 !\n",
      "25/09/21 23:53:34 WARN BlockManagerMasterEndpoint: No more replicas available for rdd_75_3 !\n",
      "25/09/21 23:53:34 WARN BlockManagerMasterEndpoint: No more replicas available for rdd_420_25 !\n",
      "25/09/21 23:53:34 WARN BlockManagerMasterEndpoint: No more replicas available for rdd_420_46 !\n",
      "25/09/21 23:53:34 WARN BlockManagerMasterEndpoint: No more replicas available for rdd_79_34 !\n",
      "25/09/21 23:53:34 WARN BlockManagerMasterEndpoint: No more replicas available for rdd_75_23 !\n",
      "25/09/21 23:53:34 WARN BlockManagerMasterEndpoint: No more replicas available for rdd_420_34 !\n",
      "25/09/21 23:53:34 WARN BlockManagerMasterEndpoint: No more replicas available for rdd_79_47 !\n",
      "25/09/21 23:53:34 WARN BlockManagerMasterEndpoint: No more replicas available for rdd_420_42 !\n",
      "25/09/21 23:53:34 WARN BlockManagerMasterEndpoint: No more replicas available for rdd_79_1 !\n",
      "25/09/21 23:53:34 WARN BlockManagerMasterEndpoint: No more replicas available for rdd_79_15 !\n",
      "25/09/21 23:53:34 WARN BlockManagerMasterEndpoint: No more replicas available for rdd_416_4 !\n",
      "25/09/21 23:53:34 WARN BlockManagerMasterEndpoint: No more replicas available for rdd_79_12 !\n",
      "25/09/21 23:53:34 WARN BlockManagerMasterEndpoint: No more replicas available for rdd_416_33 !\n",
      "25/09/21 23:53:34 WARN BlockManagerMasterEndpoint: No more replicas available for rdd_420_22 !\n",
      "25/09/21 23:53:34 WARN BlockManagerMasterEndpoint: No more replicas available for rdd_75_41 !\n",
      "25/09/21 23:53:34 WARN BlockManagerMasterEndpoint: No more replicas available for rdd_420_2 !\n",
      "25/09/21 23:53:34 WARN BlockManagerMasterEndpoint: No more replicas available for rdd_75_30 !\n",
      "25/09/21 23:53:34 WARN BlockManagerMasterEndpoint: No more replicas available for rdd_79_20 !\n",
      "25/09/21 23:53:34 WARN BlockManagerMasterEndpoint: No more replicas available for rdd_416_15 !\n",
      "25/09/21 23:53:34 WARN BlockManagerMasterEndpoint: No more replicas available for rdd_416_41 !\n",
      "25/09/21 23:53:34 WARN BlockManagerMasterEndpoint: No more replicas available for rdd_420_12 !\n",
      "25/09/21 23:53:34 WARN BlockManagerMasterEndpoint: No more replicas available for rdd_416_1 !\n",
      "25/09/21 23:53:34 WARN BlockManagerMasterEndpoint: No more replicas available for rdd_416_10 !\n",
      "25/09/21 23:53:34 WARN BlockManagerMasterEndpoint: No more replicas available for rdd_79_14 !\n",
      "25/09/21 23:53:34 WARN BlockManagerMasterEndpoint: No more replicas available for rdd_420_21 !\n",
      "25/09/21 23:53:34 WARN BlockManagerMasterEndpoint: No more replicas available for rdd_416_43 !\n",
      "25/09/21 23:53:34 WARN BlockManagerMasterEndpoint: No more replicas available for rdd_79_44 !\n",
      "25/09/21 23:53:34 WARN BlockManagerMasterEndpoint: No more replicas available for rdd_416_34 !\n",
      "25/09/21 23:53:34 WARN BlockManagerMasterEndpoint: No more replicas available for rdd_420_17 !\n",
      "25/09/21 23:53:34 WARN BlockManagerMasterEndpoint: No more replicas available for rdd_75_44 !\n",
      "25/09/21 23:53:34 WARN BlockManagerMasterEndpoint: No more replicas available for rdd_79_27 !\n",
      "25/09/21 23:53:34 WARN BlockManagerMasterEndpoint: No more replicas available for rdd_416_7 !\n",
      "25/09/21 23:53:34 WARN BlockManagerMasterEndpoint: No more replicas available for rdd_79_35 !\n",
      "25/09/21 23:53:34 WARN BlockManagerMasterEndpoint: No more replicas available for rdd_416_31 !\n",
      "25/09/21 23:53:34 WARN BlockManagerMasterEndpoint: No more replicas available for rdd_75_46 !\n",
      "25/09/21 23:53:34 WARN BlockManagerMasterEndpoint: No more replicas available for rdd_79_3 !\n",
      "25/09/21 23:53:34 WARN BlockManagerMasterEndpoint: No more replicas available for rdd_79_38 !\n",
      "25/09/21 23:53:34 WARN BlockManagerMasterEndpoint: No more replicas available for rdd_416_30 !\n",
      "25/09/21 23:53:34 WARN BlockManagerMasterEndpoint: No more replicas available for rdd_416_22 !\n",
      "25/09/21 23:53:34 WARN BlockManagerMasterEndpoint: No more replicas available for rdd_420_16 !\n",
      "25/09/21 23:53:34 WARN BlockManagerMasterEndpoint: No more replicas available for rdd_75_18 !\n",
      "25/09/21 23:53:34 WARN BlockManagerMasterEndpoint: No more replicas available for rdd_420_32 !\n",
      "25/09/21 23:53:34 WARN BlockManagerMasterEndpoint: No more replicas available for rdd_75_20 !\n",
      "25/09/21 23:53:34 WARN BlockManagerMasterEndpoint: No more replicas available for rdd_420_37 !\n",
      "25/09/21 23:53:34 WARN BlockManagerMasterEndpoint: No more replicas available for rdd_416_6 !\n",
      "25/09/21 23:53:34 WARN BlockManagerMasterEndpoint: No more replicas available for rdd_75_38 !\n",
      "25/09/21 23:53:34 WARN BlockManagerMasterEndpoint: No more replicas available for rdd_416_28 !\n",
      "25/09/21 23:53:34 WARN BlockManagerMasterEndpoint: No more replicas available for rdd_75_7 !\n",
      "25/09/21 23:53:34 WARN BlockManagerMasterEndpoint: No more replicas available for rdd_416_46 !\n",
      "25/09/21 23:53:34 WARN BlockManagerMasterEndpoint: No more replicas available for rdd_75_43 !\n",
      "25/09/21 23:53:34 WARN BlockManagerMasterEndpoint: No more replicas available for rdd_416_26 !\n",
      "25/09/21 23:53:34 WARN BlockManagerMasterEndpoint: No more replicas available for rdd_416_35 !\n",
      "25/09/21 23:53:34 WARN BlockManagerMasterEndpoint: No more replicas available for rdd_75_27 !\n",
      "25/09/21 23:53:34 WARN BlockManagerMasterEndpoint: No more replicas available for rdd_79_8 !\n",
      "25/09/21 23:53:34 WARN BlockManagerMasterEndpoint: No more replicas available for rdd_75_33 !\n",
      "25/09/21 23:53:34 WARN BlockManagerMasterEndpoint: No more replicas available for rdd_75_6 !\n",
      "25/09/21 23:53:34 WARN BlockManagerMasterEndpoint: No more replicas available for rdd_75_10 !\n",
      "25/09/21 23:53:34 WARN BlockManagerMasterEndpoint: No more replicas available for rdd_416_20 !\n",
      "25/09/21 23:53:34 WARN BlockManagerMasterEndpoint: No more replicas available for rdd_416_25 !\n",
      "25/09/21 23:53:34 WARN BlockManagerMasterEndpoint: No more replicas available for rdd_420_40 !\n",
      "25/09/21 23:53:34 WARN BlockManagerMasterEndpoint: No more replicas available for rdd_420_41 !\n",
      "25/09/21 23:53:34 WARN BlockManagerMasterEndpoint: No more replicas available for rdd_79_29 !\n",
      "25/09/21 23:53:34 WARN BlockManagerMasterEndpoint: No more replicas available for rdd_420_49 !\n",
      "25/09/21 23:53:34 WARN BlockManagerMasterEndpoint: No more replicas available for rdd_416_18 !\n",
      "25/09/21 23:53:34 WARN BlockManagerMasterEndpoint: No more replicas available for rdd_75_42 !\n",
      "25/09/21 23:53:34 WARN BlockManagerMasterEndpoint: No more replicas available for rdd_75_8 !\n",
      "25/09/21 23:53:34 WARN BlockManagerMasterEndpoint: No more replicas available for rdd_75_16 !\n",
      "25/09/21 23:53:34 WARN BlockManagerMasterEndpoint: No more replicas available for rdd_416_5 !\n",
      "25/09/21 23:53:34 WARN BlockManagerMasterEndpoint: No more replicas available for rdd_75_14 !\n",
      "25/09/21 23:53:34 WARN BlockManagerMasterEndpoint: No more replicas available for rdd_416_44 !\n",
      "25/09/21 23:53:34 WARN BlockManagerMasterEndpoint: No more replicas available for rdd_420_23 !\n",
      "25/09/21 23:53:34 WARN BlockManagerMasterEndpoint: No more replicas available for rdd_79_13 !\n",
      "25/09/21 23:53:34 WARN BlockManagerMasterEndpoint: No more replicas available for rdd_420_4 !\n",
      "25/09/21 23:53:34 WARN BlockManagerMasterEndpoint: No more replicas available for rdd_75_49 !\n",
      "25/09/21 23:53:34 WARN BlockManagerMasterEndpoint: No more replicas available for rdd_79_41 !\n",
      "25/09/21 23:53:34 WARN BlockManagerMasterEndpoint: No more replicas available for rdd_75_35 !\n",
      "25/09/21 23:53:34 WARN BlockManagerMasterEndpoint: No more replicas available for rdd_75_26 !\n",
      "25/09/21 23:53:34 WARN BlockManagerMasterEndpoint: No more replicas available for rdd_75_31 !\n",
      "25/09/21 23:53:34 WARN BlockManagerMasterEndpoint: No more replicas available for rdd_75_32 !\n",
      "25/09/21 23:53:34 WARN BlockManagerMasterEndpoint: No more replicas available for rdd_420_33 !\n",
      "25/09/21 23:53:34 WARN BlockManagerMasterEndpoint: No more replicas available for rdd_416_32 !\n",
      "25/09/21 23:53:34 WARN BlockManagerMasterEndpoint: No more replicas available for rdd_420_10 !\n",
      "25/09/21 23:53:34 WARN BlockManagerMasterEndpoint: No more replicas available for rdd_416_49 !\n",
      "25/09/21 23:53:34 WARN BlockManagerMasterEndpoint: No more replicas available for rdd_416_12 !\n",
      "25/09/21 23:53:34 WARN BlockManagerMasterEndpoint: No more replicas available for rdd_79_11 !\n",
      "25/09/21 23:53:34 WARN BlockManagerMasterEndpoint: No more replicas available for rdd_75_0 !\n",
      "25/09/21 23:53:34 WARN BlockManagerMasterEndpoint: No more replicas available for rdd_416_14 !\n",
      "25/09/21 23:53:34 WARN BlockManagerMasterEndpoint: No more replicas available for rdd_75_15 !\n",
      "25/09/21 23:53:34 WARN BlockManagerMasterEndpoint: No more replicas available for rdd_75_5 !\n",
      "25/09/21 23:53:34 WARN BlockManagerMasterEndpoint: No more replicas available for rdd_416_36 !\n",
      "25/09/21 23:53:34 WARN BlockManagerMasterEndpoint: No more replicas available for rdd_79_31 !\n",
      "25/09/21 23:53:34 WARN BlockManagerMasterEndpoint: No more replicas available for rdd_420_6 !\n",
      "25/09/21 23:53:34 WARN BlockManagerMasterEndpoint: No more replicas available for rdd_416_45 !\n",
      "25/09/21 23:53:34 WARN BlockManagerMasterEndpoint: No more replicas available for rdd_79_33 !\n",
      "25/09/21 23:53:34 WARN BlockManagerMasterEndpoint: No more replicas available for rdd_416_21 !\n",
      "25/09/21 23:53:34 WARN BlockManagerMasterEndpoint: No more replicas available for rdd_416_3 !\n",
      "25/09/21 23:53:34 WARN BlockManagerMasterEndpoint: No more replicas available for rdd_420_7 !\n",
      "25/09/21 23:53:34 WARN BlockManagerMasterEndpoint: No more replicas available for rdd_420_48 !\n",
      "25/09/21 23:53:34 WARN BlockManagerMasterEndpoint: No more replicas available for rdd_75_45 !\n",
      "25/09/21 23:53:34 WARN BlockManagerMasterEndpoint: No more replicas available for rdd_420_0 !\n",
      "25/09/21 23:53:34 WARN BlockManagerMasterEndpoint: No more replicas available for rdd_79_7 !\n",
      "25/09/21 23:53:34 WARN BlockManagerMasterEndpoint: No more replicas available for rdd_420_18 !\n",
      "25/09/21 23:53:34 WARN BlockManagerMasterEndpoint: No more replicas available for rdd_75_13 !\n",
      "25/09/21 23:53:34 WARN BlockManagerMasterEndpoint: No more replicas available for rdd_75_22 !\n",
      "25/09/21 23:53:34 WARN BlockManagerMasterEndpoint: No more replicas available for rdd_420_8 !\n",
      "25/09/21 23:53:34 WARN BlockManagerMasterEndpoint: No more replicas available for rdd_79_32 !\n",
      "25/09/21 23:53:34 WARN BlockManagerMasterEndpoint: No more replicas available for rdd_416_9 !\n",
      "25/09/21 23:53:34 WARN BlockManagerMasterEndpoint: No more replicas available for rdd_420_45 !\n",
      "25/09/21 23:53:34 WARN BlockManagerMasterEndpoint: No more replicas available for rdd_420_38 !\n",
      "25/09/21 23:53:34 WARN BlockManagerMasterEndpoint: No more replicas available for rdd_75_19 !\n",
      "25/09/21 23:53:34 WARN BlockManagerMasterEndpoint: No more replicas available for rdd_79_0 !\n",
      "25/09/21 23:53:34 WARN BlockManagerMasterEndpoint: No more replicas available for rdd_420_39 !\n",
      "25/09/21 23:53:34 WARN BlockManagerMasterEndpoint: No more replicas available for rdd_416_38 !\n",
      "25/09/21 23:53:34 WARN BlockManagerMasterEndpoint: No more replicas available for rdd_75_1 !\n",
      "25/09/21 23:53:34 WARN BlockManagerMasterEndpoint: No more replicas available for rdd_79_2 !\n",
      "25/09/21 23:53:34 WARN BlockManagerMasterEndpoint: No more replicas available for rdd_420_24 !\n",
      "25/09/21 23:53:34 WARN BlockManagerMasterEndpoint: No more replicas available for rdd_79_23 !\n",
      "25/09/21 23:53:34 WARN BlockManagerMasterEndpoint: No more replicas available for rdd_75_34 !\n",
      "25/09/21 23:53:34 WARN BlockManagerMasterEndpoint: No more replicas available for rdd_75_36 !\n",
      "25/09/21 23:53:34 WARN BlockManagerMasterEndpoint: No more replicas available for rdd_416_8 !\n",
      "25/09/21 23:53:34 WARN BlockManagerMasterEndpoint: No more replicas available for rdd_75_4 !\n",
      "25/09/21 23:53:34 WARN BlockManagerMasterEndpoint: No more replicas available for rdd_75_40 !\n",
      "25/09/21 23:53:34 WARN BlockManagerMasterEndpoint: No more replicas available for rdd_420_35 !\n",
      "25/09/21 23:53:34 WARN BlockManagerMasterEndpoint: No more replicas available for rdd_416_40 !\n",
      "25/09/21 23:53:34 WARN BlockManagerMasterEndpoint: No more replicas available for rdd_416_48 !\n",
      "25/09/21 23:53:34 WARN BlockManagerMasterEndpoint: No more replicas available for rdd_79_45 !\n",
      "25/09/21 23:53:34 WARN BlockManagerMasterEndpoint: No more replicas available for rdd_75_11 !\n",
      "25/09/21 23:53:34 WARN BlockManagerMasterEndpoint: No more replicas available for rdd_79_24 !\n",
      "25/09/21 23:53:34 WARN BlockManagerMasterEndpoint: No more replicas available for rdd_79_25 !\n",
      "25/09/21 23:53:34 WARN BlockManagerMasterEndpoint: No more replicas available for rdd_79_37 !\n",
      "25/09/21 23:53:34 WARN BlockManagerMasterEndpoint: No more replicas available for rdd_79_46 !\n",
      "25/09/21 23:53:34 WARN BlockManagerMasterEndpoint: No more replicas available for rdd_420_36 !\n",
      "25/09/21 23:53:34 WARN BlockManagerMasterEndpoint: No more replicas available for rdd_420_31 !\n",
      "25/09/21 23:53:34 WARN BlockManagerMasterEndpoint: No more replicas available for rdd_420_29 !\n",
      "25/09/21 23:53:34 WARN BlockManagerMasterEndpoint: No more replicas available for rdd_79_26 !\n",
      "25/09/21 23:53:34 WARN BlockManagerMasterEndpoint: No more replicas available for rdd_75_39 !\n",
      "25/09/21 23:53:34 WARN BlockManagerMasterEndpoint: No more replicas available for rdd_416_19 !\n",
      "25/09/21 23:53:34 WARN BlockManagerMasterEndpoint: No more replicas available for rdd_75_24 !\n",
      "25/09/21 23:53:34 WARN BlockManagerMasterEndpoint: No more replicas available for rdd_420_27 !\n",
      "25/09/21 23:53:34 WARN BlockManagerMasterEndpoint: No more replicas available for rdd_420_44 !\n",
      "25/09/21 23:53:34 WARN BlockManagerMasterEndpoint: No more replicas available for rdd_75_28 !\n",
      "25/09/21 23:53:34 WARN BlockManagerMasterEndpoint: No more replicas available for rdd_75_48 !\n",
      "25/09/21 23:53:34 WARN BlockManagerMasterEndpoint: No more replicas available for rdd_79_42 !\n",
      "25/09/21 23:53:34 WARN BlockManagerMasterEndpoint: No more replicas available for rdd_420_13 !\n",
      "25/09/21 23:53:34 WARN BlockManagerMasterEndpoint: No more replicas available for rdd_420_1 !\n",
      "25/09/21 23:53:34 WARN BlockManagerMasterEndpoint: No more replicas available for rdd_75_2 !\n",
      "25/09/21 23:53:34 WARN BlockManagerMasterEndpoint: No more replicas available for rdd_79_30 !\n",
      "25/09/21 23:53:34 WARN BlockManagerMasterEndpoint: No more replicas available for rdd_420_3 !\n",
      "25/09/21 23:53:34 WARN BlockManagerMasterEndpoint: No more replicas available for rdd_75_12 !\n",
      "25/09/21 23:53:34 WARN BlockManagerMasterEndpoint: No more replicas available for rdd_420_11 !\n",
      "25/09/21 23:53:34 WARN BlockManagerMasterEndpoint: No more replicas available for rdd_416_47 !\n",
      "25/09/21 23:53:34 WARN BlockManagerMasterEndpoint: No more replicas available for rdd_75_21 !\n",
      "25/09/21 23:53:34 WARN BlockManagerMasterEndpoint: No more replicas available for rdd_420_19 !\n",
      "25/09/21 23:53:34 WARN BlockManagerMasterEndpoint: No more replicas available for rdd_79_48 !\n",
      "25/09/21 23:53:34 WARN BlockManagerMasterEndpoint: No more replicas available for rdd_420_15 !\n",
      "25/09/21 23:53:34 WARN BlockManagerMasterEndpoint: No more replicas available for rdd_79_4 !\n",
      "25/09/21 23:53:34 WARN BlockManagerMasterEndpoint: No more replicas available for rdd_75_17 !\n",
      "25/09/21 23:53:34 WARN BlockManagerMasterEndpoint: No more replicas available for rdd_79_17 !\n",
      "25/09/21 23:53:34 WARN BlockManagerMasterEndpoint: No more replicas available for rdd_75_25 !\n",
      "25/09/21 23:53:34 WARN BlockManagerMasterEndpoint: No more replicas available for rdd_416_27 !\n",
      "25/09/21 23:53:34 WARN BlockManagerMasterEndpoint: No more replicas available for rdd_79_6 !\n",
      "25/09/21 23:53:34 WARN BlockManagerMasterEndpoint: No more replicas available for rdd_416_24 !\n",
      "25/09/21 23:53:34 WARN BlockManagerMasterEndpoint: No more replicas available for rdd_79_39 !\n",
      "25/09/21 23:53:34 WARN BlockManagerMasterEndpoint: No more replicas available for rdd_420_20 !\n",
      "25/09/21 23:53:34 WARN BlockManagerMasterEndpoint: No more replicas available for rdd_75_9 !\n"
     ]
    }
   ],
   "source": [
    "# stg_actors_description 모델 결과 확인\n",
    "print(\"🥈 [stg_actors_description] 뷰 : 상위 20개 데이터\")\n",
    "spark.sql(\"SELECT * FROM silver.stg_actors_description LIMIT 20\").show(truncate=False)"
   ]
  },
  {
   "cell_type": "markdown",
   "id": "b2650ec5",
   "metadata": {},
   "source": [
    "Marts 폴더의 gold_1st_global_overview.sql을 dbt run한 결과 확인"
   ]
  },
  {
   "cell_type": "code",
   "execution_count": 11,
   "id": "cd7a331a",
   "metadata": {},
   "outputs": [
    {
     "name": "stdout",
     "output_type": "stream",
     "text": [
      "🥇 [gold_1st_global_overview] 뷰\n"
     ]
    },
    {
     "name": "stderr",
     "output_type": "stream",
     "text": [
      "                                                                                \r"
     ]
    },
    {
     "name": "stdout",
     "output_type": "stream",
     "text": [
      "+----------+--------------+---------------+--------------------+-------------------+------------------+-----------------+------------------+-------------------+-----------+-------------------------+\n",
      "|event_date|action_geo_iso|action_geo_name|risk_score          |avg_goldstein_scale|total_num_mentions|total_num_sources|total_num_articles|avg_tone           |event_count|updated_at               |\n",
      "+----------+--------------+---------------+--------------------+-------------------+------------------+-----------------+------------------+-------------------+-----------+-------------------------+\n",
      "|2025-09-17|ALB           |Albania        |-1.916216216216216  |3.4                |5                 |1                |5                 |0.72072072072072   |1          |2025-09-21 19:35:05.63027|\n",
      "|2025-09-17|ARM           |Armenia        |-3.3755464112391365 |3.4                |20                |6                |14                |6.77966101694916   |6          |2025-09-21 19:35:05.63027|\n",
      "|2025-09-17|AUS           |Australia      |1.6280450739224763  |0.6172839506172837 |455               |91               |445               |-3.5259907276554343|81         |2025-09-21 19:35:05.63027|\n",
      "|2025-09-17|AUT           |Austria        |-0.4389573439922379 |1.0                |6                 |4                |6                 |0.72072072072072   |4          |2025-09-21 19:35:05.63027|\n",
      "|2025-09-17|AZE           |Azerbaijan     |-2.876951935275369  |1.9                |16                |2                |16                |6.88527123795786   |2          |2025-09-21 19:35:05.63027|\n",
      "|2025-09-17|BGD           |Bangladesh     |0.3582078021970627  |1.008333333333333  |48                |12               |48                |-1.2179771296870974|12         |2025-09-21 19:35:05.63027|\n",
      "|2025-09-17|BLR           |Belarus        |3.517884350605015   |-5.046153846153846 |61                |13               |59                |-1.6060585201192816|13         |2025-09-21 19:35:05.63027|\n",
      "|2025-09-17|BEL           |Belgium        |0.29656422223332524 |1.15               |45                |10               |45                |-1.3701573454483866|10         |2025-09-21 19:35:05.63027|\n",
      "|2025-09-17|BRA           |Brazil         |-2.993521339941228  |5.2                |20                |2                |20                |1.77383592017739   |2          |2025-09-21 19:35:05.63027|\n",
      "|2025-09-17|BFA           |Burkina Faso   |7.318560231959749   |-10.0              |12                |2                |12                |-7.2664359861592   |2          |2025-09-21 19:35:05.63027|\n",
      "|2025-09-17|CAN           |Canada         |-2.267268660510116  |4.927777777777777  |70                |18               |70                |1.2715137440015347 |18         |2025-09-21 19:35:05.63027|\n",
      "|2025-09-17|CHL           |Chile          |-3.49402390438247   |4.0                |10                |1                |10                |4.9800796812749    |1          |2025-09-21 19:35:05.63027|\n",
      "|2025-09-17|CHN           |China          |-0.06020504659763981|2.3857142857142852 |75                |21               |75                |-1.7458253623827273|21         |2025-09-21 19:35:05.63027|\n",
      "|2025-09-17|COL           |Colombia       |3.1638228393481853  |-1.6800000000000002|20                |5                |20                |-6.673117522871219 |5          |2025-09-21 19:35:05.63027|\n",
      "|2025-09-17|DNK           |Denmark        |-0.8207335118334508 |2.65               |53                |16               |53                |0.16750418760469005|16         |2025-09-21 19:35:05.63027|\n",
      "|2025-09-17|DJI           |Djibouti       |-0.9644880685821657 |0.3333333333333333 |4                 |3                |4                 |3.39181286549707   |3          |2025-09-21 19:35:05.63027|\n",
      "|2025-09-17|EGY           |Egypt          |-2.658244910556327  |5.6000000000000005 |26                |3                |26                |0.25989122763316336|3          |2025-09-21 19:35:05.63027|\n",
      "|2025-09-17|FRA           |France         |-0.0907619936799009 |2.1239130434782614 |185               |46               |174               |-0.6848874958713691|46         |2025-09-21 19:35:05.63027|\n",
      "|2025-09-17|PSE           |Gaza Strip     |4.5273086813950085  |-0.4               |8                 |2                |8                 |-13.9622641509434  |2          |2025-09-21 19:35:05.63027|\n",
      "|2025-09-17|GHA           |Ghana          |-0.772406414261215  |0.5888888888888888 |71                |9                |55                |3.058022950946716  |9          |2025-09-21 19:35:05.63027|\n",
      "+----------+--------------+---------------+--------------------+-------------------+------------------+-----------------+------------------+-------------------+-----------+-------------------------+\n",
      "only showing top 20 rows\n",
      "\n"
     ]
    }
   ],
   "source": [
    "# gold_1st_global_overview 모델 결과 확인\n",
    "print(\"🥇 [gold_1st_global_overview] 뷰\")\n",
    "spark.sql(\"SELECT * FROM gold.gold_1st_global_overview\").show(truncate=False)"
   ]
  },
  {
   "cell_type": "markdown",
   "id": "97f74ad3",
   "metadata": {},
   "source": [
    "Marts 폴더의 gold_2nd_country_events.sql을 dbt run한 결과 확인"
   ]
  },
  {
   "cell_type": "code",
   "execution_count": 14,
   "id": "02bf5d7b",
   "metadata": {},
   "outputs": [
    {
     "name": "stdout",
     "output_type": "stream",
     "text": [
      "🥇 [gold_2nd_country_events] 뷰\n"
     ]
    },
    {
     "name": "stderr",
     "output_type": "stream",
     "text": [
      "25/09/22 00:32:37 WARN DeltaLog: Change in the table id detected while updating snapshot. \n",
      "Previous snapshot = Snapshot(path=s3a://warehouse/gold/gold_2nd_country_events/_delta_log, version=1, metadata=Metadata(e7f37df3-0bc9-4978-9b52-b03e6bb6966c,null,null,Format(parquet,Map()),{\"type\":\"struct\",\"fields\":[{\"name\":\"event_date\",\"type\":\"date\",\"nullable\":true,\"metadata\":{}},{\"name\":\"actor1_geo_iso\",\"type\":\"string\",\"nullable\":true,\"metadata\":{}},{\"name\":\"actor1_geo_name\",\"type\":\"string\",\"nullable\":true,\"metadata\":{}},{\"name\":\"actor1_geo_lat\",\"type\":\"double\",\"nullable\":true,\"metadata\":{}},{\"name\":\"actor1_geo_long\",\"type\":\"double\",\"nullable\":true,\"metadata\":{}},{\"name\":\"actor2_geo_iso\",\"type\":\"string\",\"nullable\":true,\"metadata\":{}},{\"name\":\"actor2_geo_name\",\"type\":\"string\",\"nullable\":true,\"metadata\":{}},{\"name\":\"actor2_geo_lat\",\"type\":\"double\",\"nullable\":true,\"metadata\":{}},{\"name\":\"actor2_geo_long\",\"type\":\"double\",\"nullable\":true,\"metadata\":{}},{\"name\":\"action_geo_iso\",\"type\":\"string\",\"nullable\":true,\"metadata\":{}},{\"name\":\"action_geo_name\",\"type\":\"string\",\"nullable\":true,\"metadata\":{}},{\"name\":\"action_geo_lat\",\"type\":\"double\",\"nullable\":true,\"metadata\":{}},{\"name\":\"action_geo_long\",\"type\":\"double\",\"nullable\":true,\"metadata\":{}},{\"name\":\"avg_goldstein_scale\",\"type\":\"double\",\"nullable\":true,\"metadata\":{}},{\"name\":\"total_mentions\",\"type\":\"long\",\"nullable\":true,\"metadata\":{}},{\"name\":\"total_sources\",\"type\":\"long\",\"nullable\":true,\"metadata\":{}},{\"name\":\"total_articles\",\"type\":\"long\",\"nullable\":true,\"metadata\":{}},{\"name\":\"avg_tone\",\"type\":\"double\",\"nullable\":true,\"metadata\":{}},{\"name\":\"count_event\",\"type\":\"long\",\"nullable\":true,\"metadata\":{}},{\"name\":\"count_class1\",\"type\":\"long\",\"nullable\":true,\"metadata\":{}},{\"name\":\"count_class2\",\"type\":\"long\",\"nullable\":true,\"metadata\":{}},{\"name\":\"count_class3\",\"type\":\"long\",\"nullable\":true,\"metadata\":{}},{\"name\":\"count_class4\",\"type\":\"long\",\"nullable\":true,\"metadata\":{}},{\"name\":\"updated_at\",\"type\":\"timestamp\",\"nullable\":true,\"metadata\":{}}]},List(),Map(),Some(1758500901027)), logSegment=LogSegment(s3a://warehouse/gold/gold_2nd_country_events/_delta_log,1,WrappedArray(S3AFileStatus{path=s3a://warehouse/gold/gold_2nd_country_events/_delta_log/00000000000000000000.json; isDirectory=false; length=3196; replication=1; blocksize=33554432; modification_time=1758096119766; access_time=0; owner=root; group=root; permission=rw-rw-rw-; isSymlink=false; hasAcl=false; isEncrypted=true; isErasureCoded=false} isEmptyDirectory=FALSE eTag=b90b8c426cdbd43fb1a67d4ad559aec7 versionId=null, S3AFileStatus{path=s3a://warehouse/gold/gold_2nd_country_events/_delta_log/00000000000000000001.json; isDirectory=false; length=4857; replication=1; blocksize=33554432; modification_time=1758500908709; access_time=0; owner=root; group=root; permission=rw-rw-rw-; isSymlink=false; hasAcl=false; isEncrypted=true; isErasureCoded=false} isEmptyDirectory=FALSE eTag=930c7be67b63789a0d361040e0776886 versionId=null),None,1758500908709), checksumOpt=None)\n",
      "New snapshot = Snapshot(path=s3a://warehouse/gold/gold_2nd_country_events/_delta_log, version=2, metadata=Metadata(74a45dad-fa10-49c7-a23c-c0b865fa96c7,null,null,Format(parquet,Map()),{\"type\":\"struct\",\"fields\":[{\"name\":\"event_date\",\"type\":\"date\",\"nullable\":true,\"metadata\":{}},{\"name\":\"actor1_geo_iso\",\"type\":\"string\",\"nullable\":true,\"metadata\":{}},{\"name\":\"actor1_geo_eng\",\"type\":\"string\",\"nullable\":true,\"metadata\":{}},{\"name\":\"actor1_geo_kor\",\"type\":\"string\",\"nullable\":true,\"metadata\":{}},{\"name\":\"actor1_geo_lat\",\"type\":\"double\",\"nullable\":true,\"metadata\":{}},{\"name\":\"actor1_geo_long\",\"type\":\"double\",\"nullable\":true,\"metadata\":{}},{\"name\":\"actor2_geo_iso\",\"type\":\"string\",\"nullable\":true,\"metadata\":{}},{\"name\":\"actor2_geo_eng\",\"type\":\"string\",\"nullable\":true,\"metadata\":{}},{\"name\":\"actor2_geo_kor\",\"type\":\"string\",\"nullable\":true,\"metadata\":{}},{\"name\":\"actor2_geo_lat\",\"type\":\"double\",\"nullable\":true,\"metadata\":{}},{\"name\":\"actor2_geo_long\",\"type\":\"double\",\"nullable\":true,\"metadata\":{}},{\"name\":\"action_geo_iso\",\"type\":\"string\",\"nullable\":true,\"metadata\":{}},{\"name\":\"action_geo_eng\",\"type\":\"string\",\"nullable\":true,\"metadata\":{}},{\"name\":\"action_geo_kor\",\"type\":\"string\",\"nullable\":true,\"metadata\":{}},{\"name\":\"action_geo_lat\",\"type\":\"double\",\"nullable\":true,\"metadata\":{}},{\"name\":\"action_geo_long\",\"type\":\"double\",\"nullable\":true,\"metadata\":{}},{\"name\":\"avg_goldstein_scale\",\"type\":\"double\",\"nullable\":true,\"metadata\":{}},{\"name\":\"total_mentions\",\"type\":\"long\",\"nullable\":true,\"metadata\":{}},{\"name\":\"total_sources\",\"type\":\"long\",\"nullable\":true,\"metadata\":{}},{\"name\":\"total_articles\",\"type\":\"long\",\"nullable\":true,\"metadata\":{}},{\"name\":\"avg_tone\",\"type\":\"double\",\"nullable\":true,\"metadata\":{}},{\"name\":\"count_event\",\"type\":\"long\",\"nullable\":true,\"metadata\":{}},{\"name\":\"count_class1\",\"type\":\"long\",\"nullable\":true,\"metadata\":{}},{\"name\":\"count_class2\",\"type\":\"long\",\"nullable\":true,\"metadata\":{}},{\"name\":\"count_class3\",\"type\":\"long\",\"nullable\":true,\"metadata\":{}},{\"name\":\"count_class4\",\"type\":\"long\",\"nullable\":true,\"metadata\":{}},{\"name\":\"updated_at\",\"type\":\"timestamp\",\"nullable\":true,\"metadata\":{}}]},List(),Map(),Some(1758501145780)), logSegment=LogSegment(s3a://warehouse/gold/gold_2nd_country_events/_delta_log,2,WrappedArray(S3AFileStatus{path=s3a://warehouse/gold/gold_2nd_country_events/_delta_log/00000000000000000000.json; isDirectory=false; length=3196; replication=1; blocksize=33554432; modification_time=1758096119766; access_time=0; owner=root; group=root; permission=rw-rw-rw-; isSymlink=false; hasAcl=false; isEncrypted=true; isErasureCoded=false} isEmptyDirectory=FALSE eTag=b90b8c426cdbd43fb1a67d4ad559aec7 versionId=null, S3AFileStatus{path=s3a://warehouse/gold/gold_2nd_country_events/_delta_log/00000000000000000001.json; isDirectory=false; length=4857; replication=1; blocksize=33554432; modification_time=1758500908709; access_time=0; owner=root; group=root; permission=rw-rw-rw-; isSymlink=false; hasAcl=false; isEncrypted=true; isErasureCoded=false} isEmptyDirectory=FALSE eTag=930c7be67b63789a0d361040e0776886 versionId=null, S3AFileStatus{path=s3a://warehouse/gold/gold_2nd_country_events/_delta_log/00000000000000000002.json; isDirectory=false; length=5348; replication=1; blocksize=33554432; modification_time=1758501148235; access_time=0; owner=root; group=root; permission=rw-rw-rw-; isSymlink=false; hasAcl=false; isEncrypted=true; isErasureCoded=false} isEmptyDirectory=FALSE eTag=894634a81d643537f230f05d29948436 versionId=null),None,1758501148235), checksumOpt=None).\n",
      "                                                                                \r"
     ]
    },
    {
     "name": "stdout",
     "output_type": "stream",
     "text": [
      "+----------+--------------+--------------------------------------------------------+--------------+--------------+---------------+--------------+--------------------------------------------------------+------------------+--------------+---------------+--------------+--------------------------------------------------------+--------------+--------------+---------------+-------------------+--------------+-------------+--------------+-------------------+-----------+------------+------------+------------+------------+--------------------------+\n",
      "|event_date|actor1_geo_iso|actor1_geo_eng                                          |actor1_geo_kor|actor1_geo_lat|actor1_geo_long|actor2_geo_iso|actor2_geo_eng                                          |actor2_geo_kor    |actor2_geo_lat|actor2_geo_long|action_geo_iso|action_geo_eng                                          |action_geo_kor|action_geo_lat|action_geo_long|avg_goldstein_scale|total_mentions|total_sources|total_articles|avg_tone           |count_event|count_class1|count_class2|count_class3|count_class4|updated_at                |\n",
      "+----------+--------------+--------------------------------------------------------+--------------+--------------+---------------+--------------+--------------------------------------------------------+------------------+--------------+---------------+--------------+--------------------------------------------------------+--------------+--------------+---------------+-------------------+--------------+-------------+--------------+-------------------+-----------+------------+------------+------------+------------+--------------------------+\n",
      "|2025-09-17|RUS           |The Russian Federation                                  |러시아 연방   |55.7522       |37.6156        |BLR           |Belarus                                                 |벨라루스          |53.9019       |27.4462        |BLR           |Belarus                                                 |벨라루스      |53.9019       |27.4462        |-7.2               |39            |6            |37            |-2.31839258114374  |6          |0           |0           |0           |6           |2025-09-22 00:32:25.810579|\n",
      "|2025-09-17|AUS           |Australia                                               |호주          |-25.0         |135.0          |ISR           |Israel                                                  |이스라엘          |31.4167       |34.3333        |AUS           |Australia                                               |호주          |-25.0         |135.0          |1.2666666666666666 |30            |6            |30            |-7.96703296703297  |6          |6           |0           |0           |0           |2025-09-22 00:32:25.810579|\n",
      "|2025-09-17|ARM           |Armenia                                                 |아르메니아    |40.0          |45.0           |AZE           |Azerbaijan                                              |아제르바이잔      |40.5          |47.5           |ARM           |Armenia                                                 |아르메니아    |40.0          |45.0           |3.4                |12            |4            |8             |6.77966101694916   |4          |4           |0           |0           |0           |2025-09-22 00:32:25.810579|\n",
      "|2025-09-17|LBN           |Lebanon                                                 |레바논        |33.8719       |35.5097        |AUS           |Australia                                               |호주              |-25.0         |135.0          |LBN           |Lebanon                                                 |레바논        |33.8719       |35.5097        |-3.5999999999999996|8             |4            |8             |-7.96703296703297  |4          |1           |0           |0           |3           |2025-09-22 00:32:25.810579|\n",
      "|2025-09-17|CAN           |Canada                                                  |캐나다        |45.4167       |-75.7          |GBR           |The United Kingdom of Great Britain and Northern Ireland|영국              |51.5          |-0.116667      |CAN           |Canada                                                  |캐나다        |45.4167       |-75.7          |3.6                |10            |3            |10            |0.72072072072072   |3          |3           |0           |0           |0           |2025-09-22 00:32:25.810579|\n",
      "|2025-09-17|ISR           |Israel                                                  |이스라엘      |31.5          |34.75          |LUX           |Luxembourg                                              |룩셈부르크        |49.75         |6.166667       |LUX           |Luxembourg                                              |룩셈부르크    |49.75         |6.166667       |3.4                |7             |3            |7             |0.69686411149825   |3          |3           |0           |0           |0           |2025-09-22 00:32:25.810579|\n",
      "|2025-09-17|JPN           |Japan                                                   |일본          |35.685        |139.751        |TWN           |Taiwan (Province of China)                              |대만              |25.0478       |121.532        |TWN           |Taiwan (Province of China)                              |대만          |25.0478       |121.532        |2.1999999999999997 |12            |3            |12            |1.44927536231884   |3          |3           |0           |0           |0           |2025-09-22 00:32:25.810579|\n",
      "|2025-09-17|AUS           |Australia                                               |호주          |-25.0         |135.0          |LBN           |Lebanon                                                 |레바논            |33.8719       |35.5097        |LBN           |Lebanon                                                 |레바논        |33.8719       |35.5097        |-2.3000000000000003|17            |3            |17            |-7.96703296703297  |3          |1           |0           |2           |0           |2025-09-22 00:32:25.810579|\n",
      "|2025-09-17|GBR           |The United Kingdom of Great Britain and Northern Ireland|영국          |51.5          |-0.116667      |CAN           |Canada                                                  |캐나다            |45.4167       |-75.7          |CAN           |Canada                                                  |캐나다        |45.4167       |-75.7          |4.966666666666667  |8             |3            |8             |0.72072072072072   |3          |2           |1           |0           |0           |2025-09-22 00:32:25.810579|\n",
      "|2025-09-17|TWN           |Taiwan (Province of China)                              |대만          |25.0478       |121.532        |JPN           |Japan                                                   |일본              |35.685        |139.751        |TWN           |Taiwan (Province of China)                              |대만          |25.0478       |121.532        |2.4999999999999996 |28            |3            |28            |1.44927536231884   |3          |3           |0           |0           |0           |2025-09-22 00:32:25.810579|\n",
      "|2025-09-17|LBN           |Lebanon                                                 |레바논        |33.8719       |35.5097        |AUS           |Australia                                               |호주              |-25.0         |135.0          |AUS           |Australia                                               |호주          |-25.0         |135.0          |-0.7000000000000001|5             |3            |5             |-7.96703296703297  |3          |2           |0           |1           |0           |2025-09-22 00:32:25.810579|\n",
      "|2025-09-17|ISR           |Israel                                                  |이스라엘      |31.4167       |34.3333        |AUS           |Australia                                               |호주              |-25.0         |135.0          |AUS           |Australia                                               |호주          |-25.0         |135.0          |1.2                |24            |8            |24            |-7.10239351232379  |3          |2           |0           |1           |0           |2025-09-22 00:32:25.810579|\n",
      "|2025-09-17|USA           |The United States of America                            |미국          |38.8951       |-77.0364       |GBR           |The United Kingdom of Great Britain and Northern Ireland|영국              |51.5          |-0.116667      |USA           |The United States of America                            |미국          |38.8951       |-77.0364       |3.4                |7             |3            |7             |1.07264748902974   |3          |3           |0           |0           |0           |2025-09-22 00:32:25.810579|\n",
      "|2025-09-17|AUS           |Australia                                               |호주          |-25.0         |135.0          |SYR           |Syrian Arab Republic                                    |시리아 아랍 공화국|35.0          |38.0           |AUS           |Australia                                               |호주          |-25.0         |135.0          |0.7666666666666666 |12            |3            |12            |-7.96703296703297  |3          |3           |0           |0           |0           |2025-09-22 00:32:25.810579|\n",
      "|2025-09-17|KOR           |Republic of Korea                                       |대한민국      |37.5664       |127.0          |USA           |The United States of America                            |미국              |46.2067       |-122.142       |USA           |The United States of America                            |미국          |46.2067       |-122.142       |3.4                |8             |3            |8             |-2.98013245033113  |3          |3           |0           |0           |0           |2025-09-22 00:32:25.810579|\n",
      "|2025-09-17|UKR           |Ukraine                                                 |우크라이나    |50.4333       |30.5167        |RUS           |The Russian Federation                                  |러시아 연방       |60.0          |100.0          |UKR           |Ukraine                                                 |우크라이나    |50.4333       |30.5167        |2.9                |7             |2            |7             |-1.46341463414634  |2          |2           |0           |0           |0           |2025-09-22 00:32:25.810579|\n",
      "|2025-09-17|RUS           |The Russian Federation                                  |러시아 연방   |60.0          |100.0          |UKR           |Ukraine                                                 |우크라이나        |50.4333       |30.5167        |UKR           |Ukraine                                                 |우크라이나    |50.4333       |30.5167        |1.9                |7             |3            |7             |-2.6547842401500947|2          |2           |0           |0           |0           |2025-09-22 00:32:25.810579|\n",
      "|2025-09-17|CHN           |China                                                   |중국          |30.9348       |121.026        |PHL           |The Philippines                                         |필리핀            |14.6042       |120.982        |CHN           |China                                                   |중국          |30.9348       |121.026        |-0.5               |15            |2            |15            |-4.05405405405406  |2          |1           |0           |1           |0           |2025-09-22 00:32:25.810579|\n",
      "|2025-09-17|USA           |The United States of America                            |미국          |39.828175     |-98.5795       |GBR           |The United Kingdom of Great Britain and Northern Ireland|영국              |51.5          |-0.133333      |GBR           |The United Kingdom of Great Britain and Northern Ireland|영국          |51.5          |-0.133333      |2.5                |6             |2            |6             |-2.94117647058823  |2          |2           |0           |0           |0           |2025-09-22 00:32:25.810579|\n",
      "|2025-09-17|GBR           |The United Kingdom of Great Britain and Northern Ireland|영국          |54.0          |-4.0           |NZL           |New Zealand                                             |뉴질랜드          |-42.0         |174.0          |GBR           |The United Kingdom of Great Britain and Northern Ireland|영국          |54.0          |-4.0           |-4.0               |2             |2            |2             |0.56497175141243   |2          |0           |0           |2           |0           |2025-09-22 00:32:25.810579|\n",
      "+----------+--------------+--------------------------------------------------------+--------------+--------------+---------------+--------------+--------------------------------------------------------+------------------+--------------+---------------+--------------+--------------------------------------------------------+--------------+--------------+---------------+-------------------+--------------+-------------+--------------+-------------------+-----------+------------+------------+------------+------------+--------------------------+\n",
      "only showing top 20 rows\n",
      "\n"
     ]
    }
   ],
   "source": [
    "# gold_2nd_country_events 모델 결과 확인\n",
    "print(\"🥇 [gold_2nd_country_events] 뷰\")\n",
    "spark.sql(\"SELECT * FROM gold.gold_2nd_country_events\").show(truncate=False)"
   ]
  },
  {
   "cell_type": "markdown",
   "id": "d54b4d1b",
   "metadata": {},
   "source": [
    "Marts 폴더의 gold_3rd_events_summary.sql을 dbt run한 결과 확인"
   ]
  },
  {
   "cell_type": "code",
   "execution_count": null,
   "id": "a5ff2df2",
   "metadata": {},
   "outputs": [],
   "source": [
    "# gold_3rd_events_summary 모델 결과 확인\n",
    "print(\"🥇 [gold_3rd_events_summary] 뷰\")\n",
    "# spark.sql(\"SELECT * FROM gold.gold_3rd_events_summary\").show(truncate=False)"
   ]
  },
  {
   "cell_type": "markdown",
   "id": "b77c9e68",
   "metadata": {},
   "source": [
    "Marts 폴더의 gold_4th_daily_detail_summary.sql을 dbt run한 결과 확인"
   ]
  },
  {
   "cell_type": "code",
   "execution_count": 9,
   "id": "5f68f334",
   "metadata": {},
   "outputs": [
    {
     "name": "stdout",
     "output_type": "stream",
     "text": [
      "🥇 [gold_4th_daily_detail_summary] 뷰\n"
     ]
    },
    {
     "name": "stderr",
     "output_type": "stream",
     "text": [
      "                                                                                \r"
     ]
    },
    {
     "name": "stdout",
     "output_type": "stream",
     "text": [
      "+----------+--------------------------------+--------------+------------------------+---------------+------------+----------+-----------+--------------------------+----------------------------------------------------+-----------------+------------+\n",
      "|event_date|event_category                  |action_country|actor1_info             |actor2_info    |num_articles|is_anomaly|event_type |processed_time            |mp_event_info                                       |avg_tone         |num_mentions|\n",
      "+----------+--------------------------------+--------------+------------------------+---------------+------------+----------+-----------+--------------------------+----------------------------------------------------+-----------------+------------+\n",
      "|2024-09-11|ENGAGE IN DIPLOMATIC COOPERATION|Norway        |NORWAY                  |ISRAEL         |2           |0         |Cooperation|2025-09-11 01:48:18.167479|Grant diplomatic recognition                        |-6.06673407482306|2           |\n",
      "|2025-09-11|DISAPPROVE                      |Australia     |PENNY WONG              |CHINA          |1           |0         |Conflict   |2025-09-11 01:48:18.167479|Disapprove not specified below                      |2.93453724604966 |1           |\n",
      "|2025-09-11|CONSULT                         |China         |CHINESE                 |AUSTRALIA      |6           |0         |Cooperation|2025-09-11 01:48:18.167479|Make a visit                                        |5.12820512820513 |6           |\n",
      "|2025-09-11|CONSULT                         |Slovenia      |DENMARK                 |UNITED KINGDOM |2           |0         |Cooperation|2025-09-11 01:48:18.167479|Consult not specified below                         |-6.1764705882353 |2           |\n",
      "|2025-09-11|EXPRESS INTENT TO COOPERATE     |United States |COLLEGE                 |null           |5           |0         |Cooperation|2025-09-11 01:48:18.167479|Express intent to meet or negotiate                 |5.16666666666667 |5           |\n",
      "|2025-09-11|CONSULT                         |United Kingdom|EUROPE                  |UNITED KINGDOM |2           |0         |Cooperation|2025-09-11 01:48:18.167479|Make a visit                                        |-4.07223796033994|2           |\n",
      "|2025-09-11|COERCE                          |United Kingdom|BRITAIN                 |null           |2           |0         |Conflict   |2025-09-11 01:48:18.167479|Impose administrative sanctions not specified below |-0.87719298245614|2           |\n",
      "|2025-09-11|CONSULT                         |United Kingdom|BRITISH                 |BUSINESS       |5           |0         |Cooperation|2025-09-11 01:48:18.167479|Make a visit                                        |4.67836257309942 |5           |\n",
      "|2025-09-11|APPEAL                          |United States |MAYOR                   |null           |3           |0         |Cooperation|2025-09-11 01:48:18.167479|Appeal to engage in or accept mediation             |1.04166666666666 |3           |\n",
      "|2025-09-11|COERCE                          |Niger         |NIGER                   |DEALER         |10          |0         |Conflict   |2025-09-11 01:48:18.167479|Destroy property                                    |-8.17843866171004|10          |\n",
      "|2025-09-04|CONSULT                         |Canada        |SCHOOL                  |null           |2           |0         |Cooperation|2025-09-11 01:48:18.167479|Host a visit                                        |0.86956521739131 |2           |\n",
      "|2025-09-11|ENGAGE IN DIPLOMATIC COOPERATION|India         |AUSTRALIA               |null           |1           |1         |Cooperation|2025-09-11 01:48:18.167479|Engage in diplomatic cooperation not specified below|8.57142857142857 |1           |\n",
      "|2025-09-11|APPEAL                          |Slovenia      |FRANCE                  |UNITED KINGDOM |2           |0         |Cooperation|2025-09-11 01:48:18.167479|Make an appeal or request not specified below       |-6.1764705882353 |2           |\n",
      "|2025-09-11|CONSULT                         |Slovenia      |FRANCE                  |GREECE         |2           |0         |Cooperation|2025-09-11 01:48:18.167479|Consult not specified below                         |-6.1764705882353 |2           |\n",
      "|2025-09-11|APPEAL                          |China         |ASEAN                   |CHIEF EXECUTIVE|2           |1         |Cooperation|2025-09-11 01:48:18.167479|Make an appeal or request not specified below       |5.94900849858357 |2           |\n",
      "|2025-09-11|ENGAGE IN DIPLOMATIC COOPERATION|United States |JORDAN                  |null           |2           |0         |Cooperation|2025-09-11 01:48:18.167479|Praise or endorse                                   |-1.35135135135135|2           |\n",
      "|2025-09-11|FIGHT                           |United States |HOUSE OF REPRESENTATIVES|UTAH           |3           |0         |Conflict   |2025-09-11 01:48:18.167479|Fight with small arms and light weapons             |-4.09836065573771|3           |\n",
      "|2025-09-11|MAKE PUBLIC STATEMENT           |Qatar         |QATAR                   |ISRAEL         |2           |0         |Cooperation|2025-09-11 01:48:18.167479|Make statement not specified below                  |-6.6951566951567 |2           |\n",
      "|2025-09-11|EXPRESS INTENT TO COOPERATE     |United States |UNITED STATES           |null           |4           |0         |Cooperation|2025-09-11 01:48:18.167479|Express intent to provide material aid              |-1.7283950617284 |4           |\n",
      "|2025-09-11|CONSULT                         |United States |UNITED STATES           |LANDOWNER      |1           |0         |Cooperation|2025-09-11 01:48:18.167479|Make a visit                                        |1.50501672240803 |1           |\n",
      "+----------+--------------------------------+--------------+------------------------+---------------+------------+----------+-----------+--------------------------+----------------------------------------------------+-----------------+------------+\n",
      "only showing top 20 rows\n",
      "\n"
     ]
    }
   ],
   "source": [
    "# gold_4th_daily_detail_summary 모델 결과 확인\n",
    "print(\"🥇 [gold_4th_daily_detail_summary] 뷰\")\n",
    "spark.sql(\"SELECT * FROM gold.gold_4th_daily_detail_summary\").show(truncate=False)"
   ]
  },
  {
   "cell_type": "code",
   "execution_count": null,
   "id": "f62a185b",
   "metadata": {},
   "outputs": [],
   "source": [
    "# spark.stop()\n",
    "print(\"\\n✅ Spark 세션이 종료되었습니다.\")"
   ]
  }
 ],
 "metadata": {
  "kernelspec": {
   "display_name": "Python 3 (ipykernel)",
   "language": "python",
   "name": "python3"
  },
  "language_info": {
   "codemirror_mode": {
    "name": "ipython",
    "version": 3
   },
   "file_extension": ".py",
   "mimetype": "text/x-python",
   "name": "python",
   "nbconvert_exporter": "python",
   "pygments_lexer": "ipython3",
   "version": "3.10.18"
  }
 },
 "nbformat": 4,
 "nbformat_minor": 5
}
