{
 "cells": [
  {
   "cell_type": "markdown",
   "id": "b0766b83",
   "metadata": {},
   "source": [
    "## Dbt 실행 후, seed_dev 및 gold_dev 스키마의 테이블 조회\n",
    "커널 선택: http://4.230.26.44:8888"
   ]
  },
  {
   "cell_type": "markdown",
   "id": "94396bf5",
   "metadata": {},
   "source": [
    "### Spark session 생성"
   ]
  },
  {
   "cell_type": "code",
   "execution_count": 21,
   "id": "e2d5d5a0",
   "metadata": {},
   "outputs": [
    {
     "name": "stdout",
     "output_type": "stream",
     "text": [
      "✅ Spark 세션 생성 완료\n"
     ]
    }
   ],
   "source": [
    "import os\n",
    "import sys\n",
    "\n",
    "sys.path.append(\"/app\")\n",
    "from src.utils.spark_builder import get_spark_session\n",
    "from pyspark.sql import functions as F\n",
    "\n",
    "os.environ[\n",
    "    \"PYSPARK_SUBMIT_ARGS\"\n",
    "] = \"\"\"\n",
    "    --conf spark.cores.max=2\n",
    "    --conf spark.executor.memory=8g\n",
    "    --conf spark.app.name=GDELT_dbt_test\n",
    "    pyspark-shell\n",
    "\"\"\"\n",
    "\n",
    "# Spark 세션 생성\n",
    "spark = get_spark_session(\"GDELT_dbt_test\", \"spark://spark-master:7077\")\n",
    "print(\"✅ Spark 세션 생성 완료\")"
   ]
  },
  {
   "cell_type": "code",
   "execution_count": 2,
   "id": "6ddc969d",
   "metadata": {},
   "outputs": [
    {
     "name": "stdout",
     "output_type": "stream",
     "text": [
      "📖 사용 가능한 데이터베이스(스키마) 목록:\n",
      "+------------+\n",
      "|   namespace|\n",
      "+------------+\n",
      "|     default|\n",
      "|    gold_dev|\n",
      "|   gold_prod|\n",
      "|    seed_dev|\n",
      "|   seed_prod|\n",
      "|      silver|\n",
      "| staging_dev|\n",
      "|staging_prod|\n",
      "+------------+\n",
      "\n"
     ]
    }
   ],
   "source": [
    "# Spark Metastore에 존재하는 모든 데이터베이스(스키마) 목록을 확인합니다.\n",
    "print(\"📖 사용 가능한 데이터베이스(스키마) 목록:\")\n",
    "spark.sql(\"SHOW DATABASES\").show()"
   ]
  },
  {
   "cell_type": "code",
   "execution_count": 22,
   "id": "1feee1e7",
   "metadata": {},
   "outputs": [
    {
     "name": "stdout",
     "output_type": "stream",
     "text": [
      "📜 '_dev' 스키마의 테이블 목록:\n"
     ]
    },
    {
     "name": "stderr",
     "output_type": "stream",
     "text": [
      "                                                                                \r"
     ]
    },
    {
     "name": "stdout",
     "output_type": "stream",
     "text": [
      "+---------+--------------------+-----------+\n",
      "|namespace|           tableName|isTemporary|\n",
      "+---------+--------------------+-----------+\n",
      "| seed_dev|actor_ethnic_grou...|      false|\n",
      "| seed_dev|actor_organizatio...|      false|\n",
      "| seed_dev|actor_religion_codes|      false|\n",
      "| seed_dev|    actor_role_codes|      false|\n",
      "| seed_dev|  event_detail_codes|      false|\n",
      "| seed_dev|event_quad_class_...|      false|\n",
      "| seed_dev|    event_root_codes|      false|\n",
      "| seed_dev|       geo_adm_codes|      false|\n",
      "| seed_dev|   geo_country_codes|      false|\n",
      "| seed_dev|      geo_type_codes|      false|\n",
      "+---------+--------------------+-----------+\n",
      "\n"
     ]
    },
    {
     "name": "stderr",
     "output_type": "stream",
     "text": [
      "[Stage 3:>                                                          (0 + 1) / 1]\r"
     ]
    },
    {
     "name": "stdout",
     "output_type": "stream",
     "text": [
      "+-----------+--------------------+-----------+\n",
      "|  namespace|           tableName|isTemporary|\n",
      "+-----------+--------------------+-----------+\n",
      "|staging_dev|stg_actors_descri...|      false|\n",
      "|staging_dev|stg_gkg_detailed_...|      false|\n",
      "|staging_dev|    stg_seed_mapping|      false|\n",
      "+-----------+--------------------+-----------+\n",
      "\n",
      "+---------+--------------------+-----------+\n",
      "|namespace|           tableName|isTemporary|\n",
      "+---------+--------------------+-----------+\n",
      "| gold_dev|gold_chart_events...|      false|\n",
      "| gold_dev|gold_chart_events...|      false|\n",
      "| gold_dev|gold_chart_weekda...|      false|\n",
      "| gold_dev|gold_daily_actor_...|      false|\n",
      "| gold_dev|gold_daily_detail...|      false|\n",
      "| gold_dev|gold_near_realtim...|      false|\n",
      "+---------+--------------------+-----------+\n",
      "\n"
     ]
    },
    {
     "name": "stderr",
     "output_type": "stream",
     "text": [
      "                                                                                \r"
     ]
    }
   ],
   "source": [
    "# dbt seed 또는 dbt run으로 생성된 테이블 확인\n",
    "print(\"📜 '_dev' 스키마의 테이블 목록:\")\n",
    "spark.sql(\"SHOW TABLES IN seed_dev\").show()\n",
    "spark.sql(\"SHOW TABLES IN staging_dev\").show()\n",
    "spark.sql(\"SHOW TABLES IN gold_dev\").show()"
   ]
  },
  {
   "cell_type": "markdown",
   "id": "879823d8",
   "metadata": {},
   "source": [
    "### Gold_dev의 모든 테이블 크기 확인용"
   ]
  },
  {
   "cell_type": "code",
   "execution_count": null,
   "id": "fccfe860",
   "metadata": {},
   "outputs": [
    {
     "name": "stdout",
     "output_type": "stream",
     "text": [
      "🥇 'gold_dev' 스키마에서 총 6개의 테이블을 발견했습니다.\n",
      "\n",
      "테이블명: gold_dev.gold_chart_events_category\n"
     ]
    },
    {
     "name": "stderr",
     "output_type": "stream",
     "text": [
      "                                                                                \r"
     ]
    },
    {
     "name": "stdout",
     "output_type": "stream",
     "text": [
      " - 행(Row)의 수: 12409 개\n",
      " - 열(Column)의 수: 8 개\n",
      "\n",
      "테이블명: gold_dev.gold_chart_events_count_avgtone\n"
     ]
    },
    {
     "name": "stderr",
     "output_type": "stream",
     "text": [
      "                                                                                \r"
     ]
    },
    {
     "name": "stdout",
     "output_type": "stream",
     "text": [
      " - 행(Row)의 수: 1734 개\n",
      " - 열(Column)의 수: 7 개\n",
      "\n",
      "테이블명: gold_dev.gold_chart_weekday_event_ratio\n"
     ]
    },
    {
     "name": "stderr",
     "output_type": "stream",
     "text": [
      "                                                                                \r"
     ]
    },
    {
     "name": "stdout",
     "output_type": "stream",
     "text": [
      " - 행(Row)의 수: 1891 개\n",
      " - 열(Column)의 수: 7 개\n",
      "\n",
      "테이블명: gold_dev.gold_daily_actor_network\n"
     ]
    },
    {
     "name": "stderr",
     "output_type": "stream",
     "text": [
      "                                                                                \r"
     ]
    },
    {
     "name": "stdout",
     "output_type": "stream",
     "text": [
      " - 행(Row)의 수: 1495 개\n",
      " - 열(Column)의 수: 17 개\n",
      "\n",
      "테이블명: gold_dev.gold_daily_detailed_events\n"
     ]
    },
    {
     "name": "stderr",
     "output_type": "stream",
     "text": [
      "                                                                                \r"
     ]
    },
    {
     "name": "stdout",
     "output_type": "stream",
     "text": [
      " - 행(Row)의 수: 380313 개\n",
      " - 열(Column)의 수: 81 개\n",
      "\n",
      "테이블명: gold_dev.gold_near_realtime_summary\n"
     ]
    },
    {
     "name": "stderr",
     "output_type": "stream",
     "text": [
      "[Stage 44:================================================>       (43 + 2) / 50]\r"
     ]
    },
    {
     "name": "stdout",
     "output_type": "stream",
     "text": [
      " - 행(Row)의 수: 1734 개\n",
      " - 열(Column)의 수: 16 개\n",
      "\n"
     ]
    },
    {
     "name": "stderr",
     "output_type": "stream",
     "text": [
      "                                                                                \r"
     ]
    }
   ],
   "source": [
    "schema_name = \"gold_dev\"\n",
    "\n",
    "try:\n",
    "    tables_df = spark.sql(f\"SHOW TABLES IN {schema_name}\")\n",
    "    table_names = [row.tableName for row in tables_df.collect()]\n",
    "\n",
    "    if not table_names:\n",
    "        print(f\"❌ '{schema_name}' 스키마에서 테이블을 찾을 수 없습니다.\")\n",
    "    else:\n",
    "        print(\n",
    "            f\"🥇 '{schema_name}' 스키마에서 총 {len(table_names)}개의 테이블을 발견했습니다.\\n\"\n",
    "        )\n",
    "\n",
    "    for table in table_names:\n",
    "        full_table_name = f\"{schema_name}.{table}\"\n",
    "        print(f\"테이블명: {full_table_name}\")\n",
    "\n",
    "        try:\n",
    "            df = spark.table(full_table_name)\n",
    "            row_count = df.count()\n",
    "            col_count = len(df.columns)\n",
    "            print(f\" - 행(Row)의 수: {row_count} 개\")\n",
    "            print(f\" - 열(Column)의 수: {col_count} 개\\n\")\n",
    "\n",
    "        except Exception as e:\n",
    "            print(f\"❌ 테이블 '{full_table_name}' 조회 중 오류 발생: {e}\\n\")\n",
    "\n",
    "except Exception as e:\n",
    "    print(f\"❌ 스키마 '{schema_name}'의 테이블 목록을 가져오는 중 오류 발생: {e}\")"
   ]
  },
  {
   "cell_type": "markdown",
   "id": "2bcc0f86",
   "metadata": {},
   "source": [
    "### Seed 확인 및 테이블 관리"
   ]
  },
  {
   "cell_type": "code",
   "execution_count": 5,
   "id": "275658c0",
   "metadata": {},
   "outputs": [
    {
     "name": "stdout",
     "output_type": "stream",
     "text": [
      "\n",
      " 🔍 actor_ethnic_group_codes 테이블 샘플 데이터\n"
     ]
    },
    {
     "name": "stderr",
     "output_type": "stream",
     "text": [
      "25/09/26 16:58:47 WARN SessionState: METASTORE_FILTER_HOOK will be ignored, since hive.security.authorization.manager is set to instance of HiveAuthorizerFactory.\n"
     ]
    },
    {
     "name": "stdout",
     "output_type": "stream",
     "text": [
      "+----+---------------------+\n",
      "|code|description          |\n",
      "+----+---------------------+\n",
      "|aar |아파르족             |\n",
      "|abk |압하스인             |\n",
      "|abr |오스트레일리아 원주민|\n",
      "|ace |아체인               |\n",
      "|acg |아창족               |\n",
      "+----+---------------------+\n",
      "\n",
      "\n",
      " 🔍 actor_organization_codes 테이블 샘플 데이터\n",
      "+----+----+--------------------------+\n",
      "|code|type|description               |\n",
      "+----+----+--------------------------+\n",
      "|BHF |정부|보스니아 헤르체고비나 연방|\n",
      "|FTA |정부|파타                      |\n",
      "|HAM |정부|하마스                    |\n",
      "|RPF |정부|르완다 애국 전선          |\n",
      "|SRP |정부|스릅스카 공화국           |\n",
      "+----+----+--------------------------+\n",
      "\n",
      "\n",
      " 🔍 actor_religion_codes 테이블 샘플 데이터\n",
      "+----+----+---------------+\n",
      "|code|type|description    |\n",
      "+----+----+---------------+\n",
      "|REL |일반|종교 (미지정)  |\n",
      "|ATH |이념|불가지론/무신론|\n",
      "|BAH |종교|바하이 신앙    |\n",
      "|BUD |종교|불교           |\n",
      "|MAH |종파|대승불교       |\n",
      "+----+----+---------------+\n",
      "\n",
      "\n",
      " 🔍 actor_role_codes 테이블 샘플 데이터\n",
      "+----+--------+--------------+\n",
      "|code|type    |description   |\n",
      "+----+--------+--------------+\n",
      "|COP |1차 역할|경찰          |\n",
      "|GOV |1차 역할|정부          |\n",
      "|INS |1차 역할|정부 전복 반군|\n",
      "|JUD |1차 역할|사법부        |\n",
      "|MIL |1차 역할|군대          |\n",
      "+----+--------+--------------+\n",
      "\n",
      "\n",
      " 🔍 event_root_codes 테이블 샘플 데이터\n",
      "+----+--------------+\n",
      "|code|description   |\n",
      "+----+--------------+\n",
      "|1   |공개 성명 발표|\n",
      "|2   |호소 및 요청  |\n",
      "|3   |협력 의사 표명|\n",
      "|4   |협의          |\n",
      "|5   |외교적 협력   |\n",
      "+----+--------------+\n",
      "\n",
      "\n",
      " 🔍 event_detail_codes 테이블 샘플 데이터\n",
      "+----+--------------+\n",
      "|code|description   |\n",
      "+----+--------------+\n",
      "|10  |성명 발표     |\n",
      "|11  |논평 거부     |\n",
      "|12  |비관적 논평   |\n",
      "|13  |낙관적 논평   |\n",
      "|14  |정책 옵션 고려|\n",
      "+----+--------------+\n",
      "\n",
      "\n",
      " 🔍 event_quad_class_codes 테이블 샘플 데이터\n",
      "+----+-----------+\n",
      "|code|description|\n",
      "+----+-----------+\n",
      "|1   |언어적 협력|\n",
      "|2   |물질적 협력|\n",
      "|3   |언어적 갈등|\n",
      "|4   |물리적 갈등|\n",
      "+----+-----------+\n",
      "\n",
      "\n",
      " 🔍 geo_adm_codes 테이블 샘플 데이터\n",
      "+----+---------------+-------------------+\n",
      "|code|region_division|description        |\n",
      "+----+---------------+-------------------+\n",
      "|AA00|country        |ARUBA              |\n",
      "|AC00|country        |ANTIGUA AND BARBUDA|\n",
      "|AC01|dependency     |Barbuda            |\n",
      "|AC03|parish         |Saint George       |\n",
      "|AC04|parish         |Saint John         |\n",
      "+----+---------------+-------------------+\n",
      "\n",
      "\n",
      " 🔍 geo_country_codes 테이블 샘플 데이터\n",
      "+---------+--------+----------------+--------+-------------+------------+\n",
      "|fips_code|iso_code|current_iso_code|M49_code|name_eng     |name_kor    |\n",
      "+---------+--------+----------------+--------+-------------+------------+\n",
      "|AA       |ABW     |ABW             |533     |Aruba        |아루바      |\n",
      "|AF       |AFG     |AFG             |4       |Afghanistan  |아프가니스탄|\n",
      "|AO       |AGO     |AGO             |24      |Angola       |앙골라      |\n",
      "|AV       |AIA     |AIA             |660     |Anguilla     |앵귈라      |\n",
      "|AX       |ALA     |ALA             |248     |Åland Islands|올란드 제도 |\n",
      "+---------+--------+----------------+--------+-------------+------------+\n",
      "\n",
      "\n",
      " 🔍 geo_type_codes 테이블 샘플 데이터\n",
      "+----+-------------------+\n",
      "|code|description        |\n",
      "+----+-------------------+\n",
      "|1   |국가               |\n",
      "|2   |미국 주            |\n",
      "|3   |미국 도시          |\n",
      "|4   |미국 외 도시       |\n",
      "|5   |해외 1단계 행정구역|\n",
      "+----+-------------------+\n",
      "\n"
     ]
    }
   ],
   "source": [
    "# Seed 테이블(총 10개)의 샘플 데이터를 5개씩 출력하여 내용 확인\n",
    "seed_tables = [\n",
    "    \"actor_ethnic_group_codes\",\n",
    "    \"actor_organization_codes\",\n",
    "    \"actor_religion_codes\",\n",
    "    \"actor_role_codes\",\n",
    "    \"event_root_codes\",\n",
    "    \"event_detail_codes\",\n",
    "    \"event_quad_class_codes\",\n",
    "    \"geo_adm_codes\",\n",
    "    \"geo_country_codes\",\n",
    "    \"geo_type_codes\",\n",
    "]\n",
    "\n",
    "for table in seed_tables:\n",
    "    print(f\"\\n 🔍 {table} 테이블 샘플 데이터\")\n",
    "    try:\n",
    "        spark.sql(f\"SELECT * FROM seed_dev.{table} LIMIT 5\").show(truncate=False)\n",
    "    except Exception as e:\n",
    "        print(f\"❌ 테이블 조회 중, 오류 발생: {e}\")"
   ]
  },
  {
   "cell_type": "markdown",
   "id": "f2b4fa5f",
   "metadata": {},
   "source": [
    "생성된 테이블을 삭제할 경우, 아래 코드에 해당 스키마와 \"삭제할 테이블명\"을 수정하여 실행"
   ]
  },
  {
   "cell_type": "code",
   "execution_count": null,
   "id": "16aa844e",
   "metadata": {},
   "outputs": [],
   "source": [
    "tables_to_drop = [\n",
    "    # \"[삭제할 테이블명]\"\n",
    "]\n",
    "print(\"🗑️ 기존 테이블 삭제를 시작합니다.\")\n",
    "\n",
    "for table_name in tables_to_drop:\n",
    "    try:\n",
    "        spark.sql(f\"DROP TABLE IF EXISTS gold_dev.{table_name}\")\n",
    "        print(f\"  - 테이블 'gold_dev.{table_name}' 삭제 완료.\")\n",
    "    except Exception as e:\n",
    "        print(f\"  - 테이블 'gold_dev.{table_name}' 삭제 중 오류 발생: {e}\")\n",
    "\n",
    "print(\"\\n✅ 테이블 삭제 작업이 완료되었습니다.\")\n",
    "\n",
    "# 삭제 후 테이블 목록을 다시 확인하여 깨끗해졌는지 확인\n",
    "print(\"📜 현재 'gold_dev' 스키마의 테이블 목록:\")\n",
    "spark.sql(\"SHOW TABLES IN gold_dev\").show()"
   ]
  },
  {
   "cell_type": "markdown",
   "id": "7d2b4c5d",
   "metadata": {},
   "source": [
    "### Staging 폴더의 SQL 파일을 dbt run한 결과 확인"
   ]
  },
  {
   "cell_type": "code",
   "execution_count": 7,
   "id": "d5daa1b5",
   "metadata": {},
   "outputs": [
    {
     "name": "stdout",
     "output_type": "stream",
     "text": [
      "🥈 [Staging] stg_seed_mapping 테이블 조회 결과\n"
     ]
    },
    {
     "name": "stderr",
     "output_type": "stream",
     "text": [
      "[Stage 89:==================================================>       (7 + 1) / 8]\r"
     ]
    },
    {
     "name": "stdout",
     "output_type": "stream",
     "text": [
      "+---------------+----------+-------------+-------------------+------------------------+----------+-------------+---------------+------------+-----------+------------+-----------------+-----------+----------------------+--------------------------+----------------------------+--------------------------+----------------------+---------------------------+----------------+------------------+-----------------------+--------------+-------------------+-------------------+-----------------------------------------------+-------------------------+--------------------------------------------------------+-------------------------+--------------+---------------+-----------+---------------+--------------------------+----------------------------+--------------------------+----------------------+---------------------------+----------------+------------------+-----------------------+--------------+-------------------+------------------+------------------------------------------------+-----------------------+-------------------------+----------------------------+-------------------------+--------------+---------------+-------------------+-----------------------------------------------+-------------------------+--------------------------------------------------------+-------------------------+--------------+---------------+-------------------+---------------------------------------------------------------------------------------------------------------------------------------------------------------------------------------------------+-------------------+-------------------------+\n",
      "|global_event_id|event_date|is_root_event|mp_event_categories|mp_event_info           |quad_class|mp_quad_class|goldstein_scale|num_mentions|num_sources|num_articles|avg_tone         |actor1_code|actor1_name           |mp_actor1_from_country_iso|mp_actor1_from_country_eng  |mp_actor1_from_country_kor|mp_actor1_organization|mp_actor1_organization_type|mp_actor1_ethnic|mp_actor1_religion|mp_actor1_religion_type|mp_actor1_role|mp_actor1_role_type|mp_actor1_geo_type |actor1_geo_fullname                            |mp_actor1_geo_country_iso|mp_actor1_geo_country_eng                               |mp_actor1_geo_country_kor|actor1_geo_lat|actor1_geo_long|actor2_code|actor2_name    |mp_actor2_from_country_iso|mp_actor2_from_country_eng  |mp_actor2_from_country_kor|mp_actor2_organization|mp_actor2_organization_type|mp_actor2_ethnic|mp_actor2_religion|mp_actor2_religion_type|mp_actor2_role|mp_actor2_role_type|mp_actor2_geo_type|actor2_geo_fullname                             |actor2_geo_country_code|mp_actor2_geo_country_iso|mp_actor2_geo_country_eng   |mp_actor2_geo_country_kor|actor2_geo_lat|actor2_geo_long|mp_action_geo_type |action_geo_fullname                            |mp_action_geo_country_iso|mp_action_geo_country_eng                               |mp_action_geo_country_kor|action_geo_lat|action_geo_long|date_added         |source_url                                                                                                                                                                                         |processed_at       |source_file              |\n",
      "+---------------+----------+-------------+-------------------+------------------------+----------+-------------+---------------+------------+-----------+------------+-----------------+-----------+----------------------+--------------------------+----------------------------+--------------------------+----------------------+---------------------------+----------------+------------------+-----------------------+--------------+-------------------+-------------------+-----------------------------------------------+-------------------------+--------------------------------------------------------+-------------------------+--------------+---------------+-----------+---------------+--------------------------+----------------------------+--------------------------+----------------------+---------------------------+----------------+------------------+-----------------------+--------------+-------------------+------------------+------------------------------------------------+-----------------------+-------------------------+----------------------------+-------------------------+--------------+---------------+-------------------+-----------------------------------------------+-------------------------+--------------------------------------------------------+-------------------------+--------------+---------------+-------------------+---------------------------------------------------------------------------------------------------------------------------------------------------------------------------------------------------+-------------------+-------------------------+\n",
      "|1265266485     |2025-09-26|true         |호소 및 요청       |호소 및 요청            |1         |언어적 협력  |3.0            |7           |1          |7           |-3.51681957186545|null       |null                  |null                      |null                        |null                      |null                  |null                       |null            |null              |null                   |null          |null               |null               |null                                           |null                     |null                                                    |null                     |null          |null           |EDU        |STUDENT        |null                      |null                        |null                      |null                  |null                       |null            |null              |null                   |교육          |2차 역할           |미국 주           |Kansas, United States                           |US                     |USA                      |The United States of America|미국                     |38.5111       |-96.8005       |미국 주            |Kansas, United States                          |USA                      |The United States of America                            |미국                     |38.5111       |-96.8005       |2025-09-26 00:30:00|https://www.kansan.com/news/ku-faculty-and-students-fear-impact-of-new-state-law-on-campus-expression/article_de98c3f6-0fa8-4394-982d-1fb946fea5e3.html                                            |2025-09-26 00:45:00|20250926003000.export.CSV|\n",
      "|1265288395     |2025-09-26|false        |거부               |거부                    |3         |언어적 갈등  |-4.0           |10          |1          |10          |0.16             |COP        |POLICE FORCE          |null                      |null                        |null                      |null                  |null                       |null            |null              |null                   |경찰          |1차 역할           |해외 1단계 행정구역|Hampshire, Hampshire, United Kingdom           |GBR                      |The United Kingdom of Great Britain and Northern Ireland|영국                     |51.0833       |-1.16667       |null       |null           |null                      |null                        |null                      |null                  |null                       |null            |null              |null                   |null          |null               |null              |null                                            |null                   |null                     |null                        |null                     |null          |null           |해외 1단계 행정구역|Hampshire, Hampshire, United Kingdom           |GBR                      |The United Kingdom of Great Britain and Northern Ireland|영국                     |51.0833       |-1.16667       |2025-09-26 03:15:00|https://www.dailyecho.co.uk/news/25484666.amazing-policing-power-radio-hampshire-mobiles/                                                                                                          |2025-09-26 03:30:00|20250926031500.export.CSV|\n",
      "|1265292718     |2025-09-26|false        |협력 의사 표명     |회담 또는 협상 의사 표명|1         |언어적 협력  |4.0            |10          |1          |10          |-1.91846522781774|null       |null                  |null                      |null                        |null                      |null                  |null                       |null            |null              |null                   |null          |null               |null               |null                                           |null                     |null                                                    |null                     |null          |null           |AGR        |FARMER         |null                      |null                        |null                      |null                  |null                       |null            |null              |null                   |농업          |2차 역할           |미국 외 도시      |Bangalore, Karnataka, India                     |IN                     |IND                      |India                       |인도                     |12.9833       |77.5833        |미국 외 도시       |Bangalore, Karnataka, India                    |IND                      |India                                                   |인도                     |12.9833       |77.5833        |2025-09-26 04:00:00|https://timesofindia.indiatimes.com/city/bengaluru/talks-fail-again-as-landowners-bangalore-development-authority-remain-at-odds-over-acquisition-of-peripheral-ring-road/articleshow/124130013.cms|2025-09-26 04:15:00|20250926040000.export.CSV|\n",
      "|1265289033     |2025-09-26|false        |공개 성명 발표     |성명 발표               |1         |언어적 협력  |0.0            |2           |1          |2           |0.0              |TUR        |TURKEY                |TUR                       |Türkiye                     |튀르키예                  |null                  |null                       |null            |null              |null                   |null          |null               |미국 외 도시       |Ceyhan, Adana, Turkey                          |TUR                      |Türkiye                                                 |튀르키예                 |37.0247       |35.8175        |USAGOV     |THE WHITE HOUSE|USA                       |The United States of America|미국                      |null                  |null                       |null            |null              |null                   |정부          |1차 역할           |미국 외 도시      |Ceyhan, Adana, Turkey                           |TU                     |TUR                      |Türkiye                     |튀르키예                 |37.0247       |35.8175        |미국 외 도시       |Ceyhan, Adana, Turkey                          |TUR                      |Türkiye                                                 |튀르키예                 |37.0247       |35.8175        |2025-09-26 03:15:00|https://calgaryherald.com:443/pmn/business-pmn/oil-set-for-big-weekly-gain-as-pressure-on-russia-intensifies/wcm/7567d665-3460-404f-a754-6e625820ab9b                                              |2025-09-26 03:30:00|20250926031500.export.CSV|\n",
      "|1265274193     |2025-09-26|false        |협의               |방문                    |1         |언어적 협력  |1.9            |3           |1          |3           |0.4739336492891  |null       |null                  |null                      |null                        |null                      |null                  |null                       |null            |null              |null                   |null          |null               |null               |null                                           |null                     |null                                                    |null                     |null          |null           |USAGOV     |THE US         |USA                       |The United States of America|미국                      |null                  |null                       |null            |null              |null                   |정부          |1차 역할           |미국 도시         |Blair House, District of Columbia, United States|US                     |USA                      |The United States of America|미국                     |38.899        |-77.038        |미국 외 도시       |Heybeliada, Istanbul, Turkey                   |TUR                      |Türkiye                                                 |튀르키예                 |40.8833       |29.0833        |2025-09-26 01:15:00|https://www.aa.com.tr/en/turkiye/wrap-up-turkish-president-erdogan-wraps-up-us-visit/3699474                                                                                                       |2025-09-26 01:30:00|20250926011500.export.CSV|\n",
      "|1265288572     |2025-09-26|false        |외교적 협력        |칭찬 또는 지지          |1         |언어적 협력  |3.4            |10          |1          |10          |2.98850574712644 |GOV        |GOVERNMENT            |null                      |null                        |null                      |null                  |null                       |null            |null              |null                   |정부          |1차 역할           |미국 외 도시       |Delhi, Delhi, India                            |IND                      |India                                                   |인도                     |28.6667       |77.2167        |null       |null           |null                      |null                        |null                      |null                  |null                       |null            |null              |null                   |null          |null               |null              |null                                            |null                   |null                     |null                        |null                     |null          |null           |미국 외 도시       |Delhi, Delhi, India                            |IND                      |India                                                   |인도                     |28.6667       |77.2167        |2025-09-26 03:15:00|https://theshillongtimes.com/2025/09/26/boom-in-the-hills-windfall-at-the-border/                                                                                                                  |2025-09-26 03:30:00|20250926031500.export.CSV|\n",
      "|1265292737     |2025-09-26|true         |외교적 협력        |공식 협정 체결          |1         |언어적 협력  |8.0            |10          |1          |10          |-0.78895463510848|null       |null                  |null                      |null                        |null                      |null                  |null                       |null            |null              |null                   |null          |null               |null               |null                                           |null                     |null                                                    |null                     |null          |null           |BUS        |MANUFACTURER   |null                      |null                        |null                      |null                  |null                       |null            |null              |null                   |기업          |2차 역할           |미국 외 도시      |Lagos, Lagos, Nigeria                           |NI                     |NGA                      |Nigeria                     |나이지리아               |6.45306       |3.39583        |미국 외 도시       |Lagos, Lagos, Nigeria                          |NGA                      |Nigeria                                                 |나이지리아               |6.45306       |3.39583        |2025-09-26 04:00:00|https://leadership.ng/insoluble-fibre-concentrate-to-reduce-livestock-mortality/                                                                                                                   |2025-09-26 04:15:00|20250926040000.export.CSV|\n",
      "|1265288752     |2025-09-26|false        |거부               |거부                    |3         |언어적 갈등  |-4.0           |10          |1          |10          |-4.1866028708134 |JUD        |JUDGE                 |null                      |null                        |null                      |null                  |null                       |null            |null              |null                   |사법부        |1차 역할           |미국 외 도시       |Vancouver, British Columbia, Canada            |CAN                      |Canada                                                  |캐나다                   |49.25         |-123.133       |null       |null           |null                      |null                        |null                      |null                  |null                       |null            |null              |null                   |null          |null               |null              |null                                            |null                   |null                     |null                        |null                     |null          |null           |미국 외 도시       |Vancouver, British Columbia, Canada            |CAN                      |Canada                                                  |캐나다                   |49.25         |-123.133       |2025-09-26 03:15:00|https://www.oregonlive.com/crime/2025/09/portland-man-who-got-lucky-in-2019-gun-case-faces-prison-in-2025.html                                                                                     |2025-09-26 03:30:00|20250926031500.export.CSV|\n",
      "|1265278333     |2025-09-26|true         |협의               |협상                    |1         |언어적 협력  |7.0            |6           |1          |6           |-0.77071290944124|GOV        |GOVERNMENT            |null                      |null                        |null                      |null                  |null                       |null            |null              |null                   |정부          |1차 역할           |국가               |Russia                                         |RUS                      |The Russian Federation                                  |러시아 연방              |60.0          |100.0          |RUS        |RUSSIA         |RUS                       |The Russian Federation      |러시아 연방               |null                  |null                       |null            |null              |null                   |null          |null               |국가              |Russia                                          |RS                     |RUS                      |The Russian Federation      |러시아 연방              |60.0          |100.0          |국가               |Russia                                         |RUS                      |The Russian Federation                                  |러시아 연방              |60.0          |100.0          |2025-09-26 01:45:00|https://www.eurasiareview.com/26092025-ukraine-called-in-to-help-brussels-build-drone-wall-along-eastern-flank/                                                                                    |2025-09-26 02:00:00|20250926014500.export.CSV|\n",
      "|1265288813     |2025-09-26|false        |전투               |전통적 군사력 사용      |4         |물리적 갈등  |-10.0          |4           |1          |4           |-1.34529147982062|LEG        |CHAMBER               |null                      |null                        |null                      |null                  |null                       |null            |null              |null                   |입법부        |2차 역할           |미국 도시          |Woodlawn, Illinois, United States              |USA                      |The United States of America                            |미국                     |38.3301       |-89.0326       |null       |null           |null                      |null                        |null                      |null                  |null                       |null            |null              |null                   |null          |null               |null              |null                                            |null                   |null                     |null                        |null                     |null          |null           |미국 도시          |Chicago, Illinois, United States               |USA                      |The United States of America                            |미국                     |41.85         |-87.6501       |2025-09-26 03:15:00|https://www.hpherald.com/evening_digest/scaled-back-south-side-housing-ordinance-passes-city-council-as-obama-presidential-center-opening-nears/article_64aee6a2-aec5-425f-9c81-6e8210cfcec3.html  |2025-09-26 03:30:00|20250926031500.export.CSV|\n",
      "|1265292719     |2025-09-26|false        |협의               |방문                    |1         |언어적 협력  |1.9            |10          |1          |10          |-1.91846522781774|null       |null                  |null                      |null                        |null                      |null                  |null                       |null            |null              |null                   |null          |null               |null               |null                                           |null                     |null                                                    |null                     |null          |null           |AGR        |FARMER         |null                      |null                        |null                      |null                  |null                       |null            |null              |null                   |농업          |2차 역할           |미국 외 도시      |Bangalore, Karnataka, India                     |IN                     |IND                      |India                       |인도                     |12.9833       |77.5833        |미국 외 도시       |Bangalore, Karnataka, India                    |IND                      |India                                                   |인도                     |12.9833       |77.5833        |2025-09-26 04:00:00|https://timesofindia.indiatimes.com/city/bengaluru/talks-fail-again-as-landowners-bangalore-development-authority-remain-at-odds-over-acquisition-of-peripheral-ring-road/articleshow/124130013.cms|2025-09-26 04:15:00|20250926040000.export.CSV|\n",
      "|1265288904     |2025-09-26|true         |협력 의사 표명     |회담 또는 협상 의사 표명|1         |언어적 협력  |4.0            |7           |1          |7           |3.67647058823529 |NOR        |NORWEGIAN             |NOR                       |Norway                      |노르웨이                  |null                  |null                       |null            |null              |null                   |null          |null               |국가               |Norway                                         |NOR                      |Norway                                                  |노르웨이                 |62.0          |10.0           |null       |null           |null                      |null                        |null                      |null                  |null                       |null            |null              |null                   |null          |null               |null              |null                                            |null                   |null                     |null                        |null                     |null          |null           |국가               |Norway                                         |NOR                      |Norway                                                  |노르웨이                 |62.0          |10.0           |2025-09-26 03:15:00|https://www.dailyecho.co.uk/news/25493113.nine-ships-city-weekend-including-uks-biggest-ship/                                                                                                      |2025-09-26 03:30:00|20250926031500.export.CSV|\n",
      "|1265274939     |2025-09-26|true         |비판 및 반대       |비난 또는 규탄          |3         |언어적 갈등  |-2.0           |4           |1          |4           |-1.66666666666667|MED        |TELEVISION            |null                      |null                        |null                      |null                  |null                       |null            |null              |null                   |언론          |2차 역할           |국가               |Malaysia                                       |MYS                      |Malaysia                                                |말레이시아               |2.5           |112.5          |MYS        |MALAYSIA       |MYS                       |Malaysia                    |말레이시아                |null                  |null                       |null            |null              |null                   |null          |null               |국가              |Malaysia                                        |MY                     |MYS                      |Malaysia                    |말레이시아               |2.5           |112.5          |국가               |Malaysia                                       |MYS                      |Malaysia                                                |말레이시아               |2.5           |112.5          |2025-09-26 01:15:00|https://thesun.my/viral/going-viral/local-tv-host-calls-out-malaysians-complaining-about-budi95-subsidy-FL14970104                                                                                 |2025-09-26 01:30:00|20250926011500.export.CSV|\n",
      "|1265289040     |2025-09-26|false        |비판 및 반대       |비판 및 반대            |3         |언어적 갈등  |-2.0           |2           |1          |2           |1.94871794871795 |UAF        |TERRORIST ORGANIZATION|null                      |null                        |null                      |null                  |null                       |null            |null              |null                   |중립 무장 세력|1차 역할           |미국 주            |Oklahoma, United States                        |USA                      |The United States of America                            |미국                     |35.5376       |-96.9247       |EDU        |SCHOOL         |null                      |null                        |null                      |null                  |null                       |null            |null              |null                   |교육          |2차 역할           |미국 주           |Oklahoma, United States                         |US                     |USA                      |The United States of America|미국                     |35.5376       |-96.9247       |미국 주            |Oklahoma, United States                        |USA                      |The United States of America                            |미국                     |35.5376       |-96.9247       |2025-09-26 03:15:00|https://tulsaworld.com/news/state-regional/education/article_ebe40bdc-526a-4470-bc3a-49b5e85e3754.html                                                                                             |2025-09-26 03:30:00|20250926031500.export.CSV|\n",
      "|1265292720     |2025-09-26|true         |외교적 협력        |공식 협정 체결          |1         |언어적 협력  |8.0            |7           |1          |7           |6.03448275862069 |null       |null                  |null                      |null                        |null                      |null                  |null                       |null            |null              |null                   |null          |null               |null               |null                                           |null                     |null                                                    |null                     |null          |null           |ARE        |DUBAI          |ARE                       |The United Arab Emirates    |아랍에미리트 연합         |null                  |null                       |null            |null              |null                   |null          |null               |미국 외 도시      |Dubai, Dubayy, United Arab Emirates             |AE                     |ARE                      |The United Arab Emirates    |아랍에미리트 연합        |25.2522       |55.28          |미국 외 도시       |Dubai, Dubayy, United Arab Emirates            |ARE                      |The United Arab Emirates                                |아랍에미리트 연합        |25.2522       |55.28          |2025-09-26 04:00:00|https://gulfnews.com/uae/i-rode-dubais-driverless-robotaxi-and-it-gave-me-goosebumps-1.500283905                                                                                                   |2025-09-26 04:15:00|20250926040000.export.CSV|\n",
      "|1265289059     |2025-09-26|true         |공개 성명 발표     |성명 발표               |1         |언어적 협력  |0.0            |4           |1          |4           |5.720823798627   |USA        |UNITED STATES         |USA                       |The United States of America|미국                      |null                  |null                       |null            |null              |null                   |null          |null               |미국 주            |Hawaii, United States                          |USA                      |The United States of America                            |미국                     |21.1098       |-157.531       |null       |null           |null                      |null                        |null                      |null                  |null                       |null            |null              |null                   |null          |null               |null              |null                                            |null                   |null                     |null                        |null                     |null          |null           |미국 주            |Hawaii, United States                          |USA                      |The United States of America                            |미국                     |21.1098       |-157.531       |2025-09-26 03:15:00|https://www.hawaiinewsnow.com/2025/09/26/hawaii-supreme-court-set-upcoming-leadership-transition/                                                                                                  |2025-09-26 03:30:00|20250926031500.export.CSV|\n",
      "|1265272004     |2025-09-26|true         |공개 성명 발표     |비관적 논평             |1         |언어적 협력  |-0.4           |10          |1          |10          |-0.85054678007291|BUS        |INDUSTRY              |null                      |null                        |null                      |null                  |null                       |null            |null              |null                   |기업          |2차 역할           |미국 도시          |Fresno, California, United States              |USA                      |The United States of America                            |미국                     |36.7477       |-119.772       |null       |null           |null                      |null                        |null                      |null                  |null                       |null            |null              |null                   |null          |null               |null              |null                                            |null                   |null                     |null                        |null                     |null          |null           |미국 도시          |Fresno, California, United States              |USA                      |The United States of America                            |미국                     |36.7477       |-119.772       |2025-09-26 01:00:00|https://www.kvpr.org/business-economy/2025-09-24/economic-leaders-say-fresnos-economy-is-still-growing-as-it-grapples-a-difficult-past                                                             |2025-09-26 01:15:00|20250926010000.export.CSV|\n",
      "|1265289159     |2025-09-26|false        |공개 성명 발표     |낙관적 논평             |1         |언어적 협력  |0.4            |2           |1          |2           |-8.71886120996441|USA        |UNITED STATES         |USA                       |The United States of America|미국                      |null                  |null                       |null            |null              |null                   |null          |null               |미국 도시          |Washington, District of Columbia, United States|USA                      |The United States of America                            |미국                     |38.8951       |-77.0364       |CRM        |CRIMINAL       |null                      |null                        |null                      |null                  |null                       |null            |null              |null                   |범죄 조직     |2차 역할           |미국 도시         |White House, District of Columbia, United States|US                     |USA                      |The United States of America|미국                     |38.8951       |-77.0364       |미국 도시          |Washington, District of Columbia, United States|USA                      |The United States of America                            |미국                     |38.8951       |-77.0364       |2025-09-26 03:15:00|https://thehill.com/homenews/state-watch/5522823-teen-pleads-guilty-dc-assault/                                                                                                                    |2025-09-26 03:30:00|20250926031500.export.CSV|\n",
      "|1265292721     |2025-09-26|true         |호소 및 요청       |호소 및 요청            |1         |언어적 협력  |3.0            |1           |1          |1           |-0.1890359168242 |null       |null                  |null                      |null                        |null                      |null                  |null                       |null            |null              |null                   |null          |null               |null               |null                                           |null                     |null                                                    |null                     |null          |null           |AUS        |AUSTRALIA      |AUS                       |Australia                   |호주                      |null                  |null                       |null            |null              |null                   |null          |null               |미국 외 도시      |Hastings River, New South Wales, Australia      |AS                     |AUS                      |Australia                   |호주                     |-31.4         |152.85         |미국 외 도시       |Hastings River, New South Wales, Australia     |AUS                      |Australia                                               |호주                     |-31.4         |152.85         |2025-09-26 04:00:00|https://www.portnews.com.au/story/9075326/protecting-port-macquaries-koalas-in-our-public-spaces/                                                                                                  |2025-09-26 04:15:00|20250926040000.export.CSV|\n",
      "|1265289324     |2025-09-26|false        |강압               |체포, 구금 또는 기소    |4         |물리적 갈등  |-5.0           |5           |1          |5           |-7.99136069114471|USAEDU     |MARYLAND              |USA                       |The United States of America|미국                      |null                  |null                       |null            |null              |null                   |교육          |2차 역할           |미국 주            |Maryland, United States                        |USA                      |The United States of America                            |미국                     |39.0724       |-76.7902       |null       |null           |null                      |null                        |null                      |null                  |null                       |null            |null              |null                   |null          |null               |null              |null                                            |null                   |null                     |null                        |null                     |null          |null           |미국 주            |Maryland, United States                        |USA                      |The United States of America                            |미국                     |39.0724       |-76.7902       |2025-09-26 03:15:00|https://boulderjewishnews.org/2025/column-death-threats-to-mamdani-as-if-we-dont-have-enough-problems/                                                                                             |2025-09-26 03:30:00|20250926031500.export.CSV|\n",
      "+---------------+----------+-------------+-------------------+------------------------+----------+-------------+---------------+------------+-----------+------------+-----------------+-----------+----------------------+--------------------------+----------------------------+--------------------------+----------------------+---------------------------+----------------+------------------+-----------------------+--------------+-------------------+-------------------+-----------------------------------------------+-------------------------+--------------------------------------------------------+-------------------------+--------------+---------------+-----------+---------------+--------------------------+----------------------------+--------------------------+----------------------+---------------------------+----------------+------------------+-----------------------+--------------+-------------------+------------------+------------------------------------------------+-----------------------+-------------------------+----------------------------+-------------------------+--------------+---------------+-------------------+-----------------------------------------------+-------------------------+--------------------------------------------------------+-------------------------+--------------+---------------+-------------------+---------------------------------------------------------------------------------------------------------------------------------------------------------------------------------------------------+-------------------+-------------------------+\n",
      "\n"
     ]
    },
    {
     "name": "stderr",
     "output_type": "stream",
     "text": [
      "                                                                                \r"
     ]
    }
   ],
   "source": [
    "print(\"🥈 [Staging] stg_seed_mapping 테이블 조회 결과\")\n",
    "spark.sql(\n",
    "    \"SELECT * FROM staging_dev.stg_seed_mapping ORDER BY event_date DESC LIMIT 20\"\n",
    ").show(truncate=False)"
   ]
  },
  {
   "cell_type": "code",
   "execution_count": 8,
   "id": "ed27de8b",
   "metadata": {},
   "outputs": [
    {
     "name": "stdout",
     "output_type": "stream",
     "text": [
      "🥈 [Staging] stg_actors_description 테이블 조회 결과\n"
     ]
    },
    {
     "name": "stderr",
     "output_type": "stream",
     "text": [
      "[Stage 99:===============>(15 + 1) / 16][Stage 100:============>   (8 + 1) / 10]\r"
     ]
    },
    {
     "name": "stdout",
     "output_type": "stream",
     "text": [
      "+----------+----------------------+\n",
      "|actor_code|actor_full_description|\n",
      "+----------+----------------------+\n",
      "+----------+----------------------+\n",
      "\n"
     ]
    },
    {
     "name": "stderr",
     "output_type": "stream",
     "text": [
      "                                                                                \r"
     ]
    }
   ],
   "source": [
    "print(\"🥈 [Staging] stg_actors_description 테이블 조회 결과\")\n",
    "spark.sql(\n",
    "    \"SELECT * FROM staging_dev.stg_actors_description WHERE actor_full_description IS NULL\"\n",
    ").show(truncate=False)"
   ]
  },
  {
   "cell_type": "code",
   "execution_count": null,
   "id": "24365b13",
   "metadata": {},
   "outputs": [],
   "source": [
    "print(\"🥈 [Staging] stg_gkg_detailed_events 테이블 조회 결과\")\n",
    "spark.sql(\n",
    "    \"SELECT * FROM staging_dev.stg_gkg_detailed_events WHERE amounts IS NOT NULL ORDER BY event_date DESC LIMIT 20\"\n",
    ").show(truncate=False)"
   ]
  },
  {
   "cell_type": "markdown",
   "id": "97f74ad3",
   "metadata": {},
   "source": [
    "### Marts 폴더의 SQL 파일을 dbt run한 결과 확인"
   ]
  },
  {
   "cell_type": "code",
   "execution_count": 10,
   "id": "5f68f334",
   "metadata": {},
   "outputs": [
    {
     "name": "stdout",
     "output_type": "stream",
     "text": [
      "🥇 [Marts] gold_near_realtime_summary 테이블 조회 결과\n",
      "+----------+-------------------------+-------------------------------------+-------------------------+-----------+-------------------+--------------------+--------------+-------------+--------------+-----------------------+--------------------+-------------------+-------------------+-------------------+-----------------------------------------------------------------------------------------+\n",
      "|event_date|mp_action_geo_country_iso|mp_action_geo_country_eng            |mp_action_geo_country_kor|event_count|avg_goldstein_scale|avg_tone            |total_mentions|total_sources|total_articles|count_cooperation_event|count_conflict_event|count_anomaly_event|risk_score_daily   |processed_at       |daily_tone_summary                                                                       |\n",
      "+----------+-------------------------+-------------------------------------+-------------------------+-----------+-------------------+--------------------+--------------+-------------+--------------+-----------------------+--------------------+-------------------+-------------------+-------------------+-----------------------------------------------------------------------------------------+\n",
      "|2024-09-23|MEX                      |Mexico                               |멕시코                   |2          |0.2                |7.64281616260962    |6             |2            |6             |2                      |0                   |1                  |-2.254215412670897 |2025-09-23 18:15:00|멕시코에서는 \"공개 성명 발표\" 관련 긍정적인 분위기의 이벤트가 주로 발생했습니다.         |\n",
      "|2024-09-23|SGP                      |Singapore                            |싱가포르                 |6          |7.0                |-0.45523520485584007|20            |6            |20            |6                      |0                   |0                  |-3.0050775446976368|2025-09-23 09:45:00|싱가포르에서는 \"협의\" 관련 중립적인 분위기의 이벤트가 주로 발생했습니다.                 |\n",
      "|2024-09-23|IND                      |India                                |인도                     |22         |0.4636363636363637 |-0.23142590175596728|125           |26           |125           |15                     |7                   |0                  |0.45581807938027163|2025-09-24 00:00:00|인도에서는 \"공개 성명 발표\" 관련 중립적인 분위기의 이벤트가 주로 발생했습니다.           |\n",
      "|2024-09-23|IRL                      |Ireland                              |아일랜드                 |17         |0.8647058823529409 |-2.2002741509799826 |75            |17           |75            |14                     |3                   |0                  |0.7943719729287675 |2025-09-23 18:15:00|아일랜드에서는 \"협력 의사 표명\" 관련 중립적인 분위기의 이벤트가 주로 발생했습니다.       |\n",
      "|2024-09-23|MDA                      |Republic of Moldova                  |몰도바 공화국            |5          |6.4                |-4.381483547127722  |17            |5            |17            |5                      |0                   |0                  |-1.5636673533748635|2025-09-23 11:00:00|몰도바 공화국에서는 \"협의\" 관련 부정적인 분위기의 이벤트가 주로 발생했습니다.            |\n",
      "|2024-09-23|TTO                      |Trinidad and Tobago                  |트리니다드 토바고        |6          |-2.0               |-4.041476298045077  |20            |6            |20            |2                      |4                   |0                  |2.5707947832591342 |2025-09-23 17:00:00|트리니다드 토바고에서는 \"강압\" 관련 부정적인 분위기의 이벤트가 주로 발생했습니다.        |\n",
      "|2024-09-23|RUS                      |The Russian Federation               |러시아 연방              |12         |-1.05              |-4.296952805974851  |41            |14           |41            |6                      |6                   |2                  |2.3110671717500555 |2025-09-23 23:00:00|러시아 연방에서는 \"거부\" 관련 부정적인 분위기의 이벤트가 주로 발생했습니다.              |\n",
      "|2024-09-23|MYS                      |Malaysia                             |말레이시아               |1          |2.8                |0.68306010928962    |3             |1            |3             |1                      |0                   |0                  |-1.604918032786886 |2025-09-23 20:00:00|말레이시아에서는 \"협의\" 관련 중립적인 분위기의 이벤트가 주로 발생했습니다.               |\n",
      "|2024-09-23|VNM                      |Viet Nam                             |베트남                   |2          |1.0                |4.77707006369426    |2             |2            |2             |2                      |0                   |0                  |-1.7944915829962889|2025-09-23 12:30:00|베트남에서는 \"협의\" 관련 긍정적인 분위기의 이벤트가 주로 발생했습니다.                   |\n",
      "|2024-09-23|LBN                      |Lebanon                              |레바논                   |1          |-10.0              |-2.02839756592292   |2             |1            |2             |0                      |1                   |0                  |5.608519269776876  |2025-09-23 16:45:00|레바논에서는 \"전투\" 관련 중립적인 분위기의 이벤트가 주로 발생했습니다.                   |\n",
      "|2024-09-23|COL                      |Colombia                             |콜롬비아                 |6          |-9.5               |1.51260504201681    |16            |6            |16            |0                      |6                   |0                  |4.654570381240568  |2025-09-23 20:45:00|콜롬비아에서는 \"전투\" 관련 중립적인 분위기의 이벤트가 주로 발생했습니다.                 |\n",
      "|2024-09-23|PRK                      |Democratic People's Republic of Korea|조선민주주의인민공화국   |6          |1.0                |2.22222222222222    |15            |6            |15            |6                      |0                   |0                  |-0.8083147728210551|2025-09-23 09:15:00|조선민주주의인민공화국에서는 \"협의\" 관련 중립적인 분위기의 이벤트가 주로 발생했습니다.   |\n",
      "|2024-09-23|DNK                      |Denmark                              |덴마크                   |2          |-1.0               |-4.212552322104845  |12            |2            |12            |1                      |1                   |0                  |1.9023951327434425 |2025-09-23 15:00:00|덴마크에서는 \"호소 및 요청\" 관련 부정적인 분위기의 이벤트가 주로 발생했습니다.           |\n",
      "|2024-09-23|USA                      |The United States of America         |미국                     |250        |0.5431999999999997 |-1.7118253420959295 |1034          |253          |1034          |186                    |64                  |8                  |1.3462397862012283 |2025-09-24 00:00:00|미국에서는 \"협의\" 관련 중립적인 분위기의 이벤트가 주로 발생했습니다.                     |\n",
      "|2024-09-23|ZAF                      |South Africa                         |남아프리카 공화국        |6          |-1.0               |1.4504790908888434  |29            |6            |29            |2                      |4                   |0                  |0.423208166578958  |2025-09-23 11:15:00|남아프리카 공화국에서는 \"비판 및 반대\" 관련 중립적인 분위기의 이벤트가 주로 발생했습니다.|\n",
      "|2024-09-23|UGA                      |Uganda                               |우간다                   |1          |-2.0               |4.87804878048781    |10            |1            |10            |0                      |1                   |0                  |-0.463414634146343 |2025-09-23 08:15:00|우간다에서는 \"비판 및 반대\" 관련 긍정적인 분위기의 이벤트가 주로 발생했습니다.           |\n",
      "|2024-09-23|JPN                      |Japan                                |일본                     |10         |2.5                |2.5204987393636173  |27            |10           |27            |10                     |0                   |0                  |-1.545632603210276 |2025-09-23 14:30:00|일본에서는 \"협의\" 관련 긍정적인 분위기의 이벤트가 주로 발생했습니다.                     |\n",
      "|2024-09-23|PNG                      |Papua New Guinea                     |파푸아뉴기니             |3          |4.4                |1.9228367306155096  |15            |3            |15            |3                      |0                   |0                  |-2.557128561451031 |2025-09-23 23:30:00|파푸아뉴기니에서는 \"외교적 협력\" 관련 중립적인 분위기의 이벤트가 주로 발생했습니다.      |\n",
      "|2024-09-23|MLI                      |Mali                                 |말리                     |1          |-9.5               |-6.67779632721203   |2             |1            |2             |0                      |1                   |0                  |6.753338898163609  |2025-09-23 14:00:00|말리에서는 \"물리적 공격\" 관련 부정적인 분위기의 이벤트가 주로 발생했습니다.              |\n",
      "|2024-09-23|KOR                      |Republic of Korea                    |대한민국                 |17         |0.3529411764705883 |-0.7095737561449793 |78            |19           |78            |14                     |3                   |0                  |0.6030442074194429 |2025-09-23 20:00:00|대한민국에서는 \"협의\" 관련 중립적인 분위기의 이벤트가 주로 발생했습니다.                 |\n",
      "+----------+-------------------------+-------------------------------------+-------------------------+-----------+-------------------+--------------------+--------------+-------------+--------------+-----------------------+--------------------+-------------------+-------------------+-------------------+-----------------------------------------------------------------------------------------+\n",
      "only showing top 20 rows\n",
      "\n"
     ]
    }
   ],
   "source": [
    "print(\"🥇 [Marts] gold_near_realtime_summary 테이블 조회 결과\")\n",
    "spark.sql(\n",
    "    \"SELECT * FROM gold_dev.gold_near_realtime_summary ORDER BY event_date ASC\"\n",
    ").show(truncate=False)"
   ]
  },
  {
   "cell_type": "code",
   "execution_count": 11,
   "id": "90bfd68c",
   "metadata": {},
   "outputs": [
    {
     "name": "stdout",
     "output_type": "stream",
     "text": [
      "🥇 [Marts] gold_daily_detailed_events 테이블 조회 결과\n",
      "+---------------+----------+-------------+-------------------+-------------+----------+-------------+---------------+------------+-----------+------------+--------+-----------+-----------+--------------------------+--------------------------+--------------------------+----------------------+---------------------------+----------------+------------------+-----------------------+--------------+-------------------+------------------+-------------------+-------------------------+-------------------------+-------------------------+--------------+---------------+-----------+-----------+--------------------------+--------------------------+--------------------------+----------------------+---------------------------+----------------+------------------+-----------------------+--------------+-------------------+------------------+-------------------+-----------------------+-------------------------+-------------------------+-------------------------+--------------+---------------+------------------+-------------------+-------------------------+-------------------------+-------------------------+--------------+---------------+----------+----------+------------+-----------+-----------+-----------+-------------------+----------------+----------+----------------+------------------+-------+----------------+-----------+----------+----------+-------------------+------------+---------------+----------+--------------+-------------+----------+\n",
      "|global_event_id|event_date|is_root_event|mp_event_categories|mp_event_info|quad_class|mp_quad_class|goldstein_scale|num_mentions|num_sources|num_articles|avg_tone|actor1_code|actor1_name|mp_actor1_from_country_iso|mp_actor1_from_country_eng|mp_actor1_from_country_kor|mp_actor1_organization|mp_actor1_organization_type|mp_actor1_ethnic|mp_actor1_religion|mp_actor1_religion_type|mp_actor1_role|mp_actor1_role_type|mp_actor1_geo_type|actor1_geo_fullname|mp_actor1_geo_country_iso|mp_actor1_geo_country_eng|mp_actor1_geo_country_kor|actor1_geo_lat|actor1_geo_long|actor2_code|actor2_name|mp_actor2_from_country_iso|mp_actor2_from_country_eng|mp_actor2_from_country_kor|mp_actor2_organization|mp_actor2_organization_type|mp_actor2_ethnic|mp_actor2_religion|mp_actor2_religion_type|mp_actor2_role|mp_actor2_role_type|mp_actor2_geo_type|actor2_geo_fullname|actor2_geo_country_code|mp_actor2_geo_country_iso|mp_actor2_geo_country_eng|mp_actor2_geo_country_kor|actor2_geo_lat|actor2_geo_long|mp_action_geo_type|action_geo_fullname|mp_action_geo_country_iso|mp_action_geo_country_eng|mp_action_geo_country_kor|action_geo_lat|action_geo_long|date_added|source_url|processed_at|source_file|actor1_info|actor2_info|mention_source_name|mention_doc_tone|v2_persons|v2_organizations|v2_enhanced_themes|amounts|goldstein_zscore|tone_zscore|is_anomaly|event_type|risk_score_detailed|simple_story|simple_story_v2|rich_story|headline_story|event_summary|tone_story|\n",
      "+---------------+----------+-------------+-------------------+-------------+----------+-------------+---------------+------------+-----------+------------+--------+-----------+-----------+--------------------------+--------------------------+--------------------------+----------------------+---------------------------+----------------+------------------+-----------------------+--------------+-------------------+------------------+-------------------+-------------------------+-------------------------+-------------------------+--------------+---------------+-----------+-----------+--------------------------+--------------------------+--------------------------+----------------------+---------------------------+----------------+------------------+-----------------------+--------------+-------------------+------------------+-------------------+-----------------------+-------------------------+-------------------------+-------------------------+--------------+---------------+------------------+-------------------+-------------------------+-------------------------+-------------------------+--------------+---------------+----------+----------+------------+-----------+-----------+-----------+-------------------+----------------+----------+----------------+------------------+-------+----------------+-----------+----------+----------+-------------------+------------+---------------+----------+--------------+-------------+----------+\n",
      "+---------------+----------+-------------+-------------------+-------------+----------+-------------+---------------+------------+-----------+------------+--------+-----------+-----------+--------------------------+--------------------------+--------------------------+----------------------+---------------------------+----------------+------------------+-----------------------+--------------+-------------------+------------------+-------------------+-------------------------+-------------------------+-------------------------+--------------+---------------+-----------+-----------+--------------------------+--------------------------+--------------------------+----------------------+---------------------------+----------------+------------------+-----------------------+--------------+-------------------+------------------+-------------------+-----------------------+-------------------------+-------------------------+-------------------------+--------------+---------------+------------------+-------------------+-------------------------+-------------------------+-------------------------+--------------+---------------+----------+----------+------------+-----------+-----------+-----------+-------------------+----------------+----------+----------------+------------------+-------+----------------+-----------+----------+----------+-------------------+------------+---------------+----------+--------------+-------------+----------+\n",
      "\n"
     ]
    }
   ],
   "source": [
    "print(\"🥇 [Marts] gold_daily_detailed_events 테이블 조회 결과\")\n",
    "spark.sql(\n",
    "    \"SELECT * FROM gold_dev.gold_daily_detailed_events WHERE amounts IS NOT NULL\"\n",
    ").show(truncate=False)\n",
    "\n",
    "# spark.sql(\n",
    "#     \"SELECT actor1_info, actor2_info, simple_story, rich_story, headline_story, event_summary, tone_story FROM gold_dev.gold_daily_detailed_events WHERE actor1_info IS NULL\"\n",
    "# ).show(truncate=False)"
   ]
  },
  {
   "cell_type": "code",
   "execution_count": 12,
   "id": "a11aa7df",
   "metadata": {},
   "outputs": [
    {
     "name": "stdout",
     "output_type": "stream",
     "text": [
      "🥇 [Marts] gold_daily_actor_network 테이블 조회 결과\n"
     ]
    },
    {
     "name": "stderr",
     "output_type": "stream",
     "text": [
      "                                                                                \r"
     ]
    },
    {
     "name": "stdout",
     "output_type": "stream",
     "text": [
      "+----------+------------------+--------------------------------------------------------+----------------------+--------------+---------------+------------------+--------------------------------------------------------+------------------+--------------+---------------+-----------+-----------------+-------------------+---------------------------------------------+----------+-------------+\n",
      "|event_date|actor1_country_iso|actor1_country_eng                                      |actor1_country_kor    |actor1_geo_lat|actor1_geo_long|actor2_country_iso|actor2_country_eng                                      |actor2_country_kor|actor2_geo_lat|actor2_geo_long|event_count|avg_tone         |processed_at       |location_text                                |route_name|tone_category|\n",
      "+----------+------------------+--------------------------------------------------------+----------------------+--------------+---------------+------------------+--------------------------------------------------------+------------------+--------------+---------------+-----------+-----------------+-------------------+---------------------------------------------+----------+-------------+\n",
      "|2024-09-23|IDN               |Indonesia                                               |인도네시아            |-6.17444      |106.829        |GBR               |The United Kingdom of Great Britain and Northern Ireland|영국              |54.0          |-4.0           |2          |1.8058690744921  |2025-09-23 10:00:00|[-6.174440|106.829000] [54.000000|-4.000000] |IDN → GBR |Positive     |\n",
      "|2024-09-23|KOR               |Republic of Korea                                       |중국                  |37.0          |127.5          |CHN               |China                                                   |미국              |24.2479       |112.028        |2          |-0.10537407797682|2025-09-23 13:45:00|[37.000000|127.500000] [24.247900|112.028000]|KOR → CHN |Negative     |\n",
      "|2024-09-23|SAU               |Saudi Arabia                                            |아제르바이잔          |25.0          |45.0           |AZE               |Azerbaijan                                              |null              |40.5          |47.5           |2          |4.23280423280423 |2025-09-23 09:45:00|[25.000000|45.000000] [40.500000|47.500000]  |SAU → AZE |Positive     |\n",
      "|2024-09-23|FRA               |France                                                  |프랑스                |46.0          |2.0            |IND               |India                                                   |null              |28.6          |77.2           |2          |4.60122699386503 |2025-09-23 23:00:00|[46.000000|2.000000] [28.600000|77.200000]   |FRA → IND |Positive     |\n",
      "|2024-09-23|CHN               |China                                                   |조선민주주의인민공화국|19.2269       |109.143        |KOR               |Republic of Korea                                       |null              |35.1028       |129.04         |2          |2.22222222222222 |2025-09-23 09:15:00|[19.226900|109.143000] [35.102800|129.040000]|CHN → KOR |Positive     |\n",
      "|2024-09-23|ITA               |Italy                                                   |이탈리아              |42.833333     |12.833333      |ISR               |Israel                                                  |null              |31.4167       |34.3333        |2          |0.57803468208093 |2025-09-23 14:30:00|[42.833333|12.833333] [31.416700|34.333300]  |ITA → ISR |Positive     |\n",
      "|2024-09-23|GBR               |The United Kingdom of Great Britain and Northern Ireland|영국                  |54.0          |-4.0           |IDN               |Indonesia                                               |인도네시아        |-6.17444      |106.829        |2          |1.8058690744921  |2025-09-23 10:00:00|[54.000000|-4.000000] [-6.174440|106.829000] |GBR → IDN |Positive     |\n",
      "|2024-09-23|USA               |The United States of America                            |미국                  |38.8951       |-77.0364       |CHN               |China                                                   |중국              |23.7822       |116.151        |2          |-3.48258706467662|2025-09-23 10:30:00|[38.895100|-77.036400] [23.782200|116.151000]|USA → CHN |Negative     |\n",
      "|2024-09-23|NLD               |The Netherlands                                         |네덜란드              |52.5          |5.75           |TUR               |Türkiye                                                 |튀르키예          |39.9272       |32.8644        |2          |5.15463917525773 |2025-09-23 09:45:00|[52.500000|5.750000] [39.927200|32.864400]   |NLD → TUR |Positive     |\n",
      "|2024-09-23|ITA               |Italy                                                   |이탈리아              |41.9          |12.4833        |USA               |The United States of America                            |미국              |40.7443       |-73.4821       |2          |-0.32948929159802|2025-09-23 07:45:00|[41.900000|12.483300] [40.744300|-73.482100] |ITA → USA |Negative     |\n",
      "|2024-09-23|CHN               |China                                                   |중국                  |23.7822       |116.151        |USA               |The United States of America                            |미국              |38.8951       |-77.0364       |2          |-3.48258706467662|2025-09-23 10:30:00|[23.782200|116.151000] [38.895100|-77.036400]|CHN → USA |Negative     |\n",
      "|2024-09-23|UKR               |Ukraine                                                 |우크라이나            |49.0          |32.0           |RUS               |The Russian Federation                                  |러시아 연방       |56.043        |44.7525        |2          |-4.06153846153846|2025-09-23 09:00:00|[49.000000|32.000000] [56.043000|44.752500]  |UKR → RUS |Negative     |\n",
      "|2024-09-23|KOR               |Republic of Korea                                       |대한민국              |37.0          |127.5          |CHN               |China                                                   |중국              |23.7822       |116.151        |2          |-0.96286107290234|2025-09-23 09:45:00|[37.000000|127.500000] [23.782200|116.151000]|KOR → CHN |Negative     |\n",
      "|2024-09-23|JPN               |Japan                                                   |일본                  |35.685        |139.751        |OMN               |Oman                                                    |말레이시아        |21.0          |57.0           |1          |-7.14285714285714|2025-09-23 21:45:00|[35.685000|139.751000] [21.000000|57.000000] |JPN → OMN |Negative     |\n",
      "|2024-09-23|ARE               |The United Arab Emirates                                |미국                  |24.0          |54.0           |GBR               |The United Kingdom of Great Britain and Northern Ireland|콜롬비아          |51.8          |-3.15          |1          |1.51260504201681 |2025-09-23 20:45:00|[24.000000|54.000000] [51.800000|-3.150000]  |ARE → GBR |Positive     |\n",
      "|2024-09-23|OMN               |Oman                                                    |말레이시아            |21.0          |57.0           |JPN               |Japan                                                   |일본              |35.685        |139.751        |1          |-7.14285714285714|2025-09-23 21:45:00|[21.000000|57.000000] [35.685000|139.751000] |OMN → JPN |Negative     |\n",
      "|2024-09-23|KOR               |Republic of Korea                                       |대한민국              |37.0          |127.5          |CHN               |China                                                   |중국              |39.9289       |116.388        |1          |-1.00719424460431|2025-09-23 13:30:00|[37.000000|127.500000] [39.928900|116.388000]|KOR → CHN |Negative     |\n",
      "|2024-09-23|USA               |The United States of America                            |null                  |42.1497       |-74.9384       |ISR               |Israel                                                  |이스라엘          |31.5          |34.75          |1          |-0.29901751388295|2025-09-23 19:15:00|[42.149700|-74.938400] [31.500000|34.750000] |USA → ISR |Negative     |\n",
      "|2024-09-23|UKR               |Ukraine                                                 |러시아 연방           |50.4333       |30.5167        |FRA               |France                                                  |독일              |46.0          |2.0            |1          |-2.3121387283237 |2025-09-23 21:30:00|[50.433300|30.516700] [46.000000|2.000000]   |UKR → FRA |Negative     |\n",
      "|2024-09-23|SAU               |Saudi Arabia                                            |이스라엘              |25.0          |45.0           |LBN               |Lebanon                                                 |레바논            |33.8903       |35.4722        |1          |-2.02839756592292|2025-09-23 16:45:00|[25.000000|45.000000] [33.890300|35.472200]  |SAU → LBN |Negative     |\n",
      "+----------+------------------+--------------------------------------------------------+----------------------+--------------+---------------+------------------+--------------------------------------------------------+------------------+--------------+---------------+-----------+-----------------+-------------------+---------------------------------------------+----------+-------------+\n",
      "only showing top 20 rows\n",
      "\n"
     ]
    }
   ],
   "source": [
    "print(\"🥇 [Marts] gold_daily_actor_network 테이블 조회 결과\")\n",
    "spark.sql(\n",
    "    \"SELECT * FROM gold_dev.gold_daily_actor_network ORDER BY event_date ASC\"\n",
    ").show(truncate=False)"
   ]
  },
  {
   "cell_type": "code",
   "execution_count": 13,
   "id": "0080242f",
   "metadata": {},
   "outputs": [
    {
     "name": "stdout",
     "output_type": "stream",
     "text": [
      "🥇 [Marts] gold_chart_events_category 테이블 조회 결과\n",
      "+----------+-------------------------+--------------------------------------------------------+-------------------------+-------------+-------------------+-----------+-------------------+\n",
      "|event_date|mp_action_geo_country_iso|mp_action_geo_country_eng                               |mp_action_geo_country_kor|mp_quad_class|mp_event_categories|event_count|processed_at       |\n",
      "+----------+-------------------------+--------------------------------------------------------+-------------------------+-------------+-------------------+-----------+-------------------+\n",
      "|2024-09-23|GBR                      |The United Kingdom of Great Britain and Northern Ireland|영국                     |언어적 협력  |협의               |9          |2025-09-23 18:30:00|\n",
      "|2024-09-23|CAN                      |Canada                                                  |캐나다                   |언어적 협력  |협의               |10         |2025-09-23 20:00:00|\n",
      "|2024-09-23|USA                      |The United States of America                            |미국                     |물질적 협력  |물질적 협력        |12         |2025-09-23 19:45:00|\n",
      "|2024-09-23|USA                      |The United States of America                            |미국                     |언어적 협력  |협력 의사 표명     |20         |2025-09-23 22:45:00|\n",
      "|2024-09-23|USA                      |The United States of America                            |미국                     |언어적 협력  |공개 성명 발표     |45         |2025-09-24 00:00:00|\n",
      "|2024-09-23|JPN                      |Japan                                                   |일본                     |물질적 협력  |조사               |1          |2025-09-23 14:15:00|\n",
      "|2024-09-23|KOR                      |Republic of Korea                                       |대한민국                 |언어적 협력  |외교적 협력        |1          |2025-09-23 16:15:00|\n",
      "|2024-09-23|SYR                      |Syrian Arab Republic                                    |시리아 아랍 공화국       |물리적 갈등  |전투               |1          |2025-09-23 18:00:00|\n",
      "|2024-09-23|GHA                      |Ghana                                                   |가나                     |물리적 갈등  |강압               |1          |2025-09-23 11:00:00|\n",
      "|2024-09-23|NGA                      |Nigeria                                                 |나이지리아               |언어적 갈등  |비판 및 반대       |1          |2025-09-23 18:00:00|\n",
      "|2024-09-23|JPN                      |Japan                                                   |일본                     |언어적 협력  |협의               |6          |2025-09-23 14:30:00|\n",
      "|2024-09-23|KEN                      |Kenya                                                   |케냐                     |물질적 협력  |양보 및 수용       |1          |2025-09-23 13:00:00|\n",
      "|2024-09-23|AUS                      |Australia                                               |호주                     |물질적 협력  |물질적 협력        |5          |2025-09-23 19:15:00|\n",
      "|2024-09-23|KOR                      |Republic of Korea                                       |대한민국                 |물리적 갈등  |강압               |2          |2025-09-23 13:00:00|\n",
      "|2024-09-23|USA                      |The United States of America                            |미국                     |언어적 협력  |외교적 협력        |13         |2025-09-23 20:00:00|\n",
      "|2024-09-23|TKM                      |Turkmenistan                                            |투르크메니스탄           |물질적 협력  |물질적 협력        |1          |2025-09-23 11:00:00|\n",
      "|2024-09-23|GBR                      |The United Kingdom of Great Britain and Northern Ireland|영국                     |물리적 갈등  |강압               |1          |2025-09-23 18:00:00|\n",
      "|2024-09-23|RWA                      |Rwanda                                                  |르완다                   |물리적 갈등  |전투               |3          |2025-09-23 19:15:00|\n",
      "|2024-09-23|ITA                      |Italy                                                   |이탈리아                 |언어적 갈등  |요구               |1          |2025-09-23 07:45:00|\n",
      "|2024-09-23|KOR                      |Republic of Korea                                       |대한민국                 |물리적 갈등  |전투               |1          |2025-09-23 13:00:00|\n",
      "+----------+-------------------------+--------------------------------------------------------+-------------------------+-------------+-------------------+-----------+-------------------+\n",
      "only showing top 20 rows\n",
      "\n"
     ]
    }
   ],
   "source": [
    "print(\"🥇 [Marts] gold_chart_events_category 테이블 조회 결과\")\n",
    "spark.sql(\n",
    "    \"SELECT * FROM gold_dev.gold_chart_events_category ORDER BY event_date ASC\"\n",
    ").show(truncate=False)"
   ]
  },
  {
   "cell_type": "code",
   "execution_count": 14,
   "id": "7f3f8b17",
   "metadata": {},
   "outputs": [
    {
     "name": "stdout",
     "output_type": "stream",
     "text": [
      "🥇 [Marts] gold_chart_events_count_avgtone 테이블 조회 결과\n"
     ]
    },
    {
     "name": "stderr",
     "output_type": "stream",
     "text": [
      "                                                                                \r"
     ]
    },
    {
     "name": "stdout",
     "output_type": "stream",
     "text": [
      "+----------+-------------------------+--------------------------------------------------------+-------------------------+-----------+---------------------+-------------------+\n",
      "|event_date|mp_action_geo_country_iso|mp_action_geo_country_eng                               |mp_action_geo_country_kor|event_count|avg_tone             |processed_at       |\n",
      "+----------+-------------------------+--------------------------------------------------------+-------------------------+-----------+---------------------+-------------------+\n",
      "|2024-09-23|CAN                      |Canada                                                  |캐나다                   |18         |0.1445921030372805   |2025-09-23 22:45:00|\n",
      "|2024-09-23|PNG                      |Papua New Guinea                                        |파푸아뉴기니             |3          |1.9228367306155096   |2025-09-23 23:30:00|\n",
      "|2024-09-23|GMB                      |The Gambia                                              |감비아                   |4          |-1.62042523107328    |2025-09-23 21:30:00|\n",
      "|2024-09-23|CHN                      |China                                                   |중국                     |28         |-0.037002533448586776|2025-09-23 22:45:00|\n",
      "|2024-09-23|SAU                      |Saudi Arabia                                            |사우디아라비아           |6          |3.411781440180785    |2025-09-23 19:30:00|\n",
      "|2024-09-23|SGP                      |Singapore                                               |싱가포르                 |6          |-0.45523520485583996 |2025-09-23 09:45:00|\n",
      "|2024-09-23|JAM                      |Jamaica                                                 |자메이카                 |3          |-3.30788804071247    |2025-09-23 19:15:00|\n",
      "|2024-09-23|IND                      |India                                                   |인도                     |22         |-0.23142590175596744 |2025-09-24 00:00:00|\n",
      "|2024-09-23|ISR                      |Israel                                                  |이스라엘                 |19         |-1.8155449368103547  |2025-09-23 21:15:00|\n",
      "|2024-09-23|RUS                      |The Russian Federation                                  |러시아 연방              |12         |-4.296952805974851   |2025-09-23 23:00:00|\n",
      "|2024-09-23|RWA                      |Rwanda                                                  |르완다                   |6          |-4.907905906686467   |2025-09-23 19:15:00|\n",
      "|2024-09-23|IRL                      |Ireland                                                 |아일랜드                 |17         |-2.2002741509799826  |2025-09-23 18:15:00|\n",
      "|2024-09-23|AUS                      |Australia                                               |호주                     |27         |-2.512694532501507   |2025-09-23 22:30:00|\n",
      "|2024-09-23|KOR                      |Republic of Korea                                       |대한민국                 |17         |-0.7095737561449793  |2025-09-23 20:00:00|\n",
      "|2024-09-23|EGY                      |Egypt                                                   |이집트                   |3          |-0.08945459865609336 |2025-09-23 17:00:00|\n",
      "|2024-09-23|NZL                      |New Zealand                                             |뉴질랜드                 |9          |1.077508729723902    |2025-09-23 18:30:00|\n",
      "|2024-09-23|NOR                      |Norway                                                  |노르웨이                 |2          |1.2344779680154399   |2025-09-23 22:45:00|\n",
      "|2024-09-23|UKR                      |Ukraine                                                 |우크라이나               |4          |-1.362884232528975   |2025-09-23 21:45:00|\n",
      "|2024-09-23|AZE                      |Azerbaijan                                              |아제르바이잔             |3          |4.23280423280423     |2025-09-23 09:45:00|\n",
      "|2024-09-23|GBR                      |The United Kingdom of Great Britain and Northern Ireland|영국                     |45         |-2.022369908986064   |2025-09-23 21:30:00|\n",
      "+----------+-------------------------+--------------------------------------------------------+-------------------------+-----------+---------------------+-------------------+\n",
      "only showing top 20 rows\n",
      "\n"
     ]
    }
   ],
   "source": [
    "print(\"🥇 [Marts] gold_chart_events_count_avgtone 테이블 조회 결과\")\n",
    "spark.sql(\n",
    "    \"SELECT * FROM gold_dev.gold_chart_events_count_avgtone ORDER BY event_date ASC\"\n",
    ").show(truncate=False)"
   ]
  },
  {
   "cell_type": "code",
   "execution_count": 15,
   "id": "3c113a67",
   "metadata": {},
   "outputs": [
    {
     "name": "stdout",
     "output_type": "stream",
     "text": [
      "🥇 [Marts] gold_chart_weekday_event_ratio 테이블 조회 결과\n",
      "+------------------+-------------------------+-------------------------+-------------------------+-----------+------------+------------------+\n",
      "|period            |mp_action_geo_country_iso|mp_action_geo_country_eng|mp_action_geo_country_kor|weekday_num|weekday_name|event_percentage  |\n",
      "+------------------+-------------------------+-------------------------+-------------------------+-----------+------------+------------------+\n",
      "|이번 달 (25년 9월)|ABW                      |Aruba                    |아루바                   |5          |Thu         |17.39130434782609 |\n",
      "|이번 달 (25년 9월)|ABW                      |Aruba                    |아루바                   |4          |Wed         |39.13043478260870 |\n",
      "|이번 달 (25년 9월)|ABW                      |Aruba                    |아루바                   |3          |Tue         |43.47826086956522 |\n",
      "|이번 달 (25년 9월)|AFG                      |Afghanistan              |아프가니스탄             |6          |Fri         |11.52388172858226 |\n",
      "|이번 달 (25년 9월)|AFG                      |Afghanistan              |아프가니스탄             |3          |Tue         |28.20318423047763 |\n",
      "|이번 달 (25년 9월)|AFG                      |Afghanistan              |아프가니스탄             |5          |Thu         |30.17437452615618 |\n",
      "|이번 달 (25년 9월)|AFG                      |Afghanistan              |아프가니스탄             |4          |Wed         |30.02274450341168 |\n",
      "|이번 달 (25년 9월)|AFG                      |Afghanistan              |아프가니스탄             |2          |Mon         |0.07581501137225  |\n",
      "|이번 달 (25년 9월)|AGO                      |Angola                   |앙골라                   |5          |Thu         |15.85365853658537 |\n",
      "|이번 달 (25년 9월)|AGO                      |Angola                   |앙골라                   |3          |Tue         |18.90243902439024 |\n",
      "|이번 달 (25년 9월)|AGO                      |Angola                   |앙골라                   |4          |Wed         |52.43902439024390 |\n",
      "|이번 달 (25년 9월)|AGO                      |Angola                   |앙골라                   |6          |Fri         |12.80487804878049 |\n",
      "|이번 달 (25년 9월)|AIA                      |Anguilla                 |앵귈라                   |5          |Thu         |100.00000000000000|\n",
      "|이번 달 (25년 9월)|ALB                      |Albania                  |알바니아                 |4          |Wed         |41.90476190476190 |\n",
      "|이번 달 (25년 9월)|ALB                      |Albania                  |알바니아                 |5          |Thu         |19.04761904761905 |\n",
      "|이번 달 (25년 9월)|ALB                      |Albania                  |알바니아                 |3          |Tue         |26.66666666666667 |\n",
      "|이번 달 (25년 9월)|ALB                      |Albania                  |알바니아                 |6          |Fri         |12.38095238095238 |\n",
      "|이번 달 (25년 9월)|AND                      |Andorra                  |안도라                   |3          |Tue         |47.76119402985075 |\n",
      "|이번 달 (25년 9월)|AND                      |Andorra                  |안도라                   |5          |Thu         |19.40298507462687 |\n",
      "|이번 달 (25년 9월)|AND                      |Andorra                  |안도라                   |4          |Wed         |32.83582089552239 |\n",
      "+------------------+-------------------------+-------------------------+-------------------------+-----------+------------+------------------+\n",
      "only showing top 20 rows\n",
      "\n"
     ]
    }
   ],
   "source": [
    "print(\"🥇 [Marts] gold_chart_weekday_event_ratio 테이블 조회 결과\")\n",
    "spark.sql(\n",
    "    \"SELECT * FROM gold_dev.gold_chart_weekday_event_ratio ORDER BY period ASC\"\n",
    ").show(truncate=False)"
   ]
  },
  {
   "cell_type": "markdown",
   "id": "5a42c5bf",
   "metadata": {},
   "source": [
    "### Spark 세션 종료"
   ]
  },
  {
   "cell_type": "code",
   "execution_count": null,
   "id": "f62a185b",
   "metadata": {},
   "outputs": [
    {
     "name": "stdout",
     "output_type": "stream",
     "text": [
      "\n",
      "✅ Spark 세션이 종료되었습니다.\n"
     ]
    }
   ],
   "source": [
    "spark.stop()\n",
    "print(\"\\n✅ Spark 세션이 종료되었습니다.\")"
   ]
  }
 ],
 "metadata": {
  "kernelspec": {
   "display_name": "Python 3 (ipykernel)",
   "language": "python",
   "name": "python3"
  },
  "language_info": {
   "codemirror_mode": {
    "name": "ipython",
    "version": 3
   },
   "file_extension": ".py",
   "mimetype": "text/x-python",
   "name": "python",
   "nbconvert_exporter": "python",
   "pygments_lexer": "ipython3",
   "version": "3.10.18"
  }
 },
 "nbformat": 4,
 "nbformat_minor": 5
}
