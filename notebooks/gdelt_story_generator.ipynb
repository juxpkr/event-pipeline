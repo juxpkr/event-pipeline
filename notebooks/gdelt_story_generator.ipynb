{
 "cells": [
  {
   "cell_type": "markdown",
   "id": "intro",
   "metadata": {},
   "source": [
    "# GDELT 이벤트 → 자연어 스토리 변환기\n",
    "\n",
    "GDELT의 구조화된 데이터를 읽기 쉬운 자연어 문장으로 변환하여 지정학적 이벤트를 스토리텔링 형태로 분석"
   ]
  },
  {
   "cell_type": "code",
   "execution_count": 1,
   "id": "setup",
   "metadata": {},
   "outputs": [
    {
     "name": "stderr",
     "output_type": "stream",
     "text": [
      "25/09/15 12:45:43 WARN NativeCodeLoader: Unable to load native-hadoop library for your platform... using builtin-java classes where applicable\n",
      "Setting default log level to \"WARN\".\n",
      "To adjust logging level use sc.setLogLevel(newLevel). For SparkR, use setLogLevel(newLevel).\n",
      "25/09/15 12:45:43 WARN Utils: Service 'SparkUI' could not bind on port 4040. Attempting port 4041.\n"
     ]
    },
    {
     "name": "stdout",
     "output_type": "stream",
     "text": [
      "✅ Spark 세션 생성 완료\n"
     ]
    }
   ],
   "source": [
    "import sys\n",
    "\n",
    "sys.path.append(\"/app\")\n",
    "\n",
    "from src.utils.spark_builder import get_spark_session\n",
    "from pyspark.sql import functions as F\n",
    "from pyspark.sql.types import StringType\n",
    "\n",
    "# Spark 세션 생성\n",
    "spark = get_spark_session(\"GDELT_Story_Generator\", \"spark://spark-master:7077\")\n",
    "print(\"✅ Spark 세션 생성 완료\")"
   ]
  },
  {
   "cell_type": "code",
   "execution_count": 2,
   "id": "load_data",
   "metadata": {},
   "outputs": [
    {
     "name": "stderr",
     "output_type": "stream",
     "text": [
      "25/09/15 12:45:46 WARN MetricsConfig: Cannot locate configuration: tried hadoop-metrics2-s3a-file-system.properties,hadoop-metrics2.properties\n",
      "                                                                                \r"
     ]
    },
    {
     "name": "stdout",
     "output_type": "stream",
     "text": [
      "✅ 데이터 로드 완료\n"
     ]
    },
    {
     "name": "stderr",
     "output_type": "stream",
     "text": [
      "25/09/15 12:45:49 WARN package: Truncated the string representation of a plan since it was too large. This behavior can be adjusted by setting 'spark.sql.debug.maxToStringFields'.\n",
      "[Stage 3:===============================================>         (42 + 2) / 50]\r"
     ]
    },
    {
     "name": "stdout",
     "output_type": "stream",
     "text": [
      "총 레코드 수: 12,241\n",
      "컬럼 수: 85\n"
     ]
    },
    {
     "name": "stderr",
     "output_type": "stream",
     "text": [
      "                                                                                \r"
     ]
    }
   ],
   "source": [
    "# Silver 데이터 로드\n",
    "joined_path = \"s3a://warehouse/silver/test_gdelt_joined/\"\n",
    "final_silver_df = spark.read.format(\"delta\").load(joined_path)\n",
    "\n",
    "print(\"✅ 데이터 로드 완료\")\n",
    "print(f\"총 레코드 수: {final_silver_df.count():,}\")\n",
    "print(f\"컬럼 수: {len(final_silver_df.columns)}\")"
   ]
  },
  {
   "cell_type": "code",
   "execution_count": 3,
   "id": "e8055751",
   "metadata": {},
   "outputs": [
    {
     "name": "stdout",
     "output_type": "stream",
     "text": [
      "🔸 스토리 생성 함수 정의 시작...\n",
      "✅ 함수 정의 완료!\n",
      "📋 사용 가능한 함수:\n",
      "   - create_simple_story(row): 간단한 스토리\n",
      "   - create_rich_story(row): 풍부한 스토리\n",
      "   - test_story_generation(): 실제 데이터로 테스트\n",
      "   - search_event_by_id(event_id): 특정 이벤트 검색\n",
      "✅ 스토리 생성 함수 import 완료!\n"
     ]
    },
    {
     "name": "stderr",
     "output_type": "stream",
     "text": [
      "                                                                                \r"
     ]
    },
    {
     "name": "stdout",
     "output_type": "stream",
     "text": [
      "\n",
      "🔸 스토리 생성:\n",
      "🔸 데이터 확인:\n",
      "1. 📖 간단: POLICE OFFICER이(가) Kathmandu에서 AUTHORITIES에게 193 액션을 수행했다 (performed action 193) (부정적으로 (negatively))\n",
      "   🌟 풍부: 🔥 주요 사건 (MAJOR EVENT): Khadga Prasad Oli,2276 from POLICE OFFICER이(가) Kathmandu에서 AUTHORITIES에게 강한 부정적 감정으로 (with strong negative sentiment) 193 액션을 취했다 (took action 193) 세금 (taxation) 금융 활동 (financial activities) woman, 652 ict applications, 662 social media에 관해 (concerning 세금 (taxation) 금융 활동 (financial activities) woman, 652 ict applications, 662 social media) Youtube,1337, Supreme Court,134와 관련하여 (involving Youtube,1337, Supreme Court,134) 51,people dead,300, 10000,of thousands taking,1328 규모로 (worth 51,people dead,300, 10000,of thousands taking,1328) (20개 기사에서 보도됨, californiatelegraph.com 포함 / reported across 20 articles including californiatelegraph.com)\n",
      "🔸 데이터 확인:\n",
      "2. 📖 간단: UNIVERSITY이(가) unknown location에서 UNIVERSITY에게 111 액션을 수행했다 (performed action 111) (부정적으로 (negatively))\n",
      "   🌟 풍부: Ahman Andrews,1113 from UNIVERSITY이(가) unknown location에서 UNIVERSITY에게 강한 부정적 감정으로 (with strong negative sentiment) 111 액션을 취했다 (took action 111) 세금 (taxation) 금융 활동 (financial activities) inspectors, 1921 private sector development, 405 business climate에 관해 (concerning 세금 (taxation) 금융 활동 (financial activities) inspectors, 1921 private sector development, 405 business climate) Pitt Police,1690, Carnegie Mellon University Police,126와 관련하여 (involving Pitt Police,1690, Carnegie Mellon University Police,126) 2,pedestrians on the sidewalk,1125 규모로 (worth 2,pedestrians on the sidewalk,1125) (5개 기사에서 보도됨, pittnews.com 포함 / reported across 5 articles including pittnews.com)\n",
      "🔸 데이터 확인:\n",
      "3. 📖 간단: NIGERIA이(가) Federal Capital Territory에서 EGYPT에게 042 액션을 수행했다 (performed action 042) (부정적으로 (negatively))\n",
      "   🌟 풍부: Nyesom Wike,655 from NIGERIA이(가) Federal Capital Territory에서 EGYPT에게 긴장 상황 속에서 (amid tensions) 042 액션을 취했다 (took action 042) 세금 (taxation) 금융 활동 (financial activities) workers, 위기 (crisis) c07 safety, 세금 (taxation) 금융 활동 (financial activities) secretary에 관해 (concerning 세금 (taxation) 금융 활동 (financial activities) workers, 위기 (crisis) c07 safety, 세금 (taxation) 금융 활동 (financial activities) secretary) Supreme Court,3582, Supreme Court,3864와 관련하여 (involving Supreme Court,3582, Supreme Court,3864) 6,months,91, 10,governors,3095 규모로 (worth 6,months,91, 10,governors,3095) (1개 기사에서 보도됨, hallmarknews.com 포함 / reported across 1 articles including hallmarknews.com)\n",
      "🔸 데이터 확인:\n",
      "4. 📖 간단: CYPRUS이(가) Ankara에서 TURKEY에게 불만을 표명했다 (voiced disapproval of) (중립적으로 (neutrally))\n",
      "   🌟 풍부: Giorgia Meloni,8016 from CYPRUS이(가) Ankara에서 TURKEY에게 중립적인 톤으로 (in a neutral tone) 불만을 표명했다 (voiced disapproval of) 세금 (taxation) 금융 활동 (financial activities) chief, 세금 (taxation) ethnicity greek, 세금 (taxation) worldlanguages greek에 관해 (concerning 세금 (taxation) 금융 활동 (financial activities) chief, 세금 (taxation) ethnicity greek, 세금 (taxation) worldlanguages greek) European Union Military Committee,8916, Political Security Committee,8211와 관련하여 (involving European Union Military Committee,8916, Political Security Committee,8211) 2,Romanian F,3705, 2,German Eurofighters also kept,4003 규모로 (worth 2,Romanian F,3705, 2,German Eurofighters also kept,4003) (1개 기사에서 보도됨, euractiv.com 포함 / reported across 1 articles including euractiv.com)\n",
      "🔸 데이터 확인:\n",
      "5. 📖 간단: MILITARY이(가) Puerto Rico에서 PUERTO RICO에게 042 액션을 수행했다 (performed action 042) (부정적으로 (negatively))\n",
      "   🌟 풍부: Donald Trump,429 from MILITARY이(가) Puerto Rico에서 PUERTO RICO에게 긴장 상황 속에서 (amid tensions) 042 액션을 취했다 (took action 042) 세금 (taxation) 금융 활동 (financial activities) military personnel, 세금 (taxation) 금융 활동 (financial activities) escort, 세금 (taxation) 금융 활동 (financial activities) troops에 관해 (concerning 세금 (taxation) 금융 활동 (financial activities) military personnel, 세금 (taxation) 금융 활동 (financial activities) escort, 세금 (taxation) 금융 활동 (financial activities) troops) Us Navy,209, United States,56와 관련하여 (involving Us Navy,209, United States,56) 18,armed personnel remained on,981, 9,fishermen,1045 규모로 (worth 18,armed personnel remained on,981, 9,fishermen,1045) (5개 기사에서 보도됨, timesofoman.com 포함 / reported across 5 articles including timesofoman.com)\n",
      "🔸 데이터 확인:\n",
      "6. 📖 간단: HAMAS이(가) Doha에서 QATAR에게 013 액션을 수행했다 (performed action 013) (부정적으로 (negatively))\n",
      "   🌟 풍부: Donald Trump,828 from HAMAS이(가) Doha에서 QATAR에게 강한 부정적 감정으로 (with strong negative sentiment) 013 액션을 취했다 (took action 013) 세금 (taxation) 금융 활동 (financial activities) secretary, 위기 (crisis) t03 dead, 세금 (taxation) 금융 활동 (financial activities) official에 관해 (concerning 세금 (taxation) 금융 활동 (financial activities) secretary, 위기 (crisis) t03 dead, 세금 (taxation) 금융 활동 (financial activities) official) United States,918, Arab League,2809와 관련하여 (involving United States,918, Arab League,2809) 6,people #x2014,926, 5,members of Hamas,943 규모로 (worth 6,people #x2014,926, 5,members of Hamas,943) (4개 기사에서 보도됨, euronews.com 포함 / reported across 4 articles including euronews.com)\n",
      "🔸 데이터 확인:\n",
      "7. 📖 간단: ECUADOR이(가) Karlos에서 GREECE에게 042 액션을 수행했다 (performed action 042) (긍정적으로 (positively))\n",
      "   🌟 풍부: El Consulado Comercial,3167 from ECUADOR이(가) Karlos에서 GREECE에게 매우 긍정적인 방식으로 (in a highly positive manner) 042 액션을 취했다 (took action 042) 772 무역 (trade) facilitation and logistics, 865 무역 (trade) corridors, 세금 (taxation) foodstaples bananas에 관해 (concerning 772 무역 (trade) facilitation and logistics, 865 무역 (trade) corridors, 세금 (taxation) foodstaples bananas) Interconnection Center Karlos,2836, Interconnection Center Karlos,3216와 관련하여 (involving Interconnection Center Karlos,2836, Interconnection Center Karlos,3216) (4개 기사에서 보도됨, naftemporiki.gr 포함 / reported across 4 articles including naftemporiki.gr)\n",
      "🔸 데이터 확인:\n",
      "8. 📖 간단: CHINA이(가) Tianjin에서 RUSSIA에게 042 액션을 수행했다 (performed action 042) (부정적으로 (negatively))\n",
      "   🌟 풍부: Marco Rubio,1941 from CHINA이(가) Tianjin에서 RUSSIA에게 긴장 상황 속에서 (amid tensions) 042 액션을 취했다 (took action 042) 696 public sector management, 840 justice, 2473 diplomacy and negotiations에 관해 (concerning 696 public sector management, 840 justice, 2473 diplomacy and negotiations) National Defense Dong Jun,1866, Chinese Communist Party,2972와 관련하여 (involving National Defense Dong Jun,1866, Chinese Communist Party,2972) 2,sides over existing issues,396, 2,countries,1003 규모로 (worth 2,sides over existing issues,396, 2,countries,1003) (1개 기사에서 보도됨, prokerala.com 포함 / reported across 1 articles including prokerala.com)\n",
      "🔸 데이터 확인:\n",
      "9. 📖 간단: CHIEF EXECUTIVE이(가) Glen Sannox에서 SCOTTISH에게 긴급 호소를 했다 (made an urgent appeal) (중립적으로 (neutrally))\n",
      "   🌟 풍부: CHIEF EXECUTIVE이(가) Glen Sannox에서 SCOTTISH에게 중립적인 톤으로 (in a neutral tone) 긴급 호소를 했다 (made an urgent appeal) 세금 (taxation) 금융 활동 (financial activities) executive, 경제 (economic) subsidies, 1948 subsidies에 관해 (concerning 세금 (taxation) 금융 활동 (financial activities) executive, 경제 (economic) subsidies, 1948 subsidies) Inverclyde Council,339와 관련하여 (involving Inverclyde Council,339) 7,smaller vessels earlier this,38, 2,ships most recently built,632 규모로 (worth 7,smaller vessels earlier this,38, 2,ships most recently built,632) (8개 기사에서 보도됨, heraldscotland.com 포함 / reported across 8 articles including heraldscotland.com)\n",
      "🔸 데이터 확인:\n",
      "10. 📖 간단: Unknown entity이(가) Illinois에서 LOCAL MEDIA에게 긴급 호소를 했다 (made an urgent appeal) (긍정적으로 (positively))\n",
      "   🌟 풍부: Dolly Parton,33 from Unknown entity이(가) Illinois에서 LOCAL MEDIA에게 긍정적인 감정으로 (with positive sentiment) 긴급 호소를 했다 (made an urgent appeal) 678 digital government, 694 broadcast and media, 133 information and communication technologies에 관해 (concerning 678 digital government, 694 broadcast and media, 133 information and communication technologies) Illinois Department Of Commerce,289, American Business Women Association,947와 관련하여 (involving Illinois Department Of Commerce,289, American Business Women Association,947) (5개 기사에서 보도됨, thejournal-news.net 포함 / reported across 5 articles including thejournal-news.net)\n"
     ]
    }
   ],
   "source": [
    "# 1. 경로 추가\n",
    "import sys\n",
    "\n",
    "sys.path.append(\"/app/notebooks\")\n",
    "\n",
    "# 2. 함수들 import\n",
    "from test import create_simple_story, create_rich_story, extract_rich_themes\n",
    "\n",
    "print(\"✅ 스토리 생성 함수 import 완료!\")\n",
    "\n",
    "# 실제 데이터로 테스트\n",
    "random_sample = final_silver_df.orderBy(F.rand()).take(10)\n",
    "\n",
    "print(\"\\n🔸 스토리 생성:\")\n",
    "for i, row in enumerate(random_sample, 1):\n",
    "    row_dict = row.asDict()\n",
    "    print(\"🔸 데이터 확인:\")\n",
    "    simple = create_simple_story(row_dict)\n",
    "    rich = create_rich_story(row_dict)\n",
    "\n",
    "    print(f\"{i}. 📖 간단: {simple}\")\n",
    "    print(f\"   🌟 풍부: {rich}\")"
   ]
  }
 ],
 "metadata": {
  "kernelspec": {
   "display_name": "Python 3 (ipykernel)",
   "language": "python",
   "name": "python3"
  },
  "language_info": {
   "codemirror_mode": {
    "name": "ipython",
    "version": 3
   },
   "file_extension": ".py",
   "mimetype": "text/x-python",
   "name": "python",
   "nbconvert_exporter": "python",
   "pygments_lexer": "ipython3",
   "version": "3.10.18"
  }
 },
 "nbformat": 4,
 "nbformat_minor": 5
}
