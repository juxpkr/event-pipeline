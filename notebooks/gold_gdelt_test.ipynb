{
 "cells": [
  {
   "cell_type": "markdown",
   "metadata": {},
   "source": [
    "# Gold Layer 테스트 노트북\n",
    "\n",
    "dbt로 생성된 Gold 테이블 확인용"
   ]
  },
  {
   "cell_type": "code",
   "execution_count": 1,
   "metadata": {},
   "outputs": [
    {
     "name": "stdout",
     "output_type": "stream",
     "text": [
      ":: loading settings :: url = jar:file:/usr/local/lib/python3.10/site-packages/pyspark/jars/ivy-2.5.1.jar!/org/apache/ivy/core/settings/ivysettings.xml\n"
     ]
    },
    {
     "name": "stderr",
     "output_type": "stream",
     "text": [
      "Ivy Default Cache set to: /root/.ivy2/cache\n",
      "The jars for the packages stored in: /root/.ivy2/jars\n",
      "io.delta#delta-core_2.12 added as a dependency\n",
      "org.apache.hadoop#hadoop-aws added as a dependency\n",
      "com.amazonaws#aws-java-sdk-bundle added as a dependency\n",
      ":: resolving dependencies :: org.apache.spark#spark-submit-parent-3ab6a12d-6cef-43b9-b643-6e1b5b7f5d26;1.0\n",
      "\tconfs: [default]\n",
      "\tfound io.delta#delta-core_2.12;2.4.0 in central\n",
      "\tfound io.delta#delta-storage;2.4.0 in central\n",
      "\tfound org.antlr#antlr4-runtime;4.9.3 in central\n",
      "\tfound org.apache.hadoop#hadoop-aws;3.3.4 in central\n",
      "\tfound org.wildfly.openssl#wildfly-openssl;1.0.7.Final in central\n",
      "\tfound com.amazonaws#aws-java-sdk-bundle;1.12.367 in central\n",
      ":: resolution report :: resolve 154ms :: artifacts dl 5ms\n",
      "\t:: modules in use:\n",
      "\tcom.amazonaws#aws-java-sdk-bundle;1.12.367 from central in [default]\n",
      "\tio.delta#delta-core_2.12;2.4.0 from central in [default]\n",
      "\tio.delta#delta-storage;2.4.0 from central in [default]\n",
      "\torg.antlr#antlr4-runtime;4.9.3 from central in [default]\n",
      "\torg.apache.hadoop#hadoop-aws;3.3.4 from central in [default]\n",
      "\torg.wildfly.openssl#wildfly-openssl;1.0.7.Final from central in [default]\n",
      "\t:: evicted modules:\n",
      "\tcom.amazonaws#aws-java-sdk-bundle;1.12.262 by [com.amazonaws#aws-java-sdk-bundle;1.12.367] in [default]\n",
      "\t---------------------------------------------------------------------\n",
      "\t|                  |            modules            ||   artifacts   |\n",
      "\t|       conf       | number| search|dwnlded|evicted|| number|dwnlded|\n",
      "\t---------------------------------------------------------------------\n",
      "\t|      default     |   7   |   0   |   0   |   1   ||   6   |   0   |\n",
      "\t---------------------------------------------------------------------\n",
      ":: retrieving :: org.apache.spark#spark-submit-parent-3ab6a12d-6cef-43b9-b643-6e1b5b7f5d26\n",
      "\tconfs: [default]\n",
      "\t0 artifacts copied, 6 already retrieved (0kB/4ms)\n",
      "25/09/01 15:31:40 WARN NativeCodeLoader: Unable to load native-hadoop library for your platform... using builtin-java classes where applicable\n",
      "Setting default log level to \"WARN\".\n",
      "To adjust logging level use sc.setLogLevel(newLevel). For SparkR, use setLogLevel(newLevel).\n",
      "25/09/01 15:31:40 WARN Utils: Service 'SparkUI' could not bind on port 4040. Attempting port 4041.\n"
     ]
    },
    {
     "name": "stdout",
     "output_type": "stream",
     "text": [
      "✅ Spark 세션 생성 완료\n"
     ]
    }
   ],
   "source": [
    "import sys\n",
    "\n",
    "sys.path.append(\"/app\")\n",
    "\n",
    "from src.utils.spark_builder import get_spark_session\n",
    "from pyspark.sql import functions as F\n",
    "\n",
    "# Spark 세션 생성\n",
    "spark = get_spark_session(\"GDELT_Gold_Test\", \"spark://spark-master:7077\")\n",
    "print(\"✅ Spark 세션 생성 완료\")"
   ]
  },
  {
   "cell_type": "code",
   "execution_count": 2,
   "metadata": {},
   "outputs": [
    {
     "name": "stderr",
     "output_type": "stream",
     "text": [
      "25/09/01 15:31:54 WARN MetricsConfig: Cannot locate configuration: tried hadoop-metrics2-s3a-file-system.properties,hadoop-metrics2.properties\n",
      "25/09/01 15:31:58 WARN package: Truncated the string representation of a plan since it was too large. This behavior can be adjusted by setting 'spark.sql.debug.maxToStringFields'.\n",
      "[Stage 3:==================================>                      (30 + 2) / 50]\r"
     ]
    },
    {
     "name": "stdout",
     "output_type": "stream",
     "text": [
      "📊 Gold 테이블 레코드 수: 226\n",
      "📋 컬럼 수: 9\n"
     ]
    },
    {
     "name": "stderr",
     "output_type": "stream",
     "text": [
      "                                                                                \r"
     ]
    }
   ],
   "source": [
    "# Gold Table 읽기 (dbt가 생성한 Delta 테이블)\n",
    "gold_df = spark.read.format(\"delta\").load(\n",
    "    \"s3a://warehouse/gold/gdelt_microbatch_country_analysis\"\n",
    ")\n",
    "\n",
    "print(f\"📊 Gold 테이블 레코드 수: {gold_df.count()}\")\n",
    "print(f\"📋 컬럼 수: {len(gold_df.columns)}\")"
   ]
  },
  {
   "cell_type": "code",
   "execution_count": 3,
   "metadata": {},
   "outputs": [
    {
     "name": "stdout",
     "output_type": "stream",
     "text": [
      "📝 Gold 테이블 컬럼:\n",
      " 1. event_date\n",
      " 2. actor1_country_code\n",
      " 3. event_root_code\n",
      " 4. total_events\n",
      " 5. average_tone\n",
      " 6. min_tone\n",
      " 7. max_tone\n",
      " 8. unique_actors\n",
      " 9. last_processed_time\n",
      "\n",
      "🔍 스키마:\n",
      "root\n",
      " |-- event_date: integer (nullable = true)\n",
      " |-- actor1_country_code: string (nullable = true)\n",
      " |-- event_root_code: string (nullable = true)\n",
      " |-- total_events: long (nullable = true)\n",
      " |-- average_tone: double (nullable = true)\n",
      " |-- min_tone: double (nullable = true)\n",
      " |-- max_tone: double (nullable = true)\n",
      " |-- unique_actors: long (nullable = true)\n",
      " |-- last_processed_time: timestamp (nullable = true)\n",
      "\n"
     ]
    }
   ],
   "source": [
    "# Gold 테이블 스키마 확인\n",
    "print(\"📝 Gold 테이블 컬럼:\")\n",
    "for i, col in enumerate(gold_df.columns, 1):\n",
    "    print(f\"{i:2d}. {col}\")\n",
    "\n",
    "print(\"\\n🔍 스키마:\")\n",
    "gold_df.printSchema()"
   ]
  },
  {
   "cell_type": "code",
   "execution_count": 4,
   "metadata": {},
   "outputs": [
    {
     "name": "stdout",
     "output_type": "stream",
     "text": [
      "🔍 Gold 테이블 샘플 데이터:\n"
     ]
    },
    {
     "name": "stdout",
     "output_type": "stream",
     "text": [
      "+----------+-------------------+---------------+------------+-------------------+-----------------+-----------------+-------------+--------------------------+\n",
      "|event_date|actor1_country_code|event_root_code|total_events|average_tone       |min_tone         |max_tone         |unique_actors|last_processed_time       |\n",
      "+----------+-------------------+---------------+------------+-------------------+-----------------+-----------------+-------------+--------------------------+\n",
      "|20250901  |TUR                |03             |2           |3.73563218390805   |3.73563218390805 |3.73563218390805 |1            |2025-09-01 12:49:21.557723|\n",
      "|20250901  |EUR                |09             |4           |-2.78745644599303  |-2.78745644599303|-2.78745644599303|1            |2025-09-01 12:49:21.557723|\n",
      "|20250901  |GBR                |02             |16          |-1.4080786669674614|-3.76383763837639|1.30548302872063 |4            |2025-09-01 12:49:21.557723|\n",
      "|20250901  |USA                |19             |20          |-5.579268270059306 |-9.09090909090909|1.14942528735633 |6            |2025-09-01 12:49:21.557723|\n",
      "|20250901  |GBR                |03             |16          |1.6278818401955863 |0.67934782608696 |3.05555555555556 |4            |2025-09-01 12:49:21.557723|\n",
      "|20250901  |NGA                |19             |4           |-2.11267605633803  |-2.11267605633803|-2.11267605633803|2            |2025-09-01 12:49:21.557723|\n",
      "|20250901  |AFR                |07             |2           |1.22249388753056   |1.22249388753056 |1.22249388753056 |1            |2025-09-01 12:49:21.557723|\n",
      "|20250901  |PRT                |01             |2           |4.12621359223301   |4.12621359223301 |4.12621359223301 |1            |2025-09-01 12:49:21.557723|\n",
      "|20250901  |AFG                |05             |2           |-6.93196405648267  |-6.93196405648267|-6.93196405648267|1            |2025-09-01 12:49:21.557723|\n",
      "|20250901  |AFG                |17             |4           |-6.02409638554217  |-6.02409638554217|-6.02409638554217|1            |2025-09-01 12:49:21.557723|\n",
      "+----------+-------------------+---------------+------------+-------------------+-----------------+-----------------+-------------+--------------------------+\n",
      "only showing top 10 rows\n",
      "\n"
     ]
    }
   ],
   "source": [
    "# Gold 데이터 샘플 확인\n",
    "print(\"🔍 Gold 테이블 샘플 데이터:\")\n",
    "gold_df.show(10, truncate=False)"
   ]
  },
  {
   "cell_type": "code",
   "execution_count": 5,
   "metadata": {},
   "outputs": [
    {
     "name": "stdout",
     "output_type": "stream",
     "text": [
      "📊 국가별 총 이벤트 수 (Top 10):\n",
      "+-------------------+--------------------+\n",
      "|actor1_country_code|total_country_events|\n",
      "+-------------------+--------------------+\n",
      "|                USA|                 540|\n",
      "|                NGA|                 284|\n",
      "|                AUS|                 147|\n",
      "|                CHN|                 139|\n",
      "|                RUS|                 109|\n",
      "|                GBR|                 100|\n",
      "|                PAK|                  61|\n",
      "|                ISR|                  58|\n",
      "|                UKR|                  57|\n",
      "|                IRL|                  54|\n",
      "+-------------------+--------------------+\n",
      "only showing top 10 rows\n",
      "\n"
     ]
    },
    {
     "name": "stderr",
     "output_type": "stream",
     "text": [
      "25/08/28 08:31:01 ERROR StandaloneSchedulerBackend: Application has been killed. Reason: Master removed our application: KILLED\n",
      "25/08/28 08:31:01 ERROR Inbox: Ignoring error\n",
      "org.apache.spark.SparkException: Exiting due to error from cluster scheduler: Master removed our application: KILLED\n",
      "\tat org.apache.spark.errors.SparkCoreErrors$.clusterSchedulerError(SparkCoreErrors.scala:291)\n",
      "\tat org.apache.spark.scheduler.TaskSchedulerImpl.error(TaskSchedulerImpl.scala:978)\n",
      "\tat org.apache.spark.scheduler.cluster.StandaloneSchedulerBackend.dead(StandaloneSchedulerBackend.scala:165)\n",
      "\tat org.apache.spark.deploy.client.StandaloneAppClient$ClientEndpoint.markDead(StandaloneAppClient.scala:263)\n",
      "\tat org.apache.spark.deploy.client.StandaloneAppClient$ClientEndpoint$$anonfun$receive$1.applyOrElse(StandaloneAppClient.scala:170)\n",
      "\tat org.apache.spark.rpc.netty.Inbox.$anonfun$process$1(Inbox.scala:115)\n",
      "\tat org.apache.spark.rpc.netty.Inbox.safelyCall(Inbox.scala:213)\n",
      "\tat org.apache.spark.rpc.netty.Inbox.process(Inbox.scala:100)\n",
      "\tat org.apache.spark.rpc.netty.MessageLoop.org$apache$spark$rpc$netty$MessageLoop$$receiveLoop(MessageLoop.scala:75)\n",
      "\tat org.apache.spark.rpc.netty.MessageLoop$$anon$1.run(MessageLoop.scala:41)\n",
      "\tat java.base/java.util.concurrent.ThreadPoolExecutor.runWorker(ThreadPoolExecutor.java:1136)\n",
      "\tat java.base/java.util.concurrent.ThreadPoolExecutor$Worker.run(ThreadPoolExecutor.java:635)\n",
      "\tat java.base/java.lang.Thread.run(Thread.java:840)\n"
     ]
    }
   ],
   "source": [
    "# 국가별 이벤트 통계\n",
    "print(\"📊 국가별 총 이벤트 수 (Top 10):\")\n",
    "gold_df.groupBy(\"actor1_country_code\").agg(\n",
    "    F.sum(\"total_events\").alias(\"total_country_events\")\n",
    ").orderBy(F.desc(\"total_country_events\")).show(10)"
   ]
  },
  {
   "cell_type": "code",
   "execution_count": null,
   "metadata": {},
   "outputs": [],
   "source": [
    "# 이벤트 타입별 통계\n",
    "print(\"📊 이벤트 타입별 총 이벤트 수 (Top 10):\")\n",
    "gold_df.groupBy(\"event_root_code\").agg(\n",
    "    F.sum(\"total_events\").alias(\"total_event_type\")\n",
    ").orderBy(F.desc(\"total_event_type\")).show(10)"
   ]
  },
  {
   "cell_type": "code",
   "execution_count": null,
   "metadata": {},
   "outputs": [],
   "source": [
    "# 톤 분석\n",
    "print(\"📊 전체 톤 분석:\")\n",
    "gold_df.select(\n",
    "    F.avg(\"average_tone\").alias(\"overall_avg_tone\"),\n",
    "    F.min(\"min_tone\").alias(\"global_min_tone\"),\n",
    "    F.max(\"max_tone\").alias(\"global_max_tone\"),\n",
    ").show()"
   ]
  },
  {
   "cell_type": "code",
   "execution_count": null,
   "metadata": {},
   "outputs": [],
   "source": [
    "spark.stop()\n",
    "print(\"✅ 테스트 완료!\")"
   ]
  }
 ],
 "metadata": {
  "kernelspec": {
   "display_name": "Python 3 (ipykernel)",
   "language": "python",
   "name": "python3"
  },
  "language_info": {
   "codemirror_mode": {
    "name": "ipython",
    "version": 3
   },
   "file_extension": ".py",
   "mimetype": "text/x-python",
   "name": "python",
   "nbconvert_exporter": "python",
   "pygments_lexer": "ipython3",
   "version": "3.10.18"
  }
 },
 "nbformat": 4,
 "nbformat_minor": 4
}
