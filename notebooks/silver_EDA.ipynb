{
 "cells": [
  {
   "cell_type": "code",
   "execution_count": 39,
   "id": "9a1d9d29",
   "metadata": {},
   "outputs": [
    {
     "name": "stdout",
     "output_type": "stream",
     "text": [
      "Requirement already satisfied: matplotlib in /usr/local/lib/python3.10/site-packages (3.10.6)\n",
      "Requirement already satisfied: seaborn in /usr/local/lib/python3.10/site-packages (0.13.2)\n",
      "Requirement already satisfied: contourpy>=1.0.1 in /usr/local/lib/python3.10/site-packages (from matplotlib) (1.3.2)\n",
      "Requirement already satisfied: python-dateutil>=2.7 in /usr/local/lib/python3.10/site-packages (from matplotlib) (2.9.0.post0)\n",
      "Requirement already satisfied: kiwisolver>=1.3.1 in /usr/local/lib/python3.10/site-packages (from matplotlib) (1.4.9)\n",
      "Requirement already satisfied: fonttools>=4.22.0 in /usr/local/lib/python3.10/site-packages (from matplotlib) (4.59.2)\n",
      "Requirement already satisfied: pyparsing>=2.3.1 in /usr/local/lib/python3.10/site-packages (from matplotlib) (3.2.3)\n",
      "Requirement already satisfied: numpy>=1.23 in /usr/local/lib/python3.10/site-packages (from matplotlib) (2.2.6)\n",
      "Requirement already satisfied: packaging>=20.0 in /usr/local/lib/python3.10/site-packages (from matplotlib) (25.0)\n",
      "Requirement already satisfied: pillow>=8 in /usr/local/lib/python3.10/site-packages (from matplotlib) (11.3.0)\n",
      "Requirement already satisfied: cycler>=0.10 in /usr/local/lib/python3.10/site-packages (from matplotlib) (0.12.1)\n",
      "Requirement already satisfied: pandas>=1.2 in /usr/local/lib/python3.10/site-packages (from seaborn) (2.3.2)\n",
      "Requirement already satisfied: pytz>=2020.1 in /usr/local/lib/python3.10/site-packages (from pandas>=1.2->seaborn) (2025.2)\n",
      "Requirement already satisfied: tzdata>=2022.7 in /usr/local/lib/python3.10/site-packages (from pandas>=1.2->seaborn) (2025.2)\n",
      "Requirement already satisfied: six>=1.5 in /usr/local/lib/python3.10/site-packages (from python-dateutil>=2.7->matplotlib) (1.17.0)\n",
      "\u001b[33mWARNING: Running pip as the 'root' user can result in broken permissions and conflicting behaviour with the system package manager. It is recommended to use a virtual environment instead: https://pip.pypa.io/warnings/venv\u001b[0m\u001b[33m\n",
      "\u001b[0m\n",
      "\u001b[1m[\u001b[0m\u001b[34;49mnotice\u001b[0m\u001b[1;39;49m]\u001b[0m\u001b[39;49m A new release of pip is available: \u001b[0m\u001b[31;49m23.0.1\u001b[0m\u001b[39;49m -> \u001b[0m\u001b[32;49m25.2\u001b[0m\n",
      "\u001b[1m[\u001b[0m\u001b[34;49mnotice\u001b[0m\u001b[1;39;49m]\u001b[0m\u001b[39;49m To update, run: \u001b[0m\u001b[32;49mpip install --upgrade pip\u001b[0m\n"
     ]
    }
   ],
   "source": [
    "!pip install matplotlib seaborn"
   ]
  },
  {
   "cell_type": "code",
   "execution_count": 47,
   "id": "118a95c4",
   "metadata": {},
   "outputs": [],
   "source": [
    "# 반드시 노트북 맨 위 셀에서 한 번 실행\n",
    "%matplotlib inline"
   ]
  },
  {
   "cell_type": "code",
   "execution_count": 40,
   "id": "52e27d39",
   "metadata": {},
   "outputs": [
    {
     "name": "stdout",
     "output_type": "stream",
     "text": [
      "✅ Spark 세션 생성 완료\n"
     ]
    }
   ],
   "source": [
    "import sys\n",
    "\n",
    "sys.path.append(\"/app\")\n",
    "\n",
    "from src.utils.spark_builder import get_spark_session\n",
    "from pyspark.sql import functions as F\n",
    "\n",
    "# Spark 세션 생성\n",
    "spark = get_spark_session(\"GDELT_SilverEDA_Test\", \"spark://spark-master:7077\")\n",
    "print(\"✅ Spark 세션 생성 완료\")"
   ]
  },
  {
   "cell_type": "code",
   "execution_count": 41,
   "id": "e58a9d18",
   "metadata": {},
   "outputs": [
    {
     "name": "stderr",
     "output_type": "stream",
     "text": [
      "                                                                                \r"
     ]
    },
    {
     "name": "stdout",
     "output_type": "stream",
     "text": [
      "✅ 데이터 로드 완료\n"
     ]
    },
    {
     "name": "stderr",
     "output_type": "stream",
     "text": [
      "[Stage 83:>                                                         (0 + 2) / 2]\r"
     ]
    },
    {
     "name": "stdout",
     "output_type": "stream",
     "text": [
      "총 레코드 수: 4177\n",
      "컬럼 수: 63\n"
     ]
    },
    {
     "name": "stderr",
     "output_type": "stream",
     "text": [
      "                                                                                \r"
     ]
    }
   ],
   "source": [
    "# Parquet 파일 로드\n",
    "silver_path = \"s3a://warehouse/silver/gdelt_events/\"\n",
    "df = spark.read.parquet(silver_path)\n",
    "\n",
    "print(\"✅ 데이터 로드 완료\")\n",
    "print(f\"총 레코드 수: {df.count()}\")\n",
    "print(f\"컬럼 수: {len(df.columns)}\")"
   ]
  },
  {
   "cell_type": "code",
   "execution_count": 42,
   "id": "b61cfa03",
   "metadata": {},
   "outputs": [
    {
     "name": "stdout",
     "output_type": "stream",
     "text": [
      "root\n",
      " |-- global_event_id: long (nullable = true)\n",
      " |-- day: integer (nullable = true)\n",
      " |-- month_year: integer (nullable = true)\n",
      " |-- year: integer (nullable = true)\n",
      " |-- fraction_date: double (nullable = true)\n",
      " |-- actor1_code: string (nullable = true)\n",
      " |-- actor1_name: string (nullable = true)\n",
      " |-- actor1_country_code: string (nullable = true)\n",
      " |-- actor1_known_group_code: string (nullable = true)\n",
      " |-- actor1_ethnic_code: string (nullable = true)\n",
      " |-- actor1_religion1_code: string (nullable = true)\n",
      " |-- actor1_religion2_code: string (nullable = true)\n",
      " |-- actor1_type1_code: string (nullable = true)\n",
      " |-- actor1_type2_code: string (nullable = true)\n",
      " |-- actor1_type3_code: string (nullable = true)\n",
      " |-- actor2_code: string (nullable = true)\n",
      " |-- actor2_name: string (nullable = true)\n",
      " |-- actor2_country_code: string (nullable = true)\n",
      " |-- actor2_known_group_code: string (nullable = true)\n",
      " |-- actor2_ethnic_code: string (nullable = true)\n",
      " |-- actor2_religion1_code: string (nullable = true)\n",
      " |-- actor2_religion2_code: string (nullable = true)\n",
      " |-- actor2_type1_code: string (nullable = true)\n",
      " |-- actor2_type2_code: string (nullable = true)\n",
      " |-- actor2_type3_code: string (nullable = true)\n",
      " |-- is_root_event: integer (nullable = true)\n",
      " |-- event_code: string (nullable = true)\n",
      " |-- event_base_code: string (nullable = true)\n",
      " |-- event_root_code: string (nullable = true)\n",
      " |-- quad_class: integer (nullable = true)\n",
      " |-- goldstein_scale: double (nullable = true)\n",
      " |-- num_mentions: integer (nullable = true)\n",
      " |-- num_sources: integer (nullable = true)\n",
      " |-- num_articles: integer (nullable = true)\n",
      " |-- avg_tone: double (nullable = true)\n",
      " |-- actor1_geo_type: string (nullable = true)\n",
      " |-- actor1_geo_fullname: string (nullable = true)\n",
      " |-- actor1_geo_country_code: string (nullable = true)\n",
      " |-- actor1_geo_adm1_code: string (nullable = true)\n",
      " |-- actor1_geo_lat: double (nullable = true)\n",
      " |-- actor1_geo_long: double (nullable = true)\n",
      " |-- actor1_geo_feature_id: string (nullable = true)\n",
      " |-- actor2_geo_type: string (nullable = true)\n",
      " |-- actor2_geo_fullname: string (nullable = true)\n",
      " |-- actor2_geo_country_code: string (nullable = true)\n",
      " |-- actor2_geo_adm1_code: string (nullable = true)\n",
      " |-- actor2_geo_lat: double (nullable = true)\n",
      " |-- actor2_geo_long: double (nullable = true)\n",
      " |-- actor2_geo_feature_id: string (nullable = true)\n",
      " |-- action_geo_type: string (nullable = true)\n",
      " |-- action_geo_fullname: string (nullable = true)\n",
      " |-- action_geo_country_code: string (nullable = true)\n",
      " |-- action_geo_adm1_code: string (nullable = true)\n",
      " |-- action_geo_lat: double (nullable = true)\n",
      " |-- action_geo_long: double (nullable = true)\n",
      " |-- action_geo_feature_id: string (nullable = true)\n",
      " |-- date_added: string (nullable = true)\n",
      " |-- source_url: string (nullable = true)\n",
      " |-- actor1_geo_centroid: string (nullable = true)\n",
      " |-- actor2_geo_centroid: string (nullable = true)\n",
      " |-- action_geo_centroid: string (nullable = true)\n",
      " |-- processed_time: timestamp (nullable = true)\n",
      " |-- source_file: string (nullable = true)\n",
      "\n",
      "+---------------+--------+----------+----+-------------+-----------+--------------+-------------------+-----------------------+------------------+---------------------+---------------------+-----------------+-----------------+-----------------+-----------+--------------+-------------------+-----------------------+------------------+---------------------+---------------------+-----------------+-----------------+-----------------+-------------+----------+---------------+---------------+----------+---------------+------------+-----------+------------+-----------------+---------------+--------------------------------------+-----------------------+--------------------+--------------+---------------+---------------------+---------------+-------------------+--------------------------------------+--------------------+--------------+---------------+---------------------+---------------+-------------------+-----------------------+--------------------------------------+--------------+---------------+---------------------+----------+----------+-------------------+-------------------+-------------------+--------------------------+-------------------------+\n",
      "|global_event_id|day     |month_year|year|fraction_date|actor1_code|actor1_name   |actor1_country_code|actor1_known_group_code|actor1_ethnic_code|actor1_religion1_code|actor1_religion2_code|actor1_type1_code|actor1_type2_code|actor1_type3_code|actor2_code|actor2_name   |actor2_country_code|actor2_known_group_code|actor2_ethnic_code|actor2_religion1_code|actor2_religion2_code|actor2_type1_code|actor2_type2_code|actor2_type3_code|is_root_event|event_code|event_base_code|event_root_code|quad_class|goldstein_scale|num_mentions|num_sources|num_articles|avg_tone         |actor1_geo_type|actor1_geo_fullname                   |actor1_geo_country_code|actor1_geo_adm1_code|actor1_geo_lat|actor1_geo_long|actor1_geo_feature_id|actor2_geo_type|actor2_geo_fullname|actor2_geo_country_code               |actor2_geo_adm1_code|actor2_geo_lat|actor2_geo_long|actor2_geo_feature_id|action_geo_type|action_geo_fullname|action_geo_country_code|action_geo_adm1_code                  |action_geo_lat|action_geo_long|action_geo_feature_id|date_added|source_url|actor1_geo_centroid|actor2_geo_centroid|action_geo_centroid|processed_time            |source_file              |\n",
      "+---------------+--------+----------+----+-------------+-----------+--------------+-------------------+-----------------------+------------------+---------------------+---------------------+-----------------+-----------------+-----------------+-----------+--------------+-------------------+-----------------------+------------------+---------------------+---------------------+-----------------+-----------------+-----------------+-------------+----------+---------------+---------------+----------+---------------+------------+-----------+------------+-----------------+---------------+--------------------------------------+-----------------------+--------------------+--------------+---------------+---------------------+---------------+-------------------+--------------------------------------+--------------------+--------------+---------------+---------------------+---------------+-------------------+-----------------------+--------------------------------------+--------------+---------------+---------------------+----------+----------+-------------------+-------------------+-------------------+--------------------------+-------------------------+\n",
      "|1261239982     |20240904|202409    |2024|2024.6685    |null       |null          |null               |null                   |null              |null                 |null                 |null             |null             |null             |GBR        |UNITED KINGDOM|GBR                |null                   |null              |null                 |null                 |null             |null             |null             |1            |043       |043            |04             |1         |2.8            |2           |1          |2           |-6.83012259194396|0              |null                                  |null                   |null                |null          |null           |null                 |null           |4                  |Nuneaton, Warwickshire, United Kingdom|UK                  |null          |40136.0        |52.5167              |-1.46667       |-2604482           |4                      |Nuneaton, Warwickshire, United Kingdom|null          |null           |40136                |52.5167   |-1.46667  |null               |null               |null               |2025-09-09 00:18:35.580434|20250904073000.export.CSV|\n",
      "|1261239983     |20240904|202409    |2024|2024.6685    |GBR        |UNITED KINGDOM|GBR                |null                   |null              |null                 |null                 |null             |null             |null             |null       |null          |null               |null                   |null              |null                 |null                 |null             |null             |null             |1            |042       |042            |04             |1         |1.9            |2           |1          |2           |-6.83012259194396|4              |Nuneaton, Warwickshire, United Kingdom|UK                     |UKP3                |40136.0       |52.5167        |-1.46667             |-2604482       |0                  |null                                  |null                |null          |null           |null                 |null           |null               |4                      |Nuneaton, Warwickshire, United Kingdom|null          |null           |40136                |52.5167   |-1.46667  |null               |null               |null               |2025-09-09 00:18:35.580434|20250904073000.export.CSV|\n",
      "|1261239984     |20240904|202409    |2024|2024.6685    |GBR        |UNITED KINGDOM|GBR                |null                   |null              |null                 |null                 |null             |null             |null             |GBREDU     |MANCHESTER    |GBR                |null                   |null              |null                 |null                 |EDU              |null             |null             |1            |042       |042            |04             |1         |1.9            |1           |1          |1           |-6.83012259194396|4              |Nuneaton, Warwickshire, United Kingdom|UK                     |UKP3                |40136.0       |52.5167        |-1.46667             |-2604482       |4                  |Manchester, Manchester, United Kingdom|UK                  |null          |40118.0        |53.5                 |-2.21667       |-2602512           |4                      |Manchester, Manchester, United Kingdom|null          |null           |40118                |53.5      |-2.21667  |null               |null               |null               |2025-09-09 00:18:35.580434|20250904073000.export.CSV|\n",
      "|1261239985     |20240904|202409    |2024|2024.6685    |GBR        |UNITED KINGDOM|GBR                |null                   |null              |null                 |null                 |null             |null             |null             |GBREDU     |MANCHESTER    |GBR                |null                   |null              |null                 |null                 |EDU              |null             |null             |1            |042       |042            |04             |1         |1.9            |1           |1          |1           |-6.83012259194396|4              |Nuneaton, Warwickshire, United Kingdom|UK                     |UKP3                |40136.0       |52.5167        |-1.46667             |-2604482       |4                  |Nuneaton, Warwickshire, United Kingdom|UK                  |null          |40136.0        |52.5167              |-1.46667       |-2604482           |4                      |Nuneaton, Warwickshire, United Kingdom|null          |null           |40136                |52.5167   |-1.46667  |null               |null               |null               |2025-09-09 00:18:35.580434|20250904073000.export.CSV|\n",
      "|1261239986     |20240904|202409    |2024|2024.6685    |GBREDU     |MANCHESTER    |GBR                |null                   |null              |null                 |null                 |EDU              |null             |null             |GBR        |UNITED KINGDOM|GBR                |null                   |null              |null                 |null                 |null             |null             |null             |1            |043       |043            |04             |1         |2.8            |1           |1          |1           |-6.83012259194396|4              |Manchester, Manchester, United Kingdom|UK                     |UKI2                |40118.0       |53.5           |-2.21667             |-2602512       |4                  |Nuneaton, Warwickshire, United Kingdom|UK                  |null          |40136.0        |52.5167              |-1.46667       |-2604482           |4                      |Manchester, Manchester, United Kingdom|null          |null           |40118                |53.5      |-2.21667  |null               |null               |null               |2025-09-09 00:18:35.580434|20250904073000.export.CSV|\n",
      "+---------------+--------+----------+----+-------------+-----------+--------------+-------------------+-----------------------+------------------+---------------------+---------------------+-----------------+-----------------+-----------------+-----------+--------------+-------------------+-----------------------+------------------+---------------------+---------------------+-----------------+-----------------+-----------------+-------------+----------+---------------+---------------+----------+---------------+------------+-----------+------------+-----------------+---------------+--------------------------------------+-----------------------+--------------------+--------------+---------------+---------------------+---------------+-------------------+--------------------------------------+--------------------+--------------+---------------+---------------------+---------------+-------------------+-----------------------+--------------------------------------+--------------+---------------+---------------------+----------+----------+-------------------+-------------------+-------------------+--------------------------+-------------------------+\n",
      "only showing top 5 rows\n",
      "\n"
     ]
    }
   ],
   "source": [
    "df.printSchema()\n",
    "df.show(5, truncate=False)"
   ]
  },
  {
   "cell_type": "markdown",
   "id": "1c440b18",
   "metadata": {},
   "source": [
    "<h3> 1) 결측치 계산 </h3>"
   ]
  },
  {
   "cell_type": "code",
   "execution_count": 43,
   "id": "a6318f6d",
   "metadata": {},
   "outputs": [
    {
     "name": "stdout",
     "output_type": "stream",
     "text": [
      "+---------------+---+----------+----+-------------+-------------------+-------------------+-------------------+-----------------------+------------------+---------------------+---------------------+------------------+------------------+-----------------+------------------+------------------+-------------------+-----------------------+------------------+---------------------+---------------------+------------------+-----------------+-----------------+-------------+----------+---------------+---------------+----------+---------------+------------+-----------+------------+--------+---------------+-------------------+-----------------------+--------------------+------------------+-------------------+---------------------+-------------------+-------------------+-----------------------+--------------------+--------------+------------------+---------------------+-------------------+-------------------+-----------------------+--------------------+--------------+---------------+---------------------+--------------------+--------------------+-------------------+-------------------+-------------------+--------------+-----------+\n",
      "|global_event_id|day|month_year|year|fraction_date|actor1_code        |actor1_name        |actor1_country_code|actor1_known_group_code|actor1_ethnic_code|actor1_religion1_code|actor1_religion2_code|actor1_type1_code |actor1_type2_code |actor1_type3_code|actor2_code       |actor2_name       |actor2_country_code|actor2_known_group_code|actor2_ethnic_code|actor2_religion1_code|actor2_religion2_code|actor2_type1_code |actor2_type2_code|actor2_type3_code|is_root_event|event_code|event_base_code|event_root_code|quad_class|goldstein_scale|num_mentions|num_sources|num_articles|avg_tone|actor1_geo_type|actor1_geo_fullname|actor1_geo_country_code|actor1_geo_adm1_code|actor1_geo_lat    |actor1_geo_long    |actor1_geo_feature_id|actor2_geo_type    |actor2_geo_fullname|actor2_geo_country_code|actor2_geo_adm1_code|actor2_geo_lat|actor2_geo_long   |actor2_geo_feature_id|action_geo_type    |action_geo_fullname|action_geo_country_code|action_geo_adm1_code|action_geo_lat|action_geo_long|action_geo_feature_id|date_added          |source_url          |actor1_geo_centroid|actor2_geo_centroid|action_geo_centroid|processed_time|source_file|\n",
      "+---------------+---+----------+----+-------------+-------------------+-------------------+-------------------+-----------------------+------------------+---------------------+---------------------+------------------+------------------+-----------------+------------------+------------------+-------------------+-----------------------+------------------+---------------------+---------------------+------------------+-----------------+-----------------+-------------+----------+---------------+---------------+----------+---------------+------------+-----------+------------+--------+---------------+-------------------+-----------------------+--------------------+------------------+-------------------+---------------------+-------------------+-------------------+-----------------------+--------------------+--------------+------------------+---------------------+-------------------+-------------------+-----------------------+--------------------+--------------+---------------+---------------------+--------------------+--------------------+-------------------+-------------------+-------------------+--------------+-----------+\n",
      "|0.0            |0.0|0.0       |0.0 |0.0          |0.11467560450083793|0.11467560450083793|0.4529566674646876 |0.9839597797462294     |0.9968877184582237|0.9925784055542255   |0.9988029686377783   |0.5537467081637539|0.9715106535791238|1.0              |0.3303806559731865|0.3303806559731865|0.5547043332535312 |0.9909025616471152     |0.9978453435480009|0.9935360306440029   |0.9988029686377783   |0.6945175963610246|0.983002154656452|1.0              |0.0          |0.0       |0.0            |0.0            |0.0       |0.0            |0.0         |0.0        |0.0         |0.0     |0.0            |0.14340435719415848|0.14292554464926982    |0.14292554464926982 |0.5499162078046445|0.14340435719415848|0.14340435719415848  |0.14292554464926982|0.0                |0.35144840794828824    |0.35096959540339956 |1.0           |0.6514244673210439|0.35144840794828824  |0.35144840794828824|0.35096959540339956|0.0                    |0.034713909504429014|1.0           |1.0            |0.42590375867847735  |0.034713909504429014|0.034713909504429014|1.0                |1.0                |1.0                |0.0           |0.0        |\n",
      "+---------------+---+----------+----+-------------+-------------------+-------------------+-------------------+-----------------------+------------------+---------------------+---------------------+------------------+------------------+-----------------+------------------+------------------+-------------------+-----------------------+------------------+---------------------+---------------------+------------------+-----------------+-----------------+-------------+----------+---------------+---------------+----------+---------------+------------+-----------+------------+--------+---------------+-------------------+-----------------------+--------------------+------------------+-------------------+---------------------+-------------------+-------------------+-----------------------+--------------------+--------------+------------------+---------------------+-------------------+-------------------+-----------------------+--------------------+--------------+---------------+---------------------+--------------------+--------------------+-------------------+-------------------+-------------------+--------------+-----------+\n",
      "\n"
     ]
    }
   ],
   "source": [
    "# 결측치\n",
    "from pyspark.sql import functions as F\n",
    "\n",
    "total = df.count()\n",
    "null_stats = df.select(\n",
    "    [(F.count(F.when(F.col(c).isNull(), c)) / total).alias(c) for c in df.columns]\n",
    ")\n",
    "null_stats.show(truncate=False)"
   ]
  },
  {
   "cell_type": "code",
   "execution_count": 44,
   "id": "c97bc3d0",
   "metadata": {},
   "outputs": [
    {
     "name": "stderr",
     "output_type": "stream",
     "text": [
      "                                                                                \r"
     ]
    },
    {
     "data": {
      "text/html": [
       "<div>\n",
       "<style scoped>\n",
       "    .dataframe tbody tr th:only-of-type {\n",
       "        vertical-align: middle;\n",
       "    }\n",
       "\n",
       "    .dataframe tbody tr th {\n",
       "        vertical-align: top;\n",
       "    }\n",
       "\n",
       "    .dataframe thead th {\n",
       "        text-align: right;\n",
       "    }\n",
       "</style>\n",
       "<table border=\"1\" class=\"dataframe\">\n",
       "  <thead>\n",
       "    <tr style=\"text-align: right;\">\n",
       "      <th></th>\n",
       "      <th>column</th>\n",
       "      <th>null_ratio</th>\n",
       "    </tr>\n",
       "  </thead>\n",
       "  <tbody>\n",
       "    <tr>\n",
       "      <th>14</th>\n",
       "      <td>actor1_type3_code</td>\n",
       "      <td>1.000000</td>\n",
       "    </tr>\n",
       "    <tr>\n",
       "      <th>24</th>\n",
       "      <td>actor2_type3_code</td>\n",
       "      <td>1.000000</td>\n",
       "    </tr>\n",
       "    <tr>\n",
       "      <th>58</th>\n",
       "      <td>actor1_geo_centroid</td>\n",
       "      <td>1.000000</td>\n",
       "    </tr>\n",
       "    <tr>\n",
       "      <th>60</th>\n",
       "      <td>action_geo_centroid</td>\n",
       "      <td>1.000000</td>\n",
       "    </tr>\n",
       "    <tr>\n",
       "      <th>54</th>\n",
       "      <td>action_geo_long</td>\n",
       "      <td>1.000000</td>\n",
       "    </tr>\n",
       "    <tr>\n",
       "      <th>59</th>\n",
       "      <td>actor2_geo_centroid</td>\n",
       "      <td>1.000000</td>\n",
       "    </tr>\n",
       "    <tr>\n",
       "      <th>46</th>\n",
       "      <td>actor2_geo_lat</td>\n",
       "      <td>1.000000</td>\n",
       "    </tr>\n",
       "    <tr>\n",
       "      <th>53</th>\n",
       "      <td>action_geo_lat</td>\n",
       "      <td>1.000000</td>\n",
       "    </tr>\n",
       "    <tr>\n",
       "      <th>11</th>\n",
       "      <td>actor1_religion2_code</td>\n",
       "      <td>0.998803</td>\n",
       "    </tr>\n",
       "    <tr>\n",
       "      <th>21</th>\n",
       "      <td>actor2_religion2_code</td>\n",
       "      <td>0.998803</td>\n",
       "    </tr>\n",
       "    <tr>\n",
       "      <th>19</th>\n",
       "      <td>actor2_ethnic_code</td>\n",
       "      <td>0.997845</td>\n",
       "    </tr>\n",
       "    <tr>\n",
       "      <th>9</th>\n",
       "      <td>actor1_ethnic_code</td>\n",
       "      <td>0.996888</td>\n",
       "    </tr>\n",
       "    <tr>\n",
       "      <th>20</th>\n",
       "      <td>actor2_religion1_code</td>\n",
       "      <td>0.993536</td>\n",
       "    </tr>\n",
       "    <tr>\n",
       "      <th>10</th>\n",
       "      <td>actor1_religion1_code</td>\n",
       "      <td>0.992578</td>\n",
       "    </tr>\n",
       "    <tr>\n",
       "      <th>18</th>\n",
       "      <td>actor2_known_group_code</td>\n",
       "      <td>0.990903</td>\n",
       "    </tr>\n",
       "    <tr>\n",
       "      <th>8</th>\n",
       "      <td>actor1_known_group_code</td>\n",
       "      <td>0.983960</td>\n",
       "    </tr>\n",
       "    <tr>\n",
       "      <th>23</th>\n",
       "      <td>actor2_type2_code</td>\n",
       "      <td>0.983002</td>\n",
       "    </tr>\n",
       "    <tr>\n",
       "      <th>13</th>\n",
       "      <td>actor1_type2_code</td>\n",
       "      <td>0.971511</td>\n",
       "    </tr>\n",
       "    <tr>\n",
       "      <th>22</th>\n",
       "      <td>actor2_type1_code</td>\n",
       "      <td>0.694518</td>\n",
       "    </tr>\n",
       "    <tr>\n",
       "      <th>47</th>\n",
       "      <td>actor2_geo_long</td>\n",
       "      <td>0.651424</td>\n",
       "    </tr>\n",
       "  </tbody>\n",
       "</table>\n",
       "</div>"
      ],
      "text/plain": [
       "                     column  null_ratio\n",
       "14        actor1_type3_code    1.000000\n",
       "24        actor2_type3_code    1.000000\n",
       "58      actor1_geo_centroid    1.000000\n",
       "60      action_geo_centroid    1.000000\n",
       "54          action_geo_long    1.000000\n",
       "59      actor2_geo_centroid    1.000000\n",
       "46           actor2_geo_lat    1.000000\n",
       "53           action_geo_lat    1.000000\n",
       "11    actor1_religion2_code    0.998803\n",
       "21    actor2_religion2_code    0.998803\n",
       "19       actor2_ethnic_code    0.997845\n",
       "9        actor1_ethnic_code    0.996888\n",
       "20    actor2_religion1_code    0.993536\n",
       "10    actor1_religion1_code    0.992578\n",
       "18  actor2_known_group_code    0.990903\n",
       "8   actor1_known_group_code    0.983960\n",
       "23        actor2_type2_code    0.983002\n",
       "13        actor1_type2_code    0.971511\n",
       "22        actor2_type1_code    0.694518\n",
       "47          actor2_geo_long    0.651424"
      ]
     },
     "execution_count": 44,
     "metadata": {},
     "output_type": "execute_result"
    }
   ],
   "source": [
    "null_pdf = null_stats.toPandas().T.reset_index()\n",
    "null_pdf.columns = [\"column\", \"null_ratio\"]\n",
    "null_pdf = null_pdf.sort_values(\"null_ratio\", ascending=False)\n",
    "\n",
    "null_pdf.head(20)"
   ]
  },
  {
   "cell_type": "markdown",
   "id": "e580355d",
   "metadata": {},
   "source": [
    "1-2) 결측치 비율 요약\n",
    "\n",
    "| 컬럼 그룹/예시                                                                                                         | 결측률           | 비고                  |\n",
    "| ---------------------------------------------------------------------------------------------------------------- | ------------- | ------------------- |\n",
    "| `global_event_id`, `day`, `year`, `num_articles`, `goldstein_scale`, `avg_tone`, `processed_time`, `source_file` | 0.0           | 전부 존재, 핵심 컬럼 ✅      |\n",
    "| `actor1_country_code`                                                                                            | \\~0.45        | 절반 정도 결측, 보조 변수     |\n",
    "| `actor2_country_code`                                                                                            | \\~0.55        | 절반 이상 결측, 보조 변수     |\n",
    "| `actor*_known_group_code`, `actor*_ethnic_code`, `actor*_religion*`                                              | 0.9+          | 대부분 결측 → 제외 후보      |\n",
    "| `actor*_geo_lat/long`                                                                                            | 0.5\\~0.6      | 절반 이상 결측, 보조 변수     |\n",
    "| `action_geo_lat/long`                                                                                            | \\~0.35        | 일부 결측, 주요 분석에 활용 가능 |\n",
    "| `actor*_geo_fullname`, `action_geo_fullname`                                                                     | 다양 (0.3\\~0.7) | 지리정보, 부분 결측 있음      |\n",
    "| `date_added`, `source_url`                                                                                       | 0.0           | 메타정보, 전부 존재         |\n"
   ]
  },
  {
   "cell_type": "markdown",
   "id": "65783c51",
   "metadata": {},
   "source": [
    "1-3) Silver 테이블 결측치 요약 \n",
    "✅ 핵심 (결측 없음, 반드시 유지)\n",
    "\n",
    "| 컬럼명                    |\n",
    "| ---------------------- |\n",
    "| global\\_event\\_id      |\n",
    "| day, year, month\\_year |\n",
    "| num\\_articles          |\n",
    "| goldstein\\_scale       |\n",
    "| avg\\_tone              |\n",
    "| processed\\_time        |\n",
    "| source\\_file           |\n",
    "| date\\_added            |\n",
    "| source\\_url            |\n",
    "\n",
    "📌 보조 (부분 결측 있음, 상황 따라 활용)\n",
    "| 컬럼명                                  | 결측률(대략)  | 비고           |\n",
    "| ------------------------------------ | -------- | ------------ |\n",
    "| actor1\\_country\\_code                | \\~0.45   | 국가 정보, 절반 존재 |\n",
    "| actor2\\_country\\_code                | \\~0.55   | 국가 정보, 절반 존재 |\n",
    "| action\\_geo\\_lat / action\\_geo\\_long | \\~0.35   | 행동 지점 좌표     |\n",
    "| actor1\\_geo\\_lat / actor1\\_geo\\_long | \\~0.55   | 행위자1 좌표      |\n",
    "| actor2\\_geo\\_lat / actor2\\_geo\\_long | \\~0.65   | 행위자2 좌표      |\n",
    "| actor\\*\\_geo\\_fullname               | 0.3\\~0.7 | 지명 문자열       |\n",
    "| action\\_geo\\_fullname                | \\~0.35   | 행동 지점명       |\n",
    "\n",
    "🚫 제외 후보 (거의 전부 결측)\n",
    "| 컬럼명                                        | 결측률  | 비고    |\n",
    "| ------------------------------------------ | ---- | ----- |\n",
    "| actor\\*\\_known\\_group\\_code                | 0.9+ | 그룹 코드 |\n",
    "| actor\\*\\_ethnic\\_code                      | 0.9+ | 민족 코드 |\n",
    "| actor\\*\\_religion1\\_code / religion2\\_code | 0.9+ | 종교 코드 |\n",
    "| actor\\*\\_type2\\_code / type3\\_code         | 0.9+ | 세부 타입 |\n"
   ]
  },
  {
   "cell_type": "markdown",
   "id": "50498e1e",
   "metadata": {},
   "source": [
    "2) 수치형 컬럼 기본 통계"
   ]
  },
  {
   "cell_type": "code",
   "execution_count": null,
   "id": "a5164680",
   "metadata": {},
   "outputs": [
    {
     "name": "stderr",
     "output_type": "stream",
     "text": [
      "[Stage 96:=============================>                            (1 + 1) / 2]\r"
     ]
    },
    {
     "name": "stdout",
     "output_type": "stream",
     "text": [
      "+-------+--------------------+-------------------+------------------+-------------------+-------------------+------------------+------------------+------------------+-----------------+------------------+-----------------+-------------------+------------------+------------------+--------------+-----------------+--------------+---------------+\n",
      "|summary|     global_event_id|                day|        month_year|               year|      fraction_date|     is_root_event|        quad_class|   goldstein_scale|     num_mentions|       num_sources|     num_articles|           avg_tone|    actor1_geo_lat|   actor1_geo_long|actor2_geo_lat|  actor2_geo_long|action_geo_lat|action_geo_long|\n",
      "+-------+--------------------+-------------------+------------------+-------------------+-------------------+------------------+------------------+------------------+-----------------+------------------+-----------------+-------------------+------------------+------------------+--------------+-----------------+--------------+---------------+\n",
      "|  count|                4177|               4177|              4177|               4177|               4177|              4177|              4177|              4177|             4177|              4177|             4177|               4177|              1880|              3578|             0|             1456|             0|              0|\n",
      "|   mean|1.2615766696325114E9|2.025080751759636E7|202508.01340675127| 2024.9901843428297| 2025.6642358389977|0.5451280823557577|1.8340914531960737|0.4496049796504711|5.083792195355518|1.0775676322719656| 4.95810390232224|-2.2080427296001193| 33826.81595744681|30.246327097819826|          null|31824.93131868132|          null|           null|\n",
      "| stddev|   384580.5745875954|  985.9701594858551| 9.859589547222495|0.09859836441600622|0.09895257383722435|0.4980189096863268|1.1373603001521897|  4.77592446187847|4.156385958558269| 0.367132699899125|3.923650785226998|  4.530631167375225|37153.702951598265|22.142176203502334|          null|35528.38656940157|          null|           null|\n",
      "|    min|          1261239982|           20240904|            202409|               2024|          2024.6685|                 0|                 1|             -10.0|                1|                 1|                1|  -16.3636363636364|             534.0|          -43.1667|          null|            534.0|          null|           null|\n",
      "|    max|          1262017527|           20250909|            202509|               2025|          2025.6822|                 1|                 4|              10.0|               60|                 9|               60|   10.3448275862069|          191378.0|           67.8333|          null|         191378.0|          null|           null|\n",
      "+-------+--------------------+-------------------+------------------+-------------------+-------------------+------------------+------------------+------------------+-----------------+------------------+-----------------+-------------------+------------------+------------------+--------------+-----------------+--------------+---------------+\n",
      "\n"
     ]
    },
    {
     "name": "stderr",
     "output_type": "stream",
     "text": [
      "                                                                                \r"
     ]
    }
   ],
   "source": [
    "num_cols = [\n",
    "    c\n",
    "    for (c, t) in df.dtypes\n",
    "    if t in (\"int\", \"bigint\", \"double\", \"float\", \"long\", \"decimal\")\n",
    "]\n",
    "df.select(*num_cols).describe().show()"
   ]
  },
  {
   "cell_type": "markdown",
   "id": "df58b399",
   "metadata": {},
   "source": [
    "3) 시계열 집계 (event_date 파생)"
   ]
  },
  {
   "cell_type": "code",
   "execution_count": null,
   "id": "16ae7f87",
   "metadata": {},
   "outputs": [
    {
     "data": {
      "image/png": "[encoded data removed]",
      "text/plain": [
       "<Figure size 1000x400 with 1 Axes>"
      ]
     },
     "metadata": {},
     "output_type": "display_data"
    }
   ],
   "source": [
    "# day → event_date 변환\n",
    "# 프로젝트 시작 일자부터 집계된 상태\n",
    "\n",
    "if \"event_date\" not in df.columns and \"day\" in df.columns:\n",
    "    df = df.withColumn(\"event_date\", F.to_date(F.col(\"day\").cast(\"string\"), \"yyyyMMdd\"))\n",
    "\n",
    "# 일별 이벤트 수\n",
    "ts_agg = (\n",
    "    df.groupBy(\"event_date\").agg(F.count(\"*\").alias(\"events\")).orderBy(\"event_date\")\n",
    ")\n",
    "ts_pdf = ts_agg.toPandas()\n",
    "\n",
    "import matplotlib.pyplot as plt\n",
    "\n",
    "plt.figure(figsize=(10, 4))\n",
    "plt.plot(ts_pdf[\"event_date\"], ts_pdf[\"events\"])\n",
    "plt.title(\"event date\")\n",
    "plt.xlabel(\"date\")\n",
    "plt.ylabel(\"count\")\n",
    "plt.show()"
   ]
  },
  {
   "cell_type": "markdown",
   "id": "81f5c64c",
   "metadata": {},
   "source": [
    "4) 매핑 오류 "
   ]
  },
  {
   "cell_type": "code",
   "execution_count": 51,
   "id": "56dd7cd7",
   "metadata": {},
   "outputs": [
    {
     "name": "stdout",
     "output_type": "stream",
     "text": [
      "+----------+-------------+----+\n",
      "|alpha_code|numeric_value|rows|\n",
      "+----------+-------------+----+\n",
      "|         0|         4177|4177|\n",
      "+----------+-------------+----+\n",
      "\n"
     ]
    },
    {
     "name": "stderr",
     "output_type": "stream",
     "text": [
      "                                                                                \r"
     ]
    },
    {
     "name": "stdout",
     "output_type": "stream",
     "text": [
      "+-----------------------+---------------+-----+\n",
      "|action_geo_country_code|action_geo_type|count|\n",
      "+-----------------------+---------------+-----+\n",
      "|4                      |null           |604  |\n",
      "|1                      |null           |260  |\n",
      "|3                      |null           |216  |\n",
      "|2                      |null           |206  |\n",
      "|0                      |null           |139  |\n",
      "|4                      |34.3333        |97   |\n",
      "|3                      |-77.0364       |94   |\n",
      "|4                      |2.33333        |47   |\n",
      "|1                      |105            |46   |\n",
      "|4                      |13.4           |44   |\n",
      "+-----------------------+---------------+-----+\n",
      "only showing top 10 rows\n",
      "\n"
     ]
    }
   ],
   "source": [
    "from pyspark.sql import functions as F\n",
    "\n",
    "# 나라코드 알파벳(2~3자) vs 숫자 여부 카운트\n",
    "df.select(\n",
    "    F.sum(\n",
    "        F.when(F.col(\"action_geo_country_code\").rlike(\"^[A-Z]{2,3}$\"), 1).otherwise(0)\n",
    "    ).alias(\"alpha_code\"),\n",
    "    F.sum(\n",
    "        F.when(F.col(\"action_geo_country_code\").rlike(\"^[0-9]+$\"), 1).otherwise(0)\n",
    "    ).alias(\"numeric_value\"),\n",
    "    F.count(\"*\").alias(\"rows\"),\n",
    ").show()\n",
    "\n",
    "# 숫자로 들어간 행에서 action_geo_type과의 매핑 확인 (숫자가 사실 type인지 검증)\n",
    "(\n",
    "    df.filter(F.col(\"action_geo_country_code\").rlike(\"^[0-9]+$\"))\n",
    "    .groupBy(\"action_geo_country_code\", \"action_geo_type\")\n",
    "    .count()\n",
    "    .orderBy(F.desc(\"count\"))\n",
    "    .show(10, truncate=False)\n",
    ")"
   ]
  },
  {
   "cell_type": "markdown",
   "id": "8d3ce211",
   "metadata": {},
   "source": [
    "actor1_country_code는 정상(USA, CHN 등 알파벳 3자)인데 결측 ~45%\n",
    "\n",
    "action_geo_country_code가 0~4 숫자만 → 이건 나라 코드가 아니라 action_geo_type이 잘못 매핑. (ETL에서 컬럼 매핑 오류)"
   ]
  },
  {
   "cell_type": "code",
   "execution_count": 49,
   "id": "c19e4328",
   "metadata": {},
   "outputs": [
    {
     "name": "stderr",
     "output_type": "stream",
     "text": [
      "                                                                                \r"
     ]
    },
    {
     "name": "stdout",
     "output_type": "stream",
     "text": [
      "\n",
      "[actor1_country_code] rows=4,177, non-null=2,285 (54.7%)\n",
      "▶ 빈도 상위 TOP5\n",
      "+-------------------+-----+\n",
      "|actor1_country_code|count|\n",
      "+-------------------+-----+\n",
      "|null               |1892 |\n",
      "|USA                |644  |\n",
      "|CHN                |104  |\n",
      "|GBR                |96   |\n",
      "|AUS                |92   |\n",
      "+-------------------+-----+\n",
      "only showing top 5 rows\n",
      "\n",
      "▶ 사전순 상위 TOP5\n",
      "+-------------------+\n",
      "|actor1_country_code|\n",
      "+-------------------+\n",
      "|AFG                |\n",
      "|AFR                |\n",
      "|ALB                |\n",
      "|ARE                |\n",
      "|ARM                |\n",
      "+-------------------+\n",
      "only showing top 5 rows\n",
      "\n",
      "\n",
      "[action_geo_country_code] rows=4,177, non-null=4,177 (100.0%)\n",
      "▶ 빈도 상위 TOP5\n",
      "+-----------------------+-----+\n",
      "|action_geo_country_code|count|\n",
      "+-----------------------+-----+\n",
      "|4                      |1992 |\n",
      "|1                      |840  |\n",
      "|3                      |617  |\n",
      "|2                      |481  |\n",
      "|0                      |139  |\n",
      "+-----------------------+-----+\n",
      "only showing top 5 rows\n",
      "\n",
      "▶ 사전순 상위 TOP5\n",
      "+-----------------------+\n",
      "|action_geo_country_code|\n",
      "+-----------------------+\n",
      "|0                      |\n",
      "|1                      |\n",
      "|2                      |\n",
      "|3                      |\n",
      "|4                      |\n",
      "+-----------------------+\n",
      "only showing top 5 rows\n",
      "\n"
     ]
    }
   ],
   "source": [
    "from pyspark.sql import functions as F\n",
    "\n",
    "\n",
    "def top_k_unique(df, col, k=5):\n",
    "    if col not in df.columns:\n",
    "        print(f\"[SKIP] '{col}' 컬럼이 없습니다.\")\n",
    "        return\n",
    "    total = df.count()\n",
    "    non_null = df.filter(F.col(col).isNotNull()).count()\n",
    "    print(f\"\\n[{col}] rows={total:,}, non-null={non_null:,} ({non_null/total:.1%})\")\n",
    "\n",
    "    print(\"▶ 빈도 상위 TOP{0}\".format(k))\n",
    "    (df.groupBy(col).count().orderBy(F.desc(\"count\")).show(k, truncate=False))\n",
    "\n",
    "    print(\"▶ 사전순 상위 TOP{0}\".format(k))\n",
    "    (\n",
    "        df.select(col)\n",
    "        .distinct()\n",
    "        .orderBy(F.col(col).asc_nulls_last())\n",
    "        .show(k, truncate=False)\n",
    "    )\n",
    "\n",
    "\n",
    "# 실행\n",
    "top_k_unique(df, \"actor1_country_code\", k=5)\n",
    "top_k_unique(df, \"action_geo_country_code\", k=5)"
   ]
  },
  {
   "cell_type": "markdown",
   "id": "00ebaf52",
   "metadata": {},
   "source": [
    "-----------------------------------------------------------"
   ]
  },
  {
   "cell_type": "markdown",
   "id": "98377539",
   "metadata": {},
   "source": [
    "### A) DQ 정밀 체크(정규식 분리: FIPS2 vs CAMEO3)"
   ]
  },
  {
   "cell_type": "code",
   "execution_count": 58,
   "id": "c809a38d",
   "metadata": {},
   "outputs": [
    {
     "name": "stderr",
     "output_type": "stream",
     "text": [
      "[Stage 259:============================>                            (1 + 1) / 2]\r"
     ]
    },
    {
     "name": "stdout",
     "output_type": "stream",
     "text": [
      "+----------------------+------------------------+-------------------+-------------------+----------------+\n",
      "|action_geo_fips2_ratio|action_geo_numeric_ratio|actor1_cameo3_ratio|actor2_cameo3_ratio|latlong_coverage|\n",
      "+----------------------+------------------------+-------------------+-------------------+----------------+\n",
      "|0.0                   |1.0                     |0.5470433325353125 |0.44529566674646875|0.0             |\n",
      "+----------------------+------------------------+-------------------+-------------------+----------------+\n",
      "\n"
     ]
    },
    {
     "name": "stderr",
     "output_type": "stream",
     "text": [
      "                                                                                \r"
     ]
    }
   ],
   "source": [
    "from pyspark.sql import functions as F\n",
    "\n",
    "# 정확한 패턴 분리: action_geo = 2자(FIPS), actor* = 3자(CAMEO/ISO3 유사)\n",
    "dq_precise = df.select(\n",
    "    F.avg(\n",
    "        F.when(F.col(\"action_geo_country_code\").rlike(\"^[A-Z]{2}$\"), 1).otherwise(0)\n",
    "    ).alias(\"action_geo_fips2_ratio\"),\n",
    "    F.avg(\n",
    "        F.when(F.col(\"action_geo_country_code\").rlike(\"^[0-9]+$\"), 1).otherwise(0)\n",
    "    ).alias(\"action_geo_numeric_ratio\"),\n",
    "    F.avg(\n",
    "        F.when(F.col(\"actor1_country_code\").rlike(\"^[A-Z]{3}$\"), 1).otherwise(0)\n",
    "    ).alias(\"actor1_cameo3_ratio\"),\n",
    "    F.avg(\n",
    "        F.when(F.col(\"actor2_country_code\").rlike(\"^[A-Z]{3}$\"), 1).otherwise(0)\n",
    "    ).alias(\"actor2_cameo3_ratio\"),\n",
    "    F.avg(\n",
    "        F.when(\n",
    "            F.col(\"action_geo_lat\").isNotNull() & F.col(\"action_geo_long\").isNotNull(),\n",
    "            1,\n",
    "        ).otherwise(0)\n",
    "    ).alias(\"latlong_coverage\"),\n",
    ")\n",
    "dq_precise.show(truncate=False)"
   ]
  },
  {
   "cell_type": "markdown",
   "id": "ba6c15f5",
   "metadata": {},
   "source": [
    "-----------------------------------------------"
   ]
  },
  {
   "cell_type": "markdown",
   "id": "9c7e250d",
   "metadata": {},
   "source": [
    "📌 1. `action_geo_country_code`\n",
    "- **FIPS 2자리 코드 비율 (`action_geo_fips2_ratio`)**: `0.0`\n",
    "  - FIPS(2자리 국가 코드)는 전혀 존재하지 않음.\n",
    "- **숫자 코드 비율 (`action_geo_numeric_ratio`)**: `1.0`\n",
    "  - 모든 값이 숫자 코드 형태임 → 국가 코드 대신 **숫자형 식별자**를 사용하는 것으로 보임.\n",
    "\n",
    "➡️ 결론: `action_geo_country_code`는 표준 국가 코드(FIPS/ISO)가 아니라 **숫자형 코드 기반** 데이터임. 국가 매핑을 위해 별도의 매핑 테이블 필요.\n",
    "\n",
    "---\n",
    "\n",
    " 2. `actor1_country_code` & `actor2_country_code`\n",
    "- **Actor1 (주체1, 3자리 코드 비율)**: `0.547` (약 54.7%)\n",
    "- **Actor2 (주체2, 3자리 코드 비율)**: `0.445` (약 44.5%)\n",
    "\n",
    "➡️ 결론: 두 컬럼 모두 **절반 정도만 CAMEO/ISO3 유사 코드**로 구성됨. 나머지는 Null 또는 비표준 값일 가능성 큼 → **전처리 및 표준화 필요**.\n",
    "\n",
    "---\n",
    "\n",
    " 3. 위도/경도 (`latlong_coverage`)\n",
    "- 값 존재 비율: `0.0`\n",
    "  - 모든 이벤트에 위도/경도 값이 없음.\n",
    "\n",
    "➡️ 결론: 본 데이터셋에서는 `action_geo_lat`, `action_geo_long` 좌표값이 전혀 제공되지 않음.  \n",
    "지리적 시각화(Map, Geo Chart)는 `country_code` 기반 매핑으로만 가능.\n",
    "\n",
    "---\n",
    " ➡️ 최종 요약\n",
    "- `action_geo_country_code`: **숫자 코드 기반**, 매핑 필요.\n",
    "- `actor1/actor2_country_code`: **약 50%만 표준 코드**, 나머지 값 클리닝 필요.\n",
    "- `lat/long`: **좌표 데이터 부재**, 국가 단위 분석으로 제한됨.\n"
   ]
  },
  {
   "cell_type": "markdown",
   "id": "92062db7",
   "metadata": {},
   "source": [
    "### B) 임시 국가코드 정규화 후(분석용) 국가/지표 탑뷰"
   ]
  },
  {
   "cell_type": "code",
   "execution_count": 64,
   "id": "c44cd78c",
   "metadata": {},
   "outputs": [
    {
     "data": {
      "text/html": [
       "<div>\n",
       "<style scoped>\n",
       "    .dataframe tbody tr th:only-of-type {\n",
       "        vertical-align: middle;\n",
       "    }\n",
       "\n",
       "    .dataframe tbody tr th {\n",
       "        vertical-align: top;\n",
       "    }\n",
       "\n",
       "    .dataframe thead th {\n",
       "        text-align: right;\n",
       "    }\n",
       "</style>\n",
       "<table border=\"1\" class=\"dataframe\">\n",
       "  <thead>\n",
       "    <tr style=\"text-align: right;\">\n",
       "      <th></th>\n",
       "      <th>country_code_final</th>\n",
       "      <th>articles_sum</th>\n",
       "      <th>events</th>\n",
       "    </tr>\n",
       "  </thead>\n",
       "  <tbody>\n",
       "    <tr>\n",
       "      <th>0</th>\n",
       "      <td>None</td>\n",
       "      <td>6956</td>\n",
       "      <td>1044</td>\n",
       "    </tr>\n",
       "    <tr>\n",
       "      <th>1</th>\n",
       "      <td>USA</td>\n",
       "      <td>3807</td>\n",
       "      <td>912</td>\n",
       "    </tr>\n",
       "    <tr>\n",
       "      <th>2</th>\n",
       "      <td>CHN</td>\n",
       "      <td>660</td>\n",
       "      <td>138</td>\n",
       "    </tr>\n",
       "    <tr>\n",
       "      <th>3</th>\n",
       "      <td>AUS</td>\n",
       "      <td>646</td>\n",
       "      <td>134</td>\n",
       "    </tr>\n",
       "    <tr>\n",
       "      <th>4</th>\n",
       "      <td>CAN</td>\n",
       "      <td>593</td>\n",
       "      <td>118</td>\n",
       "    </tr>\n",
       "    <tr>\n",
       "      <th>5</th>\n",
       "      <td>PAK</td>\n",
       "      <td>536</td>\n",
       "      <td>100</td>\n",
       "    </tr>\n",
       "    <tr>\n",
       "      <th>6</th>\n",
       "      <td>GBR</td>\n",
       "      <td>455</td>\n",
       "      <td>126</td>\n",
       "    </tr>\n",
       "    <tr>\n",
       "      <th>7</th>\n",
       "      <td>ISR</td>\n",
       "      <td>410</td>\n",
       "      <td>105</td>\n",
       "    </tr>\n",
       "    <tr>\n",
       "      <th>8</th>\n",
       "      <td>EUR</td>\n",
       "      <td>388</td>\n",
       "      <td>74</td>\n",
       "    </tr>\n",
       "    <tr>\n",
       "      <th>9</th>\n",
       "      <td>DEU</td>\n",
       "      <td>344</td>\n",
       "      <td>78</td>\n",
       "    </tr>\n",
       "  </tbody>\n",
       "</table>\n",
       "</div>"
      ],
      "text/plain": [
       "  country_code_final  articles_sum  events\n",
       "0               None          6956    1044\n",
       "1                USA          3807     912\n",
       "2                CHN           660     138\n",
       "3                AUS           646     134\n",
       "4                CAN           593     118\n",
       "5                PAK           536     100\n",
       "6                GBR           455     126\n",
       "7                ISR           410     105\n",
       "8                EUR           388      74\n",
       "9                DEU           344      78"
      ]
     },
     "metadata": {},
     "output_type": "display_data"
    }
   ],
   "source": [
    "# event_date 없으면 생성(중복 생성 방지)\n",
    "dfe = df\n",
    "if \"event_date\" not in dfe.columns and \"day\" in dfe.columns:\n",
    "    dfe = dfe.withColumn(\n",
    "        \"event_date\", F.to_date(F.col(\"day\").cast(\"string\"), \"yyyyMMdd\")\n",
    "    )\n",
    "\n",
    "# 분석용 국가코드: FIPS2(정상) → actor1(3자) → actor2(3자)\n",
    "dfe = dfe.withColumn(\n",
    "    \"action_geo_country_code_clean\",\n",
    "    F.when(\n",
    "        F.col(\"action_geo_country_code\").rlike(\"^[A-Z]{2}$\"),\n",
    "        F.col(\"action_geo_country_code\"),\n",
    "    ),\n",
    ").withColumn(\n",
    "    \"country_code_final\",\n",
    "    F.coalesce(\n",
    "        \"action_geo_country_code_clean\", \"actor1_country_code\", \"actor2_country_code\"\n",
    "    ),\n",
    ")\n",
    "\n",
    "# 국가별 기사 수 Top 10\n",
    "top_country = (\n",
    "    dfe.groupBy(\"country_code_final\")\n",
    "    .agg(F.sum(\"num_articles\").alias(\"articles_sum\"), F.count(\"*\").alias(\"events\"))\n",
    "    .orderBy(F.desc(\"articles_sum\"))\n",
    "    .limit(10)\n",
    ").toPandas()\n",
    "display(top_country)"
   ]
  },
  {
   "cell_type": "markdown",
   "id": "f00317c7",
   "metadata": {},
   "source": [
    "### C) 이벤트 코드/쿼드 분포 & 톤/골드스타인 관계"
   ]
  },
  {
   "cell_type": "code",
   "execution_count": 60,
   "id": "dcfc4ba0",
   "metadata": {},
   "outputs": [
    {
     "data": {
      "text/html": [
       "<div>\n",
       "<style scoped>\n",
       "    .dataframe tbody tr th:only-of-type {\n",
       "        vertical-align: middle;\n",
       "    }\n",
       "\n",
       "    .dataframe tbody tr th {\n",
       "        vertical-align: top;\n",
       "    }\n",
       "\n",
       "    .dataframe thead th {\n",
       "        text-align: right;\n",
       "    }\n",
       "</style>\n",
       "<table border=\"1\" class=\"dataframe\">\n",
       "  <thead>\n",
       "    <tr style=\"text-align: right;\">\n",
       "      <th></th>\n",
       "      <th>event_root_code</th>\n",
       "      <th>count</th>\n",
       "      <th>label</th>\n",
       "    </tr>\n",
       "  </thead>\n",
       "  <tbody>\n",
       "    <tr>\n",
       "      <th>0</th>\n",
       "      <td>04</td>\n",
       "      <td>1045</td>\n",
       "      <td>Consult</td>\n",
       "    </tr>\n",
       "    <tr>\n",
       "      <th>1</th>\n",
       "      <td>01</td>\n",
       "      <td>500</td>\n",
       "      <td>Public statement</td>\n",
       "    </tr>\n",
       "    <tr>\n",
       "      <th>2</th>\n",
       "      <td>05</td>\n",
       "      <td>364</td>\n",
       "      <td>Diplomatic coop</td>\n",
       "    </tr>\n",
       "    <tr>\n",
       "      <th>3</th>\n",
       "      <td>02</td>\n",
       "      <td>344</td>\n",
       "      <td>Appeal</td>\n",
       "    </tr>\n",
       "    <tr>\n",
       "      <th>4</th>\n",
       "      <td>19</td>\n",
       "      <td>300</td>\n",
       "      <td>Fight</td>\n",
       "    </tr>\n",
       "    <tr>\n",
       "      <th>5</th>\n",
       "      <td>11</td>\n",
       "      <td>293</td>\n",
       "      <td>Disapprove</td>\n",
       "    </tr>\n",
       "    <tr>\n",
       "      <th>6</th>\n",
       "      <td>03</td>\n",
       "      <td>241</td>\n",
       "      <td>Intent to cooperate</td>\n",
       "    </tr>\n",
       "    <tr>\n",
       "      <th>7</th>\n",
       "      <td>17</td>\n",
       "      <td>206</td>\n",
       "      <td>Coerce</td>\n",
       "    </tr>\n",
       "    <tr>\n",
       "      <th>8</th>\n",
       "      <td>07</td>\n",
       "      <td>145</td>\n",
       "      <td>Aid</td>\n",
       "    </tr>\n",
       "    <tr>\n",
       "      <th>9</th>\n",
       "      <td>08</td>\n",
       "      <td>139</td>\n",
       "      <td>Yield</td>\n",
       "    </tr>\n",
       "    <tr>\n",
       "      <th>10</th>\n",
       "      <td>06</td>\n",
       "      <td>117</td>\n",
       "      <td>Material coop</td>\n",
       "    </tr>\n",
       "    <tr>\n",
       "      <th>11</th>\n",
       "      <td>13</td>\n",
       "      <td>112</td>\n",
       "      <td>Threaten</td>\n",
       "    </tr>\n",
       "    <tr>\n",
       "      <th>12</th>\n",
       "      <td>12</td>\n",
       "      <td>94</td>\n",
       "      <td>Reject</td>\n",
       "    </tr>\n",
       "    <tr>\n",
       "      <th>13</th>\n",
       "      <td>09</td>\n",
       "      <td>92</td>\n",
       "      <td>Investigate</td>\n",
       "    </tr>\n",
       "    <tr>\n",
       "      <th>14</th>\n",
       "      <td>10</td>\n",
       "      <td>58</td>\n",
       "      <td>Demand</td>\n",
       "    </tr>\n",
       "  </tbody>\n",
       "</table>\n",
       "</div>"
      ],
      "text/plain": [
       "   event_root_code  count                label\n",
       "0               04   1045              Consult\n",
       "1               01    500     Public statement\n",
       "2               05    364      Diplomatic coop\n",
       "3               02    344               Appeal\n",
       "4               19    300                Fight\n",
       "5               11    293           Disapprove\n",
       "6               03    241  Intent to cooperate\n",
       "7               17    206               Coerce\n",
       "8               07    145                  Aid\n",
       "9               08    139                Yield\n",
       "10              06    117        Material coop\n",
       "11              13    112             Threaten\n",
       "12              12     94               Reject\n",
       "13              09     92          Investigate\n",
       "14              10     58               Demand"
      ]
     },
     "metadata": {},
     "output_type": "display_data"
    },
    {
     "data": {
      "image/png": "[encoded data removed]",
      "text/plain": [
       "<Figure size 900x380 with 1 Axes>"
      ]
     },
     "metadata": {},
     "output_type": "display_data"
    },
    {
     "data": {
      "text/html": [
       "<div>\n",
       "<style scoped>\n",
       "    .dataframe tbody tr th:only-of-type {\n",
       "        vertical-align: middle;\n",
       "    }\n",
       "\n",
       "    .dataframe tbody tr th {\n",
       "        vertical-align: top;\n",
       "    }\n",
       "\n",
       "    .dataframe thead th {\n",
       "        text-align: right;\n",
       "    }\n",
       "</style>\n",
       "<table border=\"1\" class=\"dataframe\">\n",
       "  <thead>\n",
       "    <tr style=\"text-align: right;\">\n",
       "      <th></th>\n",
       "      <th>quad_class</th>\n",
       "      <th>count</th>\n",
       "    </tr>\n",
       "  </thead>\n",
       "  <tbody>\n",
       "    <tr>\n",
       "      <th>0</th>\n",
       "      <td>1</td>\n",
       "      <td>2494</td>\n",
       "    </tr>\n",
       "    <tr>\n",
       "      <th>1</th>\n",
       "      <td>2</td>\n",
       "      <td>493</td>\n",
       "    </tr>\n",
       "    <tr>\n",
       "      <th>2</th>\n",
       "      <td>3</td>\n",
       "      <td>579</td>\n",
       "    </tr>\n",
       "    <tr>\n",
       "      <th>3</th>\n",
       "      <td>4</td>\n",
       "      <td>611</td>\n",
       "    </tr>\n",
       "  </tbody>\n",
       "</table>\n",
       "</div>"
      ],
      "text/plain": [
       "   quad_class  count\n",
       "0           1   2494\n",
       "1           2    493\n",
       "2           3    579\n",
       "3           4    611"
      ]
     },
     "metadata": {},
     "output_type": "display_data"
    },
    {
     "data": {
      "image/png": "[encoded data removed]",
      "text/plain": [
       "<Figure size 520x400 with 1 Axes>"
      ]
     },
     "metadata": {},
     "output_type": "display_data"
    }
   ],
   "source": [
    "# Event Root Code 분포 (라벨 일부 매핑)\n",
    "cameo_root = {\n",
    "    \"01\": \"Public statement\",\n",
    "    \"02\": \"Appeal\",\n",
    "    \"03\": \"Intent to cooperate\",\n",
    "    \"04\": \"Consult\",\n",
    "    \"05\": \"Diplomatic coop\",\n",
    "    \"06\": \"Material coop\",\n",
    "    \"07\": \"Aid\",\n",
    "    \"08\": \"Yield\",\n",
    "    \"09\": \"Investigate\",\n",
    "    \"10\": \"Demand\",\n",
    "    \"11\": \"Disapprove\",\n",
    "    \"12\": \"Reject\",\n",
    "    \"13\": \"Threaten\",\n",
    "    \"14\": \"Protest\",\n",
    "    \"15\": \"Force posture\",\n",
    "    \"16\": \"Reduce relations\",\n",
    "    \"17\": \"Coerce\",\n",
    "    \"18\": \"Assault\",\n",
    "    \"19\": \"Fight\",\n",
    "    \"20\": \"Mass violence\",\n",
    "}\n",
    "if \"event_root_code\" in dfe.columns:\n",
    "    root_ct = (\n",
    "        dfe.groupBy(\"event_root_code\").count().orderBy(F.desc(\"count\")).limit(15)\n",
    "    ).toPandas()\n",
    "    root_ct[\"label\"] = root_ct[\"event_root_code\"].map(cameo_root).fillna(\"\")\n",
    "    display(root_ct)\n",
    "\n",
    "    plt.figure(figsize=(9, 3.8))\n",
    "    plt.bar(root_ct[\"event_root_code\"], root_ct[\"count\"])\n",
    "    plt.title(\"Event Root Code Top15\")\n",
    "    plt.xlabel(\"root_code\")\n",
    "    plt.ylabel(\"count\")\n",
    "    plt.xticks(rotation=45)\n",
    "    plt.tight_layout()\n",
    "    plt.show()\n",
    "\n",
    "# Quad 분포\n",
    "if \"quad_class\" in dfe.columns:\n",
    "    quad_ct = (dfe.groupBy(\"quad_class\").count().orderBy(\"quad_class\")).toPandas()\n",
    "    display(quad_ct)\n",
    "\n",
    "# 톤/골드스타인 관계(표본 산점 + 상관)\n",
    "cols = [\n",
    "    c\n",
    "    for c in [\"avg_tone\", \"goldstein_scale\", \"num_articles\", \"num_mentions\"]\n",
    "    if c in dfe.columns\n",
    "]\n",
    "samp = (\n",
    "    dfe.select(*cols).dropna().sample(False, 0.3, seed=42).toPandas()\n",
    "    if dfe.count() > 800\n",
    "    else dfe.select(*cols).dropna().toPandas()\n",
    ")\n",
    "if {\"avg_tone\", \"goldstein_scale\"}.issubset(samp.columns) and len(samp) > 0:\n",
    "    corr = samp[[\"avg_tone\", \"goldstein_scale\"]].corr().iloc[0, 1]\n",
    "    plt.figure(figsize=(5.2, 4))\n",
    "    plt.scatter(samp[\"avg_tone\"], samp[\"goldstein_scale\"], s=10, alpha=0.4)\n",
    "    plt.title(f\"avg_tone vs goldstein_scale (corr={corr:.2f})\")\n",
    "    plt.xlabel(\"avg_tone\")\n",
    "    plt.ylabel(\"goldstein_scale\")\n",
    "    plt.tight_layout()\n",
    "    plt.show()"
   ]
  },
  {
   "cell_type": "code",
   "execution_count": 70,
   "id": "1d2e82ba",
   "metadata": {},
   "outputs": [
    {
     "data": {
      "text/html": [
       "<div>\n",
       "<style scoped>\n",
       "    .dataframe tbody tr th:only-of-type {\n",
       "        vertical-align: middle;\n",
       "    }\n",
       "\n",
       "    .dataframe tbody tr th {\n",
       "        vertical-align: top;\n",
       "    }\n",
       "\n",
       "    .dataframe thead th {\n",
       "        text-align: right;\n",
       "    }\n",
       "</style>\n",
       "<table border=\"1\" class=\"dataframe\">\n",
       "  <thead>\n",
       "    <tr style=\"text-align: right;\">\n",
       "      <th></th>\n",
       "      <th>quad_class</th>\n",
       "      <th>events</th>\n",
       "      <th>tone_mean</th>\n",
       "      <th>gold_mean</th>\n",
       "    </tr>\n",
       "  </thead>\n",
       "  <tbody>\n",
       "    <tr>\n",
       "      <th>0</th>\n",
       "      <td>1</td>\n",
       "      <td>2494</td>\n",
       "      <td>-1.123196</td>\n",
       "      <td>2.492181</td>\n",
       "    </tr>\n",
       "    <tr>\n",
       "      <th>1</th>\n",
       "      <td>2</td>\n",
       "      <td>493</td>\n",
       "      <td>-2.154684</td>\n",
       "      <td>5.160649</td>\n",
       "    </tr>\n",
       "    <tr>\n",
       "      <th>2</th>\n",
       "      <td>3</td>\n",
       "      <td>579</td>\n",
       "      <td>-4.383184</td>\n",
       "      <td>-3.426598</td>\n",
       "    </tr>\n",
       "    <tr>\n",
       "      <th>3</th>\n",
       "      <td>4</td>\n",
       "      <td>611</td>\n",
       "      <td>-4.618037</td>\n",
       "      <td>-8.015876</td>\n",
       "    </tr>\n",
       "  </tbody>\n",
       "</table>\n",
       "</div>"
      ],
      "text/plain": [
       "   quad_class  events  tone_mean  gold_mean\n",
       "0           1    2494  -1.123196   2.492181\n",
       "1           2     493  -2.154684   5.160649\n",
       "2           3     579  -4.383184  -3.426598\n",
       "3           4     611  -4.618037  -8.015876"
      ]
     },
     "metadata": {},
     "output_type": "display_data"
    }
   ],
   "source": [
    "# 쿼드 분포 + 쿼드별 톤/골드스타인 평균\n",
    "quad_stats = (\n",
    "    df.groupBy(\"quad_class\")\n",
    "    .agg(\n",
    "        F.count(\"*\").alias(\"events\"),\n",
    "        F.avg(\"avg_tone\").alias(\"tone_mean\"),\n",
    "        F.avg(\"goldstein_scale\").alias(\"gold_mean\"),\n",
    "    )\n",
    "    .orderBy(\"quad_class\")\n",
    ").toPandas()\n",
    "display(quad_stats)"
   ]
  },
  {
   "cell_type": "code",
   "execution_count": null,
   "id": "994f6172",
   "metadata": {},
   "outputs": [
    {
     "data": {
      "text/html": [
       "<div>\n",
       "<style scoped>\n",
       "    .dataframe tbody tr th:only-of-type {\n",
       "        vertical-align: middle;\n",
       "    }\n",
       "\n",
       "    .dataframe tbody tr th {\n",
       "        vertical-align: top;\n",
       "    }\n",
       "\n",
       "    .dataframe thead th {\n",
       "        text-align: right;\n",
       "    }\n",
       "</style>\n",
       "<table border=\"1\" class=\"dataframe\">\n",
       "  <thead>\n",
       "    <tr style=\"text-align: right;\">\n",
       "      <th></th>\n",
       "      <th>quad_class</th>\n",
       "      <th>pearson_r</th>\n",
       "    </tr>\n",
       "  </thead>\n",
       "  <tbody>\n",
       "    <tr>\n",
       "      <th>0</th>\n",
       "      <td>1</td>\n",
       "      <td>0.245612</td>\n",
       "    </tr>\n",
       "    <tr>\n",
       "      <th>1</th>\n",
       "      <td>2</td>\n",
       "      <td>0.125654</td>\n",
       "    </tr>\n",
       "    <tr>\n",
       "      <th>2</th>\n",
       "      <td>3</td>\n",
       "      <td>-0.035730</td>\n",
       "    </tr>\n",
       "    <tr>\n",
       "      <th>3</th>\n",
       "      <td>4</td>\n",
       "      <td>-0.049380</td>\n",
       "    </tr>\n",
       "  </tbody>\n",
       "</table>\n",
       "</div>"
      ],
      "text/plain": [
       "   quad_class  pearson_r\n",
       "0           1   0.245612\n",
       "1           2   0.125654\n",
       "2           3  -0.035730\n",
       "3           4  -0.049380"
      ]
     },
     "metadata": {},
     "output_type": "display_data"
    }
   ],
   "source": [
    "# 쿼드별 상관계수(표본)\n",
    "import pandas as pd\n",
    "\n",
    "cols = [\"quad_class\", \"avg_tone\", \"goldstein_scale\", \"num_articles\"]\n",
    "samp_pdf = (\n",
    "    df.select(*cols).dropna().sample(False, 0.4, seed=42).toPandas()\n",
    "    if df.count() > 1200\n",
    "    else df.select(*cols).dropna().toPandas()\n",
    ")\n",
    "\n",
    "\n",
    "def corr_by_group(pdf, key):\n",
    "    out = []\n",
    "    for k, g in pdf.groupby(key):\n",
    "        if len(g) >= 30:\n",
    "            out.append(\n",
    "                {\"quad_class\": k, \"pearson_r\": g[\"avg_tone\"].corr(g[\"goldstein_scale\"])}\n",
    "            )\n",
    "    return pd.DataFrame(out).sort_values(\"quad_class\")\n",
    "\n",
    "\n",
    "display(corr_by_group(samp_pdf, \"quad_class\"))"
   ]
  },
  {
   "cell_type": "code",
   "execution_count": 71,
   "id": "a5547fa9",
   "metadata": {},
   "outputs": [
    {
     "name": "stdout",
     "output_type": "stream",
     "text": [
      "[weighted corr by num_articles] r_w = 0.33\n"
     ]
    }
   ],
   "source": [
    "# “기사 수 가중” 상관계수(전체)\n",
    "import numpy as np\n",
    "\n",
    "g = samp_pdf.copy()\n",
    "w = np.clip(g[\"num_articles\"].fillna(1).values, 1, None)\n",
    "x = g[\"avg_tone\"].values\n",
    "y = g[\"goldstein_scale\"].values\n",
    "\n",
    "mx = np.average(x, weights=w)\n",
    "my = np.average(y, weights=w)\n",
    "cov = np.average((x - mx) * (y - my), weights=w)\n",
    "vx = np.average((x - mx) ** 2, weights=w)\n",
    "vy = np.average((y - my) ** 2, weights=w)\n",
    "w_corr = cov / np.sqrt(vx * vy)\n",
    "print(f\"[weighted corr by num_articles] r_w = {w_corr:.2f}\")"
   ]
  },
  {
   "cell_type": "code",
   "execution_count": 73,
   "id": "81c0a673",
   "metadata": {},
   "outputs": [
    {
     "data": {
      "image/png": "[encoded data removed]",
      "text/plain": [
       "<Figure size 1000x400 with 1 Axes>"
      ]
     },
     "metadata": {},
     "output_type": "display_data"
    }
   ],
   "source": [
    "ts_quad = (\n",
    "    df.groupBy(\"event_date\", \"quad_class\")\n",
    "    .count()\n",
    "    .groupBy(\"event_date\")\n",
    "    .pivot(\"quad_class\", [1, 2, 3, 4])\n",
    "    .sum(\"count\")\n",
    "    .na.fill(0)\n",
    "    .orderBy(\"event_date\")\n",
    ").toPandas()\n",
    "\n",
    "import matplotlib.pyplot as plt\n",
    "\n",
    "plt.figure(figsize=(10, 4))\n",
    "for c in [\"1\", \"2\", \"3\", \"4\"]:\n",
    "    if c in ts_quad.columns:\n",
    "        plt.plot(ts_quad[\"event_date\"], ts_quad[c], label=f\"Q{c}\")\n",
    "plt.title(\"Daily Quad\")\n",
    "plt.xlabel(\"date\")\n",
    "plt.ylabel(\"count\")\n",
    "plt.legend()\n",
    "plt.tight_layout()\n",
    "plt.show()"
   ]
  },
  {
   "cell_type": "markdown",
   "id": "f74de870",
   "metadata": {},
   "source": [
    " 📌 **Event Root Code Top15**\n",
    "\n",
    "- `04 (Consult)`가 **가장 많음**, 그 외 `01 (Public statement)`, `05 (Diplomatic coop)`, `02 (Appeal)` 순.\n",
    "- **협력/발언 중심 이벤트** 비중이 높고, 갈등 계열(14~20)은 상대적으로 적음.\n",
    "- → **저강도 상호작용이 중심인 데이터** 특성 반영됨.\n",
    "\n",
    "---\n",
    "📌 **`avg_tone` ↔ `goldstein_scale` 상관 분석**\n",
    "\n",
    "- 상관 계수 `r ≈ 0.33` → **양(+)의 느슨한 상관 관계**\n",
    "- **avg_tone이 높을수록 goldstein_scale도 증가하는 경향**\n",
    "- 단, **산점도 상 분산이 큼** → 쿼드별 또는 기사 수 가중치 적용한 추가 분석 필요\n",
    "\n",
    "---"
   ]
  },
  {
   "cell_type": "markdown",
   "id": "68dc76c5",
   "metadata": {},
   "source": [
    "### D) 소스 품질/분포(어느 파일/도메인에서 많이 왔는지)"
   ]
  },
  {
   "cell_type": "code",
   "execution_count": 61,
   "id": "8aec4715",
   "metadata": {},
   "outputs": [
    {
     "name": "stdout",
     "output_type": "stream",
     "text": [
      "[source_file Top10]\n"
     ]
    },
    {
     "data": {
      "text/html": [
       "<div>\n",
       "<style scoped>\n",
       "    .dataframe tbody tr th:only-of-type {\n",
       "        vertical-align: middle;\n",
       "    }\n",
       "\n",
       "    .dataframe tbody tr th {\n",
       "        vertical-align: top;\n",
       "    }\n",
       "\n",
       "    .dataframe thead th {\n",
       "        text-align: right;\n",
       "    }\n",
       "</style>\n",
       "<table border=\"1\" class=\"dataframe\">\n",
       "  <thead>\n",
       "    <tr style=\"text-align: right;\">\n",
       "      <th></th>\n",
       "      <th>source_file</th>\n",
       "      <th>count</th>\n",
       "    </tr>\n",
       "  </thead>\n",
       "  <tbody>\n",
       "    <tr>\n",
       "      <th>0</th>\n",
       "      <td>20250904073000.export.CSV</td>\n",
       "      <td>2368</td>\n",
       "    </tr>\n",
       "    <tr>\n",
       "      <th>1</th>\n",
       "      <td>20250909001500.export.CSV</td>\n",
       "      <td>1809</td>\n",
       "    </tr>\n",
       "  </tbody>\n",
       "</table>\n",
       "</div>"
      ],
      "text/plain": [
       "                 source_file  count\n",
       "0  20250904073000.export.CSV   2368\n",
       "1  20250909001500.export.CSV   1809"
      ]
     },
     "metadata": {},
     "output_type": "display_data"
    },
    {
     "name": "stderr",
     "output_type": "stream",
     "text": [
      "[Stage 283:>                                                        (0 + 2) / 2]\r"
     ]
    },
    {
     "name": "stdout",
     "output_type": "stream",
     "text": [
      "[source domain Top20]\n"
     ]
    },
    {
     "name": "stderr",
     "output_type": "stream",
     "text": [
      "                                                                                \r"
     ]
    },
    {
     "data": {
      "text/html": [
       "<div>\n",
       "<style scoped>\n",
       "    .dataframe tbody tr th:only-of-type {\n",
       "        vertical-align: middle;\n",
       "    }\n",
       "\n",
       "    .dataframe tbody tr th {\n",
       "        vertical-align: top;\n",
       "    }\n",
       "\n",
       "    .dataframe thead th {\n",
       "        text-align: right;\n",
       "    }\n",
       "</style>\n",
       "<table border=\"1\" class=\"dataframe\">\n",
       "  <thead>\n",
       "    <tr style=\"text-align: right;\">\n",
       "      <th></th>\n",
       "      <th>domain</th>\n",
       "      <th>count</th>\n",
       "    </tr>\n",
       "  </thead>\n",
       "  <tbody>\n",
       "    <tr>\n",
       "      <th>0</th>\n",
       "      <td></td>\n",
       "      <td>4032</td>\n",
       "    </tr>\n",
       "    <tr>\n",
       "      <th>1</th>\n",
       "      <td>None</td>\n",
       "      <td>145</td>\n",
       "    </tr>\n",
       "  </tbody>\n",
       "</table>\n",
       "</div>"
      ],
      "text/plain": [
       "  domain  count\n",
       "0          4032\n",
       "1   None    145"
      ]
     },
     "metadata": {},
     "output_type": "display_data"
    }
   ],
   "source": [
    "# source_file 상위\n",
    "if \"source_file\" in dfe.columns:\n",
    "    sf = (\n",
    "        dfe.groupBy(\"source_file\").count().orderBy(F.desc(\"count\")).limit(10)\n",
    "    ).toPandas()\n",
    "    print(\"[source_file Top10]\")\n",
    "    display(sf)\n",
    "\n",
    "# source_url 도메인 상위 (간단 파싱)\n",
    "from pyspark.sql import functions as F\n",
    "from pyspark.sql import types as T\n",
    "\n",
    "\n",
    "def extract_domain(url):\n",
    "    try:\n",
    "        from urllib.parse import urlparse\n",
    "\n",
    "        netloc = urlparse(url).netloc\n",
    "        # www 제거\n",
    "        return netloc[4:] if netloc.startswith(\"www.\") else netloc\n",
    "    except Exception:\n",
    "        return None\n",
    "\n",
    "\n",
    "udf_domain = F.udf(extract_domain, T.StringType())\n",
    "if \"source_url\" in dfe.columns:\n",
    "    dom = (\n",
    "        dfe.withColumn(\"domain\", udf_domain(\"source_url\"))\n",
    "        .groupBy(\"domain\")\n",
    "        .count()\n",
    "        .orderBy(F.desc(\"count\"))\n",
    "        .limit(20)\n",
    "    ).toPandas()\n",
    "    print(\"[source domain Top20]\")\n",
    "    display(dom)"
   ]
  },
  {
   "cell_type": "markdown",
   "id": "dde8679f",
   "metadata": {},
   "source": [
    "-----------------------------------------------------------"
   ]
  },
  {
   "cell_type": "markdown",
   "id": "f4a080f3",
   "metadata": {},
   "source": [
    "📌 **Source 품질/분포 분석**\n",
    "\n",
    "▶️ **Top 10 source_file**\n",
    "| source_file               | count |\n",
    "|---------------------------|------:|\n",
    "| `20250904073000.export.CSV` | 2368 |\n",
    "| `20250909001500.export.CSV` | 1809 |\n",
    "**두개의 파일 데이터 집중** → 임시 테스트기 때문에 \n",
    "\n",
    "▶️ **Top 20 도메인 추출 실패**\n"
   ]
  },
  {
   "cell_type": "markdown",
   "id": "8a281dc7",
   "metadata": {},
   "source": [
    "### E) 지리 필드 품질 리포트(현재 이슈 요약)"
   ]
  },
  {
   "cell_type": "code",
   "execution_count": 62,
   "id": "8084db8e",
   "metadata": {},
   "outputs": [
    {
     "name": "stdout",
     "output_type": "stream",
     "text": [
      "[ActionGeo 품질 요약]\n"
     ]
    },
    {
     "data": {
      "text/html": [
       "<div>\n",
       "<style scoped>\n",
       "    .dataframe tbody tr th:only-of-type {\n",
       "        vertical-align: middle;\n",
       "    }\n",
       "\n",
       "    .dataframe tbody tr th {\n",
       "        vertical-align: top;\n",
       "    }\n",
       "\n",
       "    .dataframe thead th {\n",
       "        text-align: right;\n",
       "    }\n",
       "</style>\n",
       "<table border=\"1\" class=\"dataframe\">\n",
       "  <thead>\n",
       "    <tr style=\"text-align: right;\">\n",
       "      <th></th>\n",
       "      <th>fips2_ratio</th>\n",
       "      <th>numeric_ratio</th>\n",
       "      <th>latlong_cov</th>\n",
       "    </tr>\n",
       "  </thead>\n",
       "  <tbody>\n",
       "    <tr>\n",
       "      <th>0</th>\n",
       "      <td>0.0</td>\n",
       "      <td>1.0</td>\n",
       "      <td>0.0</td>\n",
       "    </tr>\n",
       "  </tbody>\n",
       "</table>\n",
       "</div>"
      ],
      "text/plain": [
       "   fips2_ratio  numeric_ratio  latlong_cov\n",
       "0          0.0            1.0          0.0"
      ]
     },
     "metadata": {},
     "output_type": "display_data"
    }
   ],
   "source": [
    "geo_sum = dfe.select(\n",
    "    F.avg(\n",
    "        F.when(F.col(\"action_geo_country_code\").rlike(\"^[A-Z]{2}$\"), 1).otherwise(0)\n",
    "    ).alias(\"fips2_ratio\"),\n",
    "    F.avg(\n",
    "        F.when(F.col(\"action_geo_country_code\").rlike(\"^[0-9]+$\"), 1).otherwise(0)\n",
    "    ).alias(\"numeric_ratio\"),\n",
    "    F.avg(\n",
    "        F.when(\n",
    "            F.col(\"action_geo_lat\").isNotNull() & F.col(\"action_geo_long\").isNotNull(),\n",
    "            1,\n",
    "        ).otherwise(0)\n",
    "    ).alias(\"latlong_cov\"),\n",
    ").toPandas()\n",
    "print(\"[ActionGeo 품질 요약]\")\n",
    "display(geo_sum)"
   ]
  },
  {
   "cell_type": "markdown",
   "id": "0bec3217",
   "metadata": {},
   "source": [
    "📌 ActionGeo 국가 코드 (`action_geo_country_code`)\n",
    "- **FIPS 2자리 코드 비율 (`fips2_ratio`)**: `0.0`\n",
    "  - 2자리 영문 국가 코드(FIPS)는 **전혀 존재하지 않음**.\n",
    "- **숫자 코드 비율 (`numeric_ratio`)**: `1.0`\n",
    "  - 100% 숫자 코드로만 구성됨 → **표준 국가코드 체계(FIPS/ISO)가 아님**.\n",
    "\n",
    "**해석**: `action_geo_country_code`는 국가를 직접적으로 식별할 수 있는 코드가 아니며, **내부 식별자 또는 매핑 테이블 기반 처리**가 필요함.\n"
   ]
  }
 ],
 "metadata": {
  "kernelspec": {
   "display_name": "Python 3 (ipykernel)",
   "language": "python",
   "name": "python3"
  },
  "language_info": {
   "codemirror_mode": {
    "name": "ipython",
    "version": 3
   },
   "file_extension": ".py",
   "mimetype": "text/x-python",
   "name": "python",
   "nbconvert_exporter": "python",
   "pygments_lexer": "ipython3",
   "version": "3.10.18"
  }
 },
 "nbformat": 4,
 "nbformat_minor": 5
}
